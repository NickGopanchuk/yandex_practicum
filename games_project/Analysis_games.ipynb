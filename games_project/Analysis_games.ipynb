{
 "cells": [
  {
   "cell_type": "markdown",
   "metadata": {},
   "source": [
    "### Подготовка данных"
   ]
  },
  {
   "cell_type": "code",
   "execution_count": 1,
   "metadata": {},
   "outputs": [],
   "source": [
    "import pandas as pd\n",
    "import numpy as np\n",
    "import matplotlib.pyplot as plt\n",
    "import seaborn as sns\n",
    "from scipy import stats as st"
   ]
  },
  {
   "cell_type": "code",
   "execution_count": 2,
   "metadata": {},
   "outputs": [],
   "source": [
    "df = pd.read_csv('/datasets/games.csv')"
   ]
  },
  {
   "cell_type": "code",
   "execution_count": 3,
   "metadata": {},
   "outputs": [
    {
     "data": {
      "text/html": [
       "<div>\n",
       "<style scoped>\n",
       "    .dataframe tbody tr th:only-of-type {\n",
       "        vertical-align: middle;\n",
       "    }\n",
       "\n",
       "    .dataframe tbody tr th {\n",
       "        vertical-align: top;\n",
       "    }\n",
       "\n",
       "    .dataframe thead th {\n",
       "        text-align: right;\n",
       "    }\n",
       "</style>\n",
       "<table border=\"1\" class=\"dataframe\">\n",
       "  <thead>\n",
       "    <tr style=\"text-align: right;\">\n",
       "      <th></th>\n",
       "      <th>Name</th>\n",
       "      <th>Platform</th>\n",
       "      <th>Year_of_Release</th>\n",
       "      <th>Genre</th>\n",
       "      <th>NA_sales</th>\n",
       "      <th>EU_sales</th>\n",
       "      <th>JP_sales</th>\n",
       "      <th>Other_sales</th>\n",
       "      <th>Critic_Score</th>\n",
       "      <th>User_Score</th>\n",
       "      <th>Rating</th>\n",
       "    </tr>\n",
       "  </thead>\n",
       "  <tbody>\n",
       "    <tr>\n",
       "      <th>0</th>\n",
       "      <td>Wii Sports</td>\n",
       "      <td>Wii</td>\n",
       "      <td>2006.0</td>\n",
       "      <td>Sports</td>\n",
       "      <td>41.36</td>\n",
       "      <td>28.96</td>\n",
       "      <td>3.77</td>\n",
       "      <td>8.45</td>\n",
       "      <td>76.0</td>\n",
       "      <td>8</td>\n",
       "      <td>E</td>\n",
       "    </tr>\n",
       "    <tr>\n",
       "      <th>1</th>\n",
       "      <td>Super Mario Bros.</td>\n",
       "      <td>NES</td>\n",
       "      <td>1985.0</td>\n",
       "      <td>Platform</td>\n",
       "      <td>29.08</td>\n",
       "      <td>3.58</td>\n",
       "      <td>6.81</td>\n",
       "      <td>0.77</td>\n",
       "      <td>NaN</td>\n",
       "      <td>NaN</td>\n",
       "      <td>NaN</td>\n",
       "    </tr>\n",
       "    <tr>\n",
       "      <th>2</th>\n",
       "      <td>Mario Kart Wii</td>\n",
       "      <td>Wii</td>\n",
       "      <td>2008.0</td>\n",
       "      <td>Racing</td>\n",
       "      <td>15.68</td>\n",
       "      <td>12.76</td>\n",
       "      <td>3.79</td>\n",
       "      <td>3.29</td>\n",
       "      <td>82.0</td>\n",
       "      <td>8.3</td>\n",
       "      <td>E</td>\n",
       "    </tr>\n",
       "    <tr>\n",
       "      <th>3</th>\n",
       "      <td>Wii Sports Resort</td>\n",
       "      <td>Wii</td>\n",
       "      <td>2009.0</td>\n",
       "      <td>Sports</td>\n",
       "      <td>15.61</td>\n",
       "      <td>10.93</td>\n",
       "      <td>3.28</td>\n",
       "      <td>2.95</td>\n",
       "      <td>80.0</td>\n",
       "      <td>8</td>\n",
       "      <td>E</td>\n",
       "    </tr>\n",
       "    <tr>\n",
       "      <th>4</th>\n",
       "      <td>Pokemon Red/Pokemon Blue</td>\n",
       "      <td>GB</td>\n",
       "      <td>1996.0</td>\n",
       "      <td>Role-Playing</td>\n",
       "      <td>11.27</td>\n",
       "      <td>8.89</td>\n",
       "      <td>10.22</td>\n",
       "      <td>1.00</td>\n",
       "      <td>NaN</td>\n",
       "      <td>NaN</td>\n",
       "      <td>NaN</td>\n",
       "    </tr>\n",
       "    <tr>\n",
       "      <th>5</th>\n",
       "      <td>Tetris</td>\n",
       "      <td>GB</td>\n",
       "      <td>1989.0</td>\n",
       "      <td>Puzzle</td>\n",
       "      <td>23.20</td>\n",
       "      <td>2.26</td>\n",
       "      <td>4.22</td>\n",
       "      <td>0.58</td>\n",
       "      <td>NaN</td>\n",
       "      <td>NaN</td>\n",
       "      <td>NaN</td>\n",
       "    </tr>\n",
       "    <tr>\n",
       "      <th>6</th>\n",
       "      <td>New Super Mario Bros.</td>\n",
       "      <td>DS</td>\n",
       "      <td>2006.0</td>\n",
       "      <td>Platform</td>\n",
       "      <td>11.28</td>\n",
       "      <td>9.14</td>\n",
       "      <td>6.50</td>\n",
       "      <td>2.88</td>\n",
       "      <td>89.0</td>\n",
       "      <td>8.5</td>\n",
       "      <td>E</td>\n",
       "    </tr>\n",
       "    <tr>\n",
       "      <th>7</th>\n",
       "      <td>Wii Play</td>\n",
       "      <td>Wii</td>\n",
       "      <td>2006.0</td>\n",
       "      <td>Misc</td>\n",
       "      <td>13.96</td>\n",
       "      <td>9.18</td>\n",
       "      <td>2.93</td>\n",
       "      <td>2.84</td>\n",
       "      <td>58.0</td>\n",
       "      <td>6.6</td>\n",
       "      <td>E</td>\n",
       "    </tr>\n",
       "    <tr>\n",
       "      <th>8</th>\n",
       "      <td>New Super Mario Bros. Wii</td>\n",
       "      <td>Wii</td>\n",
       "      <td>2009.0</td>\n",
       "      <td>Platform</td>\n",
       "      <td>14.44</td>\n",
       "      <td>6.94</td>\n",
       "      <td>4.70</td>\n",
       "      <td>2.24</td>\n",
       "      <td>87.0</td>\n",
       "      <td>8.4</td>\n",
       "      <td>E</td>\n",
       "    </tr>\n",
       "    <tr>\n",
       "      <th>9</th>\n",
       "      <td>Duck Hunt</td>\n",
       "      <td>NES</td>\n",
       "      <td>1984.0</td>\n",
       "      <td>Shooter</td>\n",
       "      <td>26.93</td>\n",
       "      <td>0.63</td>\n",
       "      <td>0.28</td>\n",
       "      <td>0.47</td>\n",
       "      <td>NaN</td>\n",
       "      <td>NaN</td>\n",
       "      <td>NaN</td>\n",
       "    </tr>\n",
       "  </tbody>\n",
       "</table>\n",
       "</div>"
      ],
      "text/plain": [
       "                        Name Platform  Year_of_Release         Genre  \\\n",
       "0                 Wii Sports      Wii           2006.0        Sports   \n",
       "1          Super Mario Bros.      NES           1985.0      Platform   \n",
       "2             Mario Kart Wii      Wii           2008.0        Racing   \n",
       "3          Wii Sports Resort      Wii           2009.0        Sports   \n",
       "4   Pokemon Red/Pokemon Blue       GB           1996.0  Role-Playing   \n",
       "5                     Tetris       GB           1989.0        Puzzle   \n",
       "6      New Super Mario Bros.       DS           2006.0      Platform   \n",
       "7                   Wii Play      Wii           2006.0          Misc   \n",
       "8  New Super Mario Bros. Wii      Wii           2009.0      Platform   \n",
       "9                  Duck Hunt      NES           1984.0       Shooter   \n",
       "\n",
       "   NA_sales  EU_sales  JP_sales  Other_sales  Critic_Score User_Score Rating  \n",
       "0     41.36     28.96      3.77         8.45          76.0          8      E  \n",
       "1     29.08      3.58      6.81         0.77           NaN        NaN    NaN  \n",
       "2     15.68     12.76      3.79         3.29          82.0        8.3      E  \n",
       "3     15.61     10.93      3.28         2.95          80.0          8      E  \n",
       "4     11.27      8.89     10.22         1.00           NaN        NaN    NaN  \n",
       "5     23.20      2.26      4.22         0.58           NaN        NaN    NaN  \n",
       "6     11.28      9.14      6.50         2.88          89.0        8.5      E  \n",
       "7     13.96      9.18      2.93         2.84          58.0        6.6      E  \n",
       "8     14.44      6.94      4.70         2.24          87.0        8.4      E  \n",
       "9     26.93      0.63      0.28         0.47           NaN        NaN    NaN  "
      ]
     },
     "execution_count": 3,
     "metadata": {},
     "output_type": "execute_result"
    }
   ],
   "source": [
    "df.head(10) #Первые 10 строк для знакомства"
   ]
  },
  {
   "cell_type": "code",
   "execution_count": 4,
   "metadata": {},
   "outputs": [
    {
     "name": "stdout",
     "output_type": "stream",
     "text": [
      "<class 'pandas.core.frame.DataFrame'>\n",
      "RangeIndex: 16715 entries, 0 to 16714\n",
      "Data columns (total 11 columns):\n",
      " #   Column           Non-Null Count  Dtype  \n",
      "---  ------           --------------  -----  \n",
      " 0   Name             16713 non-null  object \n",
      " 1   Platform         16715 non-null  object \n",
      " 2   Year_of_Release  16446 non-null  float64\n",
      " 3   Genre            16713 non-null  object \n",
      " 4   NA_sales         16715 non-null  float64\n",
      " 5   EU_sales         16715 non-null  float64\n",
      " 6   JP_sales         16715 non-null  float64\n",
      " 7   Other_sales      16715 non-null  float64\n",
      " 8   Critic_Score     8137 non-null   float64\n",
      " 9   User_Score       10014 non-null  object \n",
      " 10  Rating           9949 non-null   object \n",
      "dtypes: float64(6), object(5)\n",
      "memory usage: 1.4+ MB\n"
     ]
    }
   ],
   "source": [
    "df.info()"
   ]
  },
  {
   "cell_type": "code",
   "execution_count": 5,
   "metadata": {},
   "outputs": [
    {
     "data": {
      "text/plain": [
       "Name                  2\n",
       "Platform              0\n",
       "Year_of_Release     269\n",
       "Genre                 2\n",
       "NA_sales              0\n",
       "EU_sales              0\n",
       "JP_sales              0\n",
       "Other_sales           0\n",
       "Critic_Score       8578\n",
       "User_Score         6701\n",
       "Rating             6766\n",
       "dtype: int64"
      ]
     },
     "execution_count": 5,
     "metadata": {},
     "output_type": "execute_result"
    }
   ],
   "source": [
    "df.isna().sum()"
   ]
  },
  {
   "cell_type": "markdown",
   "metadata": {},
   "source": [
    "#### Из общей информации на перывй взляд видим что:\n",
    "<ul>\n",
    "\n",
    "<li>Необходимо привести наименования столбцов к нижнему регистру(так же возможно и внутри определенных столбцов после полного анализа)</li>\n",
    "\n",
    "<li>Year_of_Release имеет тип float, его надо привеcти к int</li>\n",
    "\n",
    "<li>User_scores надо к float64</li>\n",
    "    \n",
    "<li>Critic_Score похоже не нуждается в типе float, т.к. значения целые</li>\n",
    "    \n",
    "<li> Critic_Score, User_Score, Rating имеют значительные пропуски </li>\n",
    "</ul>"
   ]
  },
  {
   "cell_type": "markdown",
   "metadata": {},
   "source": [
    "#### Привидем наименования столбцов к нижнему регистру"
   ]
  },
  {
   "cell_type": "code",
   "execution_count": 6,
   "metadata": {},
   "outputs": [],
   "source": [
    "df = df.rename(str.lower, axis='columns')"
   ]
  },
  {
   "cell_type": "code",
   "execution_count": 7,
   "metadata": {},
   "outputs": [
    {
     "data": {
      "text/plain": [
       "Index(['name', 'platform', 'year_of_release', 'genre', 'na_sales', 'eu_sales',\n",
       "       'jp_sales', 'other_sales', 'critic_score', 'user_score', 'rating'],\n",
       "      dtype='object')"
      ]
     },
     "execution_count": 7,
     "metadata": {},
     "output_type": "execute_result"
    }
   ],
   "source": [
    "df.columns #Проверка"
   ]
  },
  {
   "cell_type": "markdown",
   "metadata": {},
   "source": [
    "#### Обработка столбца year_of_release"
   ]
  },
  {
   "cell_type": "code",
   "execution_count": 8,
   "metadata": {},
   "outputs": [
    {
     "data": {
      "text/plain": [
       "269"
      ]
     },
     "execution_count": 8,
     "metadata": {},
     "output_type": "execute_result"
    }
   ],
   "source": [
    "df['year_of_release'].isna().sum()"
   ]
  },
  {
   "cell_type": "markdown",
   "metadata": {},
   "source": [
    "<li>year_of_release 269 пропущеных значений, это 1.6% я решаю их удалить</li>"
   ]
  },
  {
   "cell_type": "code",
   "execution_count": 9,
   "metadata": {},
   "outputs": [
    {
     "data": {
      "text/plain": [
       "array([1980., 1981., 1982., 1983., 1984., 1985., 1986., 1987., 1988.,\n",
       "       1989., 1990., 1991., 1992., 1993., 1994., 1995., 1996., 1997.,\n",
       "       1998., 1999., 2000., 2001., 2002., 2003., 2004., 2005., 2006.,\n",
       "       2007., 2008., 2009., 2010., 2011., 2012., 2013., 2014., 2015.,\n",
       "       2016.])"
      ]
     },
     "execution_count": 9,
     "metadata": {},
     "output_type": "execute_result"
    }
   ],
   "source": [
    "df = df.dropna(subset=['year_of_release']) \n",
    "df['year_of_release'].sort_values().unique()"
   ]
  },
  {
   "cell_type": "code",
   "execution_count": 10,
   "metadata": {},
   "outputs": [],
   "source": [
    "df['year_of_release'] = df['year_of_release'].astype('int')"
   ]
  },
  {
   "cell_type": "markdown",
   "metadata": {},
   "source": [
    "<li>Преобразовал в тип int</li>"
   ]
  },
  {
   "cell_type": "code",
   "execution_count": 11,
   "metadata": {},
   "outputs": [
    {
     "data": {
      "text/plain": [
       "0"
      ]
     },
     "execution_count": 11,
     "metadata": {},
     "output_type": "execute_result"
    }
   ],
   "source": [
    "df['year_of_release'].isna().sum() #проверка"
   ]
  },
  {
   "cell_type": "code",
   "execution_count": 12,
   "metadata": {},
   "outputs": [
    {
     "data": {
      "text/plain": [
       "dtype('int64')"
      ]
     },
     "execution_count": 12,
     "metadata": {},
     "output_type": "execute_result"
    }
   ],
   "source": [
    "df['year_of_release'].dtypes#проверка"
   ]
  },
  {
   "cell_type": "markdown",
   "metadata": {},
   "source": [
    "#### Обработка столбца critic_score"
   ]
  },
  {
   "cell_type": "code",
   "execution_count": 13,
   "metadata": {},
   "outputs": [
    {
     "data": {
      "text/plain": [
       "8463"
      ]
     },
     "execution_count": 13,
     "metadata": {},
     "output_type": "execute_result"
    }
   ],
   "source": [
    "df['critic_score'].isna().sum()"
   ]
  },
  {
   "cell_type": "code",
   "execution_count": 14,
   "metadata": {},
   "outputs": [
    {
     "data": {
      "text/plain": [
       "array([13., 17., 19., 20., 21., 23., 24., 25., 26., 27., 28., 29., 30.,\n",
       "       31., 32., 33., 34., 35., 36., 37., 38., 39., 40., 41., 42., 43.,\n",
       "       44., 45., 46., 47., 48., 49., 50., 51., 52., 53., 54., 55., 56.,\n",
       "       57., 58., 59., 60., 61., 62., 63., 64., 65., 66., 67., 68., 69.,\n",
       "       70., 71., 72., 73., 74., 75., 76., 77., 78., 79., 80., 81., 82.,\n",
       "       83., 84., 85., 86., 87., 88., 89., 90., 91., 92., 93., 94., 95.,\n",
       "       96., 97., 98., nan])"
      ]
     },
     "execution_count": 14,
     "metadata": {},
     "output_type": "execute_result"
    }
   ],
   "source": [
    "df['critic_score'].sort_values().unique()"
   ]
  },
  {
   "cell_type": "markdown",
   "metadata": {},
   "source": [
    "<li> Пропущеных значений очень много, при этом категория столбца такая что тут невозможно заменить значение каким либо средним или медианной</li>\n",
    "<li> Так же оценки критиков имеют целой число, поэтому приведу этот тив в int </li>"
   ]
  },
  {
   "cell_type": "code",
   "execution_count": 15,
   "metadata": {},
   "outputs": [],
   "source": [
    "df['critic_score'] = df['critic_score'].astype(float) #не получается в int перевести почему-то"
   ]
  },
  {
   "cell_type": "code",
   "execution_count": 16,
   "metadata": {},
   "outputs": [
    {
     "data": {
      "text/plain": [
       "dtype('float64')"
      ]
     },
     "execution_count": 16,
     "metadata": {},
     "output_type": "execute_result"
    }
   ],
   "source": [
    "df['critic_score'].dtypes #проверка"
   ]
  },
  {
   "cell_type": "markdown",
   "metadata": {},
   "source": [
    "#### Обработка столбцов name и genre "
   ]
  },
  {
   "cell_type": "markdown",
   "metadata": {},
   "source": [
    "<li>У столбоцов по два пропущеных значения, я их решаю удалить</li>"
   ]
  },
  {
   "cell_type": "code",
   "execution_count": 17,
   "metadata": {},
   "outputs": [],
   "source": [
    "df = df.dropna(subset=['name', 'genre']) "
   ]
  },
  {
   "cell_type": "code",
   "execution_count": 18,
   "metadata": {},
   "outputs": [
    {
     "data": {
      "text/plain": [
       "0"
      ]
     },
     "execution_count": 18,
     "metadata": {},
     "output_type": "execute_result"
    }
   ],
   "source": [
    "df['name'].isna().sum() #проверка"
   ]
  },
  {
   "cell_type": "code",
   "execution_count": 19,
   "metadata": {},
   "outputs": [
    {
     "data": {
      "text/plain": [
       "0"
      ]
     },
     "execution_count": 19,
     "metadata": {},
     "output_type": "execute_result"
    }
   ],
   "source": [
    "df['genre'].isna().sum() #проверка"
   ]
  },
  {
   "cell_type": "markdown",
   "metadata": {},
   "source": [
    "#### Проверка на дубликаты"
   ]
  },
  {
   "cell_type": "code",
   "execution_count": 20,
   "metadata": {},
   "outputs": [
    {
     "data": {
      "text/plain": [
       "0"
      ]
     },
     "execution_count": 20,
     "metadata": {},
     "output_type": "execute_result"
    }
   ],
   "source": [
    "df.duplicated().sum()"
   ]
  },
  {
   "cell_type": "markdown",
   "metadata": {},
   "source": [
    "<li> Явных дубликатов нет</li>\n",
    "<li>Проверю два столбца на неявные дубликаты genre и platform</li>"
   ]
  },
  {
   "cell_type": "code",
   "execution_count": 21,
   "metadata": {},
   "outputs": [
    {
     "data": {
      "text/plain": [
       "array(['2600', '3DO', '3DS', 'DC', 'DS', 'GB', 'GBA', 'GC', 'GEN', 'GG',\n",
       "       'N64', 'NES', 'NG', 'PC', 'PCFX', 'PS', 'PS2', 'PS3', 'PS4', 'PSP',\n",
       "       'PSV', 'SAT', 'SCD', 'SNES', 'TG16', 'WS', 'Wii', 'WiiU', 'X360',\n",
       "       'XB', 'XOne'], dtype=object)"
      ]
     },
     "execution_count": 21,
     "metadata": {},
     "output_type": "execute_result"
    }
   ],
   "source": [
    "df['platform'].sort_values().unique() #проверка на неявные дубликаты"
   ]
  },
  {
   "cell_type": "code",
   "execution_count": 22,
   "metadata": {},
   "outputs": [
    {
     "data": {
      "text/plain": [
       "array(['Action', 'Adventure', 'Fighting', 'Misc', 'Platform', 'Puzzle',\n",
       "       'Racing', 'Role-Playing', 'Shooter', 'Simulation', 'Sports',\n",
       "       'Strategy'], dtype=object)"
      ]
     },
     "execution_count": 22,
     "metadata": {},
     "output_type": "execute_result"
    }
   ],
   "source": [
    "df['genre'].sort_values().unique() #проверка на неявные дубликаты"
   ]
  },
  {
   "cell_type": "markdown",
   "metadata": {},
   "source": [
    "<li>Неявных дубликатов не обнаружено</li>"
   ]
  },
  {
   "cell_type": "code",
   "execution_count": 23,
   "metadata": {},
   "outputs": [
    {
     "data": {
      "text/html": [
       "<div>\n",
       "<style scoped>\n",
       "    .dataframe tbody tr th:only-of-type {\n",
       "        vertical-align: middle;\n",
       "    }\n",
       "\n",
       "    .dataframe tbody tr th {\n",
       "        vertical-align: top;\n",
       "    }\n",
       "\n",
       "    .dataframe thead th {\n",
       "        text-align: right;\n",
       "    }\n",
       "</style>\n",
       "<table border=\"1\" class=\"dataframe\">\n",
       "  <thead>\n",
       "    <tr style=\"text-align: right;\">\n",
       "      <th></th>\n",
       "      <th>name</th>\n",
       "      <th>platform</th>\n",
       "      <th>year_of_release</th>\n",
       "      <th>genre</th>\n",
       "      <th>na_sales</th>\n",
       "      <th>eu_sales</th>\n",
       "      <th>jp_sales</th>\n",
       "      <th>other_sales</th>\n",
       "      <th>critic_score</th>\n",
       "      <th>user_score</th>\n",
       "      <th>rating</th>\n",
       "    </tr>\n",
       "  </thead>\n",
       "  <tbody>\n",
       "    <tr>\n",
       "      <th>1591</th>\n",
       "      <td>Need for Speed: Most Wanted</td>\n",
       "      <td>X360</td>\n",
       "      <td>2005</td>\n",
       "      <td>Racing</td>\n",
       "      <td>1.0</td>\n",
       "      <td>0.13</td>\n",
       "      <td>0.02</td>\n",
       "      <td>0.10</td>\n",
       "      <td>83.0</td>\n",
       "      <td>8.5</td>\n",
       "      <td>T</td>\n",
       "    </tr>\n",
       "    <tr>\n",
       "      <th>11715</th>\n",
       "      <td>Need for Speed: Most Wanted</td>\n",
       "      <td>PC</td>\n",
       "      <td>2012</td>\n",
       "      <td>Racing</td>\n",
       "      <td>0.0</td>\n",
       "      <td>0.06</td>\n",
       "      <td>0.00</td>\n",
       "      <td>0.02</td>\n",
       "      <td>82.0</td>\n",
       "      <td>8.5</td>\n",
       "      <td>T</td>\n",
       "    </tr>\n",
       "    <tr>\n",
       "      <th>16230</th>\n",
       "      <td>Madden NFL 13</td>\n",
       "      <td>PS3</td>\n",
       "      <td>2012</td>\n",
       "      <td>Sports</td>\n",
       "      <td>0.0</td>\n",
       "      <td>0.01</td>\n",
       "      <td>0.00</td>\n",
       "      <td>0.00</td>\n",
       "      <td>83.0</td>\n",
       "      <td>5.5</td>\n",
       "      <td>E</td>\n",
       "    </tr>\n",
       "  </tbody>\n",
       "</table>\n",
       "</div>"
      ],
      "text/plain": [
       "                              name platform  year_of_release   genre  \\\n",
       "1591   Need for Speed: Most Wanted     X360             2005  Racing   \n",
       "11715  Need for Speed: Most Wanted       PC             2012  Racing   \n",
       "16230                Madden NFL 13      PS3             2012  Sports   \n",
       "\n",
       "       na_sales  eu_sales  jp_sales  other_sales  critic_score user_score  \\\n",
       "1591        1.0      0.13      0.02         0.10          83.0        8.5   \n",
       "11715       0.0      0.06      0.00         0.02          82.0        8.5   \n",
       "16230       0.0      0.01      0.00         0.00          83.0        5.5   \n",
       "\n",
       "      rating  \n",
       "1591       T  \n",
       "11715      T  \n",
       "16230      E  "
      ]
     },
     "execution_count": 23,
     "metadata": {},
     "output_type": "execute_result"
    }
   ],
   "source": [
    "df[df.duplicated(['name', 'platform'])]"
   ]
  },
  {
   "cell_type": "code",
   "execution_count": 24,
   "metadata": {},
   "outputs": [],
   "source": [
    "df = df.drop_duplicates(subset=['name', 'platform'], keep='last')"
   ]
  },
  {
   "cell_type": "markdown",
   "metadata": {},
   "source": [
    "#### Обработка столбцов user_score"
   ]
  },
  {
   "cell_type": "code",
   "execution_count": 25,
   "metadata": {},
   "outputs": [
    {
     "data": {
      "text/plain": [
       "6605"
      ]
     },
     "execution_count": 25,
     "metadata": {},
     "output_type": "execute_result"
    }
   ],
   "source": [
    "df['user_score'].isna().sum()"
   ]
  },
  {
   "cell_type": "code",
   "execution_count": 26,
   "metadata": {},
   "outputs": [
    {
     "data": {
      "text/plain": [
       "array(['0', '0.2', '0.3', '0.5', '0.6', '0.7', '0.9', '1', '1.1', '1.2',\n",
       "       '1.3', '1.4', '1.5', '1.6', '1.7', '1.8', '1.9', '2', '2.1', '2.2',\n",
       "       '2.3', '2.4', '2.5', '2.6', '2.7', '2.8', '2.9', '3', '3.1', '3.2',\n",
       "       '3.3', '3.4', '3.5', '3.6', '3.7', '3.8', '3.9', '4', '4.1', '4.2',\n",
       "       '4.3', '4.4', '4.5', '4.6', '4.7', '4.8', '4.9', '5', '5.1', '5.2',\n",
       "       '5.3', '5.4', '5.5', '5.6', '5.7', '5.8', '5.9', '6', '6.1', '6.2',\n",
       "       '6.3', '6.4', '6.5', '6.6', '6.7', '6.8', '6.9', '7', '7.1', '7.2',\n",
       "       '7.3', '7.4', '7.5', '7.6', '7.7', '7.8', '7.9', '8', '8.1', '8.2',\n",
       "       '8.3', '8.4', '8.5', '8.6', '8.7', '8.8', '8.9', '9', '9.1', '9.2',\n",
       "       '9.3', '9.4', '9.5', '9.6', '9.7', 'tbd', nan], dtype=object)"
      ]
     },
     "execution_count": 26,
     "metadata": {},
     "output_type": "execute_result"
    }
   ],
   "source": [
    "df['user_score'].sort_values().unique()"
   ]
  },
  {
   "cell_type": "markdown",
   "metadata": {},
   "source": [
    "<li>имеет тип object считаю что нужно переделать в float</li>\n",
    "<li>tbd - to be determined значение еще не опрделено</li>\n",
    "<li>nan - пропущенные значения</li>\n",
    "<li> cчитаю что так же как и оценки критиков тут нельзя заполнить средней или медианной"
   ]
  },
  {
   "cell_type": "code",
   "execution_count": 27,
   "metadata": {},
   "outputs": [],
   "source": [
    "df.loc[df['user_score'] =='tbd','user_score'] = np.nan #привел tbd в nan"
   ]
  },
  {
   "cell_type": "code",
   "execution_count": 28,
   "metadata": {},
   "outputs": [],
   "source": [
    "df['user_score'] = df['user_score'].astype('float')"
   ]
  },
  {
   "cell_type": "code",
   "execution_count": 29,
   "metadata": {},
   "outputs": [
    {
     "data": {
      "text/plain": [
       "dtype('float64')"
      ]
     },
     "execution_count": 29,
     "metadata": {},
     "output_type": "execute_result"
    }
   ],
   "source": [
    "df['user_score'].dtypes #проверка"
   ]
  },
  {
   "cell_type": "markdown",
   "metadata": {},
   "source": [
    "#### Суммарные продажи во всех регионах и запишите их в отдельный столбец."
   ]
  },
  {
   "cell_type": "code",
   "execution_count": 30,
   "metadata": {},
   "outputs": [],
   "source": [
    "df['total_sales'] = df['na_sales'] + df['eu_sales'] + df['jp_sales'] + df['other_sales']"
   ]
  },
  {
   "cell_type": "code",
   "execution_count": 31,
   "metadata": {},
   "outputs": [
    {
     "data": {
      "text/html": [
       "<div>\n",
       "<style scoped>\n",
       "    .dataframe tbody tr th:only-of-type {\n",
       "        vertical-align: middle;\n",
       "    }\n",
       "\n",
       "    .dataframe tbody tr th {\n",
       "        vertical-align: top;\n",
       "    }\n",
       "\n",
       "    .dataframe thead th {\n",
       "        text-align: right;\n",
       "    }\n",
       "</style>\n",
       "<table border=\"1\" class=\"dataframe\">\n",
       "  <thead>\n",
       "    <tr style=\"text-align: right;\">\n",
       "      <th></th>\n",
       "      <th>name</th>\n",
       "      <th>platform</th>\n",
       "      <th>year_of_release</th>\n",
       "      <th>genre</th>\n",
       "      <th>na_sales</th>\n",
       "      <th>eu_sales</th>\n",
       "      <th>jp_sales</th>\n",
       "      <th>other_sales</th>\n",
       "      <th>critic_score</th>\n",
       "      <th>user_score</th>\n",
       "      <th>rating</th>\n",
       "      <th>total_sales</th>\n",
       "    </tr>\n",
       "  </thead>\n",
       "  <tbody>\n",
       "    <tr>\n",
       "      <th>0</th>\n",
       "      <td>Wii Sports</td>\n",
       "      <td>Wii</td>\n",
       "      <td>2006</td>\n",
       "      <td>Sports</td>\n",
       "      <td>41.36</td>\n",
       "      <td>28.96</td>\n",
       "      <td>3.77</td>\n",
       "      <td>8.45</td>\n",
       "      <td>76.0</td>\n",
       "      <td>8.0</td>\n",
       "      <td>E</td>\n",
       "      <td>82.54</td>\n",
       "    </tr>\n",
       "    <tr>\n",
       "      <th>1</th>\n",
       "      <td>Super Mario Bros.</td>\n",
       "      <td>NES</td>\n",
       "      <td>1985</td>\n",
       "      <td>Platform</td>\n",
       "      <td>29.08</td>\n",
       "      <td>3.58</td>\n",
       "      <td>6.81</td>\n",
       "      <td>0.77</td>\n",
       "      <td>NaN</td>\n",
       "      <td>NaN</td>\n",
       "      <td>NaN</td>\n",
       "      <td>40.24</td>\n",
       "    </tr>\n",
       "    <tr>\n",
       "      <th>2</th>\n",
       "      <td>Mario Kart Wii</td>\n",
       "      <td>Wii</td>\n",
       "      <td>2008</td>\n",
       "      <td>Racing</td>\n",
       "      <td>15.68</td>\n",
       "      <td>12.76</td>\n",
       "      <td>3.79</td>\n",
       "      <td>3.29</td>\n",
       "      <td>82.0</td>\n",
       "      <td>8.3</td>\n",
       "      <td>E</td>\n",
       "      <td>35.52</td>\n",
       "    </tr>\n",
       "    <tr>\n",
       "      <th>3</th>\n",
       "      <td>Wii Sports Resort</td>\n",
       "      <td>Wii</td>\n",
       "      <td>2009</td>\n",
       "      <td>Sports</td>\n",
       "      <td>15.61</td>\n",
       "      <td>10.93</td>\n",
       "      <td>3.28</td>\n",
       "      <td>2.95</td>\n",
       "      <td>80.0</td>\n",
       "      <td>8.0</td>\n",
       "      <td>E</td>\n",
       "      <td>32.77</td>\n",
       "    </tr>\n",
       "    <tr>\n",
       "      <th>4</th>\n",
       "      <td>Pokemon Red/Pokemon Blue</td>\n",
       "      <td>GB</td>\n",
       "      <td>1996</td>\n",
       "      <td>Role-Playing</td>\n",
       "      <td>11.27</td>\n",
       "      <td>8.89</td>\n",
       "      <td>10.22</td>\n",
       "      <td>1.00</td>\n",
       "      <td>NaN</td>\n",
       "      <td>NaN</td>\n",
       "      <td>NaN</td>\n",
       "      <td>31.38</td>\n",
       "    </tr>\n",
       "  </tbody>\n",
       "</table>\n",
       "</div>"
      ],
      "text/plain": [
       "                       name platform  year_of_release         genre  na_sales  \\\n",
       "0                Wii Sports      Wii             2006        Sports     41.36   \n",
       "1         Super Mario Bros.      NES             1985      Platform     29.08   \n",
       "2            Mario Kart Wii      Wii             2008        Racing     15.68   \n",
       "3         Wii Sports Resort      Wii             2009        Sports     15.61   \n",
       "4  Pokemon Red/Pokemon Blue       GB             1996  Role-Playing     11.27   \n",
       "\n",
       "   eu_sales  jp_sales  other_sales  critic_score  user_score rating  \\\n",
       "0     28.96      3.77         8.45          76.0         8.0      E   \n",
       "1      3.58      6.81         0.77           NaN         NaN    NaN   \n",
       "2     12.76      3.79         3.29          82.0         8.3      E   \n",
       "3     10.93      3.28         2.95          80.0         8.0      E   \n",
       "4      8.89     10.22         1.00           NaN         NaN    NaN   \n",
       "\n",
       "   total_sales  \n",
       "0        82.54  \n",
       "1        40.24  \n",
       "2        35.52  \n",
       "3        32.77  \n",
       "4        31.38  "
      ]
     },
     "execution_count": 31,
     "metadata": {},
     "output_type": "execute_result"
    }
   ],
   "source": [
    "df.head()"
   ]
  },
  {
   "cell_type": "code",
   "execution_count": 32,
   "metadata": {},
   "outputs": [
    {
     "name": "stdout",
     "output_type": "stream",
     "text": [
      "<class 'pandas.core.frame.DataFrame'>\n",
      "Int64Index: 16441 entries, 0 to 16714\n",
      "Data columns (total 12 columns):\n",
      " #   Column           Non-Null Count  Dtype  \n",
      "---  ------           --------------  -----  \n",
      " 0   name             16441 non-null  object \n",
      " 1   platform         16441 non-null  object \n",
      " 2   year_of_release  16441 non-null  int64  \n",
      " 3   genre            16441 non-null  object \n",
      " 4   na_sales         16441 non-null  float64\n",
      " 5   eu_sales         16441 non-null  float64\n",
      " 6   jp_sales         16441 non-null  float64\n",
      " 7   other_sales      16441 non-null  float64\n",
      " 8   critic_score     7980 non-null   float64\n",
      " 9   user_score       7460 non-null   float64\n",
      " 10  rating           9765 non-null   object \n",
      " 11  total_sales      16441 non-null  float64\n",
      "dtypes: float64(7), int64(1), object(4)\n",
      "memory usage: 1.6+ MB\n"
     ]
    }
   ],
   "source": [
    "df.info()"
   ]
  },
  {
   "cell_type": "markdown",
   "metadata": {},
   "source": [
    "Удалено 274 строк\n",
    "\n",
    "Привел наименования столбцов к нижнему регистру\n",
    "\n",
    "user_scores преобразовал к float64\n",
    "\n",
    "Проверил на дубликаты и удалил дубликаты."
   ]
  },
  {
   "cell_type": "markdown",
   "metadata": {},
   "source": [
    "### Анализ данных"
   ]
  },
  {
   "cell_type": "markdown",
   "metadata": {},
   "source": [
    "#### Сколько игр выпускалось в разные годы. Важны ли данные за все периоды?"
   ]
  },
  {
   "cell_type": "code",
   "execution_count": 33,
   "metadata": {},
   "outputs": [
    {
     "data": {
      "image/png": "[encoded data removed]",
      "text/plain": [
       "<Figure size 432x288 with 1 Axes>"
      ]
     },
     "metadata": {
      "needs_background": "light"
     },
     "output_type": "display_data"
    }
   ],
   "source": [
    "df['year_of_release'].hist()\n",
    "plt.ylabel('Кол-во игр')\n",
    "plt.xlabel('Год выпуска')\n",
    "plt.title('Кол-во выхода игр по годам')\n",
    "plt.show()"
   ]
  },
  {
   "cell_type": "markdown",
   "metadata": {},
   "source": [
    "<li>По гистограмме видно что до 1994 кол-во игр не большое, до 1993 включительно можно отсеять</li>\n",
    "<li>По гистограмме видно что пик производства игр приходит на 2008 и 2009 год</li>\n",
    "<li>C 2010 года пошел спад</li>"
   ]
  },
  {
   "cell_type": "code",
   "execution_count": 34,
   "metadata": {},
   "outputs": [],
   "source": [
    "count_games_in_year = (\n",
    "    df.query('year_of_release > 1993')\n",
    "        .pivot_table(index='year_of_release', values='name', aggfunc='count'))"
   ]
  },
  {
   "cell_type": "code",
   "execution_count": 35,
   "metadata": {},
   "outputs": [],
   "source": [
    "#count_games_in_year.plot(figsize = (20, 8), grid = True, title = 'Кол-во игр в год с 1994', kind='pie', subplots=True) #просто балуюсь изучаю"
   ]
  },
  {
   "cell_type": "code",
   "execution_count": 36,
   "metadata": {},
   "outputs": [
    {
     "data": {
      "image/png": "[encoded data removed]",
      "text/plain": [
       "<Figure size 1440x576 with 1 Axes>"
      ]
     },
     "metadata": {
      "needs_background": "light"
     },
     "output_type": "display_data"
    }
   ],
   "source": [
    "count_games_in_year.plot(figsize = (20, 8), grid = True, title = 'Кол-во игр в год с 1994', kind='bar') #просто балуюсь изучаю\n",
    "plt.show()"
   ]
  },
  {
   "cell_type": "markdown",
   "metadata": {},
   "source": [
    "#### Как менялись продажи по платформам. Выберите платформы с наибольшими суммарными продажами и постройте распределение по годам. За какой характерный срок появляются новые и исчезают старые платформы?"
   ]
  },
  {
   "cell_type": "code",
   "execution_count": 37,
   "metadata": {},
   "outputs": [],
   "source": [
    "sales_on_platform = (\n",
    "    df.query('year_of_release > 1995')\n",
    "    .pivot_table(index='platform', values='total_sales', aggfunc='sum')\n",
    "    .sort_values(by='total_sales', ascending=False))"
   ]
  },
  {
   "cell_type": "code",
   "execution_count": 38,
   "metadata": {},
   "outputs": [
    {
     "data": {
      "image/png": "[encoded data removed]",
      "text/plain": [
       "<Figure size 1440x576 with 1 Axes>"
      ]
     },
     "metadata": {
      "needs_background": "light"
     },
     "output_type": "display_data"
    }
   ],
   "source": [
    "sales_on_platform.plot(figsize = (20, 8), grid = True, title = 'Топ платформ по продажам игр', kind='bar')\n",
    "plt.show()"
   ]
  },
  {
   "cell_type": "markdown",
   "metadata": {},
   "source": [
    "<li>Из графика видно что количество продаж больше всего у PS2, X360, PS3, Wii, DS </li>\n",
    "<li>Теперь сделаю распределение по годам</li>"
   ]
  },
  {
   "cell_type": "code",
   "execution_count": 39,
   "metadata": {},
   "outputs": [],
   "source": [
    "sales_on_platform_in_years = (\n",
    "    df.query('year_of_release > 1995')\n",
    "    .pivot_table(index=['platform','year_of_release'], values='total_sales', aggfunc='sum')\n",
    "    .sort_values(by='total_sales', ascending=False))"
   ]
  },
  {
   "cell_type": "code",
   "execution_count": 40,
   "metadata": {
    "scrolled": true
   },
   "outputs": [
    {
     "data": {
      "text/html": [
       "<div>\n",
       "<style scoped>\n",
       "    .dataframe tbody tr th:only-of-type {\n",
       "        vertical-align: middle;\n",
       "    }\n",
       "\n",
       "    .dataframe tbody tr th {\n",
       "        vertical-align: top;\n",
       "    }\n",
       "\n",
       "    .dataframe thead th {\n",
       "        text-align: right;\n",
       "    }\n",
       "</style>\n",
       "<table border=\"1\" class=\"dataframe\">\n",
       "  <thead>\n",
       "    <tr style=\"text-align: right;\">\n",
       "      <th></th>\n",
       "      <th></th>\n",
       "      <th>total_sales</th>\n",
       "    </tr>\n",
       "    <tr>\n",
       "      <th>platform</th>\n",
       "      <th>year_of_release</th>\n",
       "      <th></th>\n",
       "    </tr>\n",
       "  </thead>\n",
       "  <tbody>\n",
       "    <tr>\n",
       "      <th>PS2</th>\n",
       "      <th>2004</th>\n",
       "      <td>211.81</td>\n",
       "    </tr>\n",
       "    <tr>\n",
       "      <th>Wii</th>\n",
       "      <th>2009</th>\n",
       "      <td>206.97</td>\n",
       "    </tr>\n",
       "    <tr>\n",
       "      <th rowspan=\"2\" valign=\"top\">PS2</th>\n",
       "      <th>2002</th>\n",
       "      <td>205.38</td>\n",
       "    </tr>\n",
       "    <tr>\n",
       "      <th>2003</th>\n",
       "      <td>184.31</td>\n",
       "    </tr>\n",
       "    <tr>\n",
       "      <th>Wii</th>\n",
       "      <th>2008</th>\n",
       "      <td>171.32</td>\n",
       "    </tr>\n",
       "  </tbody>\n",
       "</table>\n",
       "</div>"
      ],
      "text/plain": [
       "                          total_sales\n",
       "platform year_of_release             \n",
       "PS2      2004                  211.81\n",
       "Wii      2009                  206.97\n",
       "PS2      2002                  205.38\n",
       "         2003                  184.31\n",
       "Wii      2008                  171.32"
      ]
     },
     "execution_count": 40,
     "metadata": {},
     "output_type": "execute_result"
    }
   ],
   "source": [
    "sales_on_platform_in_years.head()"
   ]
  },
  {
   "cell_type": "markdown",
   "metadata": {},
   "source": [
    "<li>Из таблицы видно что топ продаж занимает платформа PS2 продавшая 211.81 в 2004 году</li>"
   ]
  },
  {
   "cell_type": "code",
   "execution_count": 41,
   "metadata": {},
   "outputs": [
    {
     "data": {
      "image/png": "[encoded data removed]",
      "text/plain": [
       "<Figure size 1440x720 with 1 Axes>"
      ]
     },
     "metadata": {
      "needs_background": "light"
     },
     "output_type": "display_data"
    }
   ],
   "source": [
    "fig, ax = plt.subplots(figsize=(20, 10))\n",
    "for name in sales_on_platform.index:\n",
    "    boxplot =  sns.lineplot(\n",
    "        data = sales_on_platform_in_years.loc[name],\n",
    "        x='year_of_release',\n",
    "        y='total_sales')\n",
    "    boxplot.legend(sales_on_platform.index.unique())\n",
    "    boxplot.axes.set_title('График платформ от продаж', fontsize=16)\n",
    "    boxplot.set_xlabel(\"Год\", fontsize=14)\n",
    "    boxplot.set_ylabel(\"Всего продаж\", fontsize=14);\n",
    "plt.show()"
   ]
  },
  {
   "cell_type": "markdown",
   "metadata": {},
   "source": [
    "<li>По каждому графику видно что в с начала появления до начала спада с пика проходит в среднем 5 лет</li>"
   ]
  },
  {
   "cell_type": "markdown",
   "metadata": {},
   "source": [
    "### Возьмите данные за соответствующий актуальный период. Актуальный период определите самостоятельно в результате исследования предыдущих вопросов. Основной фактор — эти данные помогут построить прогноз на 2017 год."
   ]
  },
  {
   "cell_type": "markdown",
   "metadata": {},
   "source": [
    "#### Актуальный период возьму с 2012 года "
   ]
  },
  {
   "cell_type": "code",
   "execution_count": 42,
   "metadata": {},
   "outputs": [],
   "source": [
    "actual_period = (\n",
    "    df.query('year_of_release > 2013')\n",
    ")"
   ]
  },
  {
   "cell_type": "markdown",
   "metadata": {},
   "source": [
    "#### Какие платформы лидируют по продажам, растут или падают? Выберите несколько потенциально прибыльных платформ."
   ]
  },
  {
   "cell_type": "code",
   "execution_count": 43,
   "metadata": {},
   "outputs": [],
   "source": [
    "actual_period_platform = (actual_period\n",
    "                         .pivot_table(index='platform', values='total_sales', aggfunc='sum')\n",
    "                         .sort_values(by='total_sales', ascending=False)\n",
    "                         )"
   ]
  },
  {
   "cell_type": "code",
   "execution_count": 44,
   "metadata": {},
   "outputs": [
    {
     "data": {
      "text/html": [
       "<div>\n",
       "<style scoped>\n",
       "    .dataframe tbody tr th:only-of-type {\n",
       "        vertical-align: middle;\n",
       "    }\n",
       "\n",
       "    .dataframe tbody tr th {\n",
       "        vertical-align: top;\n",
       "    }\n",
       "\n",
       "    .dataframe thead th {\n",
       "        text-align: right;\n",
       "    }\n",
       "</style>\n",
       "<table border=\"1\" class=\"dataframe\">\n",
       "  <thead>\n",
       "    <tr style=\"text-align: right;\">\n",
       "      <th></th>\n",
       "      <th>total_sales</th>\n",
       "    </tr>\n",
       "    <tr>\n",
       "      <th>platform</th>\n",
       "      <th></th>\n",
       "    </tr>\n",
       "  </thead>\n",
       "  <tbody>\n",
       "    <tr>\n",
       "      <th>PS4</th>\n",
       "      <td>288.15</td>\n",
       "    </tr>\n",
       "    <tr>\n",
       "      <th>XOne</th>\n",
       "      <td>140.36</td>\n",
       "    </tr>\n",
       "    <tr>\n",
       "      <th>3DS</th>\n",
       "      <td>86.68</td>\n",
       "    </tr>\n",
       "    <tr>\n",
       "      <th>PS3</th>\n",
       "      <td>68.18</td>\n",
       "    </tr>\n",
       "    <tr>\n",
       "      <th>X360</th>\n",
       "      <td>48.22</td>\n",
       "    </tr>\n",
       "  </tbody>\n",
       "</table>\n",
       "</div>"
      ],
      "text/plain": [
       "          total_sales\n",
       "platform             \n",
       "PS4            288.15\n",
       "XOne           140.36\n",
       "3DS             86.68\n",
       "PS3             68.18\n",
       "X360            48.22"
      ]
     },
     "execution_count": 44,
     "metadata": {},
     "output_type": "execute_result"
    }
   ],
   "source": [
    "actual_period_platform.head()"
   ]
  },
  {
   "cell_type": "code",
   "execution_count": 45,
   "metadata": {},
   "outputs": [
    {
     "data": {
      "image/png": "[encoded data removed]",
      "text/plain": [
       "<Figure size 1440x576 with 1 Axes>"
      ]
     },
     "metadata": {
      "needs_background": "light"
     },
     "output_type": "display_data"
    }
   ],
   "source": [
    "actual_period_platform.plot(figsize = (20, 8),\n",
    "                            grid = True,\n",
    "                            title = 'Топ платформ по продажам игр c 2014 по 2016 год', \n",
    "                            kind='bar')\n",
    "plt.show()"
   ]
  },
  {
   "cell_type": "markdown",
   "metadata": {},
   "source": [
    "<li>Из гистограммы видим что в период с 2014 по 2016 год лидируют платформы PS4, XOne, 3DS, PS3, X360</li>"
   ]
  },
  {
   "cell_type": "code",
   "execution_count": 46,
   "metadata": {},
   "outputs": [
    {
     "data": {
      "image/png": "[encoded data removed]",
      "text/plain": [
       "<Figure size 1080x360 with 1 Axes>"
      ]
     },
     "metadata": {
      "needs_background": "light"
     },
     "output_type": "display_data"
    }
   ],
   "source": [
    "actual_period.pivot_table(index = 'year_of_release', columns = 'platform', values = 'total_sales', aggfunc = 'sum')\\\n",
    "  .plot(figsize = (15, 5), title = 'Динамика продаж платформ по годам')\n",
    "plt.axvline(x = 2016 , color = 'r', linestyle = 'dashed')\n",
    "plt.gca().set_xticks(actual_period['year_of_release'].unique())\n",
    "plt.legend(loc=\"upper left\")\n",
    "plt.xlabel('Год выпуска')\n",
    "plt.ylabel('Суммарные продажи')\n",
    "plt.show()"
   ]
  },
  {
   "cell_type": "markdown",
   "metadata": {},
   "source": [
    "#### Постройте график «ящик с усами» по глобальным продажам игр в разбивке по платформам. Опишите результат."
   ]
  },
  {
   "cell_type": "code",
   "execution_count": 47,
   "metadata": {},
   "outputs": [
    {
     "data": {
      "image/png": "[encoded data removed]",
      "text/plain": [
       "<Figure size 1440x1080 with 1 Axes>"
      ]
     },
     "metadata": {
      "needs_background": "light"
     },
     "output_type": "display_data"
    }
   ],
   "source": [
    "fig, ax = plt.subplots(figsize =(20, 15))\n",
    "boxplot = sns.boxplot(data = actual_period,\n",
    "            x = 'platform', \n",
    "            y = 'total_sales')\n",
    "boxplot.axes.set_title('График с усами', fontsize=16)\n",
    "boxplot.set_xlabel('Год')\n",
    "boxplot.set_ylabel('Всего продаж')\n",
    "plt.ylim(0, 2)\n",
    "plt.show()"
   ]
  },
  {
   "cell_type": "markdown",
   "metadata": {},
   "source": [
    "#### Посмотрите, как влияют на продажи внутри одной популярной платформы отзывы пользователей и критиков. Постройте диаграмму рассеяния и посчитайте корреляцию между отзывами и продажами. Сформулируйте выводы. Соотнесите выводы с продажами игр на других платформах."
   ]
  },
  {
   "cell_type": "code",
   "execution_count": 52,
   "metadata": {},
   "outputs": [
    {
     "name": "stdout",
     "output_type": "stream",
     "text": [
      "Коэффициент корреляции critic_score и total_sales для платформы PS4\n",
      "0.40080804736482517\n",
      "\n",
      "Коэффициент корреляции critic_score и total_sales для платформы XOne\n",
      "0.4209942310102164\n",
      "\n",
      "Коэффициент корреляции critic_score и total_sales для платформы 3DS\n",
      "0.28468579095782925\n",
      "\n",
      "Коэффициент корреляции critic_score и total_sales для платформы PS3\n",
      "0.44657460493190704\n",
      "\n",
      "Коэффициент корреляции critic_score и total_sales для платформы X360\n",
      "0.5257228356581523\n",
      "\n",
      "Коэффициент корреляции user_score и total_sales для платформы PS4\n",
      "-0.04198779958143553\n",
      "\n",
      "Коэффициент корреляции user_score и total_sales для платформы XOne\n",
      "-0.07408488577477357\n",
      "\n",
      "Коэффициент корреляции user_score и total_sales для платформы 3DS\n",
      "0.2798498792503281\n",
      "\n",
      "Коэффициент корреляции user_score и total_sales для платформы PS3\n",
      "0.15659516181359956\n",
      "\n",
      "Коэффициент корреляции user_score и total_sales для платформы X360\n",
      "0.33651362483599345\n",
      "\n"
     ]
    }
   ],
   "source": [
    "cor_list = ['critic_score', 'user_score']\n",
    "\n",
    "for value in cor_list:\n",
    "    for name in actual_period_platform.index[:5]:\n",
    "        print('Коэффициент корреляции', value, 'и total_sales', 'для платформы', name)\n",
    "        print(actual_period.query('platform == @name').dropna()[value]\\\n",
    "              .corr(actual_period.query('platform == @name').dropna()['total_sales']))\n",
    "        print()        "
   ]
  },
  {
   "cell_type": "markdown",
   "metadata": {},
   "source": [
    "Получается оценки критиков зависят от цены, то есть чем выше тем больше продаж\n",
    "А вот с оценками пользователей по другому, для платформы PS4 и XOne они действуют даже отрицатльно, а на 3ds ps3 и x360 пположительно"
   ]
  },
  {
   "cell_type": "markdown",
   "metadata": {},
   "source": [
    "#### Посмотрите на общее распределение игр по жанрам. Что можно сказать о самых прибыльных жанрах? Выделяются ли жанры с высокими и низкими продажами?"
   ]
  },
  {
   "cell_type": "code",
   "execution_count": 53,
   "metadata": {},
   "outputs": [
    {
     "data": {
      "image/png": "[encoded data removed]",
      "text/plain": [
       "<Figure size 432x288 with 1 Axes>"
      ]
     },
     "metadata": {
      "needs_background": "light"
     },
     "output_type": "display_data"
    }
   ],
   "source": [
    "(actual_period.pivot_table(index='genre',\n",
    "                          values='total_sales',\n",
    "                          aggfunc='mean')\n",
    "                          .sort_values(by='total_sales', ascending=False)\n",
    "                          .plot(kind='bar')\n",
    ")\n",
    "plt.show()"
   ]
  },
  {
   "cell_type": "markdown",
   "metadata": {},
   "source": [
    "Оказалось что самые популярные Shooter, Platform, Sports, Role-Playing, racing "
   ]
  },
  {
   "cell_type": "markdown",
   "metadata": {},
   "source": [
    "### Составьте портрет пользователя каждого региона"
   ]
  },
  {
   "cell_type": "markdown",
   "metadata": {},
   "source": [
    "#### Самые популярные платформы (топ-5). Опишите различия в долях продаж. Определите для пользователя каждого региона (NA, EU, JP):"
   ]
  },
  {
   "cell_type": "code",
   "execution_count": 54,
   "metadata": {},
   "outputs": [],
   "source": [
    "na_top_platform = (actual_period\n",
    "                  .pivot_table(index='platform', values='na_sales', aggfunc='sum')\n",
    "                  .sort_values(by='na_sales', ascending=False))[:5]\n",
    "eu_top_platform = (actual_period\n",
    "                  .pivot_table(index='platform', values='eu_sales', aggfunc='sum')\n",
    "                  .sort_values(by='eu_sales', ascending=False))[:5]\n",
    "jp_top_platform = (actual_period\n",
    "                  .pivot_table(index='platform', values='jp_sales', aggfunc='sum')\n",
    "                  .sort_values(by='jp_sales', ascending=False))[:5]"
   ]
  },
  {
   "cell_type": "code",
   "execution_count": 55,
   "metadata": {},
   "outputs": [
    {
     "data": {
      "text/html": [
       "<div>\n",
       "<style scoped>\n",
       "    .dataframe tbody tr th:only-of-type {\n",
       "        vertical-align: middle;\n",
       "    }\n",
       "\n",
       "    .dataframe tbody tr th {\n",
       "        vertical-align: top;\n",
       "    }\n",
       "\n",
       "    .dataframe thead th {\n",
       "        text-align: right;\n",
       "    }\n",
       "</style>\n",
       "<table border=\"1\" class=\"dataframe\">\n",
       "  <thead>\n",
       "    <tr style=\"text-align: right;\">\n",
       "      <th></th>\n",
       "      <th>na_sales</th>\n",
       "    </tr>\n",
       "    <tr>\n",
       "      <th>platform</th>\n",
       "      <th></th>\n",
       "    </tr>\n",
       "  </thead>\n",
       "  <tbody>\n",
       "    <tr>\n",
       "      <th>PS4</th>\n",
       "      <td>98.61</td>\n",
       "    </tr>\n",
       "    <tr>\n",
       "      <th>XOne</th>\n",
       "      <td>81.27</td>\n",
       "    </tr>\n",
       "    <tr>\n",
       "      <th>X360</th>\n",
       "      <td>28.30</td>\n",
       "    </tr>\n",
       "    <tr>\n",
       "      <th>3DS</th>\n",
       "      <td>22.64</td>\n",
       "    </tr>\n",
       "    <tr>\n",
       "      <th>PS3</th>\n",
       "      <td>22.05</td>\n",
       "    </tr>\n",
       "  </tbody>\n",
       "</table>\n",
       "</div>"
      ],
      "text/plain": [
       "          na_sales\n",
       "platform          \n",
       "PS4          98.61\n",
       "XOne         81.27\n",
       "X360         28.30\n",
       "3DS          22.64\n",
       "PS3          22.05"
      ]
     },
     "execution_count": 55,
     "metadata": {},
     "output_type": "execute_result"
    }
   ],
   "source": [
    "na_top_platform.head()"
   ]
  },
  {
   "cell_type": "code",
   "execution_count": 56,
   "metadata": {},
   "outputs": [
    {
     "data": {
      "text/html": [
       "<div>\n",
       "<style scoped>\n",
       "    .dataframe tbody tr th:only-of-type {\n",
       "        vertical-align: middle;\n",
       "    }\n",
       "\n",
       "    .dataframe tbody tr th {\n",
       "        vertical-align: top;\n",
       "    }\n",
       "\n",
       "    .dataframe thead th {\n",
       "        text-align: right;\n",
       "    }\n",
       "</style>\n",
       "<table border=\"1\" class=\"dataframe\">\n",
       "  <thead>\n",
       "    <tr style=\"text-align: right;\">\n",
       "      <th></th>\n",
       "      <th>eu_sales</th>\n",
       "    </tr>\n",
       "    <tr>\n",
       "      <th>platform</th>\n",
       "      <th></th>\n",
       "    </tr>\n",
       "  </thead>\n",
       "  <tbody>\n",
       "    <tr>\n",
       "      <th>PS4</th>\n",
       "      <td>130.04</td>\n",
       "    </tr>\n",
       "    <tr>\n",
       "      <th>XOne</th>\n",
       "      <td>46.25</td>\n",
       "    </tr>\n",
       "    <tr>\n",
       "      <th>PS3</th>\n",
       "      <td>25.54</td>\n",
       "    </tr>\n",
       "    <tr>\n",
       "      <th>PC</th>\n",
       "      <td>17.97</td>\n",
       "    </tr>\n",
       "    <tr>\n",
       "      <th>3DS</th>\n",
       "      <td>16.12</td>\n",
       "    </tr>\n",
       "  </tbody>\n",
       "</table>\n",
       "</div>"
      ],
      "text/plain": [
       "          eu_sales\n",
       "platform          \n",
       "PS4         130.04\n",
       "XOne         46.25\n",
       "PS3          25.54\n",
       "PC           17.97\n",
       "3DS          16.12"
      ]
     },
     "execution_count": 56,
     "metadata": {},
     "output_type": "execute_result"
    }
   ],
   "source": [
    "eu_top_platform.head()"
   ]
  },
  {
   "cell_type": "code",
   "execution_count": 57,
   "metadata": {},
   "outputs": [
    {
     "data": {
      "text/html": [
       "<div>\n",
       "<style scoped>\n",
       "    .dataframe tbody tr th:only-of-type {\n",
       "        vertical-align: middle;\n",
       "    }\n",
       "\n",
       "    .dataframe tbody tr th {\n",
       "        vertical-align: top;\n",
       "    }\n",
       "\n",
       "    .dataframe thead th {\n",
       "        text-align: right;\n",
       "    }\n",
       "</style>\n",
       "<table border=\"1\" class=\"dataframe\">\n",
       "  <thead>\n",
       "    <tr style=\"text-align: right;\">\n",
       "      <th></th>\n",
       "      <th>jp_sales</th>\n",
       "    </tr>\n",
       "    <tr>\n",
       "      <th>platform</th>\n",
       "      <th></th>\n",
       "    </tr>\n",
       "  </thead>\n",
       "  <tbody>\n",
       "    <tr>\n",
       "      <th>3DS</th>\n",
       "      <td>44.24</td>\n",
       "    </tr>\n",
       "    <tr>\n",
       "      <th>PS4</th>\n",
       "      <td>15.02</td>\n",
       "    </tr>\n",
       "    <tr>\n",
       "      <th>PSV</th>\n",
       "      <td>14.54</td>\n",
       "    </tr>\n",
       "    <tr>\n",
       "      <th>PS3</th>\n",
       "      <td>11.22</td>\n",
       "    </tr>\n",
       "    <tr>\n",
       "      <th>WiiU</th>\n",
       "      <td>7.31</td>\n",
       "    </tr>\n",
       "  </tbody>\n",
       "</table>\n",
       "</div>"
      ],
      "text/plain": [
       "          jp_sales\n",
       "platform          \n",
       "3DS          44.24\n",
       "PS4          15.02\n",
       "PSV          14.54\n",
       "PS3          11.22\n",
       "WiiU          7.31"
      ]
     },
     "execution_count": 57,
     "metadata": {},
     "output_type": "execute_result"
    }
   ],
   "source": [
    "jp_top_platform.head()"
   ]
  },
  {
   "cell_type": "markdown",
   "metadata": {},
   "source": [
    "<li>Для NA 1 место занимет X360 </li>\n",
    "<li>Для EU 1 место занимет PS4 </li>\n",
    "<li>Для JP 1 место занимет 3DS </li>"
   ]
  },
  {
   "cell_type": "code",
   "execution_count": 58,
   "metadata": {},
   "outputs": [
    {
     "data": {
      "text/html": [
       "<div>\n",
       "<style scoped>\n",
       "    .dataframe tbody tr th:only-of-type {\n",
       "        vertical-align: middle;\n",
       "    }\n",
       "\n",
       "    .dataframe tbody tr th {\n",
       "        vertical-align: top;\n",
       "    }\n",
       "\n",
       "    .dataframe thead th {\n",
       "        text-align: right;\n",
       "    }\n",
       "</style>\n",
       "<table border=\"1\" class=\"dataframe\">\n",
       "  <thead>\n",
       "    <tr style=\"text-align: right;\">\n",
       "      <th></th>\n",
       "      <th>na_sales</th>\n",
       "      <th>eu_sales</th>\n",
       "      <th>jp_sales</th>\n",
       "    </tr>\n",
       "    <tr>\n",
       "      <th>platform</th>\n",
       "      <th></th>\n",
       "      <th></th>\n",
       "      <th></th>\n",
       "    </tr>\n",
       "  </thead>\n",
       "  <tbody>\n",
       "    <tr>\n",
       "      <th>PS4</th>\n",
       "      <td>98.61</td>\n",
       "      <td>130.04</td>\n",
       "      <td>15.02</td>\n",
       "    </tr>\n",
       "    <tr>\n",
       "      <th>XOne</th>\n",
       "      <td>81.27</td>\n",
       "      <td>46.25</td>\n",
       "      <td>NaN</td>\n",
       "    </tr>\n",
       "    <tr>\n",
       "      <th>X360</th>\n",
       "      <td>28.30</td>\n",
       "      <td>NaN</td>\n",
       "      <td>NaN</td>\n",
       "    </tr>\n",
       "    <tr>\n",
       "      <th>3DS</th>\n",
       "      <td>22.64</td>\n",
       "      <td>16.12</td>\n",
       "      <td>44.24</td>\n",
       "    </tr>\n",
       "    <tr>\n",
       "      <th>PS3</th>\n",
       "      <td>22.05</td>\n",
       "      <td>25.54</td>\n",
       "      <td>11.22</td>\n",
       "    </tr>\n",
       "  </tbody>\n",
       "</table>\n",
       "</div>"
      ],
      "text/plain": [
       "          na_sales  eu_sales  jp_sales\n",
       "platform                              \n",
       "PS4          98.61    130.04     15.02\n",
       "XOne         81.27     46.25       NaN\n",
       "X360         28.30       NaN       NaN\n",
       "3DS          22.64     16.12     44.24\n",
       "PS3          22.05     25.54     11.22"
      ]
     },
     "execution_count": 58,
     "metadata": {},
     "output_type": "execute_result"
    }
   ],
   "source": [
    "all_top_platform  = pd.concat([na_top_platform, eu_top_platform, jp_top_platform], axis=1)\n",
    "all_top_platform.head()"
   ]
  },
  {
   "cell_type": "code",
   "execution_count": 59,
   "metadata": {},
   "outputs": [
    {
     "data": {
      "image/png": "[encoded data removed]",
      "text/plain": [
       "<Figure size 720x360 with 1 Axes>"
      ]
     },
     "metadata": {
      "needs_background": "light"
     },
     "output_type": "display_data"
    }
   ],
   "source": [
    "all_top_platform.plot(kind='bar', figsize=(10, 5))\n",
    "plt.title('Сумма продаж по регионам')\n",
    "plt.xticks(rotation=45)\n",
    "plt.show()"
   ]
  },
  {
   "cell_type": "markdown",
   "metadata": {},
   "source": [
    "Из графика видно что:\n",
    "<li>На платформе X360 больше всего продаж на американском рынке, 1/3 от всех продаж на этом рынке принадлежит еропейским пользователям. Японцы не играют на этой платформе</li>\n",
    "<li>На платформе PS4 преобладет еропейские продажи, не намного остает амереканский, и очень мало японских продаж</li>\n",
    "<li>На платформе PS3 примерное равенство между америнскими и европейскими продажами, очень мало японских.</li>\n",
    "<li>На платформе XOne в основном продаже на игр на американский рынок, так же примерно 1/3 на еропейском рынке. Японцы не играют на этой платформе.</li>\n",
    "<li>На платформе 3DS лидируют продажи игр на японском рынке, присутсвуют продаже на еропейский и американский рынок.</li>\n",
    "<li>Платформы PSV и Wiiu играют и покупают только японские польщователи</li>"
   ]
  },
  {
   "cell_type": "markdown",
   "metadata": {},
   "source": [
    "#### Самые популярные жанры (топ-5). Поясните разницу"
   ]
  },
  {
   "cell_type": "code",
   "execution_count": 60,
   "metadata": {},
   "outputs": [],
   "source": [
    "na_top_genre = (actual_period\n",
    "                .pivot_table(index='genre', values='na_sales', aggfunc='sum')\n",
    "                .sort_values(by='na_sales', ascending=False))[:5]\n",
    "eu_top_genre = (actual_period\n",
    "                .pivot_table(index='genre', values='eu_sales', aggfunc='sum')\n",
    "                .sort_values(by='eu_sales', ascending=False))[:5]\n",
    "jp_top_genre = (actual_period\n",
    "                .pivot_table(index='genre', values='jp_sales', aggfunc='sum')\n",
    "                .sort_values(by='jp_sales', ascending=False))[:5]"
   ]
  },
  {
   "cell_type": "code",
   "execution_count": 61,
   "metadata": {},
   "outputs": [
    {
     "data": {
      "text/html": [
       "<div>\n",
       "<style scoped>\n",
       "    .dataframe tbody tr th:only-of-type {\n",
       "        vertical-align: middle;\n",
       "    }\n",
       "\n",
       "    .dataframe tbody tr th {\n",
       "        vertical-align: top;\n",
       "    }\n",
       "\n",
       "    .dataframe thead th {\n",
       "        text-align: right;\n",
       "    }\n",
       "</style>\n",
       "<table border=\"1\" class=\"dataframe\">\n",
       "  <thead>\n",
       "    <tr style=\"text-align: right;\">\n",
       "      <th></th>\n",
       "      <th>na_sales</th>\n",
       "    </tr>\n",
       "    <tr>\n",
       "      <th>genre</th>\n",
       "      <th></th>\n",
       "    </tr>\n",
       "  </thead>\n",
       "  <tbody>\n",
       "    <tr>\n",
       "      <th>Shooter</th>\n",
       "      <td>79.02</td>\n",
       "    </tr>\n",
       "    <tr>\n",
       "      <th>Action</th>\n",
       "      <td>72.53</td>\n",
       "    </tr>\n",
       "    <tr>\n",
       "      <th>Sports</th>\n",
       "      <td>46.13</td>\n",
       "    </tr>\n",
       "    <tr>\n",
       "      <th>Role-Playing</th>\n",
       "      <td>33.47</td>\n",
       "    </tr>\n",
       "    <tr>\n",
       "      <th>Misc</th>\n",
       "      <td>15.05</td>\n",
       "    </tr>\n",
       "  </tbody>\n",
       "</table>\n",
       "</div>"
      ],
      "text/plain": [
       "              na_sales\n",
       "genre                 \n",
       "Shooter          79.02\n",
       "Action           72.53\n",
       "Sports           46.13\n",
       "Role-Playing     33.47\n",
       "Misc             15.05"
      ]
     },
     "execution_count": 61,
     "metadata": {},
     "output_type": "execute_result"
    }
   ],
   "source": [
    "na_top_genre"
   ]
  },
  {
   "cell_type": "code",
   "execution_count": 62,
   "metadata": {},
   "outputs": [
    {
     "data": {
      "text/html": [
       "<div>\n",
       "<style scoped>\n",
       "    .dataframe tbody tr th:only-of-type {\n",
       "        vertical-align: middle;\n",
       "    }\n",
       "\n",
       "    .dataframe tbody tr th {\n",
       "        vertical-align: top;\n",
       "    }\n",
       "\n",
       "    .dataframe thead th {\n",
       "        text-align: right;\n",
       "    }\n",
       "</style>\n",
       "<table border=\"1\" class=\"dataframe\">\n",
       "  <thead>\n",
       "    <tr style=\"text-align: right;\">\n",
       "      <th></th>\n",
       "      <th>eu_sales</th>\n",
       "    </tr>\n",
       "    <tr>\n",
       "      <th>genre</th>\n",
       "      <th></th>\n",
       "    </tr>\n",
       "  </thead>\n",
       "  <tbody>\n",
       "    <tr>\n",
       "      <th>Action</th>\n",
       "      <td>74.68</td>\n",
       "    </tr>\n",
       "    <tr>\n",
       "      <th>Shooter</th>\n",
       "      <td>65.52</td>\n",
       "    </tr>\n",
       "    <tr>\n",
       "      <th>Sports</th>\n",
       "      <td>45.73</td>\n",
       "    </tr>\n",
       "    <tr>\n",
       "      <th>Role-Playing</th>\n",
       "      <td>28.17</td>\n",
       "    </tr>\n",
       "    <tr>\n",
       "      <th>Racing</th>\n",
       "      <td>14.13</td>\n",
       "    </tr>\n",
       "  </tbody>\n",
       "</table>\n",
       "</div>"
      ],
      "text/plain": [
       "              eu_sales\n",
       "genre                 \n",
       "Action           74.68\n",
       "Shooter          65.52\n",
       "Sports           45.73\n",
       "Role-Playing     28.17\n",
       "Racing           14.13"
      ]
     },
     "execution_count": 62,
     "metadata": {},
     "output_type": "execute_result"
    }
   ],
   "source": [
    "eu_top_genre"
   ]
  },
  {
   "cell_type": "code",
   "execution_count": 63,
   "metadata": {},
   "outputs": [
    {
     "data": {
      "text/html": [
       "<div>\n",
       "<style scoped>\n",
       "    .dataframe tbody tr th:only-of-type {\n",
       "        vertical-align: middle;\n",
       "    }\n",
       "\n",
       "    .dataframe tbody tr th {\n",
       "        vertical-align: top;\n",
       "    }\n",
       "\n",
       "    .dataframe thead th {\n",
       "        text-align: right;\n",
       "    }\n",
       "</style>\n",
       "<table border=\"1\" class=\"dataframe\">\n",
       "  <thead>\n",
       "    <tr style=\"text-align: right;\">\n",
       "      <th></th>\n",
       "      <th>jp_sales</th>\n",
       "    </tr>\n",
       "    <tr>\n",
       "      <th>genre</th>\n",
       "      <th></th>\n",
       "    </tr>\n",
       "  </thead>\n",
       "  <tbody>\n",
       "    <tr>\n",
       "      <th>Role-Playing</th>\n",
       "      <td>31.16</td>\n",
       "    </tr>\n",
       "    <tr>\n",
       "      <th>Action</th>\n",
       "      <td>29.58</td>\n",
       "    </tr>\n",
       "    <tr>\n",
       "      <th>Fighting</th>\n",
       "      <td>6.37</td>\n",
       "    </tr>\n",
       "    <tr>\n",
       "      <th>Misc</th>\n",
       "      <td>5.61</td>\n",
       "    </tr>\n",
       "    <tr>\n",
       "      <th>Shooter</th>\n",
       "      <td>4.87</td>\n",
       "    </tr>\n",
       "  </tbody>\n",
       "</table>\n",
       "</div>"
      ],
      "text/plain": [
       "              jp_sales\n",
       "genre                 \n",
       "Role-Playing     31.16\n",
       "Action           29.58\n",
       "Fighting          6.37\n",
       "Misc              5.61\n",
       "Shooter           4.87"
      ]
     },
     "execution_count": 63,
     "metadata": {},
     "output_type": "execute_result"
    }
   ],
   "source": [
    "jp_top_genre"
   ]
  },
  {
   "cell_type": "code",
   "execution_count": 64,
   "metadata": {},
   "outputs": [
    {
     "data": {
      "text/html": [
       "<div>\n",
       "<style scoped>\n",
       "    .dataframe tbody tr th:only-of-type {\n",
       "        vertical-align: middle;\n",
       "    }\n",
       "\n",
       "    .dataframe tbody tr th {\n",
       "        vertical-align: top;\n",
       "    }\n",
       "\n",
       "    .dataframe thead th {\n",
       "        text-align: right;\n",
       "    }\n",
       "</style>\n",
       "<table border=\"1\" class=\"dataframe\">\n",
       "  <thead>\n",
       "    <tr style=\"text-align: right;\">\n",
       "      <th></th>\n",
       "      <th>na_sales</th>\n",
       "      <th>eu_sales</th>\n",
       "      <th>jp_sales</th>\n",
       "    </tr>\n",
       "    <tr>\n",
       "      <th>genre</th>\n",
       "      <th></th>\n",
       "      <th></th>\n",
       "      <th></th>\n",
       "    </tr>\n",
       "  </thead>\n",
       "  <tbody>\n",
       "    <tr>\n",
       "      <th>Shooter</th>\n",
       "      <td>79.02</td>\n",
       "      <td>65.52</td>\n",
       "      <td>4.87</td>\n",
       "    </tr>\n",
       "    <tr>\n",
       "      <th>Action</th>\n",
       "      <td>72.53</td>\n",
       "      <td>74.68</td>\n",
       "      <td>29.58</td>\n",
       "    </tr>\n",
       "    <tr>\n",
       "      <th>Sports</th>\n",
       "      <td>46.13</td>\n",
       "      <td>45.73</td>\n",
       "      <td>NaN</td>\n",
       "    </tr>\n",
       "    <tr>\n",
       "      <th>Role-Playing</th>\n",
       "      <td>33.47</td>\n",
       "      <td>28.17</td>\n",
       "      <td>31.16</td>\n",
       "    </tr>\n",
       "    <tr>\n",
       "      <th>Misc</th>\n",
       "      <td>15.05</td>\n",
       "      <td>NaN</td>\n",
       "      <td>5.61</td>\n",
       "    </tr>\n",
       "  </tbody>\n",
       "</table>\n",
       "</div>"
      ],
      "text/plain": [
       "              na_sales  eu_sales  jp_sales\n",
       "genre                                     \n",
       "Shooter          79.02     65.52      4.87\n",
       "Action           72.53     74.68     29.58\n",
       "Sports           46.13     45.73       NaN\n",
       "Role-Playing     33.47     28.17     31.16\n",
       "Misc             15.05       NaN      5.61"
      ]
     },
     "execution_count": 64,
     "metadata": {},
     "output_type": "execute_result"
    }
   ],
   "source": [
    "all_top_genre  = pd.concat([na_top_genre, eu_top_genre, jp_top_genre], axis=1)\n",
    "all_top_genre.head()"
   ]
  },
  {
   "cell_type": "code",
   "execution_count": 65,
   "metadata": {},
   "outputs": [
    {
     "data": {
      "image/png": "[encoded data removed]",
      "text/plain": [
       "<Figure size 720x360 with 1 Axes>"
      ]
     },
     "metadata": {
      "needs_background": "light"
     },
     "output_type": "display_data"
    }
   ],
   "source": [
    "all_top_genre.plot(kind='bar', figsize=(10, 5))\n",
    "plt.title('Сумма продаж по жанру')\n",
    "plt.xticks(rotation=45)\n",
    "plt.show()"
   ]
  },
  {
   "cell_type": "markdown",
   "metadata": {},
   "source": [
    "**Из графика видим что: **\n",
    "<li>Жанр Action покупают американцы и еропейцы, японцы покупают достаточно не много</li>\n",
    "<li>Жанр Shooter покупают американцы и еропейцы, японцы в этот жанр не играют</li>\n",
    "<li>Жанр Sports покупают американцы и еропейцы, японцы в этот жанр не играют</li>\n",
    "<li>Жанр Role-Playing покупают американцы, европейцы и японцы примерно по ровну</li>\n",
    "<li>Жанр Misc покупают в основом американцы и немного японцы. Еропейцы не играют в этот жанр</li>\n",
    "<li>Жанр Racing покупают только европейцы. Американские и японские игроки не играют в этот жанр</li>\n",
    "<li>Жанр Simulation и Fighting покупают только японцы. Американские и европейские игроки не играют в этот жанр</li>"
   ]
  },
  {
   "cell_type": "markdown",
   "metadata": {},
   "source": [
    "#### Влияет ли рейтинг ESRB на продажи в отдельном регионе?"
   ]
  },
  {
   "cell_type": "code",
   "execution_count": 66,
   "metadata": {},
   "outputs": [
    {
     "name": "stderr",
     "output_type": "stream",
     "text": [
      "/opt/conda/lib/python3.9/site-packages/pandas/core/generic.py:5494: SettingWithCopyWarning: \n",
      "A value is trying to be set on a copy of a slice from a DataFrame.\n",
      "Try using .loc[row_indexer,col_indexer] = value instead\n",
      "\n",
      "See the caveats in the documentation: https://pandas.pydata.org/pandas-docs/stable/user_guide/indexing.html#returning-a-view-versus-a-copy\n",
      "  self[name] = value\n"
     ]
    },
    {
     "data": {
      "text/plain": [
       "array(['unkown', 'M', 'E', 'T', 'E10+'], dtype=object)"
      ]
     },
     "execution_count": 66,
     "metadata": {},
     "output_type": "execute_result"
    }
   ],
   "source": [
    "actual_period.rating = actual_period.rating.fillna('unkown')\n",
    "actual_period.rating.unique()"
   ]
  },
  {
   "cell_type": "code",
   "execution_count": 67,
   "metadata": {},
   "outputs": [],
   "source": [
    "na_top_rating = (actual_period\n",
    "                .pivot_table(index='rating', values='na_sales', aggfunc='sum')\n",
    "                .sort_values(by='na_sales', ascending=False))\n",
    "eu_top_rating = (actual_period\n",
    "                .pivot_table(index='rating', values='eu_sales', aggfunc='sum')\n",
    "                .sort_values(by='eu_sales', ascending=False))\n",
    "jp_top_rating = (actual_period\n",
    "                .pivot_table(index='rating', values='jp_sales', aggfunc='sum')\n",
    "                .sort_values(by='jp_sales', ascending=False))"
   ]
  },
  {
   "cell_type": "code",
   "execution_count": 68,
   "metadata": {},
   "outputs": [
    {
     "data": {
      "text/html": [
       "<div>\n",
       "<style scoped>\n",
       "    .dataframe tbody tr th:only-of-type {\n",
       "        vertical-align: middle;\n",
       "    }\n",
       "\n",
       "    .dataframe tbody tr th {\n",
       "        vertical-align: top;\n",
       "    }\n",
       "\n",
       "    .dataframe thead th {\n",
       "        text-align: right;\n",
       "    }\n",
       "</style>\n",
       "<table border=\"1\" class=\"dataframe\">\n",
       "  <thead>\n",
       "    <tr style=\"text-align: right;\">\n",
       "      <th></th>\n",
       "      <th>na_sales</th>\n",
       "    </tr>\n",
       "    <tr>\n",
       "      <th>rating</th>\n",
       "      <th></th>\n",
       "    </tr>\n",
       "  </thead>\n",
       "  <tbody>\n",
       "    <tr>\n",
       "      <th>M</th>\n",
       "      <td>96.42</td>\n",
       "    </tr>\n",
       "    <tr>\n",
       "      <th>unkown</th>\n",
       "      <td>64.72</td>\n",
       "    </tr>\n",
       "    <tr>\n",
       "      <th>E</th>\n",
       "      <td>50.74</td>\n",
       "    </tr>\n",
       "    <tr>\n",
       "      <th>T</th>\n",
       "      <td>38.95</td>\n",
       "    </tr>\n",
       "    <tr>\n",
       "      <th>E10+</th>\n",
       "      <td>33.23</td>\n",
       "    </tr>\n",
       "  </tbody>\n",
       "</table>\n",
       "</div>"
      ],
      "text/plain": [
       "        na_sales\n",
       "rating          \n",
       "M          96.42\n",
       "unkown     64.72\n",
       "E          50.74\n",
       "T          38.95\n",
       "E10+       33.23"
      ]
     },
     "execution_count": 68,
     "metadata": {},
     "output_type": "execute_result"
    }
   ],
   "source": [
    "na_top_rating"
   ]
  },
  {
   "cell_type": "code",
   "execution_count": 69,
   "metadata": {},
   "outputs": [
    {
     "data": {
      "text/html": [
       "<div>\n",
       "<style scoped>\n",
       "    .dataframe tbody tr th:only-of-type {\n",
       "        vertical-align: middle;\n",
       "    }\n",
       "\n",
       "    .dataframe tbody tr th {\n",
       "        vertical-align: top;\n",
       "    }\n",
       "\n",
       "    .dataframe thead th {\n",
       "        text-align: right;\n",
       "    }\n",
       "</style>\n",
       "<table border=\"1\" class=\"dataframe\">\n",
       "  <thead>\n",
       "    <tr style=\"text-align: right;\">\n",
       "      <th></th>\n",
       "      <th>eu_sales</th>\n",
       "    </tr>\n",
       "    <tr>\n",
       "      <th>rating</th>\n",
       "      <th></th>\n",
       "    </tr>\n",
       "  </thead>\n",
       "  <tbody>\n",
       "    <tr>\n",
       "      <th>M</th>\n",
       "      <td>93.44</td>\n",
       "    </tr>\n",
       "    <tr>\n",
       "      <th>unkown</th>\n",
       "      <td>58.95</td>\n",
       "    </tr>\n",
       "    <tr>\n",
       "      <th>E</th>\n",
       "      <td>58.06</td>\n",
       "    </tr>\n",
       "    <tr>\n",
       "      <th>T</th>\n",
       "      <td>34.07</td>\n",
       "    </tr>\n",
       "    <tr>\n",
       "      <th>E10+</th>\n",
       "      <td>26.16</td>\n",
       "    </tr>\n",
       "  </tbody>\n",
       "</table>\n",
       "</div>"
      ],
      "text/plain": [
       "        eu_sales\n",
       "rating          \n",
       "M          93.44\n",
       "unkown     58.95\n",
       "E          58.06\n",
       "T          34.07\n",
       "E10+       26.16"
      ]
     },
     "execution_count": 69,
     "metadata": {},
     "output_type": "execute_result"
    }
   ],
   "source": [
    "eu_top_rating"
   ]
  },
  {
   "cell_type": "code",
   "execution_count": 70,
   "metadata": {},
   "outputs": [
    {
     "data": {
      "text/html": [
       "<div>\n",
       "<style scoped>\n",
       "    .dataframe tbody tr th:only-of-type {\n",
       "        vertical-align: middle;\n",
       "    }\n",
       "\n",
       "    .dataframe tbody tr th {\n",
       "        vertical-align: top;\n",
       "    }\n",
       "\n",
       "    .dataframe thead th {\n",
       "        text-align: right;\n",
       "    }\n",
       "</style>\n",
       "<table border=\"1\" class=\"dataframe\">\n",
       "  <thead>\n",
       "    <tr style=\"text-align: right;\">\n",
       "      <th></th>\n",
       "      <th>jp_sales</th>\n",
       "    </tr>\n",
       "    <tr>\n",
       "      <th>rating</th>\n",
       "      <th></th>\n",
       "    </tr>\n",
       "  </thead>\n",
       "  <tbody>\n",
       "    <tr>\n",
       "      <th>unkown</th>\n",
       "      <td>56.90</td>\n",
       "    </tr>\n",
       "    <tr>\n",
       "      <th>T</th>\n",
       "      <td>14.78</td>\n",
       "    </tr>\n",
       "    <tr>\n",
       "      <th>E</th>\n",
       "      <td>8.94</td>\n",
       "    </tr>\n",
       "    <tr>\n",
       "      <th>M</th>\n",
       "      <td>8.01</td>\n",
       "    </tr>\n",
       "    <tr>\n",
       "      <th>E10+</th>\n",
       "      <td>4.46</td>\n",
       "    </tr>\n",
       "  </tbody>\n",
       "</table>\n",
       "</div>"
      ],
      "text/plain": [
       "        jp_sales\n",
       "rating          \n",
       "unkown     56.90\n",
       "T          14.78\n",
       "E           8.94\n",
       "M           8.01\n",
       "E10+        4.46"
      ]
     },
     "execution_count": 70,
     "metadata": {},
     "output_type": "execute_result"
    }
   ],
   "source": [
    "jp_top_rating"
   ]
  },
  {
   "cell_type": "code",
   "execution_count": 71,
   "metadata": {},
   "outputs": [
    {
     "data": {
      "text/html": [
       "<div>\n",
       "<style scoped>\n",
       "    .dataframe tbody tr th:only-of-type {\n",
       "        vertical-align: middle;\n",
       "    }\n",
       "\n",
       "    .dataframe tbody tr th {\n",
       "        vertical-align: top;\n",
       "    }\n",
       "\n",
       "    .dataframe thead th {\n",
       "        text-align: right;\n",
       "    }\n",
       "</style>\n",
       "<table border=\"1\" class=\"dataframe\">\n",
       "  <thead>\n",
       "    <tr style=\"text-align: right;\">\n",
       "      <th></th>\n",
       "      <th>na_sales</th>\n",
       "      <th>eu_sales</th>\n",
       "      <th>jp_sales</th>\n",
       "    </tr>\n",
       "    <tr>\n",
       "      <th>rating</th>\n",
       "      <th></th>\n",
       "      <th></th>\n",
       "      <th></th>\n",
       "    </tr>\n",
       "  </thead>\n",
       "  <tbody>\n",
       "    <tr>\n",
       "      <th>M</th>\n",
       "      <td>96.42</td>\n",
       "      <td>93.44</td>\n",
       "      <td>8.01</td>\n",
       "    </tr>\n",
       "    <tr>\n",
       "      <th>unkown</th>\n",
       "      <td>64.72</td>\n",
       "      <td>58.95</td>\n",
       "      <td>56.90</td>\n",
       "    </tr>\n",
       "    <tr>\n",
       "      <th>E</th>\n",
       "      <td>50.74</td>\n",
       "      <td>58.06</td>\n",
       "      <td>8.94</td>\n",
       "    </tr>\n",
       "    <tr>\n",
       "      <th>T</th>\n",
       "      <td>38.95</td>\n",
       "      <td>34.07</td>\n",
       "      <td>14.78</td>\n",
       "    </tr>\n",
       "    <tr>\n",
       "      <th>E10+</th>\n",
       "      <td>33.23</td>\n",
       "      <td>26.16</td>\n",
       "      <td>4.46</td>\n",
       "    </tr>\n",
       "  </tbody>\n",
       "</table>\n",
       "</div>"
      ],
      "text/plain": [
       "        na_sales  eu_sales  jp_sales\n",
       "rating                              \n",
       "M          96.42     93.44      8.01\n",
       "unkown     64.72     58.95     56.90\n",
       "E          50.74     58.06      8.94\n",
       "T          38.95     34.07     14.78\n",
       "E10+       33.23     26.16      4.46"
      ]
     },
     "execution_count": 71,
     "metadata": {},
     "output_type": "execute_result"
    }
   ],
   "source": [
    "all_top_rating  = pd.concat([na_top_rating, eu_top_rating, jp_top_rating], axis=1)\n",
    "all_top_rating.head(50)"
   ]
  },
  {
   "cell_type": "code",
   "execution_count": 72,
   "metadata": {},
   "outputs": [
    {
     "data": {
      "image/png": "[encoded data removed]",
      "text/plain": [
       "<Figure size 720x360 with 1 Axes>"
      ]
     },
     "metadata": {
      "needs_background": "light"
     },
     "output_type": "display_data"
    }
   ],
   "source": [
    "all_top_rating.plot(kind='bar', figsize=(10, 5))\n",
    "plt.title('Сумма продаж по рейтингу игры')\n",
    "plt.xticks(rotation=45)\n",
    "plt.show()"
   ]
  },
  {
   "cell_type": "markdown",
   "metadata": {},
   "source": [
    "**Из графика видно что:**\n",
    "<li>Рейтинг M продается чуть больше на американском рынке, и на еропейском. Совсем не много продается на японском рынке</li>\n",
    "<li>Рейтинг E продается по равну на американском и еропейском рынке. Совсем не много продается на японском рынке</li>\n",
    "<li>Рейтинг E10+ продается чуть больше на американском рынке, и на еропейском. Совсем не много продается на японском рынке</li>\n",
    "<li>Рейтинг T продается чуть больше на американском рынке, и на еропейском. Совсем не много продается на японском рынке</li>\n",
    "<li>Игры без рейтинга примерно одинаково покупаются</li>\n"
   ]
  },
  {
   "cell_type": "markdown",
   "metadata": {},
   "source": [
    "### Проверьте гипотезы"
   ]
  },
  {
   "cell_type": "markdown",
   "metadata": {},
   "source": [
    "#### Гипотиза H0: Средние пользовательские рейтинги платформ Xbox One и PC одинаковые\n",
    "\n",
    "**Гипотиза H1: Средние пользовательские рейтинги платформ Xbox One и PC отличаются**"
   ]
  },
  {
   "cell_type": "code",
   "execution_count": 73,
   "metadata": {},
   "outputs": [
    {
     "name": "stdout",
     "output_type": "stream",
     "text": [
      "Диспресия для XOne: 1.8795460055096425\n",
      "Диспресия для PC: 2.8773743617307175\n",
      "Дисперсии не равны\n"
     ]
    }
   ],
   "source": [
    "xone = actual_period.query('platform == \"XOne\"')['user_score'].dropna()\n",
    "pc = actual_period.query('platform == \"PC\"')['user_score'].dropna()\n",
    "var_xone = np.var(xone)\n",
    "var_pc = np.var(pc)\n",
    "print('Диспресия для XOne:', var_xone)\n",
    "print('Диспресия для PC:', var_pc)\n",
    "if var_xone == var_pc:\n",
    "      print(\"Диспресии равны\")\n",
    "else:\n",
    "      print('Дисперсии не равны')"
   ]
  },
  {
   "cell_type": "code",
   "execution_count": 74,
   "metadata": {},
   "outputs": [
    {
     "name": "stdout",
     "output_type": "stream",
     "text": [
      "p-значение: 0.11601398086668832\n",
      "Не получилось отвергнуть нулевую гипотезу\n"
     ]
    }
   ],
   "source": [
    "alpha = .05\n",
    "\n",
    "\n",
    "results = st.ttest_ind(xone, pc, equal_var=False)\n",
    "    \n",
    "print('p-значение:', results.pvalue)\n",
    "\n",
    "if results.pvalue < alpha:\n",
    "    print(\"Отвергаем нулевую гипотезу\")\n",
    "else:\n",
    "    print(\"Не получилось отвергнуть нулевую гипотезу\") "
   ]
  },
  {
   "cell_type": "markdown",
   "metadata": {},
   "source": [
    "**Вывод**\n",
    "\n",
    "H0: гипотезу не слудет отвергать"
   ]
  },
  {
   "cell_type": "markdown",
   "metadata": {},
   "source": [
    "#### H0: Средние пользовательские рейтинги жанров Action (англ. «действие», экшен-игры) и Sports (англ. «спортивные соревнования») одинаковые.\n",
    "\n",
    "**H1: Средние пользовательские рейтинги жанров Action (англ. «действие», экшен-игры) и Sports (англ. «спортивные соревнования») разные**"
   ]
  },
  {
   "cell_type": "code",
   "execution_count": 75,
   "metadata": {},
   "outputs": [
    {
     "name": "stdout",
     "output_type": "stream",
     "text": [
      "Диспресия для Action: 1.89208448117539\n",
      "Диспресия для Sports: 3.4198375596751185\n",
      "Дисперсии не равны\n"
     ]
    }
   ],
   "source": [
    "action = actual_period.query('genre == \"Action\"')['user_score'].dropna()\n",
    "sports = actual_period.query('genre == \"Sports\"')['user_score'].dropna()\n",
    "var_action = np.var(action)\n",
    "var_sports = np.var(sports)\n",
    "print('Диспресия для Action:', var_action)\n",
    "print('Диспресия для Sports:', var_sports)\n",
    "if var_action == var_sports:\n",
    "      print(\"Диспресии равны\")\n",
    "else:\n",
    "      print('Дисперсии не равны')"
   ]
  },
  {
   "cell_type": "code",
   "execution_count": 76,
   "metadata": {},
   "outputs": [
    {
     "name": "stdout",
     "output_type": "stream",
     "text": [
      "p-значение: 1.1825550382644557e-14\n",
      "Отвергаем нулевую гипотезу\n"
     ]
    }
   ],
   "source": [
    "alpha = 0.05\n",
    "\n",
    "\n",
    "results = st.ttest_ind(sports, action, equal_var=False)\n",
    "    \n",
    "print('p-значение:', results.pvalue)\n",
    "\n",
    "if results.pvalue < alpha:\n",
    "    print(\"Отвергаем нулевую гипотезу\")\n",
    "else:\n",
    "    print(\"Не получилось отвергнуть нулевую гипотезу\") "
   ]
  },
  {
   "cell_type": "markdown",
   "metadata": {},
   "source": [
    "**Вывод**\n",
    "\n",
    "Гипотезу H0 можно отвергнуть"
   ]
  },
  {
   "cell_type": "markdown",
   "metadata": {},
   "source": [
    "### Общий вывод"
   ]
  },
  {
   "cell_type": "markdown",
   "metadata": {},
   "source": [
    "***Выводы сделны за период с 2012 по 2016 год:***\n",
    "\n",
    "***Топ платформ по регионам***\n",
    "\n",
    "**Топ 5 платформ в NA**\n",
    "<ol>\n",
    "    <li>X360</li>\n",
    "    <li>PS4</li>\n",
    "    <li>PS3</li>\n",
    "    <li>XOne</li>\n",
    "    <li>3DS</li>\n",
    "</ol>\n",
    "\n",
    "**Топ 5 платформ в EU**\n",
    "<ol>\n",
    "    <li>PS4</li>\n",
    "    <li>PS3</li>\n",
    "    <li>X360</li>\n",
    "    <li>XOne</li>\n",
    "    <li>3DS</li>\n",
    "</ol>\n",
    "\n",
    "**Топ 5 платформ в JP**\n",
    "<ol>\n",
    "    <li>3DS</li>\n",
    "    <li>PS3</li>\n",
    "    <li>PSV</li>\n",
    "    <li>PS4</li>\n",
    "    <li>WiiU</li>\n",
    "</ol>\n",
    "\n",
    "***Топ жанров по регионам***\n",
    "\n",
    "**Топ 5 жанров в NA**\n",
    "<ol>\n",
    "    <li>Action</li>\n",
    "    <li>Shooter</li>\n",
    "    <li>Sports</li>\n",
    "    <li>Role-Playing</li>\n",
    "    <li>Misc</li>\n",
    "</ol>\n",
    "\n",
    "**Топ 5 жанров в EU**\n",
    "<ol>\n",
    "    <li>Action</li>\n",
    "    <li>Shooter</li>\n",
    "    <li>Sports</li>\n",
    "    <li>Role-Playing</li>\n",
    "    <li>Racing</li>\n",
    "</ol>\n",
    "\n",
    "**Топ 5 жанров в JP**\n",
    "<ol>\n",
    "    <li>Role-Playing</li>\n",
    "    <li>Action</li>\n",
    "    <li>Misc</li>\n",
    "    <li>Simulation</li>\n",
    "    <li>Fighting</li>\n",
    "</ol>\n",
    "\n",
    "***Топ 5 игр с рейтингами по регионам***\n",
    "\n",
    "**Топ 5 рейтингов в NA**\n",
    "<ol>\n",
    "    <li>M</li>\n",
    "    <li>E</li>\n",
    "    <li>unkown</li>\n",
    "    <li>E10+</li>\n",
    "    <li>T</li>\n",
    "</ol>\n",
    "\n",
    "\n",
    "**Топ 5 рейтингов в EU**\n",
    "<ol>\n",
    "    <li>M</li>\n",
    "    <li>E</li>\n",
    "    <li>unkown</li>\n",
    "    <li>E10+</li>\n",
    "    <li>T</li>\n",
    "</ol>\n",
    "\n",
    "**Топ 5 рейтингов в JP**\n",
    "<ol>\n",
    "    <li>unkown</li>\n",
    "    <li>E</li>\n",
    "    <li>T</li>\n",
    "    <li>M</li>\n",
    "    <li>E10+</li>\n",
    "</ol>\n",
    "\n",
    "<li>Для рынка NA наилучше всего выпускать игры для x360 и ps4, в жанре action и shooter с рейтингом M и E</li>\n",
    "<li>Для рынка EU наилучше всего выпускать игры для ps4 и ps3, в жанре action и shooter с рейтингом M и E</li>\n",
    "<li>Для рынка JP наилучше всего выпускать игры для 3DS и ps3, в жанре Role-Playing и action с рейтингом \"безрейтинга\" и E</li>\n",
    "\n",
    "\n",
    "**Так же проверили гипотезы**\n",
    "\n",
    "<li>Средние пользовательские рейтинги платформ Xbox One и PC не отличаются</li>\n",
    "<li>Средние пользовательские рейтинги жанров Action и Sports разные</li>\n"
   ]
  }
 ],
 "metadata": {
  "ExecuteTimeLog": [
   {
    "duration": 519,
    "start_time": "2022-10-09T21:15:53.347Z"
   },
   {
    "duration": 46,
    "start_time": "2022-10-09T21:15:57.579Z"
   },
   {
    "duration": 25,
    "start_time": "2022-10-09T21:16:06.102Z"
   },
   {
    "duration": 12,
    "start_time": "2022-10-09T21:16:47.561Z"
   },
   {
    "duration": 14,
    "start_time": "2022-10-09T21:30:46.997Z"
   },
   {
    "duration": 13,
    "start_time": "2022-10-09T21:30:55.587Z"
   },
   {
    "duration": 8,
    "start_time": "2022-10-09T21:33:14.931Z"
   },
   {
    "duration": 8,
    "start_time": "2022-10-09T21:33:29.651Z"
   },
   {
    "duration": 8,
    "start_time": "2022-10-09T21:34:19.241Z"
   },
   {
    "duration": 14,
    "start_time": "2022-10-09T21:35:04.022Z"
   },
   {
    "duration": 13,
    "start_time": "2022-10-09T21:35:15.280Z"
   },
   {
    "duration": 281,
    "start_time": "2022-10-09T21:35:59.807Z"
   },
   {
    "duration": 5,
    "start_time": "2022-10-09T21:36:04.529Z"
   },
   {
    "duration": 60,
    "start_time": "2022-10-09T21:36:15.955Z"
   },
   {
    "duration": 7,
    "start_time": "2022-10-09T21:36:48.662Z"
   },
   {
    "duration": 6,
    "start_time": "2022-10-09T21:36:54.195Z"
   },
   {
    "duration": 14,
    "start_time": "2022-10-09T21:37:13.502Z"
   },
   {
    "duration": 13,
    "start_time": "2022-10-09T21:37:26.005Z"
   },
   {
    "duration": 4,
    "start_time": "2022-10-09T21:38:25.758Z"
   },
   {
    "duration": 5,
    "start_time": "2022-10-09T21:38:31.209Z"
   },
   {
    "duration": 6,
    "start_time": "2022-10-09T21:38:38.294Z"
   },
   {
    "duration": 423,
    "start_time": "2022-10-09T21:40:59.639Z"
   },
   {
    "duration": 22,
    "start_time": "2022-10-09T21:41:00.064Z"
   },
   {
    "duration": 32,
    "start_time": "2022-10-09T21:41:00.088Z"
   },
   {
    "duration": 23,
    "start_time": "2022-10-09T21:41:00.122Z"
   },
   {
    "duration": 12,
    "start_time": "2022-10-09T21:41:00.147Z"
   },
   {
    "duration": 16,
    "start_time": "2022-10-09T21:41:00.161Z"
   },
   {
    "duration": 12,
    "start_time": "2022-10-09T21:41:26.419Z"
   },
   {
    "duration": 8,
    "start_time": "2022-10-09T21:41:30.707Z"
   },
   {
    "duration": 15,
    "start_time": "2022-10-09T21:41:36.289Z"
   },
   {
    "duration": 4,
    "start_time": "2022-10-09T21:43:50.449Z"
   },
   {
    "duration": 129,
    "start_time": "2022-10-09T21:45:32.007Z"
   },
   {
    "duration": 71,
    "start_time": "2022-10-09T21:45:41.498Z"
   },
   {
    "duration": 17,
    "start_time": "2022-10-09T21:46:07.878Z"
   },
   {
    "duration": 7,
    "start_time": "2022-10-09T21:47:09.282Z"
   },
   {
    "duration": 4,
    "start_time": "2022-10-09T21:47:12.101Z"
   },
   {
    "duration": 6,
    "start_time": "2022-10-09T21:47:18.259Z"
   },
   {
    "duration": 5,
    "start_time": "2022-10-09T21:47:20.506Z"
   },
   {
    "duration": 4,
    "start_time": "2022-10-09T21:47:34.342Z"
   },
   {
    "duration": 455,
    "start_time": "2022-10-09T21:47:47.521Z"
   },
   {
    "duration": 19,
    "start_time": "2022-10-09T21:47:47.978Z"
   },
   {
    "duration": 11,
    "start_time": "2022-10-09T21:47:47.999Z"
   },
   {
    "duration": 3,
    "start_time": "2022-10-09T21:47:48.012Z"
   },
   {
    "duration": 5,
    "start_time": "2022-10-09T21:47:48.017Z"
   },
   {
    "duration": 9,
    "start_time": "2022-10-09T21:47:48.023Z"
   },
   {
    "duration": 1148,
    "start_time": "2022-10-09T21:47:48.033Z"
   },
   {
    "duration": 0,
    "start_time": "2022-10-09T21:47:49.183Z"
   },
   {
    "duration": 47,
    "start_time": "2022-10-12T12:26:56.780Z"
   },
   {
    "duration": 546,
    "start_time": "2022-10-12T12:27:06.072Z"
   },
   {
    "duration": 20,
    "start_time": "2022-10-12T12:27:06.619Z"
   },
   {
    "duration": 13,
    "start_time": "2022-10-12T12:27:06.641Z"
   },
   {
    "duration": 6,
    "start_time": "2022-10-12T12:27:06.656Z"
   },
   {
    "duration": 11,
    "start_time": "2022-10-12T12:27:06.663Z"
   },
   {
    "duration": 14,
    "start_time": "2022-10-12T12:27:06.675Z"
   },
   {
    "duration": 1348,
    "start_time": "2022-10-12T12:27:06.691Z"
   },
   {
    "duration": 0,
    "start_time": "2022-10-12T12:27:08.044Z"
   },
   {
    "duration": 7,
    "start_time": "2022-10-12T12:27:16.983Z"
   },
   {
    "duration": 11,
    "start_time": "2022-10-12T12:29:05.411Z"
   },
   {
    "duration": 5,
    "start_time": "2022-10-12T12:29:07.091Z"
   },
   {
    "duration": 4,
    "start_time": "2022-10-12T12:29:11.688Z"
   },
   {
    "duration": 9,
    "start_time": "2022-10-12T12:29:21.382Z"
   },
   {
    "duration": 12,
    "start_time": "2022-10-12T12:29:23.522Z"
   },
   {
    "duration": 4,
    "start_time": "2022-10-12T12:29:27.185Z"
   },
   {
    "duration": 11,
    "start_time": "2022-10-12T12:29:30.724Z"
   },
   {
    "duration": 419,
    "start_time": "2022-10-12T12:29:37.516Z"
   },
   {
    "duration": 25,
    "start_time": "2022-10-12T12:29:37.936Z"
   },
   {
    "duration": 21,
    "start_time": "2022-10-12T12:29:37.962Z"
   },
   {
    "duration": 5,
    "start_time": "2022-10-12T12:29:37.985Z"
   },
   {
    "duration": 14,
    "start_time": "2022-10-12T12:29:38.004Z"
   },
   {
    "duration": 18,
    "start_time": "2022-10-12T12:29:38.020Z"
   },
   {
    "duration": 17,
    "start_time": "2022-10-12T12:29:38.039Z"
   },
   {
    "duration": 3,
    "start_time": "2022-10-12T12:29:38.058Z"
   },
   {
    "duration": 5,
    "start_time": "2022-10-12T12:35:59.043Z"
   },
   {
    "duration": 4,
    "start_time": "2022-10-12T12:36:05.383Z"
   },
   {
    "duration": 5,
    "start_time": "2022-10-12T12:39:49.120Z"
   },
   {
    "duration": 5,
    "start_time": "2022-10-12T12:40:05.268Z"
   },
   {
    "duration": 4,
    "start_time": "2022-10-12T12:40:40.931Z"
   },
   {
    "duration": 63,
    "start_time": "2022-10-12T12:40:57.776Z"
   },
   {
    "duration": 4,
    "start_time": "2022-10-12T12:41:34.087Z"
   },
   {
    "duration": 4,
    "start_time": "2022-10-12T12:41:51.836Z"
   },
   {
    "duration": 4,
    "start_time": "2022-10-12T12:41:58.930Z"
   },
   {
    "duration": 4,
    "start_time": "2022-10-12T12:42:07.162Z"
   },
   {
    "duration": 4,
    "start_time": "2022-10-12T12:42:28.580Z"
   },
   {
    "duration": 5,
    "start_time": "2022-10-12T12:42:48.883Z"
   },
   {
    "duration": 452,
    "start_time": "2022-10-12T12:43:13.740Z"
   },
   {
    "duration": 20,
    "start_time": "2022-10-12T12:43:14.194Z"
   },
   {
    "duration": 13,
    "start_time": "2022-10-12T12:43:14.216Z"
   },
   {
    "duration": 4,
    "start_time": "2022-10-12T12:43:14.231Z"
   },
   {
    "duration": 14,
    "start_time": "2022-10-12T12:43:14.238Z"
   },
   {
    "duration": 11,
    "start_time": "2022-10-12T12:43:14.254Z"
   },
   {
    "duration": 17,
    "start_time": "2022-10-12T12:43:14.266Z"
   },
   {
    "duration": 4,
    "start_time": "2022-10-12T12:43:14.285Z"
   },
   {
    "duration": 13,
    "start_time": "2022-10-12T12:43:14.306Z"
   },
   {
    "duration": 5,
    "start_time": "2022-10-12T12:43:14.320Z"
   },
   {
    "duration": 9,
    "start_time": "2022-10-12T12:43:14.326Z"
   },
   {
    "duration": 5,
    "start_time": "2022-10-12T12:43:14.336Z"
   },
   {
    "duration": 6,
    "start_time": "2022-10-12T12:43:14.342Z"
   },
   {
    "duration": 5,
    "start_time": "2022-10-12T12:43:14.350Z"
   },
   {
    "duration": 403,
    "start_time": "2022-10-12T12:43:57.525Z"
   },
   {
    "duration": 23,
    "start_time": "2022-10-12T12:43:57.931Z"
   },
   {
    "duration": 18,
    "start_time": "2022-10-12T12:43:57.956Z"
   },
   {
    "duration": 13,
    "start_time": "2022-10-12T12:43:57.977Z"
   },
   {
    "duration": 13,
    "start_time": "2022-10-12T12:43:57.992Z"
   },
   {
    "duration": 16,
    "start_time": "2022-10-12T12:43:58.007Z"
   },
   {
    "duration": 12,
    "start_time": "2022-10-12T12:43:58.025Z"
   },
   {
    "duration": 3,
    "start_time": "2022-10-12T12:43:58.038Z"
   },
   {
    "duration": 6,
    "start_time": "2022-10-12T12:43:58.042Z"
   },
   {
    "duration": 8,
    "start_time": "2022-10-12T12:43:58.050Z"
   },
   {
    "duration": 16,
    "start_time": "2022-10-12T12:43:58.060Z"
   },
   {
    "duration": 5,
    "start_time": "2022-10-12T12:43:58.077Z"
   },
   {
    "duration": 24,
    "start_time": "2022-10-12T12:43:58.083Z"
   },
   {
    "duration": 7,
    "start_time": "2022-10-12T12:43:58.109Z"
   },
   {
    "duration": 4,
    "start_time": "2022-10-12T12:44:21.931Z"
   },
   {
    "duration": 5,
    "start_time": "2022-10-12T12:44:22.802Z"
   },
   {
    "duration": 433,
    "start_time": "2022-10-12T12:44:29.005Z"
   },
   {
    "duration": 19,
    "start_time": "2022-10-12T12:44:29.440Z"
   },
   {
    "duration": 12,
    "start_time": "2022-10-12T12:44:29.461Z"
   },
   {
    "duration": 3,
    "start_time": "2022-10-12T12:44:29.474Z"
   },
   {
    "duration": 6,
    "start_time": "2022-10-12T12:44:29.479Z"
   },
   {
    "duration": 9,
    "start_time": "2022-10-12T12:44:29.487Z"
   },
   {
    "duration": 18,
    "start_time": "2022-10-12T12:44:29.497Z"
   },
   {
    "duration": 3,
    "start_time": "2022-10-12T12:44:29.516Z"
   },
   {
    "duration": 8,
    "start_time": "2022-10-12T12:44:29.521Z"
   },
   {
    "duration": 6,
    "start_time": "2022-10-12T12:44:29.531Z"
   },
   {
    "duration": 9,
    "start_time": "2022-10-12T12:44:29.538Z"
   },
   {
    "duration": 6,
    "start_time": "2022-10-12T12:44:29.548Z"
   },
   {
    "duration": 3,
    "start_time": "2022-10-12T12:44:29.556Z"
   },
   {
    "duration": 7,
    "start_time": "2022-10-12T12:44:29.561Z"
   },
   {
    "duration": 7,
    "start_time": "2022-10-12T12:44:29.569Z"
   },
   {
    "duration": 12,
    "start_time": "2022-10-12T12:44:57.945Z"
   },
   {
    "duration": 5,
    "start_time": "2022-10-12T12:45:23.924Z"
   },
   {
    "duration": 434,
    "start_time": "2022-10-12T12:45:33.280Z"
   },
   {
    "duration": 26,
    "start_time": "2022-10-12T12:45:33.716Z"
   },
   {
    "duration": 17,
    "start_time": "2022-10-12T12:45:33.743Z"
   },
   {
    "duration": 7,
    "start_time": "2022-10-12T12:45:33.761Z"
   },
   {
    "duration": 5,
    "start_time": "2022-10-12T12:45:33.771Z"
   },
   {
    "duration": 8,
    "start_time": "2022-10-12T12:45:33.778Z"
   },
   {
    "duration": 4,
    "start_time": "2022-10-12T12:45:33.805Z"
   },
   {
    "duration": 12,
    "start_time": "2022-10-12T12:45:33.811Z"
   },
   {
    "duration": 3,
    "start_time": "2022-10-12T12:45:33.824Z"
   },
   {
    "duration": 9,
    "start_time": "2022-10-12T12:45:33.828Z"
   },
   {
    "duration": 7,
    "start_time": "2022-10-12T12:45:33.839Z"
   },
   {
    "duration": 11,
    "start_time": "2022-10-12T12:45:33.848Z"
   },
   {
    "duration": 12,
    "start_time": "2022-10-12T12:45:33.860Z"
   },
   {
    "duration": 4,
    "start_time": "2022-10-12T12:45:33.873Z"
   },
   {
    "duration": 10,
    "start_time": "2022-10-12T12:45:33.878Z"
   },
   {
    "duration": 3,
    "start_time": "2022-10-12T12:45:33.906Z"
   },
   {
    "duration": 9,
    "start_time": "2022-10-12T12:51:36.129Z"
   },
   {
    "duration": 5,
    "start_time": "2022-10-12T12:51:54.464Z"
   },
   {
    "duration": 5,
    "start_time": "2022-10-12T12:52:01.632Z"
   },
   {
    "duration": 6,
    "start_time": "2022-10-12T12:53:18.661Z"
   },
   {
    "duration": 5,
    "start_time": "2022-10-12T12:53:25.109Z"
   },
   {
    "duration": 10,
    "start_time": "2022-10-12T12:53:35.636Z"
   },
   {
    "duration": 11,
    "start_time": "2022-10-12T13:03:07.034Z"
   },
   {
    "duration": 11,
    "start_time": "2022-10-12T13:03:45.594Z"
   },
   {
    "duration": 16,
    "start_time": "2022-10-12T13:03:59.897Z"
   },
   {
    "duration": 12,
    "start_time": "2022-10-12T13:04:13.701Z"
   },
   {
    "duration": 124,
    "start_time": "2022-10-12T13:05:07.379Z"
   },
   {
    "duration": 14,
    "start_time": "2022-10-12T13:05:10.259Z"
   },
   {
    "duration": 13,
    "start_time": "2022-10-12T13:06:20.633Z"
   },
   {
    "duration": 11,
    "start_time": "2022-10-12T13:06:21.478Z"
   },
   {
    "duration": 10,
    "start_time": "2022-10-12T13:06:23.522Z"
   },
   {
    "duration": 11,
    "start_time": "2022-10-12T13:06:33.685Z"
   },
   {
    "duration": 394,
    "start_time": "2022-10-12T13:09:49.233Z"
   },
   {
    "duration": 21,
    "start_time": "2022-10-12T13:09:49.629Z"
   },
   {
    "duration": 18,
    "start_time": "2022-10-12T13:09:49.651Z"
   },
   {
    "duration": 12,
    "start_time": "2022-10-12T13:09:49.670Z"
   },
   {
    "duration": 13,
    "start_time": "2022-10-12T13:09:49.685Z"
   },
   {
    "duration": 20,
    "start_time": "2022-10-12T13:09:49.700Z"
   },
   {
    "duration": 18,
    "start_time": "2022-10-12T13:09:49.722Z"
   },
   {
    "duration": 25,
    "start_time": "2022-10-12T13:09:49.742Z"
   },
   {
    "duration": 4,
    "start_time": "2022-10-12T13:09:49.768Z"
   },
   {
    "duration": 17,
    "start_time": "2022-10-12T13:09:49.773Z"
   },
   {
    "duration": 18,
    "start_time": "2022-10-12T13:09:49.792Z"
   },
   {
    "duration": 14,
    "start_time": "2022-10-12T13:09:49.812Z"
   },
   {
    "duration": 16,
    "start_time": "2022-10-12T13:09:49.827Z"
   },
   {
    "duration": 17,
    "start_time": "2022-10-12T13:09:49.845Z"
   },
   {
    "duration": 30,
    "start_time": "2022-10-12T13:09:49.863Z"
   },
   {
    "duration": 13,
    "start_time": "2022-10-12T13:09:49.894Z"
   },
   {
    "duration": 19,
    "start_time": "2022-10-12T13:09:49.908Z"
   },
   {
    "duration": 11,
    "start_time": "2022-10-12T13:09:49.929Z"
   },
   {
    "duration": 9,
    "start_time": "2022-10-12T13:09:49.942Z"
   },
   {
    "duration": 23,
    "start_time": "2022-10-12T13:09:49.952Z"
   },
   {
    "duration": 11,
    "start_time": "2022-10-12T13:09:49.976Z"
   },
   {
    "duration": 41,
    "start_time": "2022-10-12T13:09:49.988Z"
   },
   {
    "duration": 19,
    "start_time": "2022-10-12T13:09:50.030Z"
   },
   {
    "duration": 25,
    "start_time": "2022-10-12T13:09:50.050Z"
   },
   {
    "duration": 4,
    "start_time": "2022-10-12T13:11:55.637Z"
   },
   {
    "duration": 13,
    "start_time": "2022-10-12T13:11:59.348Z"
   },
   {
    "duration": 4,
    "start_time": "2022-10-12T13:12:14.708Z"
   },
   {
    "duration": 55,
    "start_time": "2022-10-12T13:13:28.131Z"
   },
   {
    "duration": 12,
    "start_time": "2022-10-12T13:13:33.821Z"
   },
   {
    "duration": 7,
    "start_time": "2022-10-12T13:13:38.813Z"
   },
   {
    "duration": 10,
    "start_time": "2022-10-12T13:13:58.010Z"
   },
   {
    "duration": 515,
    "start_time": "2022-10-12T13:14:40.435Z"
   },
   {
    "duration": 361,
    "start_time": "2022-10-12T13:14:47.568Z"
   },
   {
    "duration": 358,
    "start_time": "2022-10-12T13:15:00.595Z"
   },
   {
    "duration": 15,
    "start_time": "2022-10-12T13:15:08.673Z"
   },
   {
    "duration": 23,
    "start_time": "2022-10-12T13:15:56.157Z"
   },
   {
    "duration": 20,
    "start_time": "2022-10-12T13:16:09.327Z"
   },
   {
    "duration": 4,
    "start_time": "2022-10-12T13:16:40.746Z"
   },
   {
    "duration": 9,
    "start_time": "2022-10-12T13:16:52.405Z"
   },
   {
    "duration": 9,
    "start_time": "2022-10-12T13:19:07.699Z"
   },
   {
    "duration": 4,
    "start_time": "2022-10-12T13:19:11.935Z"
   },
   {
    "duration": 9,
    "start_time": "2022-10-12T13:23:02.270Z"
   },
   {
    "duration": 17,
    "start_time": "2022-10-12T13:23:18.429Z"
   },
   {
    "duration": 3,
    "start_time": "2022-10-12T13:23:26.011Z"
   },
   {
    "duration": 3,
    "start_time": "2022-10-12T13:23:30.860Z"
   },
   {
    "duration": 20,
    "start_time": "2022-10-12T13:23:33.310Z"
   },
   {
    "duration": 3,
    "start_time": "2022-10-12T13:24:39.020Z"
   },
   {
    "duration": 7,
    "start_time": "2022-10-12T13:24:41.262Z"
   },
   {
    "duration": 8,
    "start_time": "2022-10-12T13:24:58.782Z"
   },
   {
    "duration": 17,
    "start_time": "2022-10-12T13:25:33.013Z"
   },
   {
    "duration": 38,
    "start_time": "2022-10-12T13:25:35.563Z"
   },
   {
    "duration": 23,
    "start_time": "2022-10-12T13:26:17.783Z"
   },
   {
    "duration": 46,
    "start_time": "2022-10-12T13:26:19.730Z"
   },
   {
    "duration": 31,
    "start_time": "2022-10-12T13:26:29.962Z"
   },
   {
    "duration": 17,
    "start_time": "2022-10-12T13:27:46.965Z"
   },
   {
    "duration": 34,
    "start_time": "2022-10-12T13:27:48.116Z"
   },
   {
    "duration": 20,
    "start_time": "2022-10-12T13:28:16.779Z"
   },
   {
    "duration": 14,
    "start_time": "2022-10-12T13:28:24.322Z"
   },
   {
    "duration": 365,
    "start_time": "2022-10-12T13:30:33.348Z"
   },
   {
    "duration": 11,
    "start_time": "2022-10-12T13:33:22.486Z"
   },
   {
    "duration": 10,
    "start_time": "2022-10-12T13:34:06.928Z"
   },
   {
    "duration": 11,
    "start_time": "2022-10-12T13:34:07.942Z"
   },
   {
    "duration": 10,
    "start_time": "2022-10-12T13:34:08.907Z"
   },
   {
    "duration": 10,
    "start_time": "2022-10-12T13:34:09.684Z"
   },
   {
    "duration": 3,
    "start_time": "2022-10-12T13:34:28.887Z"
   },
   {
    "duration": 16,
    "start_time": "2022-10-12T13:34:37.851Z"
   },
   {
    "duration": 48,
    "start_time": "2022-10-12T13:37:28.856Z"
   },
   {
    "duration": 1570,
    "start_time": "2022-10-12T13:37:33.681Z"
   },
   {
    "duration": 412,
    "start_time": "2022-10-12T13:37:44.815Z"
   },
   {
    "duration": 22,
    "start_time": "2022-10-12T13:37:45.229Z"
   },
   {
    "duration": 12,
    "start_time": "2022-10-12T13:37:45.253Z"
   },
   {
    "duration": 8,
    "start_time": "2022-10-12T13:37:45.267Z"
   },
   {
    "duration": 6,
    "start_time": "2022-10-12T13:37:45.277Z"
   },
   {
    "duration": 8,
    "start_time": "2022-10-12T13:37:45.284Z"
   },
   {
    "duration": 16,
    "start_time": "2022-10-12T13:37:45.293Z"
   },
   {
    "duration": 13,
    "start_time": "2022-10-12T13:37:45.311Z"
   },
   {
    "duration": 3,
    "start_time": "2022-10-12T13:37:45.325Z"
   },
   {
    "duration": 11,
    "start_time": "2022-10-12T13:37:45.329Z"
   },
   {
    "duration": 10,
    "start_time": "2022-10-12T13:37:45.341Z"
   },
   {
    "duration": 10,
    "start_time": "2022-10-12T13:37:45.353Z"
   },
   {
    "duration": 10,
    "start_time": "2022-10-12T13:37:45.364Z"
   },
   {
    "duration": 3,
    "start_time": "2022-10-12T13:37:45.377Z"
   },
   {
    "duration": 9,
    "start_time": "2022-10-12T13:37:45.382Z"
   },
   {
    "duration": 14,
    "start_time": "2022-10-12T13:37:45.392Z"
   },
   {
    "duration": 13,
    "start_time": "2022-10-12T13:37:45.407Z"
   },
   {
    "duration": 9,
    "start_time": "2022-10-12T13:37:45.421Z"
   },
   {
    "duration": 16,
    "start_time": "2022-10-12T13:37:45.431Z"
   },
   {
    "duration": 17,
    "start_time": "2022-10-12T13:37:45.448Z"
   },
   {
    "duration": 11,
    "start_time": "2022-10-12T13:37:45.466Z"
   },
   {
    "duration": 10,
    "start_time": "2022-10-12T13:37:45.479Z"
   },
   {
    "duration": 16,
    "start_time": "2022-10-12T13:37:45.490Z"
   },
   {
    "duration": 9,
    "start_time": "2022-10-12T13:37:45.508Z"
   },
   {
    "duration": 8,
    "start_time": "2022-10-12T13:37:45.518Z"
   },
   {
    "duration": 10,
    "start_time": "2022-10-12T13:37:45.527Z"
   },
   {
    "duration": 5,
    "start_time": "2022-10-12T13:37:45.538Z"
   },
   {
    "duration": 64,
    "start_time": "2022-10-12T13:37:45.545Z"
   },
   {
    "duration": 2,
    "start_time": "2022-10-12T13:37:58.821Z"
   },
   {
    "duration": 8,
    "start_time": "2022-10-12T13:38:19.662Z"
   },
   {
    "duration": 423,
    "start_time": "2022-10-12T13:38:36.117Z"
   },
   {
    "duration": 20,
    "start_time": "2022-10-12T13:38:36.542Z"
   },
   {
    "duration": 13,
    "start_time": "2022-10-12T13:38:36.564Z"
   },
   {
    "duration": 8,
    "start_time": "2022-10-12T13:38:36.579Z"
   },
   {
    "duration": 16,
    "start_time": "2022-10-12T13:38:36.589Z"
   },
   {
    "duration": 5,
    "start_time": "2022-10-12T13:38:36.607Z"
   },
   {
    "duration": 9,
    "start_time": "2022-10-12T13:38:36.613Z"
   },
   {
    "duration": 13,
    "start_time": "2022-10-12T13:38:36.624Z"
   },
   {
    "duration": 4,
    "start_time": "2022-10-12T13:38:36.638Z"
   },
   {
    "duration": 10,
    "start_time": "2022-10-12T13:38:36.643Z"
   },
   {
    "duration": 7,
    "start_time": "2022-10-12T13:38:36.654Z"
   },
   {
    "duration": 13,
    "start_time": "2022-10-12T13:38:36.662Z"
   },
   {
    "duration": 21,
    "start_time": "2022-10-12T13:38:36.676Z"
   },
   {
    "duration": 8,
    "start_time": "2022-10-12T13:38:36.699Z"
   },
   {
    "duration": 13,
    "start_time": "2022-10-12T13:38:36.708Z"
   },
   {
    "duration": 9,
    "start_time": "2022-10-12T13:38:36.723Z"
   },
   {
    "duration": 20,
    "start_time": "2022-10-12T13:38:36.734Z"
   },
   {
    "duration": 11,
    "start_time": "2022-10-12T13:38:36.755Z"
   },
   {
    "duration": 16,
    "start_time": "2022-10-12T13:38:36.767Z"
   },
   {
    "duration": 32,
    "start_time": "2022-10-12T13:38:36.785Z"
   },
   {
    "duration": 18,
    "start_time": "2022-10-12T13:38:36.818Z"
   },
   {
    "duration": 19,
    "start_time": "2022-10-12T13:38:36.838Z"
   },
   {
    "duration": 23,
    "start_time": "2022-10-12T13:38:36.859Z"
   },
   {
    "duration": 17,
    "start_time": "2022-10-12T13:38:36.884Z"
   },
   {
    "duration": 11,
    "start_time": "2022-10-12T13:38:36.903Z"
   },
   {
    "duration": 8,
    "start_time": "2022-10-12T13:38:36.915Z"
   },
   {
    "duration": 12,
    "start_time": "2022-10-12T13:38:36.924Z"
   },
   {
    "duration": 17,
    "start_time": "2022-10-12T13:38:36.938Z"
   },
   {
    "duration": 67,
    "start_time": "2022-10-12T13:38:53.955Z"
   },
   {
    "duration": 0,
    "start_time": "2022-10-12T13:38:54.023Z"
   },
   {
    "duration": 15,
    "start_time": "2022-10-12T13:39:05.910Z"
   },
   {
    "duration": 4,
    "start_time": "2022-10-12T13:39:23.703Z"
   },
   {
    "duration": 5,
    "start_time": "2022-10-12T13:39:42.681Z"
   },
   {
    "duration": 10,
    "start_time": "2022-10-12T13:39:50.412Z"
   },
   {
    "duration": 23,
    "start_time": "2022-10-12T13:39:50.423Z"
   },
   {
    "duration": 7,
    "start_time": "2022-10-12T13:39:55.614Z"
   },
   {
    "duration": 7,
    "start_time": "2022-10-12T13:40:01.970Z"
   },
   {
    "duration": 12,
    "start_time": "2022-10-12T13:40:29.852Z"
   },
   {
    "duration": 7,
    "start_time": "2022-10-12T13:40:44.874Z"
   },
   {
    "duration": 4,
    "start_time": "2022-10-12T13:45:03.704Z"
   },
   {
    "duration": 4,
    "start_time": "2022-10-12T13:45:13.835Z"
   },
   {
    "duration": 492,
    "start_time": "2022-10-12T14:07:03.896Z"
   },
   {
    "duration": 22,
    "start_time": "2022-10-12T14:07:04.389Z"
   },
   {
    "duration": 13,
    "start_time": "2022-10-12T14:07:04.413Z"
   },
   {
    "duration": 9,
    "start_time": "2022-10-12T14:07:04.428Z"
   },
   {
    "duration": 10,
    "start_time": "2022-10-12T14:07:04.440Z"
   },
   {
    "duration": 17,
    "start_time": "2022-10-12T14:07:04.452Z"
   },
   {
    "duration": 11,
    "start_time": "2022-10-12T14:07:04.470Z"
   },
   {
    "duration": 17,
    "start_time": "2022-10-12T14:07:04.483Z"
   },
   {
    "duration": 7,
    "start_time": "2022-10-12T14:07:04.501Z"
   },
   {
    "duration": 7,
    "start_time": "2022-10-12T14:07:04.510Z"
   },
   {
    "duration": 8,
    "start_time": "2022-10-12T14:07:04.518Z"
   },
   {
    "duration": 14,
    "start_time": "2022-10-12T14:07:04.527Z"
   },
   {
    "duration": 15,
    "start_time": "2022-10-12T14:07:04.542Z"
   },
   {
    "duration": 4,
    "start_time": "2022-10-12T14:07:04.560Z"
   },
   {
    "duration": 6,
    "start_time": "2022-10-12T14:07:04.566Z"
   },
   {
    "duration": 10,
    "start_time": "2022-10-12T14:07:04.574Z"
   },
   {
    "duration": 25,
    "start_time": "2022-10-12T14:07:04.585Z"
   },
   {
    "duration": 6,
    "start_time": "2022-10-12T14:07:04.612Z"
   },
   {
    "duration": 7,
    "start_time": "2022-10-12T14:07:04.620Z"
   },
   {
    "duration": 51,
    "start_time": "2022-10-12T14:07:04.628Z"
   },
   {
    "duration": 13,
    "start_time": "2022-10-12T14:07:04.680Z"
   },
   {
    "duration": 21,
    "start_time": "2022-10-12T14:07:04.695Z"
   },
   {
    "duration": 11,
    "start_time": "2022-10-12T14:07:04.718Z"
   },
   {
    "duration": 50,
    "start_time": "2022-10-12T14:07:04.731Z"
   },
   {
    "duration": 7,
    "start_time": "2022-10-12T14:07:04.783Z"
   },
   {
    "duration": 8,
    "start_time": "2022-10-12T14:07:04.791Z"
   },
   {
    "duration": 7,
    "start_time": "2022-10-12T14:07:04.801Z"
   },
   {
    "duration": 3,
    "start_time": "2022-10-12T14:07:26.936Z"
   },
   {
    "duration": 394,
    "start_time": "2022-10-12T14:07:33.965Z"
   },
   {
    "duration": 21,
    "start_time": "2022-10-12T14:07:34.361Z"
   },
   {
    "duration": 32,
    "start_time": "2022-10-12T14:07:34.383Z"
   },
   {
    "duration": 14,
    "start_time": "2022-10-12T14:07:34.417Z"
   },
   {
    "duration": 17,
    "start_time": "2022-10-12T14:07:34.433Z"
   },
   {
    "duration": 22,
    "start_time": "2022-10-12T14:07:34.451Z"
   },
   {
    "duration": 30,
    "start_time": "2022-10-12T14:07:34.474Z"
   },
   {
    "duration": 19,
    "start_time": "2022-10-12T14:07:34.505Z"
   },
   {
    "duration": 14,
    "start_time": "2022-10-12T14:07:34.525Z"
   },
   {
    "duration": 30,
    "start_time": "2022-10-12T14:07:34.540Z"
   },
   {
    "duration": 15,
    "start_time": "2022-10-12T14:07:34.572Z"
   },
   {
    "duration": 20,
    "start_time": "2022-10-12T14:07:34.588Z"
   },
   {
    "duration": 17,
    "start_time": "2022-10-12T14:07:34.609Z"
   },
   {
    "duration": 88,
    "start_time": "2022-10-12T14:07:34.628Z"
   },
   {
    "duration": 0,
    "start_time": "2022-10-12T14:07:34.717Z"
   },
   {
    "duration": 0,
    "start_time": "2022-10-12T14:07:34.718Z"
   },
   {
    "duration": 0,
    "start_time": "2022-10-12T14:07:34.719Z"
   },
   {
    "duration": 0,
    "start_time": "2022-10-12T14:07:34.720Z"
   },
   {
    "duration": 0,
    "start_time": "2022-10-12T14:07:34.721Z"
   },
   {
    "duration": 0,
    "start_time": "2022-10-12T14:07:34.722Z"
   },
   {
    "duration": 0,
    "start_time": "2022-10-12T14:07:34.723Z"
   },
   {
    "duration": 0,
    "start_time": "2022-10-12T14:07:34.724Z"
   },
   {
    "duration": 0,
    "start_time": "2022-10-12T14:07:34.724Z"
   },
   {
    "duration": 0,
    "start_time": "2022-10-12T14:07:34.725Z"
   },
   {
    "duration": 0,
    "start_time": "2022-10-12T14:07:34.726Z"
   },
   {
    "duration": 0,
    "start_time": "2022-10-12T14:07:34.726Z"
   },
   {
    "duration": 0,
    "start_time": "2022-10-12T14:07:34.727Z"
   },
   {
    "duration": 3,
    "start_time": "2022-10-12T14:08:12.201Z"
   },
   {
    "duration": 4,
    "start_time": "2022-10-12T14:09:32.630Z"
   },
   {
    "duration": 5,
    "start_time": "2022-10-12T14:09:35.512Z"
   },
   {
    "duration": 12,
    "start_time": "2022-10-12T14:09:40.135Z"
   },
   {
    "duration": 11,
    "start_time": "2022-10-12T14:09:48.206Z"
   },
   {
    "duration": 7,
    "start_time": "2022-10-12T14:09:53.452Z"
   },
   {
    "duration": 4,
    "start_time": "2022-10-12T14:10:03.981Z"
   },
   {
    "duration": 11,
    "start_time": "2022-10-12T14:10:12.192Z"
   },
   {
    "duration": 3,
    "start_time": "2022-10-12T14:10:18.253Z"
   },
   {
    "duration": 5,
    "start_time": "2022-10-12T14:10:19.901Z"
   },
   {
    "duration": 7,
    "start_time": "2022-10-12T14:10:22.613Z"
   },
   {
    "duration": 4,
    "start_time": "2022-10-12T14:10:28.548Z"
   },
   {
    "duration": 6,
    "start_time": "2022-10-12T14:12:00.579Z"
   },
   {
    "duration": 6,
    "start_time": "2022-10-12T14:12:02.627Z"
   },
   {
    "duration": 4,
    "start_time": "2022-10-12T14:12:04.570Z"
   },
   {
    "duration": 5,
    "start_time": "2022-10-12T14:12:07.140Z"
   },
   {
    "duration": 5,
    "start_time": "2022-10-12T14:12:08.282Z"
   },
   {
    "duration": 4,
    "start_time": "2022-10-12T14:12:08.706Z"
   },
   {
    "duration": 434,
    "start_time": "2022-10-12T14:12:14.111Z"
   },
   {
    "duration": 22,
    "start_time": "2022-10-12T14:12:14.546Z"
   },
   {
    "duration": 20,
    "start_time": "2022-10-12T14:12:14.570Z"
   },
   {
    "duration": 27,
    "start_time": "2022-10-12T14:12:14.592Z"
   },
   {
    "duration": 9,
    "start_time": "2022-10-12T14:12:14.621Z"
   },
   {
    "duration": 9,
    "start_time": "2022-10-12T14:12:14.631Z"
   },
   {
    "duration": 16,
    "start_time": "2022-10-12T14:12:14.642Z"
   },
   {
    "duration": 12,
    "start_time": "2022-10-12T14:12:14.660Z"
   },
   {
    "duration": 3,
    "start_time": "2022-10-12T14:12:14.674Z"
   },
   {
    "duration": 11,
    "start_time": "2022-10-12T14:12:14.679Z"
   },
   {
    "duration": 23,
    "start_time": "2022-10-12T14:12:14.691Z"
   },
   {
    "duration": 9,
    "start_time": "2022-10-12T14:12:14.715Z"
   },
   {
    "duration": 16,
    "start_time": "2022-10-12T14:12:14.725Z"
   },
   {
    "duration": 6,
    "start_time": "2022-10-12T14:12:14.742Z"
   },
   {
    "duration": 8,
    "start_time": "2022-10-12T14:12:14.749Z"
   },
   {
    "duration": 8,
    "start_time": "2022-10-12T14:12:14.759Z"
   },
   {
    "duration": 9,
    "start_time": "2022-10-12T14:12:14.769Z"
   },
   {
    "duration": 5,
    "start_time": "2022-10-12T14:12:14.779Z"
   },
   {
    "duration": 8,
    "start_time": "2022-10-12T14:12:14.786Z"
   },
   {
    "duration": 16,
    "start_time": "2022-10-12T14:12:14.808Z"
   },
   {
    "duration": 15,
    "start_time": "2022-10-12T14:12:14.826Z"
   },
   {
    "duration": 22,
    "start_time": "2022-10-12T14:12:14.843Z"
   },
   {
    "duration": 13,
    "start_time": "2022-10-12T14:12:14.867Z"
   },
   {
    "duration": 15,
    "start_time": "2022-10-12T14:12:14.882Z"
   },
   {
    "duration": 11,
    "start_time": "2022-10-12T14:12:14.898Z"
   },
   {
    "duration": 19,
    "start_time": "2022-10-12T14:12:14.911Z"
   },
   {
    "duration": 7,
    "start_time": "2022-10-12T14:12:14.931Z"
   },
   {
    "duration": 8,
    "start_time": "2022-10-12T14:12:22.656Z"
   },
   {
    "duration": 6,
    "start_time": "2022-10-12T14:12:34.908Z"
   },
   {
    "duration": 5,
    "start_time": "2022-10-12T14:12:36.234Z"
   },
   {
    "duration": 4,
    "start_time": "2022-10-12T14:12:36.665Z"
   },
   {
    "duration": 5,
    "start_time": "2022-10-12T14:12:39.577Z"
   },
   {
    "duration": 4,
    "start_time": "2022-10-12T14:12:40.177Z"
   },
   {
    "duration": 5,
    "start_time": "2022-10-12T14:12:41.901Z"
   },
   {
    "duration": 4,
    "start_time": "2022-10-12T14:13:11.796Z"
   },
   {
    "duration": 6,
    "start_time": "2022-10-12T14:13:13.123Z"
   },
   {
    "duration": 4,
    "start_time": "2022-10-12T14:13:13.536Z"
   },
   {
    "duration": 477,
    "start_time": "2022-10-12T14:13:18.876Z"
   },
   {
    "duration": 23,
    "start_time": "2022-10-12T14:13:19.355Z"
   },
   {
    "duration": 13,
    "start_time": "2022-10-12T14:13:19.380Z"
   },
   {
    "duration": 16,
    "start_time": "2022-10-12T14:13:19.396Z"
   },
   {
    "duration": 4,
    "start_time": "2022-10-12T14:13:19.414Z"
   },
   {
    "duration": 10,
    "start_time": "2022-10-12T14:13:19.420Z"
   },
   {
    "duration": 13,
    "start_time": "2022-10-12T14:13:19.431Z"
   },
   {
    "duration": 13,
    "start_time": "2022-10-12T14:13:19.445Z"
   },
   {
    "duration": 3,
    "start_time": "2022-10-12T14:13:19.459Z"
   },
   {
    "duration": 17,
    "start_time": "2022-10-12T14:13:19.465Z"
   },
   {
    "duration": 19,
    "start_time": "2022-10-12T14:13:19.484Z"
   },
   {
    "duration": 11,
    "start_time": "2022-10-12T14:13:19.505Z"
   },
   {
    "duration": 8,
    "start_time": "2022-10-12T14:13:19.518Z"
   },
   {
    "duration": 4,
    "start_time": "2022-10-12T14:13:19.528Z"
   },
   {
    "duration": 8,
    "start_time": "2022-10-12T14:13:19.534Z"
   },
   {
    "duration": 9,
    "start_time": "2022-10-12T14:13:19.544Z"
   },
   {
    "duration": 12,
    "start_time": "2022-10-12T14:13:19.554Z"
   },
   {
    "duration": 5,
    "start_time": "2022-10-12T14:13:19.568Z"
   },
   {
    "duration": 7,
    "start_time": "2022-10-12T14:13:19.575Z"
   },
   {
    "duration": 38,
    "start_time": "2022-10-12T14:13:19.583Z"
   },
   {
    "duration": 17,
    "start_time": "2022-10-12T14:13:19.623Z"
   },
   {
    "duration": 14,
    "start_time": "2022-10-12T14:13:19.642Z"
   },
   {
    "duration": 8,
    "start_time": "2022-10-12T14:13:19.658Z"
   },
   {
    "duration": 23,
    "start_time": "2022-10-12T14:13:19.667Z"
   },
   {
    "duration": 20,
    "start_time": "2022-10-12T14:13:19.692Z"
   },
   {
    "duration": 14,
    "start_time": "2022-10-12T14:13:19.714Z"
   },
   {
    "duration": 9,
    "start_time": "2022-10-12T14:13:19.730Z"
   },
   {
    "duration": 6,
    "start_time": "2022-10-12T14:13:22.873Z"
   },
   {
    "duration": 76,
    "start_time": "2022-10-12T14:19:35.803Z"
   },
   {
    "duration": 12,
    "start_time": "2022-10-12T14:19:55.741Z"
   },
   {
    "duration": 6,
    "start_time": "2022-10-12T14:19:59.348Z"
   },
   {
    "duration": 5,
    "start_time": "2022-10-12T14:20:03.758Z"
   },
   {
    "duration": 6,
    "start_time": "2022-10-12T14:20:06.956Z"
   },
   {
    "duration": 5,
    "start_time": "2022-10-12T14:20:14.078Z"
   },
   {
    "duration": 6,
    "start_time": "2022-10-12T14:20:30.658Z"
   },
   {
    "duration": 12,
    "start_time": "2022-10-12T14:20:56.084Z"
   },
   {
    "duration": 6,
    "start_time": "2022-10-12T14:21:31.949Z"
   },
   {
    "duration": 4,
    "start_time": "2022-10-12T14:21:33.393Z"
   },
   {
    "duration": 6,
    "start_time": "2022-10-12T14:21:34.729Z"
   },
   {
    "duration": 6,
    "start_time": "2022-10-12T14:21:35.474Z"
   },
   {
    "duration": 4,
    "start_time": "2022-10-12T14:21:36.313Z"
   },
   {
    "duration": 6,
    "start_time": "2022-10-12T14:21:37.773Z"
   },
   {
    "duration": 461,
    "start_time": "2022-10-12T14:21:43.684Z"
   },
   {
    "duration": 23,
    "start_time": "2022-10-12T14:21:44.147Z"
   },
   {
    "duration": 14,
    "start_time": "2022-10-12T14:21:44.172Z"
   },
   {
    "duration": 9,
    "start_time": "2022-10-12T14:21:44.188Z"
   },
   {
    "duration": 6,
    "start_time": "2022-10-12T14:21:44.209Z"
   },
   {
    "duration": 6,
    "start_time": "2022-10-12T14:21:44.216Z"
   },
   {
    "duration": 6,
    "start_time": "2022-10-12T14:21:44.224Z"
   },
   {
    "duration": 13,
    "start_time": "2022-10-12T14:21:44.232Z"
   },
   {
    "duration": 4,
    "start_time": "2022-10-12T14:21:44.246Z"
   },
   {
    "duration": 9,
    "start_time": "2022-10-12T14:21:44.253Z"
   },
   {
    "duration": 7,
    "start_time": "2022-10-12T14:21:44.264Z"
   },
   {
    "duration": 7,
    "start_time": "2022-10-12T14:21:44.273Z"
   },
   {
    "duration": 33,
    "start_time": "2022-10-12T14:21:44.281Z"
   },
   {
    "duration": 5,
    "start_time": "2022-10-12T14:21:44.316Z"
   },
   {
    "duration": 4,
    "start_time": "2022-10-12T14:21:44.323Z"
   },
   {
    "duration": 5,
    "start_time": "2022-10-12T14:21:44.329Z"
   },
   {
    "duration": 15,
    "start_time": "2022-10-12T14:21:44.336Z"
   },
   {
    "duration": 6,
    "start_time": "2022-10-12T14:21:44.352Z"
   },
   {
    "duration": 6,
    "start_time": "2022-10-12T14:21:44.360Z"
   },
   {
    "duration": 19,
    "start_time": "2022-10-12T14:21:44.368Z"
   },
   {
    "duration": 31,
    "start_time": "2022-10-12T14:21:44.388Z"
   },
   {
    "duration": 12,
    "start_time": "2022-10-12T14:21:44.421Z"
   },
   {
    "duration": 5,
    "start_time": "2022-10-12T14:21:44.435Z"
   },
   {
    "duration": 11,
    "start_time": "2022-10-12T14:21:44.442Z"
   },
   {
    "duration": 4,
    "start_time": "2022-10-12T14:21:44.455Z"
   },
   {
    "duration": 10,
    "start_time": "2022-10-12T14:21:44.461Z"
   },
   {
    "duration": 38,
    "start_time": "2022-10-12T14:21:44.473Z"
   },
   {
    "duration": 4,
    "start_time": "2022-10-12T14:21:51.510Z"
   },
   {
    "duration": 4,
    "start_time": "2022-10-12T14:21:52.301Z"
   },
   {
    "duration": 4,
    "start_time": "2022-10-12T14:21:52.736Z"
   },
   {
    "duration": 5,
    "start_time": "2022-10-12T14:22:07.482Z"
   },
   {
    "duration": 4,
    "start_time": "2022-10-12T14:22:07.917Z"
   },
   {
    "duration": 4,
    "start_time": "2022-10-12T14:22:08.524Z"
   },
   {
    "duration": 78,
    "start_time": "2022-10-12T14:22:33.777Z"
   },
   {
    "duration": 3,
    "start_time": "2022-10-12T14:22:38.244Z"
   },
   {
    "duration": 10,
    "start_time": "2022-10-12T14:23:54.959Z"
   },
   {
    "duration": 4,
    "start_time": "2022-10-12T14:24:07.483Z"
   },
   {
    "duration": 4,
    "start_time": "2022-10-12T14:24:09.736Z"
   },
   {
    "duration": 3,
    "start_time": "2022-10-12T14:24:30.298Z"
   },
   {
    "duration": 3,
    "start_time": "2022-10-12T14:24:30.704Z"
   },
   {
    "duration": 4,
    "start_time": "2022-10-12T14:27:04.902Z"
   },
   {
    "duration": 13,
    "start_time": "2022-10-12T14:27:09.732Z"
   },
   {
    "duration": 63,
    "start_time": "2022-10-12T14:27:35.138Z"
   },
   {
    "duration": 93,
    "start_time": "2022-10-12T14:27:39.738Z"
   },
   {
    "duration": 56,
    "start_time": "2022-10-12T14:27:42.551Z"
   },
   {
    "duration": 57,
    "start_time": "2022-10-12T14:27:47.998Z"
   },
   {
    "duration": 4,
    "start_time": "2022-10-12T14:28:04.317Z"
   },
   {
    "duration": 4,
    "start_time": "2022-10-12T14:32:40.385Z"
   },
   {
    "duration": 14,
    "start_time": "2022-10-12T14:32:40.887Z"
   },
   {
    "duration": 9,
    "start_time": "2022-10-12T14:35:55.480Z"
   },
   {
    "duration": 818,
    "start_time": "2022-10-12T14:36:01.834Z"
   },
   {
    "duration": 152,
    "start_time": "2022-10-12T14:36:07.624Z"
   },
   {
    "duration": 277,
    "start_time": "2022-10-12T14:36:43.086Z"
   },
   {
    "duration": 167,
    "start_time": "2022-10-12T14:36:56.244Z"
   },
   {
    "duration": 230,
    "start_time": "2022-10-12T14:37:00.906Z"
   },
   {
    "duration": 41,
    "start_time": "2022-10-12T14:40:25.425Z"
   },
   {
    "duration": 60,
    "start_time": "2022-10-12T14:53:28.158Z"
   },
   {
    "duration": 143,
    "start_time": "2022-10-12T14:53:35.325Z"
   },
   {
    "duration": 44,
    "start_time": "2022-10-12T14:53:41.650Z"
   },
   {
    "duration": 156,
    "start_time": "2022-10-12T14:54:42.546Z"
   },
   {
    "duration": 800,
    "start_time": "2022-10-12T14:54:53.385Z"
   },
   {
    "duration": 823,
    "start_time": "2022-10-12T14:56:58.290Z"
   },
   {
    "duration": 26,
    "start_time": "2022-10-12T14:57:19.497Z"
   },
   {
    "duration": 666,
    "start_time": "2022-10-12T14:57:28.894Z"
   },
   {
    "duration": 19,
    "start_time": "2022-10-12T14:57:29.562Z"
   },
   {
    "duration": 15,
    "start_time": "2022-10-12T14:57:29.582Z"
   },
   {
    "duration": 10,
    "start_time": "2022-10-12T14:57:29.599Z"
   },
   {
    "duration": 4,
    "start_time": "2022-10-12T14:57:29.611Z"
   },
   {
    "duration": 9,
    "start_time": "2022-10-12T14:57:29.616Z"
   },
   {
    "duration": 6,
    "start_time": "2022-10-12T14:57:29.626Z"
   },
   {
    "duration": 11,
    "start_time": "2022-10-12T14:57:29.634Z"
   },
   {
    "duration": 3,
    "start_time": "2022-10-12T14:57:29.647Z"
   },
   {
    "duration": 8,
    "start_time": "2022-10-12T14:57:29.651Z"
   },
   {
    "duration": 6,
    "start_time": "2022-10-12T14:57:29.661Z"
   },
   {
    "duration": 7,
    "start_time": "2022-10-12T14:57:29.669Z"
   },
   {
    "duration": 32,
    "start_time": "2022-10-12T14:57:29.678Z"
   },
   {
    "duration": 14,
    "start_time": "2022-10-12T14:57:29.713Z"
   },
   {
    "duration": 12,
    "start_time": "2022-10-12T14:57:29.729Z"
   },
   {
    "duration": 15,
    "start_time": "2022-10-12T14:57:29.742Z"
   },
   {
    "duration": 7,
    "start_time": "2022-10-12T14:57:29.758Z"
   },
   {
    "duration": 11,
    "start_time": "2022-10-12T14:57:29.766Z"
   },
   {
    "duration": 19,
    "start_time": "2022-10-12T14:57:29.778Z"
   },
   {
    "duration": 19,
    "start_time": "2022-10-12T14:57:29.799Z"
   },
   {
    "duration": 14,
    "start_time": "2022-10-12T14:57:29.820Z"
   },
   {
    "duration": 5,
    "start_time": "2022-10-12T14:57:29.835Z"
   },
   {
    "duration": 11,
    "start_time": "2022-10-12T14:57:29.841Z"
   },
   {
    "duration": 4,
    "start_time": "2022-10-12T14:57:29.854Z"
   },
   {
    "duration": 7,
    "start_time": "2022-10-12T14:57:29.859Z"
   },
   {
    "duration": 5,
    "start_time": "2022-10-12T14:57:29.867Z"
   },
   {
    "duration": 37,
    "start_time": "2022-10-12T14:57:29.874Z"
   },
   {
    "duration": 13,
    "start_time": "2022-10-12T14:57:29.912Z"
   },
   {
    "duration": 242,
    "start_time": "2022-10-12T14:57:29.927Z"
   },
   {
    "duration": 13,
    "start_time": "2022-10-12T14:57:30.171Z"
   },
   {
    "duration": 12,
    "start_time": "2022-10-12T14:57:35.524Z"
   },
   {
    "duration": 80,
    "start_time": "2022-10-12T14:57:43.423Z"
   },
   {
    "duration": 6,
    "start_time": "2022-10-12T14:57:47.272Z"
   },
   {
    "duration": 191,
    "start_time": "2022-10-12T14:58:23.317Z"
   },
   {
    "duration": 228,
    "start_time": "2022-10-12T14:58:55.413Z"
   },
   {
    "duration": 213,
    "start_time": "2022-10-12T14:59:00.436Z"
   },
   {
    "duration": 188,
    "start_time": "2022-10-12T14:59:05.743Z"
   },
   {
    "duration": 442,
    "start_time": "2022-10-12T14:59:27.722Z"
   },
   {
    "duration": 21,
    "start_time": "2022-10-12T14:59:28.166Z"
   },
   {
    "duration": 13,
    "start_time": "2022-10-12T14:59:28.189Z"
   },
   {
    "duration": 10,
    "start_time": "2022-10-12T14:59:28.204Z"
   },
   {
    "duration": 3,
    "start_time": "2022-10-12T14:59:28.216Z"
   },
   {
    "duration": 6,
    "start_time": "2022-10-12T14:59:28.220Z"
   },
   {
    "duration": 6,
    "start_time": "2022-10-12T14:59:28.227Z"
   },
   {
    "duration": 10,
    "start_time": "2022-10-12T14:59:28.235Z"
   },
   {
    "duration": 3,
    "start_time": "2022-10-12T14:59:28.247Z"
   },
   {
    "duration": 4,
    "start_time": "2022-10-12T14:59:28.252Z"
   },
   {
    "duration": 8,
    "start_time": "2022-10-12T14:59:28.257Z"
   },
   {
    "duration": 10,
    "start_time": "2022-10-12T14:59:28.267Z"
   },
   {
    "duration": 6,
    "start_time": "2022-10-12T14:59:28.309Z"
   },
   {
    "duration": 3,
    "start_time": "2022-10-12T14:59:28.317Z"
   },
   {
    "duration": 8,
    "start_time": "2022-10-12T14:59:28.321Z"
   },
   {
    "duration": 8,
    "start_time": "2022-10-12T14:59:28.330Z"
   },
   {
    "duration": 8,
    "start_time": "2022-10-12T14:59:28.340Z"
   },
   {
    "duration": 7,
    "start_time": "2022-10-12T14:59:28.349Z"
   },
   {
    "duration": 18,
    "start_time": "2022-10-12T14:59:28.357Z"
   },
   {
    "duration": 38,
    "start_time": "2022-10-12T14:59:28.377Z"
   },
   {
    "duration": 14,
    "start_time": "2022-10-12T14:59:28.416Z"
   },
   {
    "duration": 8,
    "start_time": "2022-10-12T14:59:28.431Z"
   },
   {
    "duration": 12,
    "start_time": "2022-10-12T14:59:28.440Z"
   },
   {
    "duration": 4,
    "start_time": "2022-10-12T14:59:28.454Z"
   },
   {
    "duration": 8,
    "start_time": "2022-10-12T14:59:28.459Z"
   },
   {
    "duration": 6,
    "start_time": "2022-10-12T14:59:28.468Z"
   },
   {
    "duration": 36,
    "start_time": "2022-10-12T14:59:28.475Z"
   },
   {
    "duration": 19,
    "start_time": "2022-10-12T14:59:28.514Z"
   },
   {
    "duration": 455,
    "start_time": "2022-10-12T14:59:28.535Z"
   },
   {
    "duration": 24,
    "start_time": "2022-10-12T14:59:28.992Z"
   },
   {
    "duration": 203,
    "start_time": "2022-10-12T14:59:29.018Z"
   },
   {
    "duration": 46,
    "start_time": "2022-10-12T14:59:39.002Z"
   },
   {
    "duration": 12,
    "start_time": "2022-10-12T14:59:54.388Z"
   },
   {
    "duration": 201,
    "start_time": "2022-10-12T15:00:15.247Z"
   },
   {
    "duration": 85,
    "start_time": "2022-10-12T15:00:52.774Z"
   },
   {
    "duration": 11,
    "start_time": "2022-10-12T15:00:56.274Z"
   },
   {
    "duration": 187,
    "start_time": "2022-10-12T15:00:56.663Z"
   },
   {
    "duration": 334,
    "start_time": "2022-10-12T15:04:51.964Z"
   },
   {
    "duration": 93,
    "start_time": "2022-10-12T15:05:04.842Z"
   },
   {
    "duration": 225,
    "start_time": "2022-10-12T15:05:14.757Z"
   },
   {
    "duration": 219,
    "start_time": "2022-10-12T15:05:23.532Z"
   },
   {
    "duration": 287,
    "start_time": "2022-10-12T15:06:05.439Z"
   },
   {
    "duration": 467,
    "start_time": "2022-10-12T15:06:51.001Z"
   },
   {
    "duration": 22,
    "start_time": "2022-10-12T15:06:51.470Z"
   },
   {
    "duration": 14,
    "start_time": "2022-10-12T15:06:51.493Z"
   },
   {
    "duration": 8,
    "start_time": "2022-10-12T15:06:51.508Z"
   },
   {
    "duration": 8,
    "start_time": "2022-10-12T15:06:51.518Z"
   },
   {
    "duration": 15,
    "start_time": "2022-10-12T15:06:51.528Z"
   },
   {
    "duration": 8,
    "start_time": "2022-10-12T15:06:51.544Z"
   },
   {
    "duration": 21,
    "start_time": "2022-10-12T15:06:51.553Z"
   },
   {
    "duration": 34,
    "start_time": "2022-10-12T15:06:51.575Z"
   },
   {
    "duration": 43,
    "start_time": "2022-10-12T15:06:51.611Z"
   },
   {
    "duration": 20,
    "start_time": "2022-10-12T15:06:51.656Z"
   },
   {
    "duration": 29,
    "start_time": "2022-10-12T15:06:51.677Z"
   },
   {
    "duration": 25,
    "start_time": "2022-10-12T15:06:51.707Z"
   },
   {
    "duration": 17,
    "start_time": "2022-10-12T15:06:51.734Z"
   },
   {
    "duration": 26,
    "start_time": "2022-10-12T15:06:51.752Z"
   },
   {
    "duration": 30,
    "start_time": "2022-10-12T15:06:51.780Z"
   },
   {
    "duration": 25,
    "start_time": "2022-10-12T15:06:51.812Z"
   },
   {
    "duration": 26,
    "start_time": "2022-10-12T15:06:51.838Z"
   },
   {
    "duration": 36,
    "start_time": "2022-10-12T15:06:51.866Z"
   },
   {
    "duration": 13,
    "start_time": "2022-10-12T15:06:51.903Z"
   },
   {
    "duration": 31,
    "start_time": "2022-10-12T15:06:51.917Z"
   },
   {
    "duration": 22,
    "start_time": "2022-10-12T15:06:51.950Z"
   },
   {
    "duration": 33,
    "start_time": "2022-10-12T15:06:51.974Z"
   },
   {
    "duration": 22,
    "start_time": "2022-10-12T15:06:52.009Z"
   },
   {
    "duration": 16,
    "start_time": "2022-10-12T15:06:52.033Z"
   },
   {
    "duration": 18,
    "start_time": "2022-10-12T15:06:52.051Z"
   },
   {
    "duration": 22,
    "start_time": "2022-10-12T15:06:52.071Z"
   },
   {
    "duration": 30,
    "start_time": "2022-10-12T15:06:52.096Z"
   },
   {
    "duration": 513,
    "start_time": "2022-10-12T15:06:52.128Z"
   },
   {
    "duration": 17,
    "start_time": "2022-10-12T15:06:52.642Z"
   },
   {
    "duration": 335,
    "start_time": "2022-10-12T15:06:52.661Z"
   },
   {
    "duration": 85,
    "start_time": "2022-10-12T15:11:13.886Z"
   },
   {
    "duration": 8,
    "start_time": "2022-10-12T15:11:21.664Z"
   },
   {
    "duration": 488,
    "start_time": "2022-10-12T15:11:31.917Z"
   },
   {
    "duration": 320,
    "start_time": "2022-10-12T15:11:53.069Z"
   },
   {
    "duration": 472,
    "start_time": "2022-10-12T15:12:13.765Z"
   },
   {
    "duration": 2,
    "start_time": "2022-10-12T16:06:33.857Z"
   },
   {
    "duration": 10,
    "start_time": "2022-10-12T16:15:17.987Z"
   },
   {
    "duration": 9,
    "start_time": "2022-10-12T16:15:24.205Z"
   },
   {
    "duration": 3,
    "start_time": "2022-10-12T16:15:38.604Z"
   },
   {
    "duration": 366,
    "start_time": "2022-10-12T16:15:51.077Z"
   },
   {
    "duration": 282,
    "start_time": "2022-10-12T16:16:34.730Z"
   },
   {
    "duration": 289,
    "start_time": "2022-10-12T16:16:42.919Z"
   },
   {
    "duration": 289,
    "start_time": "2022-10-12T16:16:47.002Z"
   },
   {
    "duration": 284,
    "start_time": "2022-10-12T16:17:49.715Z"
   },
   {
    "duration": 38,
    "start_time": "2022-10-12T16:18:18.436Z"
   },
   {
    "duration": 276,
    "start_time": "2022-10-12T16:18:23.503Z"
   },
   {
    "duration": 354,
    "start_time": "2022-10-12T16:18:41.280Z"
   },
   {
    "duration": 414,
    "start_time": "2022-10-12T16:19:06.956Z"
   },
   {
    "duration": 10,
    "start_time": "2022-10-12T16:19:43.934Z"
   },
   {
    "duration": 9,
    "start_time": "2022-10-12T16:19:56.059Z"
   },
   {
    "duration": 347,
    "start_time": "2022-10-12T16:20:04.409Z"
   },
   {
    "duration": 9,
    "start_time": "2022-10-12T16:20:30.231Z"
   },
   {
    "duration": 8,
    "start_time": "2022-10-12T16:20:36.948Z"
   },
   {
    "duration": 9,
    "start_time": "2022-10-12T16:20:46.227Z"
   },
   {
    "duration": 9,
    "start_time": "2022-10-12T16:21:13.481Z"
   },
   {
    "duration": 9,
    "start_time": "2022-10-12T16:21:16.564Z"
   },
   {
    "duration": 8,
    "start_time": "2022-10-12T16:21:25.507Z"
   },
   {
    "duration": 9,
    "start_time": "2022-10-12T16:21:30.409Z"
   },
   {
    "duration": 652,
    "start_time": "2022-10-12T16:21:40.873Z"
   },
   {
    "duration": 19,
    "start_time": "2022-10-12T16:21:41.527Z"
   },
   {
    "duration": 14,
    "start_time": "2022-10-12T16:21:41.547Z"
   },
   {
    "duration": 15,
    "start_time": "2022-10-12T16:21:41.562Z"
   },
   {
    "duration": 6,
    "start_time": "2022-10-12T16:21:41.579Z"
   },
   {
    "duration": 13,
    "start_time": "2022-10-12T16:21:41.587Z"
   },
   {
    "duration": 5,
    "start_time": "2022-10-12T16:21:41.609Z"
   },
   {
    "duration": 19,
    "start_time": "2022-10-12T16:21:41.616Z"
   },
   {
    "duration": 3,
    "start_time": "2022-10-12T16:21:41.637Z"
   },
   {
    "duration": 8,
    "start_time": "2022-10-12T16:21:41.643Z"
   },
   {
    "duration": 6,
    "start_time": "2022-10-12T16:21:41.653Z"
   },
   {
    "duration": 9,
    "start_time": "2022-10-12T16:21:41.661Z"
   },
   {
    "duration": 8,
    "start_time": "2022-10-12T16:21:41.671Z"
   },
   {
    "duration": 4,
    "start_time": "2022-10-12T16:21:41.710Z"
   },
   {
    "duration": 9,
    "start_time": "2022-10-12T16:21:41.716Z"
   },
   {
    "duration": 10,
    "start_time": "2022-10-12T16:21:41.726Z"
   },
   {
    "duration": 21,
    "start_time": "2022-10-12T16:21:41.738Z"
   },
   {
    "duration": 5,
    "start_time": "2022-10-12T16:21:41.761Z"
   },
   {
    "duration": 20,
    "start_time": "2022-10-12T16:21:41.768Z"
   },
   {
    "duration": 20,
    "start_time": "2022-10-12T16:21:41.789Z"
   },
   {
    "duration": 13,
    "start_time": "2022-10-12T16:21:41.811Z"
   },
   {
    "duration": 5,
    "start_time": "2022-10-12T16:21:41.825Z"
   },
   {
    "duration": 12,
    "start_time": "2022-10-12T16:21:41.832Z"
   },
   {
    "duration": 4,
    "start_time": "2022-10-12T16:21:41.846Z"
   },
   {
    "duration": 8,
    "start_time": "2022-10-12T16:21:41.852Z"
   },
   {
    "duration": 5,
    "start_time": "2022-10-12T16:21:41.862Z"
   },
   {
    "duration": 10,
    "start_time": "2022-10-12T16:21:41.868Z"
   },
   {
    "duration": 40,
    "start_time": "2022-10-12T16:21:41.881Z"
   },
   {
    "duration": 244,
    "start_time": "2022-10-12T16:21:41.923Z"
   },
   {
    "duration": 13,
    "start_time": "2022-10-12T16:21:42.169Z"
   },
   {
    "duration": 2,
    "start_time": "2022-10-12T16:21:42.184Z"
   },
   {
    "duration": 292,
    "start_time": "2022-10-12T16:21:42.188Z"
   },
   {
    "duration": 9,
    "start_time": "2022-10-12T16:21:42.482Z"
   },
   {
    "duration": 454,
    "start_time": "2022-10-12T16:21:42.492Z"
   },
   {
    "duration": 10,
    "start_time": "2022-10-12T16:21:56.878Z"
   },
   {
    "duration": 309,
    "start_time": "2022-10-12T16:21:58.784Z"
   },
   {
    "duration": 9,
    "start_time": "2022-10-12T16:22:18.330Z"
   },
   {
    "duration": 314,
    "start_time": "2022-10-12T16:22:19.051Z"
   },
   {
    "duration": 86,
    "start_time": "2022-10-12T16:23:10.689Z"
   },
   {
    "duration": 314,
    "start_time": "2022-10-12T16:23:14.299Z"
   },
   {
    "duration": 9,
    "start_time": "2022-10-12T16:24:10.798Z"
   },
   {
    "duration": 324,
    "start_time": "2022-10-12T16:24:11.550Z"
   },
   {
    "duration": 10,
    "start_time": "2022-10-12T16:24:17.746Z"
   },
   {
    "duration": 13,
    "start_time": "2022-10-12T16:24:39.230Z"
   },
   {
    "duration": 305,
    "start_time": "2022-10-12T16:24:39.916Z"
   },
   {
    "duration": 9,
    "start_time": "2022-10-12T16:25:05.199Z"
   },
   {
    "duration": 407,
    "start_time": "2022-10-12T16:25:06.370Z"
   },
   {
    "duration": 10,
    "start_time": "2022-10-12T16:25:33.273Z"
   },
   {
    "duration": 314,
    "start_time": "2022-10-12T16:25:34.722Z"
   },
   {
    "duration": 11,
    "start_time": "2022-10-12T16:30:50.191Z"
   },
   {
    "duration": 8,
    "start_time": "2022-10-12T16:30:56.797Z"
   },
   {
    "duration": 12,
    "start_time": "2022-10-12T16:31:17.671Z"
   },
   {
    "duration": 11,
    "start_time": "2022-10-12T16:31:18.135Z"
   },
   {
    "duration": 12,
    "start_time": "2022-10-12T16:31:26.564Z"
   },
   {
    "duration": 8,
    "start_time": "2022-10-12T16:31:26.932Z"
   },
   {
    "duration": 8,
    "start_time": "2022-10-12T16:31:29.200Z"
   },
   {
    "duration": 12,
    "start_time": "2022-10-12T16:31:53.773Z"
   },
   {
    "duration": 8,
    "start_time": "2022-10-12T16:31:54.137Z"
   },
   {
    "duration": 12,
    "start_time": "2022-10-12T16:32:13.317Z"
   },
   {
    "duration": 11,
    "start_time": "2022-10-12T16:32:40.232Z"
   },
   {
    "duration": 11,
    "start_time": "2022-10-12T16:32:41.703Z"
   },
   {
    "duration": 9,
    "start_time": "2022-10-12T16:32:42.212Z"
   },
   {
    "duration": 12,
    "start_time": "2022-10-12T16:32:57.271Z"
   },
   {
    "duration": 10,
    "start_time": "2022-10-12T16:33:00.036Z"
   },
   {
    "duration": 12,
    "start_time": "2022-10-12T16:33:05.901Z"
   },
   {
    "duration": 9,
    "start_time": "2022-10-12T16:33:06.294Z"
   },
   {
    "duration": 12,
    "start_time": "2022-10-12T16:33:16.198Z"
   },
   {
    "duration": 9,
    "start_time": "2022-10-12T16:33:16.600Z"
   },
   {
    "duration": 204,
    "start_time": "2022-10-12T16:33:44.418Z"
   },
   {
    "duration": 13,
    "start_time": "2022-10-12T16:34:09.428Z"
   },
   {
    "duration": 9,
    "start_time": "2022-10-12T16:34:11.317Z"
   },
   {
    "duration": 16,
    "start_time": "2022-10-12T16:34:22.560Z"
   },
   {
    "duration": 9,
    "start_time": "2022-10-12T16:34:23.672Z"
   },
   {
    "duration": 643,
    "start_time": "2022-10-12T16:38:38.635Z"
   },
   {
    "duration": 19,
    "start_time": "2022-10-12T16:38:39.279Z"
   },
   {
    "duration": 44,
    "start_time": "2022-10-12T16:38:39.301Z"
   },
   {
    "duration": 22,
    "start_time": "2022-10-12T16:38:39.347Z"
   },
   {
    "duration": 23,
    "start_time": "2022-10-12T16:38:39.371Z"
   },
   {
    "duration": 19,
    "start_time": "2022-10-12T16:38:39.396Z"
   },
   {
    "duration": 24,
    "start_time": "2022-10-12T16:38:39.417Z"
   },
   {
    "duration": 32,
    "start_time": "2022-10-12T16:38:39.442Z"
   },
   {
    "duration": 10,
    "start_time": "2022-10-12T16:38:39.476Z"
   },
   {
    "duration": 19,
    "start_time": "2022-10-12T16:38:39.487Z"
   },
   {
    "duration": 23,
    "start_time": "2022-10-12T16:38:39.508Z"
   },
   {
    "duration": 28,
    "start_time": "2022-10-12T16:38:39.533Z"
   },
   {
    "duration": 27,
    "start_time": "2022-10-12T16:38:39.563Z"
   },
   {
    "duration": 17,
    "start_time": "2022-10-12T16:38:39.591Z"
   },
   {
    "duration": 25,
    "start_time": "2022-10-12T16:38:39.609Z"
   },
   {
    "duration": 19,
    "start_time": "2022-10-12T16:38:39.635Z"
   },
   {
    "duration": 22,
    "start_time": "2022-10-12T16:38:39.655Z"
   },
   {
    "duration": 19,
    "start_time": "2022-10-12T16:38:39.678Z"
   },
   {
    "duration": 34,
    "start_time": "2022-10-12T16:38:39.698Z"
   },
   {
    "duration": 21,
    "start_time": "2022-10-12T16:38:39.733Z"
   },
   {
    "duration": 25,
    "start_time": "2022-10-12T16:38:39.756Z"
   },
   {
    "duration": 33,
    "start_time": "2022-10-12T16:38:39.782Z"
   },
   {
    "duration": 33,
    "start_time": "2022-10-12T16:38:39.816Z"
   },
   {
    "duration": 14,
    "start_time": "2022-10-12T16:38:39.850Z"
   },
   {
    "duration": 20,
    "start_time": "2022-10-12T16:38:39.866Z"
   },
   {
    "duration": 30,
    "start_time": "2022-10-12T16:38:39.888Z"
   },
   {
    "duration": 29,
    "start_time": "2022-10-12T16:38:39.919Z"
   },
   {
    "duration": 30,
    "start_time": "2022-10-12T16:38:39.949Z"
   },
   {
    "duration": 249,
    "start_time": "2022-10-12T16:38:39.981Z"
   },
   {
    "duration": 12,
    "start_time": "2022-10-12T16:38:40.231Z"
   },
   {
    "duration": 19,
    "start_time": "2022-10-12T16:38:40.244Z"
   },
   {
    "duration": 298,
    "start_time": "2022-10-12T16:38:40.264Z"
   },
   {
    "duration": 9,
    "start_time": "2022-10-12T16:38:40.564Z"
   },
   {
    "duration": 364,
    "start_time": "2022-10-12T16:38:40.575Z"
   },
   {
    "duration": 11,
    "start_time": "2022-10-12T16:38:40.941Z"
   },
   {
    "duration": 29,
    "start_time": "2022-10-12T16:38:40.954Z"
   },
   {
    "duration": 3,
    "start_time": "2022-10-12T16:42:41.953Z"
   },
   {
    "duration": 3,
    "start_time": "2022-10-12T16:42:52.805Z"
   },
   {
    "duration": 97,
    "start_time": "2022-10-12T16:43:02.612Z"
   },
   {
    "duration": 8,
    "start_time": "2022-10-12T16:43:06.054Z"
   },
   {
    "duration": 3,
    "start_time": "2022-10-12T16:43:08.645Z"
   },
   {
    "duration": 107,
    "start_time": "2022-10-12T16:44:43.959Z"
   },
   {
    "duration": 830,
    "start_time": "2022-10-12T16:44:53.137Z"
   },
   {
    "duration": 55,
    "start_time": "2022-10-12T16:45:28.815Z"
   },
   {
    "duration": 22,
    "start_time": "2022-10-12T16:45:36.290Z"
   },
   {
    "duration": 867,
    "start_time": "2022-10-12T16:46:35.087Z"
   },
   {
    "duration": 694,
    "start_time": "2022-10-12T16:46:42.051Z"
   },
   {
    "duration": 650,
    "start_time": "2022-10-12T16:46:51.109Z"
   },
   {
    "duration": 197,
    "start_time": "2022-10-12T16:46:59.899Z"
   },
   {
    "duration": 5289,
    "start_time": "2022-10-12T16:48:32.578Z"
   },
   {
    "duration": 22,
    "start_time": "2022-10-12T16:48:37.878Z"
   },
   {
    "duration": 618,
    "start_time": "2022-10-12T16:48:44.967Z"
   },
   {
    "duration": 19,
    "start_time": "2022-10-12T16:48:45.587Z"
   },
   {
    "duration": 13,
    "start_time": "2022-10-12T16:48:45.607Z"
   },
   {
    "duration": 8,
    "start_time": "2022-10-12T16:48:45.622Z"
   },
   {
    "duration": 4,
    "start_time": "2022-10-12T16:48:45.632Z"
   },
   {
    "duration": 4,
    "start_time": "2022-10-12T16:48:45.637Z"
   },
   {
    "duration": 7,
    "start_time": "2022-10-12T16:48:45.643Z"
   },
   {
    "duration": 12,
    "start_time": "2022-10-12T16:48:45.652Z"
   },
   {
    "duration": 6,
    "start_time": "2022-10-12T16:48:45.665Z"
   },
   {
    "duration": 5,
    "start_time": "2022-10-12T16:48:45.673Z"
   },
   {
    "duration": 30,
    "start_time": "2022-10-12T16:48:45.680Z"
   },
   {
    "duration": 4,
    "start_time": "2022-10-12T16:48:45.711Z"
   },
   {
    "duration": 9,
    "start_time": "2022-10-12T16:48:45.717Z"
   },
   {
    "duration": 3,
    "start_time": "2022-10-12T16:48:45.728Z"
   },
   {
    "duration": 8,
    "start_time": "2022-10-12T16:48:45.733Z"
   },
   {
    "duration": 11,
    "start_time": "2022-10-12T16:48:45.742Z"
   },
   {
    "duration": 5,
    "start_time": "2022-10-12T16:48:45.754Z"
   },
   {
    "duration": 7,
    "start_time": "2022-10-12T16:48:45.760Z"
   },
   {
    "duration": 41,
    "start_time": "2022-10-12T16:48:45.768Z"
   },
   {
    "duration": 12,
    "start_time": "2022-10-12T16:48:45.811Z"
   },
   {
    "duration": 12,
    "start_time": "2022-10-12T16:48:45.824Z"
   },
   {
    "duration": 6,
    "start_time": "2022-10-12T16:48:45.838Z"
   },
   {
    "duration": 16,
    "start_time": "2022-10-12T16:48:45.845Z"
   },
   {
    "duration": 4,
    "start_time": "2022-10-12T16:48:45.862Z"
   },
   {
    "duration": 8,
    "start_time": "2022-10-12T16:48:45.868Z"
   },
   {
    "duration": 6,
    "start_time": "2022-10-12T16:48:45.877Z"
   },
   {
    "duration": 27,
    "start_time": "2022-10-12T16:48:45.884Z"
   },
   {
    "duration": 19,
    "start_time": "2022-10-12T16:48:45.912Z"
   },
   {
    "duration": 244,
    "start_time": "2022-10-12T16:48:45.933Z"
   },
   {
    "duration": 13,
    "start_time": "2022-10-12T16:48:46.179Z"
   },
   {
    "duration": 2,
    "start_time": "2022-10-12T16:48:46.194Z"
   },
   {
    "duration": 287,
    "start_time": "2022-10-12T16:48:46.208Z"
   },
   {
    "duration": 15,
    "start_time": "2022-10-12T16:48:46.497Z"
   },
   {
    "duration": 359,
    "start_time": "2022-10-12T16:48:46.513Z"
   },
   {
    "duration": 13,
    "start_time": "2022-10-12T16:48:46.873Z"
   },
   {
    "duration": 7,
    "start_time": "2022-10-12T16:48:46.887Z"
   },
   {
    "duration": 2045,
    "start_time": "2022-10-12T16:48:46.896Z"
   },
   {
    "duration": 702,
    "start_time": "2022-10-12T16:49:25.126Z"
   },
   {
    "duration": 19,
    "start_time": "2022-10-12T16:49:25.830Z"
   },
   {
    "duration": 13,
    "start_time": "2022-10-12T16:49:25.850Z"
   },
   {
    "duration": 13,
    "start_time": "2022-10-12T16:49:25.864Z"
   },
   {
    "duration": 3,
    "start_time": "2022-10-12T16:49:25.879Z"
   },
   {
    "duration": 8,
    "start_time": "2022-10-12T16:49:25.884Z"
   },
   {
    "duration": 17,
    "start_time": "2022-10-12T16:49:25.894Z"
   },
   {
    "duration": 12,
    "start_time": "2022-10-12T16:49:25.913Z"
   },
   {
    "duration": 4,
    "start_time": "2022-10-12T16:49:25.926Z"
   },
   {
    "duration": 7,
    "start_time": "2022-10-12T16:49:25.931Z"
   },
   {
    "duration": 5,
    "start_time": "2022-10-12T16:49:25.940Z"
   },
   {
    "duration": 5,
    "start_time": "2022-10-12T16:49:25.947Z"
   },
   {
    "duration": 7,
    "start_time": "2022-10-12T16:49:25.953Z"
   },
   {
    "duration": 3,
    "start_time": "2022-10-12T16:49:25.963Z"
   },
   {
    "duration": 43,
    "start_time": "2022-10-12T16:49:25.968Z"
   },
   {
    "duration": 14,
    "start_time": "2022-10-12T16:49:26.012Z"
   },
   {
    "duration": 16,
    "start_time": "2022-10-12T16:49:26.027Z"
   },
   {
    "duration": 9,
    "start_time": "2022-10-12T16:49:26.046Z"
   },
   {
    "duration": 28,
    "start_time": "2022-10-12T16:49:26.057Z"
   },
   {
    "duration": 15,
    "start_time": "2022-10-12T16:49:26.087Z"
   },
   {
    "duration": 14,
    "start_time": "2022-10-12T16:49:26.109Z"
   },
   {
    "duration": 5,
    "start_time": "2022-10-12T16:49:26.125Z"
   },
   {
    "duration": 14,
    "start_time": "2022-10-12T16:49:26.131Z"
   },
   {
    "duration": 5,
    "start_time": "2022-10-12T16:49:26.146Z"
   },
   {
    "duration": 7,
    "start_time": "2022-10-12T16:49:26.152Z"
   },
   {
    "duration": 7,
    "start_time": "2022-10-12T16:49:26.161Z"
   },
   {
    "duration": 6,
    "start_time": "2022-10-12T16:49:26.170Z"
   },
   {
    "duration": 43,
    "start_time": "2022-10-12T16:49:26.178Z"
   },
   {
    "duration": 248,
    "start_time": "2022-10-12T16:49:26.223Z"
   },
   {
    "duration": 14,
    "start_time": "2022-10-12T16:49:26.473Z"
   },
   {
    "duration": 2,
    "start_time": "2022-10-12T16:49:26.489Z"
   },
   {
    "duration": 312,
    "start_time": "2022-10-12T16:49:26.493Z"
   },
   {
    "duration": 12,
    "start_time": "2022-10-12T16:49:26.809Z"
   },
   {
    "duration": 370,
    "start_time": "2022-10-12T16:49:26.822Z"
   },
   {
    "duration": 16,
    "start_time": "2022-10-12T16:49:27.194Z"
   },
   {
    "duration": 7,
    "start_time": "2022-10-12T16:49:27.212Z"
   },
   {
    "duration": 29098,
    "start_time": "2022-10-12T16:49:27.221Z"
   },
   {
    "duration": 3,
    "start_time": "2022-10-12T16:51:12.213Z"
   },
   {
    "duration": 3,
    "start_time": "2022-10-12T16:51:15.518Z"
   },
   {
    "duration": 22,
    "start_time": "2022-10-12T16:51:23.919Z"
   },
   {
    "duration": 4,
    "start_time": "2022-10-12T16:51:38.980Z"
   },
   {
    "duration": 3,
    "start_time": "2022-10-12T16:51:40.669Z"
   },
   {
    "duration": 6,
    "start_time": "2022-10-12T16:51:44.017Z"
   },
   {
    "duration": 42,
    "start_time": "2022-10-12T16:54:29.813Z"
   },
   {
    "duration": 56,
    "start_time": "2022-10-12T16:54:33.047Z"
   },
   {
    "duration": 8,
    "start_time": "2022-10-12T16:54:35.929Z"
   },
   {
    "duration": 46,
    "start_time": "2022-10-12T16:54:37.065Z"
   },
   {
    "duration": 6,
    "start_time": "2022-10-12T16:54:40.828Z"
   },
   {
    "duration": 1005,
    "start_time": "2022-10-12T16:55:55.639Z"
   },
   {
    "duration": 8,
    "start_time": "2022-10-12T16:56:25.058Z"
   },
   {
    "duration": 10002,
    "start_time": "2022-10-12T16:56:45.411Z"
   },
   {
    "duration": 9,
    "start_time": "2022-10-12T16:57:36.262Z"
   },
   {
    "duration": 552,
    "start_time": "2022-10-12T16:59:44.560Z"
   },
   {
    "duration": 15,
    "start_time": "2022-10-12T17:00:47.255Z"
   },
   {
    "duration": 147,
    "start_time": "2022-10-12T17:00:53.497Z"
   },
   {
    "duration": 9,
    "start_time": "2022-10-12T17:03:08.924Z"
   },
   {
    "duration": 86,
    "start_time": "2022-10-12T17:03:14.024Z"
   },
   {
    "duration": 153,
    "start_time": "2022-10-12T17:05:00.837Z"
   },
   {
    "duration": 16,
    "start_time": "2022-10-12T17:07:47.877Z"
   },
   {
    "duration": 452,
    "start_time": "2022-10-12T17:08:03.632Z"
   },
   {
    "duration": 1246,
    "start_time": "2022-10-12T17:08:15.825Z"
   },
   {
    "duration": 51,
    "start_time": "2022-10-12T17:11:20.320Z"
   },
   {
    "duration": 700,
    "start_time": "2022-10-12T17:11:55.616Z"
   },
   {
    "duration": 53,
    "start_time": "2022-10-12T17:12:01.962Z"
   },
   {
    "duration": 6196,
    "start_time": "2022-10-12T17:12:26.927Z"
   },
   {
    "duration": 6665,
    "start_time": "2022-10-12T17:13:00.021Z"
   },
   {
    "duration": 950,
    "start_time": "2022-10-12T17:15:30.861Z"
   },
   {
    "duration": 932,
    "start_time": "2022-10-12T17:15:41.482Z"
   },
   {
    "duration": 1004,
    "start_time": "2022-10-12T17:17:53.188Z"
   },
   {
    "duration": 812,
    "start_time": "2022-10-12T17:18:08.641Z"
   },
   {
    "duration": 893,
    "start_time": "2022-10-12T17:18:18.148Z"
   },
   {
    "duration": 6177,
    "start_time": "2022-10-12T17:18:48.506Z"
   },
   {
    "duration": 448,
    "start_time": "2022-10-12T17:19:07.963Z"
   },
   {
    "duration": 6300,
    "start_time": "2022-10-12T17:19:21.289Z"
   },
   {
    "duration": 6356,
    "start_time": "2022-10-12T17:19:39.324Z"
   },
   {
    "duration": 6228,
    "start_time": "2022-10-12T17:19:45.828Z"
   },
   {
    "duration": 3353,
    "start_time": "2022-10-12T17:24:47.487Z"
   },
   {
    "duration": 1373,
    "start_time": "2022-10-12T17:25:54.347Z"
   },
   {
    "duration": 152,
    "start_time": "2022-10-12T17:26:49.458Z"
   },
   {
    "duration": 916,
    "start_time": "2022-10-12T17:27:23.050Z"
   },
   {
    "duration": 4,
    "start_time": "2022-10-12T17:27:37.551Z"
   },
   {
    "duration": 116,
    "start_time": "2022-10-12T17:27:53.194Z"
   },
   {
    "duration": 159,
    "start_time": "2022-10-12T17:28:03.007Z"
   },
   {
    "duration": 163,
    "start_time": "2022-10-12T17:28:19.779Z"
   },
   {
    "duration": 123,
    "start_time": "2022-10-12T17:28:43.734Z"
   },
   {
    "duration": 1581,
    "start_time": "2022-10-12T17:30:11.060Z"
   },
   {
    "duration": 151,
    "start_time": "2022-10-12T17:30:39.327Z"
   },
   {
    "duration": 146,
    "start_time": "2022-10-12T17:31:23.778Z"
   },
   {
    "duration": 219,
    "start_time": "2022-10-12T17:31:41.196Z"
   },
   {
    "duration": 173,
    "start_time": "2022-10-12T17:32:06.773Z"
   },
   {
    "duration": 112,
    "start_time": "2022-10-12T17:32:20.137Z"
   },
   {
    "duration": 230,
    "start_time": "2022-10-12T17:32:26.429Z"
   },
   {
    "duration": 3528,
    "start_time": "2022-10-12T17:32:39.052Z"
   },
   {
    "duration": 171,
    "start_time": "2022-10-12T17:32:50.448Z"
   },
   {
    "duration": 170,
    "start_time": "2022-10-12T17:34:44.530Z"
   },
   {
    "duration": 232,
    "start_time": "2022-10-12T17:34:49.344Z"
   },
   {
    "duration": 220,
    "start_time": "2022-10-12T17:35:58.258Z"
   },
   {
    "duration": 161,
    "start_time": "2022-10-12T17:36:16.261Z"
   },
   {
    "duration": 115,
    "start_time": "2022-10-12T17:36:38.517Z"
   },
   {
    "duration": 161,
    "start_time": "2022-10-12T17:36:44.533Z"
   },
   {
    "duration": 1423,
    "start_time": "2022-10-12T17:38:51.863Z"
   },
   {
    "duration": 15,
    "start_time": "2022-10-12T17:39:01.970Z"
   },
   {
    "duration": 820,
    "start_time": "2022-10-12T17:39:15.350Z"
   },
   {
    "duration": 1259,
    "start_time": "2022-10-12T17:39:25.564Z"
   },
   {
    "duration": 9,
    "start_time": "2022-10-12T17:40:24.831Z"
   },
   {
    "duration": 1184,
    "start_time": "2022-10-12T17:40:30.088Z"
   },
   {
    "duration": 866,
    "start_time": "2022-10-12T17:41:11.735Z"
   },
   {
    "duration": 6066,
    "start_time": "2022-10-12T17:41:22.006Z"
   },
   {
    "duration": 6161,
    "start_time": "2022-10-12T17:41:32.931Z"
   },
   {
    "duration": 6483,
    "start_time": "2022-10-12T17:41:40.350Z"
   },
   {
    "duration": 6116,
    "start_time": "2022-10-12T17:42:31.815Z"
   },
   {
    "duration": 6279,
    "start_time": "2022-10-12T17:42:48.079Z"
   },
   {
    "duration": 1122,
    "start_time": "2022-10-12T17:43:45.712Z"
   },
   {
    "duration": 42,
    "start_time": "2022-10-12T17:45:04.376Z"
   },
   {
    "duration": 157,
    "start_time": "2022-10-12T17:45:20.853Z"
   },
   {
    "duration": 4,
    "start_time": "2022-10-12T17:50:36.343Z"
   },
   {
    "duration": 8,
    "start_time": "2022-10-12T17:50:48.889Z"
   },
   {
    "duration": 16,
    "start_time": "2022-10-12T17:50:56.452Z"
   },
   {
    "duration": 812,
    "start_time": "2022-10-12T17:55:34.530Z"
   },
   {
    "duration": 29,
    "start_time": "2022-10-12T17:55:35.344Z"
   },
   {
    "duration": 19,
    "start_time": "2022-10-12T17:55:35.375Z"
   },
   {
    "duration": 13,
    "start_time": "2022-10-12T17:55:35.408Z"
   },
   {
    "duration": 4,
    "start_time": "2022-10-12T17:55:35.423Z"
   },
   {
    "duration": 8,
    "start_time": "2022-10-12T17:55:35.428Z"
   },
   {
    "duration": 12,
    "start_time": "2022-10-12T17:55:35.437Z"
   },
   {
    "duration": 22,
    "start_time": "2022-10-12T17:55:35.451Z"
   },
   {
    "duration": 5,
    "start_time": "2022-10-12T17:55:35.475Z"
   },
   {
    "duration": 6,
    "start_time": "2022-10-12T17:55:35.512Z"
   },
   {
    "duration": 9,
    "start_time": "2022-10-12T17:55:35.520Z"
   },
   {
    "duration": 12,
    "start_time": "2022-10-12T17:55:35.531Z"
   },
   {
    "duration": 17,
    "start_time": "2022-10-12T17:55:35.545Z"
   },
   {
    "duration": 4,
    "start_time": "2022-10-12T17:55:35.564Z"
   },
   {
    "duration": 17,
    "start_time": "2022-10-12T17:55:35.570Z"
   },
   {
    "duration": 28,
    "start_time": "2022-10-12T17:55:35.589Z"
   },
   {
    "duration": 7,
    "start_time": "2022-10-12T17:55:35.619Z"
   },
   {
    "duration": 7,
    "start_time": "2022-10-12T17:55:35.628Z"
   },
   {
    "duration": 25,
    "start_time": "2022-10-12T17:55:35.637Z"
   },
   {
    "duration": 13,
    "start_time": "2022-10-12T17:55:35.664Z"
   },
   {
    "duration": 48,
    "start_time": "2022-10-12T17:55:35.679Z"
   },
   {
    "duration": 17,
    "start_time": "2022-10-12T17:55:35.729Z"
   },
   {
    "duration": 30,
    "start_time": "2022-10-12T17:55:35.748Z"
   },
   {
    "duration": 17,
    "start_time": "2022-10-12T17:55:35.780Z"
   },
   {
    "duration": 21,
    "start_time": "2022-10-12T17:55:35.799Z"
   },
   {
    "duration": 7,
    "start_time": "2022-10-12T17:55:35.822Z"
   },
   {
    "duration": 8,
    "start_time": "2022-10-12T17:55:35.831Z"
   },
   {
    "duration": 16,
    "start_time": "2022-10-12T17:55:35.842Z"
   },
   {
    "duration": 259,
    "start_time": "2022-10-12T17:55:35.860Z"
   },
   {
    "duration": 20,
    "start_time": "2022-10-12T17:55:36.121Z"
   },
   {
    "duration": 3,
    "start_time": "2022-10-12T17:55:36.143Z"
   },
   {
    "duration": 340,
    "start_time": "2022-10-12T17:55:36.148Z"
   },
   {
    "duration": 19,
    "start_time": "2022-10-12T17:55:36.490Z"
   },
   {
    "duration": 390,
    "start_time": "2022-10-12T17:55:36.511Z"
   },
   {
    "duration": 17,
    "start_time": "2022-10-12T17:55:36.903Z"
   },
   {
    "duration": 9,
    "start_time": "2022-10-12T17:55:36.922Z"
   },
   {
    "duration": 798,
    "start_time": "2022-10-12T17:55:36.933Z"
   },
   {
    "duration": 7,
    "start_time": "2022-10-12T17:55:37.732Z"
   },
   {
    "duration": 25,
    "start_time": "2022-10-12T17:55:37.740Z"
   },
   {
    "duration": 10,
    "start_time": "2022-10-12T17:55:44.751Z"
   },
   {
    "duration": 259,
    "start_time": "2022-10-12T17:56:10.209Z"
   },
   {
    "duration": 301,
    "start_time": "2022-10-12T17:56:27.684Z"
   },
   {
    "duration": 8,
    "start_time": "2022-10-12T17:56:57.098Z"
   },
   {
    "duration": 95,
    "start_time": "2022-10-12T17:59:01.842Z"
   },
   {
    "duration": 6,
    "start_time": "2022-10-12T17:59:16.631Z"
   },
   {
    "duration": 1136,
    "start_time": "2022-10-12T18:02:02.461Z"
   },
   {
    "duration": 999,
    "start_time": "2022-10-12T18:02:11.450Z"
   },
   {
    "duration": 16,
    "start_time": "2022-10-12T18:02:26.925Z"
   },
   {
    "duration": 212,
    "start_time": "2022-10-12T18:02:32.820Z"
   },
   {
    "duration": 98,
    "start_time": "2022-10-12T18:02:55.254Z"
   },
   {
    "duration": 97,
    "start_time": "2022-10-12T18:04:30.299Z"
   },
   {
    "duration": 94,
    "start_time": "2022-10-12T18:04:39.596Z"
   },
   {
    "duration": 4,
    "start_time": "2022-10-12T18:05:34.652Z"
   },
   {
    "duration": 2031,
    "start_time": "2022-10-12T18:06:07.457Z"
   },
   {
    "duration": 994,
    "start_time": "2022-10-12T18:06:30.889Z"
   },
   {
    "duration": 0,
    "start_time": "2022-10-12T18:07:04.262Z"
   },
   {
    "duration": 682,
    "start_time": "2022-10-12T18:07:15.625Z"
   },
   {
    "duration": 21,
    "start_time": "2022-10-12T18:07:16.309Z"
   },
   {
    "duration": 14,
    "start_time": "2022-10-12T18:07:16.332Z"
   },
   {
    "duration": 13,
    "start_time": "2022-10-12T18:07:16.348Z"
   },
   {
    "duration": 7,
    "start_time": "2022-10-12T18:07:16.362Z"
   },
   {
    "duration": 7,
    "start_time": "2022-10-12T18:07:16.370Z"
   },
   {
    "duration": 31,
    "start_time": "2022-10-12T18:07:16.379Z"
   },
   {
    "duration": 12,
    "start_time": "2022-10-12T18:07:16.411Z"
   },
   {
    "duration": 6,
    "start_time": "2022-10-12T18:07:16.424Z"
   },
   {
    "duration": 7,
    "start_time": "2022-10-12T18:07:16.433Z"
   },
   {
    "duration": 9,
    "start_time": "2022-10-12T18:07:16.441Z"
   },
   {
    "duration": 7,
    "start_time": "2022-10-12T18:07:16.451Z"
   },
   {
    "duration": 11,
    "start_time": "2022-10-12T18:07:16.459Z"
   },
   {
    "duration": 9,
    "start_time": "2022-10-12T18:07:16.471Z"
   },
   {
    "duration": 28,
    "start_time": "2022-10-12T18:07:16.482Z"
   },
   {
    "duration": 8,
    "start_time": "2022-10-12T18:07:16.511Z"
   },
   {
    "duration": 8,
    "start_time": "2022-10-12T18:07:16.520Z"
   },
   {
    "duration": 7,
    "start_time": "2022-10-12T18:07:16.529Z"
   },
   {
    "duration": 18,
    "start_time": "2022-10-12T18:07:16.537Z"
   },
   {
    "duration": 13,
    "start_time": "2022-10-12T18:07:16.557Z"
   },
   {
    "duration": 42,
    "start_time": "2022-10-12T18:07:16.572Z"
   },
   {
    "duration": 6,
    "start_time": "2022-10-12T18:07:16.615Z"
   },
   {
    "duration": 37,
    "start_time": "2022-10-12T18:07:16.622Z"
   },
   {
    "duration": 32,
    "start_time": "2022-10-12T18:07:16.661Z"
   },
   {
    "duration": 18,
    "start_time": "2022-10-12T18:07:16.695Z"
   },
   {
    "duration": 8,
    "start_time": "2022-10-12T18:07:16.714Z"
   },
   {
    "duration": 18,
    "start_time": "2022-10-12T18:07:16.723Z"
   },
   {
    "duration": 15,
    "start_time": "2022-10-12T18:07:16.744Z"
   },
   {
    "duration": 267,
    "start_time": "2022-10-12T18:07:16.760Z"
   },
   {
    "duration": 16,
    "start_time": "2022-10-12T18:07:17.029Z"
   },
   {
    "duration": 3,
    "start_time": "2022-10-12T18:07:17.047Z"
   },
   {
    "duration": 299,
    "start_time": "2022-10-12T18:07:17.051Z"
   },
   {
    "duration": 9,
    "start_time": "2022-10-12T18:07:17.352Z"
   },
   {
    "duration": 375,
    "start_time": "2022-10-12T18:07:17.363Z"
   },
   {
    "duration": 11,
    "start_time": "2022-10-12T18:07:17.740Z"
   },
   {
    "duration": 8,
    "start_time": "2022-10-12T18:07:17.752Z"
   },
   {
    "duration": 662,
    "start_time": "2022-10-12T18:07:17.762Z"
   },
   {
    "duration": 7,
    "start_time": "2022-10-12T18:07:18.425Z"
   },
   {
    "duration": 20,
    "start_time": "2022-10-12T18:07:18.433Z"
   },
   {
    "duration": 11,
    "start_time": "2022-10-12T18:07:18.455Z"
   },
   {
    "duration": 231,
    "start_time": "2022-10-12T18:07:18.468Z"
   },
   {
    "duration": 1701,
    "start_time": "2022-10-12T18:07:18.709Z"
   },
   {
    "duration": 9,
    "start_time": "2022-10-12T18:08:01.651Z"
   },
   {
    "duration": 151,
    "start_time": "2022-10-12T18:08:10.306Z"
   },
   {
    "duration": 12,
    "start_time": "2022-10-12T18:08:34.053Z"
   },
   {
    "duration": 132,
    "start_time": "2022-10-12T18:09:40.397Z"
   },
   {
    "duration": 88,
    "start_time": "2022-10-12T18:11:04.705Z"
   },
   {
    "duration": 237,
    "start_time": "2022-10-12T18:12:08.299Z"
   },
   {
    "duration": 201,
    "start_time": "2022-10-12T18:12:34.990Z"
   },
   {
    "duration": 129,
    "start_time": "2022-10-12T18:13:12.604Z"
   },
   {
    "duration": 146,
    "start_time": "2022-10-12T18:20:44.022Z"
   },
   {
    "duration": 952,
    "start_time": "2022-10-12T18:21:34.599Z"
   },
   {
    "duration": 1312,
    "start_time": "2022-10-12T18:21:41.526Z"
   },
   {
    "duration": 112,
    "start_time": "2022-10-12T18:21:58.677Z"
   },
   {
    "duration": 1165,
    "start_time": "2022-10-12T18:22:16.228Z"
   },
   {
    "duration": 1256,
    "start_time": "2022-10-12T18:22:24.221Z"
   },
   {
    "duration": 6679,
    "start_time": "2022-10-12T18:23:10.162Z"
   },
   {
    "duration": 8189,
    "start_time": "2022-10-12T18:23:25.061Z"
   },
   {
    "duration": 118,
    "start_time": "2022-10-12T18:23:53.039Z"
   },
   {
    "duration": 7608,
    "start_time": "2022-10-12T18:25:14.801Z"
   },
   {
    "duration": 372,
    "start_time": "2022-10-12T18:25:31.485Z"
   },
   {
    "duration": 1142,
    "start_time": "2022-10-12T18:25:44.680Z"
   },
   {
    "duration": 166,
    "start_time": "2022-10-12T18:25:53.145Z"
   },
   {
    "duration": 1254,
    "start_time": "2022-10-12T18:26:03.522Z"
   },
   {
    "duration": 13,
    "start_time": "2022-10-12T18:30:47.535Z"
   },
   {
    "duration": 9,
    "start_time": "2022-10-12T18:30:52.835Z"
   },
   {
    "duration": 1112,
    "start_time": "2022-10-12T18:31:42.032Z"
   },
   {
    "duration": 181,
    "start_time": "2022-10-12T18:31:54.252Z"
   },
   {
    "duration": 190,
    "start_time": "2022-10-12T18:32:13.608Z"
   },
   {
    "duration": 1147,
    "start_time": "2022-10-12T18:32:28.169Z"
   },
   {
    "duration": 201,
    "start_time": "2022-10-12T18:33:59.889Z"
   },
   {
    "duration": 133,
    "start_time": "2022-10-12T18:34:11.409Z"
   },
   {
    "duration": 250,
    "start_time": "2022-10-12T18:35:29.684Z"
   },
   {
    "duration": 241,
    "start_time": "2022-10-12T18:35:39.445Z"
   },
   {
    "duration": 9,
    "start_time": "2022-10-12T18:38:26.509Z"
   },
   {
    "duration": 17147,
    "start_time": "2022-10-12T18:39:30.536Z"
   },
   {
    "duration": 120,
    "start_time": "2022-10-12T18:40:46.286Z"
   },
   {
    "duration": 1370,
    "start_time": "2022-10-12T18:40:55.935Z"
   },
   {
    "duration": 16,
    "start_time": "2022-10-12T18:41:34.573Z"
   },
   {
    "duration": 15,
    "start_time": "2022-10-12T18:41:41.049Z"
   },
   {
    "duration": 19,
    "start_time": "2022-10-12T18:41:42.721Z"
   },
   {
    "duration": 1393,
    "start_time": "2022-10-12T18:41:53.478Z"
   },
   {
    "duration": 488,
    "start_time": "2022-10-12T18:42:37.675Z"
   },
   {
    "duration": 15,
    "start_time": "2022-10-12T18:43:04.254Z"
   },
   {
    "duration": 514,
    "start_time": "2022-10-12T18:43:15.561Z"
   },
   {
    "duration": 15,
    "start_time": "2022-10-12T18:43:21.887Z"
   },
   {
    "duration": 602,
    "start_time": "2022-10-12T18:43:30.016Z"
   },
   {
    "duration": 511,
    "start_time": "2022-10-12T18:43:34.407Z"
   },
   {
    "duration": 15,
    "start_time": "2022-10-12T18:44:00.949Z"
   },
   {
    "duration": 43,
    "start_time": "2022-10-12T18:44:19.847Z"
   },
   {
    "duration": 63,
    "start_time": "2022-10-12T18:44:24.508Z"
   },
   {
    "duration": 16,
    "start_time": "2022-10-12T18:44:27.876Z"
   },
   {
    "duration": 726,
    "start_time": "2022-10-12T18:45:07.775Z"
   },
   {
    "duration": 19,
    "start_time": "2022-10-12T18:45:08.503Z"
   },
   {
    "duration": 13,
    "start_time": "2022-10-12T18:45:08.523Z"
   },
   {
    "duration": 10,
    "start_time": "2022-10-12T18:45:08.538Z"
   },
   {
    "duration": 6,
    "start_time": "2022-10-12T18:45:08.550Z"
   },
   {
    "duration": 12,
    "start_time": "2022-10-12T18:45:08.558Z"
   },
   {
    "duration": 14,
    "start_time": "2022-10-12T18:45:08.571Z"
   },
   {
    "duration": 21,
    "start_time": "2022-10-12T18:45:08.586Z"
   },
   {
    "duration": 11,
    "start_time": "2022-10-12T18:45:08.609Z"
   },
   {
    "duration": 7,
    "start_time": "2022-10-12T18:45:08.622Z"
   },
   {
    "duration": 6,
    "start_time": "2022-10-12T18:45:08.631Z"
   },
   {
    "duration": 10,
    "start_time": "2022-10-12T18:45:08.638Z"
   },
   {
    "duration": 12,
    "start_time": "2022-10-12T18:45:08.650Z"
   },
   {
    "duration": 3,
    "start_time": "2022-10-12T18:45:08.665Z"
   },
   {
    "duration": 12,
    "start_time": "2022-10-12T18:45:08.670Z"
   },
   {
    "duration": 16,
    "start_time": "2022-10-12T18:45:08.684Z"
   },
   {
    "duration": 8,
    "start_time": "2022-10-12T18:45:08.702Z"
   },
   {
    "duration": 14,
    "start_time": "2022-10-12T18:45:08.711Z"
   },
   {
    "duration": 26,
    "start_time": "2022-10-12T18:45:08.727Z"
   },
   {
    "duration": 13,
    "start_time": "2022-10-12T18:45:08.755Z"
   },
   {
    "duration": 46,
    "start_time": "2022-10-12T18:45:08.769Z"
   },
   {
    "duration": 21,
    "start_time": "2022-10-12T18:45:08.817Z"
   },
   {
    "duration": 39,
    "start_time": "2022-10-12T18:45:08.840Z"
   },
   {
    "duration": 26,
    "start_time": "2022-10-12T18:45:08.881Z"
   },
   {
    "duration": 16,
    "start_time": "2022-10-12T18:45:08.909Z"
   },
   {
    "duration": 12,
    "start_time": "2022-10-12T18:45:08.926Z"
   },
   {
    "duration": 12,
    "start_time": "2022-10-12T18:45:08.940Z"
   },
   {
    "duration": 45,
    "start_time": "2022-10-12T18:45:08.954Z"
   },
   {
    "duration": 268,
    "start_time": "2022-10-12T18:45:09.001Z"
   },
   {
    "duration": 15,
    "start_time": "2022-10-12T18:45:09.271Z"
   },
   {
    "duration": 11,
    "start_time": "2022-10-12T18:45:09.287Z"
   },
   {
    "duration": 291,
    "start_time": "2022-10-12T18:45:09.300Z"
   },
   {
    "duration": 20,
    "start_time": "2022-10-12T18:45:09.592Z"
   },
   {
    "duration": 382,
    "start_time": "2022-10-12T18:45:09.613Z"
   },
   {
    "duration": 16,
    "start_time": "2022-10-12T18:45:09.997Z"
   },
   {
    "duration": 29,
    "start_time": "2022-10-12T18:45:10.015Z"
   },
   {
    "duration": 134,
    "start_time": "2022-10-12T18:45:10.046Z"
   },
   {
    "duration": 0,
    "start_time": "2022-10-12T18:45:10.181Z"
   },
   {
    "duration": 0,
    "start_time": "2022-10-12T18:45:10.182Z"
   },
   {
    "duration": 1,
    "start_time": "2022-10-12T18:45:10.183Z"
   },
   {
    "duration": 0,
    "start_time": "2022-10-12T18:45:10.184Z"
   },
   {
    "duration": 0,
    "start_time": "2022-10-12T18:45:10.185Z"
   },
   {
    "duration": 0,
    "start_time": "2022-10-12T18:45:10.186Z"
   },
   {
    "duration": 548,
    "start_time": "2022-10-12T18:45:35.777Z"
   },
   {
    "duration": 1220,
    "start_time": "2022-10-12T18:45:41.718Z"
   },
   {
    "duration": 19,
    "start_time": "2022-10-12T18:45:42.940Z"
   },
   {
    "duration": 18,
    "start_time": "2022-10-12T18:45:42.960Z"
   },
   {
    "duration": 12,
    "start_time": "2022-10-12T18:45:42.979Z"
   },
   {
    "duration": 11,
    "start_time": "2022-10-12T18:45:43.009Z"
   },
   {
    "duration": 23,
    "start_time": "2022-10-12T18:45:43.022Z"
   },
   {
    "duration": 22,
    "start_time": "2022-10-12T18:45:43.046Z"
   },
   {
    "duration": 19,
    "start_time": "2022-10-12T18:45:43.070Z"
   },
   {
    "duration": 16,
    "start_time": "2022-10-12T18:45:43.091Z"
   },
   {
    "duration": 12,
    "start_time": "2022-10-12T18:45:43.109Z"
   },
   {
    "duration": 19,
    "start_time": "2022-10-12T18:45:43.123Z"
   },
   {
    "duration": 12,
    "start_time": "2022-10-12T18:45:43.144Z"
   },
   {
    "duration": 25,
    "start_time": "2022-10-12T18:45:43.158Z"
   },
   {
    "duration": 11,
    "start_time": "2022-10-12T18:45:43.187Z"
   },
   {
    "duration": 14,
    "start_time": "2022-10-12T18:45:43.200Z"
   },
   {
    "duration": 15,
    "start_time": "2022-10-12T18:45:43.216Z"
   },
   {
    "duration": 21,
    "start_time": "2022-10-12T18:45:43.233Z"
   },
   {
    "duration": 21,
    "start_time": "2022-10-12T18:45:43.256Z"
   },
   {
    "duration": 23,
    "start_time": "2022-10-12T18:45:43.278Z"
   },
   {
    "duration": 18,
    "start_time": "2022-10-12T18:45:43.302Z"
   },
   {
    "duration": 23,
    "start_time": "2022-10-12T18:45:43.322Z"
   },
   {
    "duration": 11,
    "start_time": "2022-10-12T18:45:43.346Z"
   },
   {
    "duration": 28,
    "start_time": "2022-10-12T18:45:43.359Z"
   },
   {
    "duration": 7,
    "start_time": "2022-10-12T18:45:43.389Z"
   },
   {
    "duration": 13,
    "start_time": "2022-10-12T18:45:43.398Z"
   },
   {
    "duration": 18,
    "start_time": "2022-10-12T18:45:43.413Z"
   },
   {
    "duration": 20,
    "start_time": "2022-10-12T18:45:43.433Z"
   },
   {
    "duration": 24,
    "start_time": "2022-10-12T18:45:43.455Z"
   },
   {
    "duration": 248,
    "start_time": "2022-10-12T18:45:43.481Z"
   },
   {
    "duration": 14,
    "start_time": "2022-10-12T18:45:43.731Z"
   },
   {
    "duration": 4,
    "start_time": "2022-10-12T18:45:43.747Z"
   },
   {
    "duration": 302,
    "start_time": "2022-10-12T18:45:43.753Z"
   },
   {
    "duration": 11,
    "start_time": "2022-10-12T18:45:44.057Z"
   },
   {
    "duration": 364,
    "start_time": "2022-10-12T18:45:44.070Z"
   },
   {
    "duration": 12,
    "start_time": "2022-10-12T18:45:44.436Z"
   },
   {
    "duration": 11,
    "start_time": "2022-10-12T18:45:44.449Z"
   },
   {
    "duration": 674,
    "start_time": "2022-10-12T18:45:44.462Z"
   },
   {
    "duration": 6,
    "start_time": "2022-10-12T18:45:45.137Z"
   },
   {
    "duration": 64,
    "start_time": "2022-10-12T18:45:45.145Z"
   },
   {
    "duration": 15,
    "start_time": "2022-10-12T18:45:45.211Z"
   },
   {
    "duration": 579,
    "start_time": "2022-10-12T18:45:45.230Z"
   },
   {
    "duration": 208,
    "start_time": "2022-10-12T18:45:45.811Z"
   },
   {
    "duration": 505,
    "start_time": "2022-10-12T18:45:46.021Z"
   },
   {
    "duration": 1142,
    "start_time": "2022-10-12T18:46:18.931Z"
   },
   {
    "duration": 19,
    "start_time": "2022-10-12T18:46:20.076Z"
   },
   {
    "duration": 17,
    "start_time": "2022-10-12T18:46:20.096Z"
   },
   {
    "duration": 32,
    "start_time": "2022-10-12T18:46:20.115Z"
   },
   {
    "duration": 28,
    "start_time": "2022-10-12T18:46:20.149Z"
   },
   {
    "duration": 25,
    "start_time": "2022-10-12T18:46:20.178Z"
   },
   {
    "duration": 20,
    "start_time": "2022-10-12T18:46:20.205Z"
   },
   {
    "duration": 33,
    "start_time": "2022-10-12T18:46:20.226Z"
   },
   {
    "duration": 9,
    "start_time": "2022-10-12T18:46:20.261Z"
   },
   {
    "duration": 21,
    "start_time": "2022-10-12T18:46:20.271Z"
   },
   {
    "duration": 21,
    "start_time": "2022-10-12T18:46:20.293Z"
   },
   {
    "duration": 18,
    "start_time": "2022-10-12T18:46:20.316Z"
   },
   {
    "duration": 20,
    "start_time": "2022-10-12T18:46:20.336Z"
   },
   {
    "duration": 7,
    "start_time": "2022-10-12T18:46:20.359Z"
   },
   {
    "duration": 28,
    "start_time": "2022-10-12T18:46:20.368Z"
   },
   {
    "duration": 28,
    "start_time": "2022-10-12T18:46:20.398Z"
   },
   {
    "duration": 16,
    "start_time": "2022-10-12T18:46:20.428Z"
   },
   {
    "duration": 30,
    "start_time": "2022-10-12T18:46:20.446Z"
   },
   {
    "duration": 35,
    "start_time": "2022-10-12T18:46:20.478Z"
   },
   {
    "duration": 18,
    "start_time": "2022-10-12T18:46:20.515Z"
   },
   {
    "duration": 42,
    "start_time": "2022-10-12T18:46:20.534Z"
   },
   {
    "duration": 30,
    "start_time": "2022-10-12T18:46:20.578Z"
   },
   {
    "duration": 32,
    "start_time": "2022-10-12T18:46:20.609Z"
   },
   {
    "duration": 24,
    "start_time": "2022-10-12T18:46:20.643Z"
   },
   {
    "duration": 16,
    "start_time": "2022-10-12T18:46:20.668Z"
   },
   {
    "duration": 29,
    "start_time": "2022-10-12T18:46:20.685Z"
   },
   {
    "duration": 19,
    "start_time": "2022-10-12T18:46:20.715Z"
   },
   {
    "duration": 29,
    "start_time": "2022-10-12T18:46:20.735Z"
   },
   {
    "duration": 477,
    "start_time": "2022-10-12T18:46:20.766Z"
   },
   {
    "duration": 64,
    "start_time": "2022-10-12T18:46:21.245Z"
   },
   {
    "duration": 3,
    "start_time": "2022-10-12T18:46:21.311Z"
   },
   {
    "duration": 718,
    "start_time": "2022-10-12T18:46:21.316Z"
   },
   {
    "duration": 11,
    "start_time": "2022-10-12T18:46:22.036Z"
   },
   {
    "duration": 704,
    "start_time": "2022-10-12T18:46:22.048Z"
   },
   {
    "duration": 17,
    "start_time": "2022-10-12T18:46:22.754Z"
   },
   {
    "duration": 15,
    "start_time": "2022-10-12T18:46:22.773Z"
   },
   {
    "duration": 18776,
    "start_time": "2022-10-12T18:46:22.790Z"
   },
   {
    "duration": 8,
    "start_time": "2022-10-12T18:46:41.568Z"
   },
   {
    "duration": 13,
    "start_time": "2022-10-12T18:46:41.578Z"
   },
   {
    "duration": 41,
    "start_time": "2022-10-12T18:46:41.593Z"
   },
   {
    "duration": 233,
    "start_time": "2022-10-12T18:46:41.638Z"
   },
   {
    "duration": 98,
    "start_time": "2022-10-12T18:46:41.873Z"
   },
   {
    "duration": 263,
    "start_time": "2022-10-12T18:46:41.973Z"
   },
   {
    "duration": 27822,
    "start_time": "2022-10-12T18:47:39.467Z"
   },
   {
    "duration": 248,
    "start_time": "2022-10-12T18:50:14.349Z"
   },
   {
    "duration": 244,
    "start_time": "2022-10-12T18:50:23.122Z"
   },
   {
    "duration": 17114,
    "start_time": "2022-10-12T18:50:56.460Z"
   },
   {
    "duration": 484,
    "start_time": "2022-10-12T18:51:28.607Z"
   },
   {
    "duration": 554,
    "start_time": "2022-10-12T18:51:46.220Z"
   },
   {
    "duration": 923,
    "start_time": "2022-10-12T18:52:00.140Z"
   },
   {
    "duration": 1899,
    "start_time": "2022-10-12T18:52:13.785Z"
   },
   {
    "duration": 1064,
    "start_time": "2022-10-12T18:52:28.915Z"
   },
   {
    "duration": 253,
    "start_time": "2022-10-12T18:52:42.389Z"
   },
   {
    "duration": 1074,
    "start_time": "2022-10-12T18:52:48.409Z"
   },
   {
    "duration": 4,
    "start_time": "2022-10-12T18:53:03.866Z"
   },
   {
    "duration": 1075,
    "start_time": "2022-10-12T18:53:06.297Z"
   },
   {
    "duration": 1094,
    "start_time": "2022-10-12T18:53:16.454Z"
   },
   {
    "duration": 1110,
    "start_time": "2022-10-12T18:55:58.528Z"
   },
   {
    "duration": 1100,
    "start_time": "2022-10-12T18:57:39.503Z"
   },
   {
    "duration": 1082,
    "start_time": "2022-10-12T18:57:49.755Z"
   },
   {
    "duration": 1097,
    "start_time": "2022-10-12T18:57:57.003Z"
   },
   {
    "duration": 1020,
    "start_time": "2022-10-12T18:58:09.734Z"
   },
   {
    "duration": 1096,
    "start_time": "2022-10-12T18:58:15.491Z"
   },
   {
    "duration": 129,
    "start_time": "2022-10-12T19:00:03.586Z"
   },
   {
    "duration": 1134,
    "start_time": "2022-10-12T19:00:13.492Z"
   },
   {
    "duration": 385,
    "start_time": "2022-10-12T19:08:37.019Z"
   },
   {
    "duration": 260,
    "start_time": "2022-10-12T19:09:11.214Z"
   },
   {
    "duration": 274,
    "start_time": "2022-10-12T19:09:17.659Z"
   },
   {
    "duration": 272,
    "start_time": "2022-10-12T19:09:23.519Z"
   },
   {
    "duration": 316,
    "start_time": "2022-10-12T19:09:31.262Z"
   },
   {
    "duration": 381,
    "start_time": "2022-10-12T19:09:50.799Z"
   },
   {
    "duration": 379,
    "start_time": "2022-10-12T19:09:56.148Z"
   },
   {
    "duration": 296,
    "start_time": "2022-10-12T19:10:39.088Z"
   },
   {
    "duration": 332,
    "start_time": "2022-10-12T19:10:49.617Z"
   },
   {
    "duration": 54,
    "start_time": "2022-10-12T19:11:20.518Z"
   },
   {
    "duration": 1134,
    "start_time": "2022-10-12T19:11:25.724Z"
   },
   {
    "duration": 1225,
    "start_time": "2022-10-12T19:11:34.511Z"
   },
   {
    "duration": 319,
    "start_time": "2022-10-12T19:11:44.391Z"
   },
   {
    "duration": 123,
    "start_time": "2022-10-12T19:12:25.974Z"
   },
   {
    "duration": 7,
    "start_time": "2022-10-12T19:12:52.123Z"
   },
   {
    "duration": 264,
    "start_time": "2022-10-12T19:13:05.148Z"
   },
   {
    "duration": 1111,
    "start_time": "2022-10-12T19:13:19.745Z"
   },
   {
    "duration": 318,
    "start_time": "2022-10-12T19:15:37.981Z"
   },
   {
    "duration": 318,
    "start_time": "2022-10-12T19:16:10.874Z"
   },
   {
    "duration": 358,
    "start_time": "2022-10-12T19:17:12.733Z"
   },
   {
    "duration": 334,
    "start_time": "2022-10-12T19:17:53.228Z"
   },
   {
    "duration": 356,
    "start_time": "2022-10-12T19:18:03.774Z"
   },
   {
    "duration": 211,
    "start_time": "2022-10-12T19:19:50.553Z"
   },
   {
    "duration": 191,
    "start_time": "2022-10-12T19:20:03.422Z"
   },
   {
    "duration": 321,
    "start_time": "2022-10-12T19:20:12.254Z"
   },
   {
    "duration": 207,
    "start_time": "2022-10-12T19:20:20.036Z"
   },
   {
    "duration": 402,
    "start_time": "2022-10-12T19:20:24.417Z"
   },
   {
    "duration": 334,
    "start_time": "2022-10-12T19:20:41.446Z"
   },
   {
    "duration": 316,
    "start_time": "2022-10-12T19:20:48.889Z"
   },
   {
    "duration": 192,
    "start_time": "2022-10-12T19:23:21.025Z"
   },
   {
    "duration": 1069,
    "start_time": "2022-10-12T19:23:36.057Z"
   },
   {
    "duration": 567,
    "start_time": "2022-10-12T19:24:06.358Z"
   },
   {
    "duration": 569,
    "start_time": "2022-10-12T19:24:22.398Z"
   },
   {
    "duration": 336,
    "start_time": "2022-10-12T19:24:34.162Z"
   },
   {
    "duration": 1181,
    "start_time": "2022-10-12T19:28:23.587Z"
   },
   {
    "duration": 20,
    "start_time": "2022-10-12T19:28:24.769Z"
   },
   {
    "duration": 14,
    "start_time": "2022-10-12T19:28:24.790Z"
   },
   {
    "duration": 8,
    "start_time": "2022-10-12T19:28:24.809Z"
   },
   {
    "duration": 6,
    "start_time": "2022-10-12T19:28:24.819Z"
   },
   {
    "duration": 14,
    "start_time": "2022-10-12T19:28:24.826Z"
   },
   {
    "duration": 10,
    "start_time": "2022-10-12T19:28:24.842Z"
   },
   {
    "duration": 17,
    "start_time": "2022-10-12T19:28:24.854Z"
   },
   {
    "duration": 14,
    "start_time": "2022-10-12T19:28:24.873Z"
   },
   {
    "duration": 6,
    "start_time": "2022-10-12T19:28:24.889Z"
   },
   {
    "duration": 13,
    "start_time": "2022-10-12T19:28:24.897Z"
   },
   {
    "duration": 4,
    "start_time": "2022-10-12T19:28:24.911Z"
   },
   {
    "duration": 8,
    "start_time": "2022-10-12T19:28:24.916Z"
   },
   {
    "duration": 3,
    "start_time": "2022-10-12T19:28:24.927Z"
   },
   {
    "duration": 7,
    "start_time": "2022-10-12T19:28:24.931Z"
   },
   {
    "duration": 9,
    "start_time": "2022-10-12T19:28:24.939Z"
   },
   {
    "duration": 10,
    "start_time": "2022-10-12T19:28:24.950Z"
   },
   {
    "duration": 6,
    "start_time": "2022-10-12T19:28:24.961Z"
   },
   {
    "duration": 43,
    "start_time": "2022-10-12T19:28:24.969Z"
   },
   {
    "duration": 12,
    "start_time": "2022-10-12T19:28:25.013Z"
   },
   {
    "duration": 17,
    "start_time": "2022-10-12T19:28:25.026Z"
   },
   {
    "duration": 9,
    "start_time": "2022-10-12T19:28:25.045Z"
   },
   {
    "duration": 16,
    "start_time": "2022-10-12T19:28:25.055Z"
   },
   {
    "duration": 5,
    "start_time": "2022-10-12T19:28:25.072Z"
   },
   {
    "duration": 15,
    "start_time": "2022-10-12T19:28:25.079Z"
   },
   {
    "duration": 3,
    "start_time": "2022-10-12T19:28:25.109Z"
   },
   {
    "duration": 22,
    "start_time": "2022-10-12T19:28:25.114Z"
   },
   {
    "duration": 18,
    "start_time": "2022-10-12T19:28:25.137Z"
   },
   {
    "duration": 238,
    "start_time": "2022-10-12T19:28:25.157Z"
   },
   {
    "duration": 18,
    "start_time": "2022-10-12T19:28:25.397Z"
   },
   {
    "duration": 2,
    "start_time": "2022-10-12T19:28:25.416Z"
   },
   {
    "duration": 397,
    "start_time": "2022-10-12T19:28:25.420Z"
   },
   {
    "duration": 0,
    "start_time": "2022-10-12T19:28:25.818Z"
   },
   {
    "duration": 0,
    "start_time": "2022-10-12T19:28:25.820Z"
   },
   {
    "duration": 0,
    "start_time": "2022-10-12T19:28:25.821Z"
   },
   {
    "duration": 0,
    "start_time": "2022-10-12T19:28:25.822Z"
   },
   {
    "duration": 0,
    "start_time": "2022-10-12T19:28:25.823Z"
   },
   {
    "duration": 0,
    "start_time": "2022-10-12T19:28:25.824Z"
   },
   {
    "duration": 0,
    "start_time": "2022-10-12T19:28:25.825Z"
   },
   {
    "duration": 0,
    "start_time": "2022-10-12T19:28:25.826Z"
   },
   {
    "duration": 0,
    "start_time": "2022-10-12T19:28:25.827Z"
   },
   {
    "duration": 0,
    "start_time": "2022-10-12T19:28:25.828Z"
   },
   {
    "duration": 1139,
    "start_time": "2022-10-12T19:28:46.963Z"
   },
   {
    "duration": 19,
    "start_time": "2022-10-12T19:28:48.104Z"
   },
   {
    "duration": 16,
    "start_time": "2022-10-12T19:28:48.125Z"
   },
   {
    "duration": 12,
    "start_time": "2022-10-12T19:28:48.144Z"
   },
   {
    "duration": 9,
    "start_time": "2022-10-12T19:28:48.158Z"
   },
   {
    "duration": 12,
    "start_time": "2022-10-12T19:28:48.169Z"
   },
   {
    "duration": 35,
    "start_time": "2022-10-12T19:28:48.183Z"
   },
   {
    "duration": 15,
    "start_time": "2022-10-12T19:28:48.220Z"
   },
   {
    "duration": 4,
    "start_time": "2022-10-12T19:28:48.237Z"
   },
   {
    "duration": 6,
    "start_time": "2022-10-12T19:28:48.244Z"
   },
   {
    "duration": 16,
    "start_time": "2022-10-12T19:28:48.251Z"
   },
   {
    "duration": 8,
    "start_time": "2022-10-12T19:28:48.268Z"
   },
   {
    "duration": 11,
    "start_time": "2022-10-12T19:28:48.278Z"
   },
   {
    "duration": 19,
    "start_time": "2022-10-12T19:28:48.291Z"
   },
   {
    "duration": 8,
    "start_time": "2022-10-12T19:28:48.312Z"
   },
   {
    "duration": 12,
    "start_time": "2022-10-12T19:28:48.322Z"
   },
   {
    "duration": 10,
    "start_time": "2022-10-12T19:28:48.336Z"
   },
   {
    "duration": 13,
    "start_time": "2022-10-12T19:28:48.348Z"
   },
   {
    "duration": 22,
    "start_time": "2022-10-12T19:28:48.363Z"
   },
   {
    "duration": 23,
    "start_time": "2022-10-12T19:28:48.386Z"
   },
   {
    "duration": 13,
    "start_time": "2022-10-12T19:28:48.412Z"
   },
   {
    "duration": 14,
    "start_time": "2022-10-12T19:28:48.427Z"
   },
   {
    "duration": 20,
    "start_time": "2022-10-12T19:28:48.443Z"
   },
   {
    "duration": 6,
    "start_time": "2022-10-12T19:28:48.464Z"
   },
   {
    "duration": 9,
    "start_time": "2022-10-12T19:28:48.471Z"
   },
   {
    "duration": 9,
    "start_time": "2022-10-12T19:28:48.482Z"
   },
   {
    "duration": 16,
    "start_time": "2022-10-12T19:28:48.493Z"
   },
   {
    "duration": 14,
    "start_time": "2022-10-12T19:28:48.512Z"
   },
   {
    "duration": 260,
    "start_time": "2022-10-12T19:28:48.528Z"
   },
   {
    "duration": 23,
    "start_time": "2022-10-12T19:28:48.789Z"
   },
   {
    "duration": 2,
    "start_time": "2022-10-12T19:28:48.814Z"
   },
   {
    "duration": 300,
    "start_time": "2022-10-12T19:28:48.817Z"
   },
   {
    "duration": 10,
    "start_time": "2022-10-12T19:28:49.119Z"
   },
   {
    "duration": 341,
    "start_time": "2022-10-12T19:28:49.130Z"
   },
   {
    "duration": 13,
    "start_time": "2022-10-12T19:28:49.473Z"
   },
   {
    "duration": 21,
    "start_time": "2022-10-12T19:28:49.488Z"
   },
   {
    "duration": 1134,
    "start_time": "2022-10-12T19:28:49.511Z"
   },
   {
    "duration": 6,
    "start_time": "2022-10-12T19:28:50.646Z"
   },
   {
    "duration": 13,
    "start_time": "2022-10-12T19:28:50.654Z"
   },
   {
    "duration": 6,
    "start_time": "2022-10-12T19:28:50.668Z"
   },
   {
    "duration": 214,
    "start_time": "2022-10-12T19:28:50.676Z"
   },
   {
    "duration": 333,
    "start_time": "2022-10-12T19:28:50.892Z"
   },
   {
    "duration": 15,
    "start_time": "2022-10-12T19:30:35.023Z"
   },
   {
    "duration": 6,
    "start_time": "2022-10-12T19:30:50.464Z"
   },
   {
    "duration": 13,
    "start_time": "2022-10-12T19:30:54.016Z"
   },
   {
    "duration": 27,
    "start_time": "2022-10-12T19:31:17.334Z"
   },
   {
    "duration": 11,
    "start_time": "2022-10-12T19:31:41.878Z"
   },
   {
    "duration": 102,
    "start_time": "2022-10-12T19:32:47.137Z"
   },
   {
    "duration": 9,
    "start_time": "2022-10-12T19:34:01.528Z"
   },
   {
    "duration": 7,
    "start_time": "2022-10-12T19:34:15.890Z"
   },
   {
    "duration": 11,
    "start_time": "2022-10-12T19:45:15.732Z"
   },
   {
    "duration": 12,
    "start_time": "2022-10-12T19:45:22.528Z"
   },
   {
    "duration": 227,
    "start_time": "2022-10-12T19:46:39.604Z"
   },
   {
    "duration": 124,
    "start_time": "2022-10-12T19:47:20.653Z"
   },
   {
    "duration": 124,
    "start_time": "2022-10-12T19:47:42.741Z"
   },
   {
    "duration": 127,
    "start_time": "2022-10-12T19:48:33.640Z"
   },
   {
    "duration": 131,
    "start_time": "2022-10-12T19:49:43.864Z"
   },
   {
    "duration": 487,
    "start_time": "2022-10-12T19:50:48.077Z"
   },
   {
    "duration": 126,
    "start_time": "2022-10-12T19:51:17.593Z"
   },
   {
    "duration": 122,
    "start_time": "2022-10-12T19:51:27.594Z"
   },
   {
    "duration": 118,
    "start_time": "2022-10-12T19:51:39.861Z"
   },
   {
    "duration": 121,
    "start_time": "2022-10-12T19:51:53.123Z"
   },
   {
    "duration": 461,
    "start_time": "2022-10-12T19:51:57.192Z"
   },
   {
    "duration": 117,
    "start_time": "2022-10-12T19:52:24.162Z"
   },
   {
    "duration": 127,
    "start_time": "2022-10-12T19:52:27.405Z"
   },
   {
    "duration": 8,
    "start_time": "2022-10-12T19:54:09.633Z"
   },
   {
    "duration": 8,
    "start_time": "2022-10-12T19:54:22.108Z"
   },
   {
    "duration": 11,
    "start_time": "2022-10-12T19:54:28.377Z"
   },
   {
    "duration": 3,
    "start_time": "2022-10-12T19:55:04.628Z"
   },
   {
    "duration": 7,
    "start_time": "2022-10-12T19:55:06.655Z"
   },
   {
    "duration": 6,
    "start_time": "2022-10-12T19:55:15.877Z"
   },
   {
    "duration": 2,
    "start_time": "2022-10-12T19:55:19.359Z"
   },
   {
    "duration": 21,
    "start_time": "2022-10-12T19:55:20.205Z"
   },
   {
    "duration": 2,
    "start_time": "2022-10-12T19:55:31.958Z"
   },
   {
    "duration": 21,
    "start_time": "2022-10-12T19:55:33.222Z"
   },
   {
    "duration": 375,
    "start_time": "2022-10-12T19:59:47.478Z"
   },
   {
    "duration": 6,
    "start_time": "2022-10-12T19:59:56.096Z"
   },
   {
    "duration": 3,
    "start_time": "2022-10-12T20:00:07.439Z"
   },
   {
    "duration": 4,
    "start_time": "2022-10-12T20:00:15.412Z"
   },
   {
    "duration": 285,
    "start_time": "2022-10-12T20:01:27.978Z"
   },
   {
    "duration": 1387,
    "start_time": "2022-10-12T20:01:35.554Z"
   },
   {
    "duration": 1584,
    "start_time": "2022-10-12T20:02:44.912Z"
   },
   {
    "duration": 1534,
    "start_time": "2022-10-12T20:02:58.744Z"
   },
   {
    "duration": 61,
    "start_time": "2022-10-12T20:03:09.326Z"
   },
   {
    "duration": 62,
    "start_time": "2022-10-12T20:03:14.878Z"
   },
   {
    "duration": 95,
    "start_time": "2022-10-12T20:03:32.063Z"
   },
   {
    "duration": 1532,
    "start_time": "2022-10-12T20:03:40.358Z"
   },
   {
    "duration": 1566,
    "start_time": "2022-10-12T20:03:48.104Z"
   },
   {
    "duration": 1513,
    "start_time": "2022-10-12T20:04:13.007Z"
   },
   {
    "duration": 1499,
    "start_time": "2022-10-12T20:04:20.806Z"
   },
   {
    "duration": 1165,
    "start_time": "2022-10-12T20:05:32.589Z"
   },
   {
    "duration": 18,
    "start_time": "2022-10-12T20:05:33.756Z"
   },
   {
    "duration": 14,
    "start_time": "2022-10-12T20:05:33.776Z"
   },
   {
    "duration": 19,
    "start_time": "2022-10-12T20:05:33.792Z"
   },
   {
    "duration": 5,
    "start_time": "2022-10-12T20:05:33.813Z"
   },
   {
    "duration": 10,
    "start_time": "2022-10-12T20:05:33.819Z"
   },
   {
    "duration": 9,
    "start_time": "2022-10-12T20:05:33.830Z"
   },
   {
    "duration": 11,
    "start_time": "2022-10-12T20:05:33.841Z"
   },
   {
    "duration": 4,
    "start_time": "2022-10-12T20:05:33.853Z"
   },
   {
    "duration": 4,
    "start_time": "2022-10-12T20:05:33.859Z"
   },
   {
    "duration": 5,
    "start_time": "2022-10-12T20:05:33.865Z"
   },
   {
    "duration": 39,
    "start_time": "2022-10-12T20:05:33.872Z"
   },
   {
    "duration": 6,
    "start_time": "2022-10-12T20:05:33.913Z"
   },
   {
    "duration": 2,
    "start_time": "2022-10-12T20:05:33.921Z"
   },
   {
    "duration": 8,
    "start_time": "2022-10-12T20:05:33.925Z"
   },
   {
    "duration": 8,
    "start_time": "2022-10-12T20:05:33.935Z"
   },
   {
    "duration": 7,
    "start_time": "2022-10-12T20:05:33.945Z"
   },
   {
    "duration": 8,
    "start_time": "2022-10-12T20:05:33.953Z"
   },
   {
    "duration": 15,
    "start_time": "2022-10-12T20:05:33.963Z"
   },
   {
    "duration": 39,
    "start_time": "2022-10-12T20:05:33.980Z"
   },
   {
    "duration": 13,
    "start_time": "2022-10-12T20:05:34.020Z"
   },
   {
    "duration": 5,
    "start_time": "2022-10-12T20:05:34.034Z"
   },
   {
    "duration": 13,
    "start_time": "2022-10-12T20:05:34.040Z"
   },
   {
    "duration": 4,
    "start_time": "2022-10-12T20:05:34.055Z"
   },
   {
    "duration": 9,
    "start_time": "2022-10-12T20:05:34.061Z"
   },
   {
    "duration": 5,
    "start_time": "2022-10-12T20:05:34.072Z"
   },
   {
    "duration": 33,
    "start_time": "2022-10-12T20:05:34.079Z"
   },
   {
    "duration": 13,
    "start_time": "2022-10-12T20:05:34.117Z"
   },
   {
    "duration": 257,
    "start_time": "2022-10-12T20:05:34.132Z"
   },
   {
    "duration": 19,
    "start_time": "2022-10-12T20:05:34.391Z"
   },
   {
    "duration": 2,
    "start_time": "2022-10-12T20:05:34.412Z"
   },
   {
    "duration": 294,
    "start_time": "2022-10-12T20:05:34.416Z"
   },
   {
    "duration": 10,
    "start_time": "2022-10-12T20:05:34.711Z"
   },
   {
    "duration": 335,
    "start_time": "2022-10-12T20:05:34.723Z"
   },
   {
    "duration": 11,
    "start_time": "2022-10-12T20:05:35.060Z"
   },
   {
    "duration": 13,
    "start_time": "2022-10-12T20:05:35.072Z"
   },
   {
    "duration": 1763,
    "start_time": "2022-10-12T20:05:35.086Z"
   },
   {
    "duration": 6,
    "start_time": "2022-10-12T20:05:36.851Z"
   },
   {
    "duration": 11,
    "start_time": "2022-10-12T20:05:36.858Z"
   },
   {
    "duration": 44,
    "start_time": "2022-10-12T20:05:36.871Z"
   },
   {
    "duration": 366,
    "start_time": "2022-10-12T20:05:36.916Z"
   },
   {
    "duration": 348,
    "start_time": "2022-10-12T20:05:37.284Z"
   },
   {
    "duration": 1510,
    "start_time": "2022-10-12T20:05:37.634Z"
   },
   {
    "duration": 295,
    "start_time": "2022-10-12T20:05:50.219Z"
   },
   {
    "duration": 387,
    "start_time": "2022-10-12T20:06:05.946Z"
   },
   {
    "duration": 1547,
    "start_time": "2022-10-12T20:06:16.899Z"
   },
   {
    "duration": 211,
    "start_time": "2022-10-12T20:07:17.340Z"
   },
   {
    "duration": 1487,
    "start_time": "2022-10-12T20:07:28.206Z"
   },
   {
    "duration": 297,
    "start_time": "2022-10-12T20:09:20.293Z"
   },
   {
    "duration": 1501,
    "start_time": "2022-10-12T20:09:37.210Z"
   },
   {
    "duration": 4621,
    "start_time": "2022-10-12T20:10:48.434Z"
   },
   {
    "duration": 336,
    "start_time": "2022-10-12T20:12:00.756Z"
   },
   {
    "duration": 0,
    "start_time": "2022-10-12T20:12:17.046Z"
   },
   {
    "duration": 0,
    "start_time": "2022-10-12T20:12:17.047Z"
   },
   {
    "duration": 318,
    "start_time": "2022-10-12T20:12:18.452Z"
   },
   {
    "duration": 4202,
    "start_time": "2022-10-12T20:12:18.924Z"
   },
   {
    "duration": 3486,
    "start_time": "2022-10-12T20:12:36.034Z"
   },
   {
    "duration": 1471,
    "start_time": "2022-10-12T20:14:59.573Z"
   },
   {
    "duration": 1474,
    "start_time": "2022-10-12T20:15:12.865Z"
   },
   {
    "duration": 112,
    "start_time": "2022-10-12T20:16:40.888Z"
   },
   {
    "duration": 1809,
    "start_time": "2022-10-12T20:17:30.977Z"
   },
   {
    "duration": 1592,
    "start_time": "2022-10-12T20:17:47.614Z"
   },
   {
    "duration": 1517,
    "start_time": "2022-10-12T20:18:20.221Z"
   },
   {
    "duration": 296,
    "start_time": "2022-10-12T20:18:30.556Z"
   },
   {
    "duration": 1719,
    "start_time": "2022-10-12T20:18:34.700Z"
   },
   {
    "duration": 4452,
    "start_time": "2022-10-12T20:20:42.340Z"
   },
   {
    "duration": 1133,
    "start_time": "2022-10-12T20:20:53.518Z"
   },
   {
    "duration": 1193,
    "start_time": "2022-10-12T20:21:03.340Z"
   },
   {
    "duration": 1013,
    "start_time": "2022-10-12T20:22:16.020Z"
   },
   {
    "duration": 1023,
    "start_time": "2022-10-12T20:22:24.553Z"
   },
   {
    "duration": 1150,
    "start_time": "2022-10-12T20:22:44.416Z"
   },
   {
    "duration": 43,
    "start_time": "2022-10-12T20:24:33.723Z"
   },
   {
    "duration": 991,
    "start_time": "2022-10-12T20:24:39.507Z"
   },
   {
    "duration": 1220,
    "start_time": "2022-10-12T20:24:49.349Z"
   },
   {
    "duration": 1175,
    "start_time": "2022-10-12T20:25:13.845Z"
   },
   {
    "duration": 1571,
    "start_time": "2022-10-12T20:25:50.539Z"
   },
   {
    "duration": 1679,
    "start_time": "2022-10-12T20:25:58.104Z"
   },
   {
    "duration": 356,
    "start_time": "2022-10-12T20:27:12.372Z"
   },
   {
    "duration": 319,
    "start_time": "2022-10-12T20:27:24.231Z"
   },
   {
    "duration": 1648,
    "start_time": "2022-10-12T20:28:35.644Z"
   },
   {
    "duration": 1490,
    "start_time": "2022-10-12T20:28:48.344Z"
   },
   {
    "duration": 1671,
    "start_time": "2022-10-12T20:29:11.403Z"
   },
   {
    "duration": 1523,
    "start_time": "2022-10-12T20:30:00.636Z"
   },
   {
    "duration": 1600,
    "start_time": "2022-10-12T20:30:08.302Z"
   },
   {
    "duration": 18,
    "start_time": "2022-10-12T20:30:45.453Z"
   },
   {
    "duration": 44,
    "start_time": "2022-10-12T20:33:42.736Z"
   },
   {
    "duration": 6,
    "start_time": "2022-10-12T20:43:46.687Z"
   },
   {
    "duration": 12,
    "start_time": "2022-10-12T20:43:51.846Z"
   },
   {
    "duration": 10,
    "start_time": "2022-10-12T20:44:11.884Z"
   },
   {
    "duration": 12,
    "start_time": "2022-10-12T20:44:15.282Z"
   },
   {
    "duration": 213,
    "start_time": "2022-10-12T20:47:46.678Z"
   },
   {
    "duration": 127,
    "start_time": "2022-10-12T20:48:02.903Z"
   },
   {
    "duration": 117,
    "start_time": "2022-10-12T20:48:08.431Z"
   },
   {
    "duration": 130,
    "start_time": "2022-10-12T20:48:24.961Z"
   },
   {
    "duration": 157,
    "start_time": "2022-10-12T20:48:55.755Z"
   },
   {
    "duration": 157,
    "start_time": "2022-10-12T20:51:16.631Z"
   },
   {
    "duration": 9,
    "start_time": "2022-10-12T20:56:54.194Z"
   },
   {
    "duration": 7,
    "start_time": "2022-10-12T20:57:04.147Z"
   },
   {
    "duration": 9,
    "start_time": "2022-10-12T20:57:45.368Z"
   },
   {
    "duration": 6,
    "start_time": "2022-10-12T20:57:46.071Z"
   },
   {
    "duration": 7,
    "start_time": "2022-10-12T20:57:48.641Z"
   },
   {
    "duration": 7,
    "start_time": "2022-10-12T20:57:54.292Z"
   },
   {
    "duration": 24,
    "start_time": "2022-10-12T20:58:32.648Z"
   },
   {
    "duration": 7,
    "start_time": "2022-10-12T20:58:33.859Z"
   },
   {
    "duration": 7,
    "start_time": "2022-10-12T20:58:42.085Z"
   },
   {
    "duration": 7,
    "start_time": "2022-10-12T20:58:53.854Z"
   },
   {
    "duration": 7,
    "start_time": "2022-10-12T20:58:56.304Z"
   },
   {
    "duration": 8,
    "start_time": "2022-10-12T20:59:23.296Z"
   },
   {
    "duration": 6,
    "start_time": "2022-10-12T20:59:24.922Z"
   },
   {
    "duration": 8,
    "start_time": "2022-10-12T20:59:26.355Z"
   },
   {
    "duration": 114,
    "start_time": "2022-10-12T21:03:32.099Z"
   },
   {
    "duration": 5,
    "start_time": "2022-10-12T21:03:36.195Z"
   },
   {
    "duration": 7,
    "start_time": "2022-10-12T21:03:40.433Z"
   },
   {
    "duration": 8,
    "start_time": "2022-10-12T21:03:48.857Z"
   },
   {
    "duration": 9,
    "start_time": "2022-10-12T21:03:54.343Z"
   },
   {
    "duration": 12,
    "start_time": "2022-10-12T21:04:02.559Z"
   },
   {
    "duration": 9,
    "start_time": "2022-10-12T21:05:06.759Z"
   },
   {
    "duration": 14,
    "start_time": "2022-10-12T21:05:15.323Z"
   },
   {
    "duration": 9,
    "start_time": "2022-10-12T21:06:01.091Z"
   },
   {
    "duration": 4,
    "start_time": "2022-10-12T21:06:07.271Z"
   },
   {
    "duration": 9,
    "start_time": "2022-10-12T21:06:09.048Z"
   },
   {
    "duration": 9,
    "start_time": "2022-10-12T21:06:13.061Z"
   },
   {
    "duration": 173,
    "start_time": "2022-10-12T21:06:44.326Z"
   },
   {
    "duration": 170,
    "start_time": "2022-10-12T21:06:50.508Z"
   },
   {
    "duration": 24,
    "start_time": "2022-10-12T21:13:45.961Z"
   },
   {
    "duration": 22,
    "start_time": "2022-10-12T21:14:02.208Z"
   },
   {
    "duration": 20,
    "start_time": "2022-10-12T21:14:09.558Z"
   },
   {
    "duration": 6,
    "start_time": "2022-10-12T21:14:12.002Z"
   },
   {
    "duration": 22,
    "start_time": "2022-10-12T21:14:36.640Z"
   },
   {
    "duration": 27,
    "start_time": "2022-10-12T21:15:37.646Z"
   },
   {
    "duration": 61,
    "start_time": "2022-10-12T21:16:57.931Z"
   },
   {
    "duration": 17,
    "start_time": "2022-10-12T21:17:07.559Z"
   },
   {
    "duration": 11,
    "start_time": "2022-10-12T21:17:11.609Z"
   },
   {
    "duration": 16,
    "start_time": "2022-10-12T21:17:15.979Z"
   },
   {
    "duration": 17,
    "start_time": "2022-10-12T21:18:04.359Z"
   },
   {
    "duration": 20,
    "start_time": "2022-10-12T21:18:08.375Z"
   },
   {
    "duration": 7,
    "start_time": "2022-10-12T21:18:11.486Z"
   },
   {
    "duration": 7,
    "start_time": "2022-10-12T21:18:13.507Z"
   },
   {
    "duration": 19,
    "start_time": "2022-10-12T21:18:16.375Z"
   },
   {
    "duration": 6,
    "start_time": "2022-10-12T21:18:17.712Z"
   },
   {
    "duration": 13,
    "start_time": "2022-10-12T21:19:14.100Z"
   },
   {
    "duration": 10,
    "start_time": "2022-10-12T21:19:18.208Z"
   },
   {
    "duration": 35,
    "start_time": "2022-10-12T21:19:22.664Z"
   },
   {
    "duration": 21,
    "start_time": "2022-10-12T21:19:31.069Z"
   },
   {
    "duration": 6,
    "start_time": "2022-10-12T21:19:33.145Z"
   },
   {
    "duration": 114,
    "start_time": "2022-10-12T21:19:45.202Z"
   },
   {
    "duration": 7,
    "start_time": "2022-10-12T21:19:46.523Z"
   },
   {
    "duration": 24,
    "start_time": "2022-10-12T21:19:59.515Z"
   },
   {
    "duration": 22,
    "start_time": "2022-10-12T21:20:38.743Z"
   },
   {
    "duration": 23,
    "start_time": "2022-10-12T21:20:50.172Z"
   },
   {
    "duration": 21,
    "start_time": "2022-10-12T21:21:05.122Z"
   },
   {
    "duration": 22,
    "start_time": "2022-10-12T21:22:39.117Z"
   },
   {
    "duration": 1161,
    "start_time": "2022-10-12T21:22:45.695Z"
   },
   {
    "duration": 20,
    "start_time": "2022-10-12T21:22:46.858Z"
   },
   {
    "duration": 15,
    "start_time": "2022-10-12T21:22:46.880Z"
   },
   {
    "duration": 13,
    "start_time": "2022-10-12T21:22:46.896Z"
   },
   {
    "duration": 8,
    "start_time": "2022-10-12T21:22:46.911Z"
   },
   {
    "duration": 9,
    "start_time": "2022-10-12T21:22:46.920Z"
   },
   {
    "duration": 11,
    "start_time": "2022-10-12T21:22:46.931Z"
   },
   {
    "duration": 13,
    "start_time": "2022-10-12T21:22:46.943Z"
   },
   {
    "duration": 3,
    "start_time": "2022-10-12T21:22:46.958Z"
   },
   {
    "duration": 6,
    "start_time": "2022-10-12T21:22:46.963Z"
   },
   {
    "duration": 5,
    "start_time": "2022-10-12T21:22:46.971Z"
   },
   {
    "duration": 7,
    "start_time": "2022-10-12T21:22:46.977Z"
   },
   {
    "duration": 24,
    "start_time": "2022-10-12T21:22:46.986Z"
   },
   {
    "duration": 11,
    "start_time": "2022-10-12T21:22:47.011Z"
   },
   {
    "duration": 11,
    "start_time": "2022-10-12T21:22:47.023Z"
   },
   {
    "duration": 11,
    "start_time": "2022-10-12T21:22:47.035Z"
   },
   {
    "duration": 5,
    "start_time": "2022-10-12T21:22:47.047Z"
   },
   {
    "duration": 5,
    "start_time": "2022-10-12T21:22:47.054Z"
   },
   {
    "duration": 17,
    "start_time": "2022-10-12T21:22:47.060Z"
   },
   {
    "duration": 33,
    "start_time": "2022-10-12T21:22:47.079Z"
   },
   {
    "duration": 13,
    "start_time": "2022-10-12T21:22:47.114Z"
   },
   {
    "duration": 5,
    "start_time": "2022-10-12T21:22:47.129Z"
   },
   {
    "duration": 14,
    "start_time": "2022-10-12T21:22:47.135Z"
   },
   {
    "duration": 5,
    "start_time": "2022-10-12T21:22:47.150Z"
   },
   {
    "duration": 10,
    "start_time": "2022-10-12T21:22:47.157Z"
   },
   {
    "duration": 10,
    "start_time": "2022-10-12T21:22:47.169Z"
   },
   {
    "duration": 27,
    "start_time": "2022-10-12T21:22:47.182Z"
   },
   {
    "duration": 14,
    "start_time": "2022-10-12T21:22:47.210Z"
   },
   {
    "duration": 251,
    "start_time": "2022-10-12T21:22:47.225Z"
   },
   {
    "duration": 13,
    "start_time": "2022-10-12T21:22:47.477Z"
   },
   {
    "duration": 2,
    "start_time": "2022-10-12T21:22:47.492Z"
   },
   {
    "duration": 299,
    "start_time": "2022-10-12T21:22:47.496Z"
   },
   {
    "duration": 19,
    "start_time": "2022-10-12T21:22:47.797Z"
   },
   {
    "duration": 330,
    "start_time": "2022-10-12T21:22:47.818Z"
   },
   {
    "duration": 13,
    "start_time": "2022-10-12T21:22:48.150Z"
   },
   {
    "duration": 8,
    "start_time": "2022-10-12T21:22:48.165Z"
   },
   {
    "duration": 1135,
    "start_time": "2022-10-12T21:22:48.174Z"
   },
   {
    "duration": 6,
    "start_time": "2022-10-12T21:22:49.310Z"
   },
   {
    "duration": 11,
    "start_time": "2022-10-12T21:22:49.317Z"
   },
   {
    "duration": 14,
    "start_time": "2022-10-12T21:22:49.329Z"
   },
   {
    "duration": 227,
    "start_time": "2022-10-12T21:22:49.345Z"
   },
   {
    "duration": 336,
    "start_time": "2022-10-12T21:22:49.574Z"
   },
   {
    "duration": 1575,
    "start_time": "2022-10-12T21:22:49.912Z"
   },
   {
    "duration": 1572,
    "start_time": "2022-10-12T21:22:51.489Z"
   },
   {
    "duration": 163,
    "start_time": "2022-10-12T21:22:53.063Z"
   },
   {
    "duration": 133,
    "start_time": "2022-10-12T21:22:53.227Z"
   },
   {
    "duration": 0,
    "start_time": "2022-10-12T21:22:53.361Z"
   },
   {
    "duration": 0,
    "start_time": "2022-10-12T21:22:53.363Z"
   },
   {
    "duration": 0,
    "start_time": "2022-10-12T21:22:53.364Z"
   },
   {
    "duration": 0,
    "start_time": "2022-10-12T21:22:53.365Z"
   },
   {
    "duration": 0,
    "start_time": "2022-10-12T21:22:53.366Z"
   },
   {
    "duration": 25,
    "start_time": "2022-10-12T21:23:21.901Z"
   },
   {
    "duration": 8,
    "start_time": "2022-10-12T21:23:23.219Z"
   },
   {
    "duration": 24,
    "start_time": "2022-10-12T21:23:38.226Z"
   },
   {
    "duration": 10,
    "start_time": "2022-10-12T21:23:39.348Z"
   },
   {
    "duration": 8,
    "start_time": "2022-10-12T21:24:03.859Z"
   },
   {
    "duration": 7,
    "start_time": "2022-10-12T21:24:04.444Z"
   },
   {
    "duration": 7,
    "start_time": "2022-10-12T21:24:04.971Z"
   },
   {
    "duration": 30,
    "start_time": "2022-10-12T21:24:09.393Z"
   },
   {
    "duration": 29,
    "start_time": "2022-10-12T21:24:18.571Z"
   },
   {
    "duration": 37,
    "start_time": "2022-10-12T21:24:24.949Z"
   },
   {
    "duration": 31,
    "start_time": "2022-10-12T21:24:30.333Z"
   },
   {
    "duration": 9,
    "start_time": "2022-10-12T21:24:33.015Z"
   },
   {
    "duration": 8,
    "start_time": "2022-10-12T21:24:33.647Z"
   },
   {
    "duration": 5,
    "start_time": "2022-10-12T21:24:47.462Z"
   },
   {
    "duration": 203,
    "start_time": "2022-10-12T21:24:48.000Z"
   },
   {
    "duration": 160,
    "start_time": "2022-10-12T21:25:09.319Z"
   },
   {
    "duration": 996,
    "start_time": "2022-10-12T21:26:16.937Z"
   },
   {
    "duration": 775,
    "start_time": "2022-10-12T21:26:53.652Z"
   },
   {
    "duration": 5,
    "start_time": "2022-10-12T21:27:10.150Z"
   },
   {
    "duration": 12,
    "start_time": "2022-10-12T21:27:12.193Z"
   },
   {
    "duration": 27,
    "start_time": "2022-10-12T21:27:58.404Z"
   },
   {
    "duration": 32,
    "start_time": "2022-10-12T21:29:53.500Z"
   },
   {
    "duration": 9,
    "start_time": "2022-10-12T21:29:54.137Z"
   },
   {
    "duration": 8,
    "start_time": "2022-10-12T21:29:54.678Z"
   },
   {
    "duration": 8,
    "start_time": "2022-10-12T21:29:55.408Z"
   },
   {
    "duration": 15,
    "start_time": "2022-10-12T21:30:34.224Z"
   },
   {
    "duration": 13,
    "start_time": "2022-10-12T21:30:44.649Z"
   },
   {
    "duration": 13,
    "start_time": "2022-10-12T21:30:54.898Z"
   },
   {
    "duration": 63,
    "start_time": "2022-10-12T21:31:08.287Z"
   },
   {
    "duration": 14,
    "start_time": "2022-10-12T21:31:12.989Z"
   },
   {
    "duration": 14,
    "start_time": "2022-10-12T21:31:17.731Z"
   },
   {
    "duration": 52,
    "start_time": "2022-10-12T21:31:28.496Z"
   },
   {
    "duration": 8,
    "start_time": "2022-10-12T21:31:32.673Z"
   },
   {
    "duration": 5,
    "start_time": "2022-10-12T21:31:43.551Z"
   },
   {
    "duration": 673,
    "start_time": "2022-10-12T21:31:55.439Z"
   },
   {
    "duration": 5,
    "start_time": "2022-10-12T21:31:57.886Z"
   },
   {
    "duration": 768,
    "start_time": "2022-10-12T21:34:14.986Z"
   },
   {
    "duration": 39,
    "start_time": "2022-10-12T21:34:43.850Z"
   },
   {
    "duration": 11,
    "start_time": "2022-10-12T21:34:48.224Z"
   },
   {
    "duration": 40,
    "start_time": "2022-10-12T21:35:06.482Z"
   },
   {
    "duration": 740,
    "start_time": "2022-10-12T21:35:47.249Z"
   },
   {
    "duration": 635,
    "start_time": "2022-10-12T21:35:53.706Z"
   },
   {
    "duration": 40,
    "start_time": "2022-10-12T21:36:01.807Z"
   },
   {
    "duration": 10,
    "start_time": "2022-10-12T21:36:05.524Z"
   },
   {
    "duration": 39,
    "start_time": "2022-10-12T21:37:47.661Z"
   },
   {
    "duration": 13,
    "start_time": "2022-10-12T21:37:49.434Z"
   },
   {
    "duration": 41,
    "start_time": "2022-10-12T21:38:17.222Z"
   },
   {
    "duration": 12,
    "start_time": "2022-10-12T21:38:25.601Z"
   },
   {
    "duration": 49,
    "start_time": "2022-10-12T21:39:12.230Z"
   },
   {
    "duration": 12,
    "start_time": "2022-10-12T21:39:15.996Z"
   },
   {
    "duration": 46,
    "start_time": "2022-10-12T21:39:23.287Z"
   },
   {
    "duration": 12,
    "start_time": "2022-10-12T21:39:25.638Z"
   },
   {
    "duration": 13,
    "start_time": "2022-10-12T21:40:36.273Z"
   },
   {
    "duration": 14,
    "start_time": "2022-10-12T21:40:51.785Z"
   },
   {
    "duration": 15,
    "start_time": "2022-10-12T21:41:11.717Z"
   },
   {
    "duration": 14,
    "start_time": "2022-10-12T21:41:12.699Z"
   },
   {
    "duration": 14,
    "start_time": "2022-10-12T21:41:13.470Z"
   },
   {
    "duration": 6,
    "start_time": "2022-10-12T21:41:14.956Z"
   },
   {
    "duration": 20,
    "start_time": "2022-10-12T21:41:15.618Z"
   },
   {
    "duration": 16,
    "start_time": "2022-10-12T21:41:18.773Z"
   },
   {
    "duration": 315,
    "start_time": "2022-10-12T21:41:24.742Z"
   },
   {
    "duration": 13,
    "start_time": "2022-10-12T21:41:34.569Z"
   },
   {
    "duration": 16,
    "start_time": "2022-10-12T21:41:57.995Z"
   },
   {
    "duration": 15,
    "start_time": "2022-10-12T21:42:10.786Z"
   },
   {
    "duration": 18,
    "start_time": "2022-10-12T21:42:16.128Z"
   },
   {
    "duration": 235,
    "start_time": "2022-10-12T21:42:20.341Z"
   },
   {
    "duration": 292,
    "start_time": "2022-10-12T21:42:32.602Z"
   },
   {
    "duration": 263,
    "start_time": "2022-10-12T21:42:43.917Z"
   },
   {
    "duration": 13,
    "start_time": "2022-10-12T21:43:25.444Z"
   },
   {
    "duration": 14,
    "start_time": "2022-10-12T21:43:51.838Z"
   },
   {
    "duration": 13,
    "start_time": "2022-10-12T21:44:04.041Z"
   },
   {
    "duration": 13,
    "start_time": "2022-10-12T21:44:06.928Z"
   },
   {
    "duration": 13,
    "start_time": "2022-10-12T21:44:12.755Z"
   },
   {
    "duration": 1126,
    "start_time": "2022-10-12T21:44:28.023Z"
   },
   {
    "duration": 19,
    "start_time": "2022-10-12T21:44:29.151Z"
   },
   {
    "duration": 16,
    "start_time": "2022-10-12T21:44:29.172Z"
   },
   {
    "duration": 19,
    "start_time": "2022-10-12T21:44:29.190Z"
   },
   {
    "duration": 3,
    "start_time": "2022-10-12T21:44:29.212Z"
   },
   {
    "duration": 5,
    "start_time": "2022-10-12T21:44:29.217Z"
   },
   {
    "duration": 7,
    "start_time": "2022-10-12T21:44:29.224Z"
   },
   {
    "duration": 12,
    "start_time": "2022-10-12T21:44:29.232Z"
   },
   {
    "duration": 4,
    "start_time": "2022-10-12T21:44:29.245Z"
   },
   {
    "duration": 6,
    "start_time": "2022-10-12T21:44:29.250Z"
   },
   {
    "duration": 6,
    "start_time": "2022-10-12T21:44:29.257Z"
   },
   {
    "duration": 6,
    "start_time": "2022-10-12T21:44:29.264Z"
   },
   {
    "duration": 41,
    "start_time": "2022-10-12T21:44:29.272Z"
   },
   {
    "duration": 3,
    "start_time": "2022-10-12T21:44:29.316Z"
   },
   {
    "duration": 6,
    "start_time": "2022-10-12T21:44:29.321Z"
   },
   {
    "duration": 9,
    "start_time": "2022-10-12T21:44:29.329Z"
   },
   {
    "duration": 5,
    "start_time": "2022-10-12T21:44:29.340Z"
   },
   {
    "duration": 9,
    "start_time": "2022-10-12T21:44:29.347Z"
   },
   {
    "duration": 15,
    "start_time": "2022-10-12T21:44:29.358Z"
   },
   {
    "duration": 46,
    "start_time": "2022-10-12T21:44:29.374Z"
   },
   {
    "duration": 14,
    "start_time": "2022-10-12T21:44:29.422Z"
   },
   {
    "duration": 5,
    "start_time": "2022-10-12T21:44:29.438Z"
   },
   {
    "duration": 28,
    "start_time": "2022-10-12T21:44:29.444Z"
   },
   {
    "duration": 5,
    "start_time": "2022-10-12T21:44:29.474Z"
   },
   {
    "duration": 9,
    "start_time": "2022-10-12T21:44:29.481Z"
   },
   {
    "duration": 19,
    "start_time": "2022-10-12T21:44:29.491Z"
   },
   {
    "duration": 6,
    "start_time": "2022-10-12T21:44:29.512Z"
   },
   {
    "duration": 18,
    "start_time": "2022-10-12T21:44:29.520Z"
   },
   {
    "duration": 258,
    "start_time": "2022-10-12T21:44:29.540Z"
   },
   {
    "duration": 19,
    "start_time": "2022-10-12T21:44:29.799Z"
   },
   {
    "duration": 3,
    "start_time": "2022-10-12T21:44:29.820Z"
   },
   {
    "duration": 296,
    "start_time": "2022-10-12T21:44:29.824Z"
   },
   {
    "duration": 11,
    "start_time": "2022-10-12T21:44:30.121Z"
   },
   {
    "duration": 355,
    "start_time": "2022-10-12T21:44:30.133Z"
   },
   {
    "duration": 20,
    "start_time": "2022-10-12T21:44:30.489Z"
   },
   {
    "duration": 10,
    "start_time": "2022-10-12T21:44:30.510Z"
   },
   {
    "duration": 1171,
    "start_time": "2022-10-12T21:44:30.522Z"
   },
   {
    "duration": 5,
    "start_time": "2022-10-12T21:44:31.695Z"
   },
   {
    "duration": 14,
    "start_time": "2022-10-12T21:44:31.702Z"
   },
   {
    "duration": 9,
    "start_time": "2022-10-12T21:44:31.717Z"
   },
   {
    "duration": 225,
    "start_time": "2022-10-12T21:44:31.730Z"
   },
   {
    "duration": 329,
    "start_time": "2022-10-12T21:44:31.957Z"
   },
   {
    "duration": 1609,
    "start_time": "2022-10-12T21:44:32.288Z"
   },
   {
    "duration": 1560,
    "start_time": "2022-10-12T21:44:33.899Z"
   },
   {
    "duration": 181,
    "start_time": "2022-10-12T21:44:35.460Z"
   },
   {
    "duration": 32,
    "start_time": "2022-10-12T21:44:35.642Z"
   },
   {
    "duration": 822,
    "start_time": "2022-10-12T21:44:35.676Z"
   },
   {
    "duration": 0,
    "start_time": "2022-10-12T21:44:36.500Z"
   },
   {
    "duration": 0,
    "start_time": "2022-10-12T21:44:36.501Z"
   },
   {
    "duration": 0,
    "start_time": "2022-10-12T21:44:36.502Z"
   },
   {
    "duration": 0,
    "start_time": "2022-10-12T21:44:36.503Z"
   },
   {
    "duration": 0,
    "start_time": "2022-10-12T21:44:36.504Z"
   },
   {
    "duration": 646,
    "start_time": "2022-10-12T21:44:55.164Z"
   },
   {
    "duration": 31,
    "start_time": "2022-10-12T21:44:57.400Z"
   },
   {
    "duration": 15,
    "start_time": "2022-10-12T21:45:05.338Z"
   },
   {
    "duration": 14,
    "start_time": "2022-10-12T21:45:08.384Z"
   },
   {
    "duration": 14,
    "start_time": "2022-10-12T21:45:10.772Z"
   },
   {
    "duration": 7,
    "start_time": "2022-10-12T21:45:12.596Z"
   },
   {
    "duration": 280,
    "start_time": "2022-10-12T21:45:13.756Z"
   },
   {
    "duration": 14,
    "start_time": "2022-10-12T21:45:15.833Z"
   },
   {
    "duration": 16,
    "start_time": "2022-10-12T21:45:34.197Z"
   },
   {
    "duration": 876,
    "start_time": "2022-10-12T21:46:02.908Z"
   },
   {
    "duration": 229,
    "start_time": "2022-10-12T21:46:12.044Z"
   },
   {
    "duration": 159,
    "start_time": "2022-10-12T21:46:25.409Z"
   },
   {
    "duration": 221,
    "start_time": "2022-10-12T21:46:39.264Z"
   },
   {
    "duration": 4,
    "start_time": "2022-10-12T21:46:59.796Z"
   },
   {
    "duration": 201,
    "start_time": "2022-10-12T21:47:57.373Z"
   },
   {
    "duration": 557,
    "start_time": "2022-10-12T21:48:24.427Z"
   },
   {
    "duration": 174,
    "start_time": "2022-10-12T21:48:33.603Z"
   },
   {
    "duration": 190,
    "start_time": "2022-10-12T21:48:40.761Z"
   },
   {
    "duration": 189,
    "start_time": "2022-10-12T21:48:49.525Z"
   },
   {
    "duration": 145,
    "start_time": "2022-10-12T21:49:23.209Z"
   },
   {
    "duration": 144,
    "start_time": "2022-10-12T21:49:27.904Z"
   },
   {
    "duration": 14,
    "start_time": "2022-10-12T21:49:43.489Z"
   },
   {
    "duration": 14,
    "start_time": "2022-10-12T21:49:51.583Z"
   },
   {
    "duration": 142,
    "start_time": "2022-10-12T21:50:00.283Z"
   },
   {
    "duration": 142,
    "start_time": "2022-10-12T21:50:09.989Z"
   },
   {
    "duration": 13,
    "start_time": "2022-10-12T21:51:06.105Z"
   },
   {
    "duration": 175,
    "start_time": "2022-10-12T21:51:11.498Z"
   },
   {
    "duration": 176,
    "start_time": "2022-10-12T21:51:15.454Z"
   },
   {
    "duration": 69,
    "start_time": "2022-10-12T21:51:24.470Z"
   },
   {
    "duration": 15,
    "start_time": "2022-10-12T21:51:27.078Z"
   },
   {
    "duration": 9,
    "start_time": "2022-10-12T21:51:47.036Z"
   },
   {
    "duration": 12,
    "start_time": "2022-10-12T21:52:02.555Z"
   },
   {
    "duration": 42,
    "start_time": "2022-10-12T21:52:40.019Z"
   },
   {
    "duration": 221,
    "start_time": "2022-10-12T21:52:46.867Z"
   },
   {
    "duration": 179,
    "start_time": "2022-10-12T21:52:57.195Z"
   },
   {
    "duration": 472,
    "start_time": "2022-10-12T21:53:09.787Z"
   },
   {
    "duration": 475,
    "start_time": "2022-10-12T21:53:17.139Z"
   },
   {
    "duration": 548,
    "start_time": "2022-10-12T21:53:29.574Z"
   },
   {
    "duration": 468,
    "start_time": "2022-10-12T21:53:42.979Z"
   },
   {
    "duration": 168,
    "start_time": "2022-10-12T21:53:49.121Z"
   },
   {
    "duration": 1831,
    "start_time": "2022-10-13T13:58:00.636Z"
   },
   {
    "duration": 20,
    "start_time": "2022-10-13T13:58:02.470Z"
   },
   {
    "duration": 14,
    "start_time": "2022-10-13T13:58:02.492Z"
   },
   {
    "duration": 9,
    "start_time": "2022-10-13T13:58:02.508Z"
   },
   {
    "duration": 4,
    "start_time": "2022-10-13T13:58:02.520Z"
   },
   {
    "duration": 8,
    "start_time": "2022-10-13T13:58:02.526Z"
   },
   {
    "duration": 9,
    "start_time": "2022-10-13T13:58:02.535Z"
   },
   {
    "duration": 13,
    "start_time": "2022-10-13T13:58:02.545Z"
   },
   {
    "duration": 4,
    "start_time": "2022-10-13T13:58:02.559Z"
   },
   {
    "duration": 32,
    "start_time": "2022-10-13T13:58:02.565Z"
   },
   {
    "duration": 5,
    "start_time": "2022-10-13T13:58:02.598Z"
   },
   {
    "duration": 9,
    "start_time": "2022-10-13T13:58:02.605Z"
   },
   {
    "duration": 9,
    "start_time": "2022-10-13T13:58:02.616Z"
   },
   {
    "duration": 3,
    "start_time": "2022-10-13T13:58:02.628Z"
   },
   {
    "duration": 7,
    "start_time": "2022-10-13T13:58:02.632Z"
   },
   {
    "duration": 10,
    "start_time": "2022-10-13T13:58:02.640Z"
   },
   {
    "duration": 6,
    "start_time": "2022-10-13T13:58:02.652Z"
   },
   {
    "duration": 39,
    "start_time": "2022-10-13T13:58:02.659Z"
   },
   {
    "duration": 22,
    "start_time": "2022-10-13T13:58:02.699Z"
   },
   {
    "duration": 16,
    "start_time": "2022-10-13T13:58:02.723Z"
   },
   {
    "duration": 15,
    "start_time": "2022-10-13T13:58:02.740Z"
   },
   {
    "duration": 7,
    "start_time": "2022-10-13T13:58:02.757Z"
   },
   {
    "duration": 37,
    "start_time": "2022-10-13T13:58:02.765Z"
   },
   {
    "duration": 5,
    "start_time": "2022-10-13T13:58:02.804Z"
   },
   {
    "duration": 10,
    "start_time": "2022-10-13T13:58:02.811Z"
   },
   {
    "duration": 7,
    "start_time": "2022-10-13T13:58:02.823Z"
   },
   {
    "duration": 8,
    "start_time": "2022-10-13T13:58:02.831Z"
   },
   {
    "duration": 15,
    "start_time": "2022-10-13T13:58:02.840Z"
   },
   {
    "duration": 301,
    "start_time": "2022-10-13T13:58:02.857Z"
   },
   {
    "duration": 14,
    "start_time": "2022-10-13T13:58:03.159Z"
   },
   {
    "duration": 2,
    "start_time": "2022-10-13T13:58:03.174Z"
   },
   {
    "duration": 316,
    "start_time": "2022-10-13T13:58:03.178Z"
   },
   {
    "duration": 10,
    "start_time": "2022-10-13T13:58:03.496Z"
   },
   {
    "duration": 359,
    "start_time": "2022-10-13T13:58:03.508Z"
   },
   {
    "duration": 13,
    "start_time": "2022-10-13T13:58:03.868Z"
   },
   {
    "duration": 18,
    "start_time": "2022-10-13T13:58:03.882Z"
   },
   {
    "duration": 1248,
    "start_time": "2022-10-13T13:58:03.902Z"
   },
   {
    "duration": 7,
    "start_time": "2022-10-13T13:58:05.152Z"
   },
   {
    "duration": 11,
    "start_time": "2022-10-13T13:58:05.161Z"
   },
   {
    "duration": 8,
    "start_time": "2022-10-13T13:58:05.174Z"
   },
   {
    "duration": 220,
    "start_time": "2022-10-13T13:58:05.195Z"
   },
   {
    "duration": 360,
    "start_time": "2022-10-13T13:58:05.417Z"
   },
   {
    "duration": 1824,
    "start_time": "2022-10-13T13:58:05.778Z"
   },
   {
    "duration": 1722,
    "start_time": "2022-10-13T13:58:07.604Z"
   },
   {
    "duration": 185,
    "start_time": "2022-10-13T13:58:09.327Z"
   },
   {
    "duration": 34,
    "start_time": "2022-10-13T13:58:09.513Z"
   },
   {
    "duration": 14,
    "start_time": "2022-10-13T13:58:09.549Z"
   },
   {
    "duration": 35,
    "start_time": "2022-10-13T13:58:09.564Z"
   },
   {
    "duration": 15,
    "start_time": "2022-10-13T13:58:09.601Z"
   },
   {
    "duration": 10,
    "start_time": "2022-10-13T13:58:09.618Z"
   },
   {
    "duration": 212,
    "start_time": "2022-10-13T13:58:09.630Z"
   },
   {
    "duration": 15,
    "start_time": "2022-10-13T13:58:09.844Z"
   },
   {
    "duration": 189,
    "start_time": "2022-10-13T13:58:38.346Z"
   },
   {
    "duration": 81,
    "start_time": "2022-10-13T13:58:55.371Z"
   },
   {
    "duration": 214,
    "start_time": "2022-10-13T13:58:59.653Z"
   },
   {
    "duration": 616,
    "start_time": "2022-10-13T13:59:05.821Z"
   },
   {
    "duration": 106,
    "start_time": "2022-10-13T14:02:53.933Z"
   },
   {
    "duration": 16,
    "start_time": "2022-10-13T14:03:09.054Z"
   },
   {
    "duration": 17,
    "start_time": "2022-10-13T14:03:29.361Z"
   },
   {
    "duration": 8,
    "start_time": "2022-10-13T14:05:59.470Z"
   },
   {
    "duration": 19,
    "start_time": "2022-10-13T14:06:07.403Z"
   },
   {
    "duration": 6,
    "start_time": "2022-10-13T14:06:15.979Z"
   },
   {
    "duration": 18,
    "start_time": "2022-10-13T14:06:16.398Z"
   },
   {
    "duration": 4,
    "start_time": "2022-10-13T14:07:48.587Z"
   },
   {
    "duration": 12,
    "start_time": "2022-10-13T14:08:01.396Z"
   },
   {
    "duration": 9,
    "start_time": "2022-10-13T14:08:06.206Z"
   },
   {
    "duration": 7,
    "start_time": "2022-10-13T14:08:16.346Z"
   },
   {
    "duration": 16,
    "start_time": "2022-10-13T14:09:29.223Z"
   },
   {
    "duration": 9,
    "start_time": "2022-10-13T14:09:45.097Z"
   },
   {
    "duration": 10,
    "start_time": "2022-10-13T14:10:02.267Z"
   },
   {
    "duration": 203,
    "start_time": "2022-10-13T14:10:45.306Z"
   },
   {
    "duration": 196,
    "start_time": "2022-10-13T14:10:51.673Z"
   },
   {
    "duration": 526,
    "start_time": "2022-10-13T14:11:00.551Z"
   },
   {
    "duration": 195,
    "start_time": "2022-10-13T14:11:08.856Z"
   },
   {
    "duration": 201,
    "start_time": "2022-10-13T14:11:21.667Z"
   },
   {
    "duration": 10,
    "start_time": "2022-10-13T14:12:01.318Z"
   },
   {
    "duration": 25,
    "start_time": "2022-10-13T14:12:48.382Z"
   },
   {
    "duration": 10,
    "start_time": "2022-10-13T14:13:03.920Z"
   },
   {
    "duration": 5,
    "start_time": "2022-10-13T14:13:11.907Z"
   },
   {
    "duration": 18,
    "start_time": "2022-10-13T14:13:12.407Z"
   },
   {
    "duration": 19,
    "start_time": "2022-10-13T14:14:00.603Z"
   },
   {
    "duration": 14,
    "start_time": "2022-10-13T14:14:10.095Z"
   },
   {
    "duration": 68,
    "start_time": "2022-10-13T14:15:14.551Z"
   },
   {
    "duration": 16,
    "start_time": "2022-10-13T14:15:20.078Z"
   },
   {
    "duration": 5,
    "start_time": "2022-10-13T14:15:29.427Z"
   },
   {
    "duration": 13,
    "start_time": "2022-10-13T14:15:59.468Z"
   },
   {
    "duration": 15,
    "start_time": "2022-10-13T14:16:10.443Z"
   },
   {
    "duration": 15,
    "start_time": "2022-10-13T14:16:42.307Z"
   },
   {
    "duration": 15,
    "start_time": "2022-10-13T14:17:03.047Z"
   },
   {
    "duration": 14,
    "start_time": "2022-10-13T14:17:08.981Z"
   },
   {
    "duration": 16,
    "start_time": "2022-10-13T14:17:12.910Z"
   },
   {
    "duration": 15,
    "start_time": "2022-10-13T14:17:34.526Z"
   },
   {
    "duration": 16,
    "start_time": "2022-10-13T14:18:12.516Z"
   },
   {
    "duration": 18,
    "start_time": "2022-10-13T14:18:25.068Z"
   },
   {
    "duration": 15,
    "start_time": "2022-10-13T14:18:45.205Z"
   },
   {
    "duration": 297,
    "start_time": "2022-10-13T14:19:00.343Z"
   },
   {
    "duration": 1732,
    "start_time": "2022-10-13T14:19:13.315Z"
   },
   {
    "duration": 34,
    "start_time": "2022-10-13T14:19:40.645Z"
   },
   {
    "duration": 8,
    "start_time": "2022-10-13T14:19:43.847Z"
   },
   {
    "duration": 9,
    "start_time": "2022-10-13T14:19:44.741Z"
   },
   {
    "duration": 9,
    "start_time": "2022-10-13T14:19:45.282Z"
   },
   {
    "duration": 6,
    "start_time": "2022-10-13T14:19:46.115Z"
   },
   {
    "duration": 21,
    "start_time": "2022-10-13T14:19:46.557Z"
   },
   {
    "duration": 1812,
    "start_time": "2022-10-13T14:19:46.974Z"
   },
   {
    "duration": 17,
    "start_time": "2022-10-13T14:20:01.408Z"
   },
   {
    "duration": 264,
    "start_time": "2022-10-13T14:20:12.670Z"
   },
   {
    "duration": 18,
    "start_time": "2022-10-13T14:20:23.960Z"
   },
   {
    "duration": 273,
    "start_time": "2022-10-13T14:20:35.503Z"
   },
   {
    "duration": 82,
    "start_time": "2022-10-13T14:21:06.284Z"
   },
   {
    "duration": 168,
    "start_time": "2022-10-13T14:21:34.059Z"
   },
   {
    "duration": 329,
    "start_time": "2022-10-13T14:22:12.914Z"
   },
   {
    "duration": 1196,
    "start_time": "2022-10-13T14:22:57.522Z"
   },
   {
    "duration": 19,
    "start_time": "2022-10-13T14:22:58.720Z"
   },
   {
    "duration": 14,
    "start_time": "2022-10-13T14:22:58.741Z"
   },
   {
    "duration": 11,
    "start_time": "2022-10-13T14:22:58.756Z"
   },
   {
    "duration": 5,
    "start_time": "2022-10-13T14:22:58.769Z"
   },
   {
    "duration": 19,
    "start_time": "2022-10-13T14:22:58.776Z"
   },
   {
    "duration": 4,
    "start_time": "2022-10-13T14:22:58.797Z"
   },
   {
    "duration": 13,
    "start_time": "2022-10-13T14:22:58.803Z"
   },
   {
    "duration": 4,
    "start_time": "2022-10-13T14:22:58.817Z"
   },
   {
    "duration": 7,
    "start_time": "2022-10-13T14:22:58.823Z"
   },
   {
    "duration": 5,
    "start_time": "2022-10-13T14:22:58.831Z"
   },
   {
    "duration": 6,
    "start_time": "2022-10-13T14:22:58.838Z"
   },
   {
    "duration": 7,
    "start_time": "2022-10-13T14:22:58.845Z"
   },
   {
    "duration": 3,
    "start_time": "2022-10-13T14:22:58.855Z"
   },
   {
    "duration": 5,
    "start_time": "2022-10-13T14:22:58.895Z"
   },
   {
    "duration": 10,
    "start_time": "2022-10-13T14:22:58.904Z"
   },
   {
    "duration": 6,
    "start_time": "2022-10-13T14:22:58.916Z"
   },
   {
    "duration": 10,
    "start_time": "2022-10-13T14:22:58.924Z"
   },
   {
    "duration": 18,
    "start_time": "2022-10-13T14:22:58.936Z"
   },
   {
    "duration": 13,
    "start_time": "2022-10-13T14:22:58.955Z"
   },
   {
    "duration": 34,
    "start_time": "2022-10-13T14:22:58.970Z"
   },
   {
    "duration": 5,
    "start_time": "2022-10-13T14:22:59.006Z"
   },
   {
    "duration": 12,
    "start_time": "2022-10-13T14:22:59.013Z"
   },
   {
    "duration": 5,
    "start_time": "2022-10-13T14:22:59.026Z"
   },
   {
    "duration": 7,
    "start_time": "2022-10-13T14:22:59.033Z"
   },
   {
    "duration": 6,
    "start_time": "2022-10-13T14:22:59.041Z"
   },
   {
    "duration": 11,
    "start_time": "2022-10-13T14:22:59.049Z"
   },
   {
    "duration": 43,
    "start_time": "2022-10-13T14:22:59.061Z"
   },
   {
    "duration": 269,
    "start_time": "2022-10-13T14:22:59.106Z"
   },
   {
    "duration": 23,
    "start_time": "2022-10-13T14:22:59.377Z"
   },
   {
    "duration": 2,
    "start_time": "2022-10-13T14:22:59.402Z"
   },
   {
    "duration": 304,
    "start_time": "2022-10-13T14:22:59.405Z"
   },
   {
    "duration": 10,
    "start_time": "2022-10-13T14:22:59.711Z"
   },
   {
    "duration": 340,
    "start_time": "2022-10-13T14:22:59.722Z"
   },
   {
    "duration": 12,
    "start_time": "2022-10-13T14:23:00.064Z"
   },
   {
    "duration": 24,
    "start_time": "2022-10-13T14:23:00.077Z"
   },
   {
    "duration": 1295,
    "start_time": "2022-10-13T14:23:00.103Z"
   },
   {
    "duration": 7,
    "start_time": "2022-10-13T14:23:01.401Z"
   },
   {
    "duration": 15,
    "start_time": "2022-10-13T14:23:01.410Z"
   },
   {
    "duration": 12,
    "start_time": "2022-10-13T14:23:01.427Z"
   },
   {
    "duration": 244,
    "start_time": "2022-10-13T14:23:01.443Z"
   },
   {
    "duration": 342,
    "start_time": "2022-10-13T14:23:01.689Z"
   },
   {
    "duration": 1679,
    "start_time": "2022-10-13T14:23:02.033Z"
   },
   {
    "duration": 1641,
    "start_time": "2022-10-13T14:23:03.714Z"
   },
   {
    "duration": 180,
    "start_time": "2022-10-13T14:23:05.356Z"
   },
   {
    "duration": 36,
    "start_time": "2022-10-13T14:23:05.537Z"
   },
   {
    "duration": 23,
    "start_time": "2022-10-13T14:23:05.574Z"
   },
   {
    "duration": 20,
    "start_time": "2022-10-13T14:23:05.599Z"
   },
   {
    "duration": 36,
    "start_time": "2022-10-13T14:23:05.621Z"
   },
   {
    "duration": 128,
    "start_time": "2022-10-13T14:23:05.659Z"
   },
   {
    "duration": 0,
    "start_time": "2022-10-13T14:23:05.789Z"
   },
   {
    "duration": 0,
    "start_time": "2022-10-13T14:23:05.795Z"
   },
   {
    "duration": 5,
    "start_time": "2022-10-13T14:23:18.558Z"
   },
   {
    "duration": 15,
    "start_time": "2022-10-13T14:23:20.088Z"
   },
   {
    "duration": 191,
    "start_time": "2022-10-13T14:23:22.375Z"
   },
   {
    "duration": 1132,
    "start_time": "2022-10-13T14:23:54.925Z"
   },
   {
    "duration": 149,
    "start_time": "2022-10-13T14:24:31.058Z"
   },
   {
    "duration": 121,
    "start_time": "2022-10-13T14:24:40.545Z"
   },
   {
    "duration": 351,
    "start_time": "2022-10-13T14:25:04.556Z"
   },
   {
    "duration": 1452,
    "start_time": "2022-10-13T14:35:13.618Z"
   },
   {
    "duration": 23,
    "start_time": "2022-10-13T14:35:15.074Z"
   },
   {
    "duration": 15,
    "start_time": "2022-10-13T14:35:15.098Z"
   },
   {
    "duration": 9,
    "start_time": "2022-10-13T14:35:15.115Z"
   },
   {
    "duration": 6,
    "start_time": "2022-10-13T14:35:15.126Z"
   },
   {
    "duration": 4,
    "start_time": "2022-10-13T14:35:15.134Z"
   },
   {
    "duration": 7,
    "start_time": "2022-10-13T14:35:15.140Z"
   },
   {
    "duration": 46,
    "start_time": "2022-10-13T14:35:15.149Z"
   },
   {
    "duration": 5,
    "start_time": "2022-10-13T14:35:15.197Z"
   },
   {
    "duration": 8,
    "start_time": "2022-10-13T14:35:15.204Z"
   },
   {
    "duration": 6,
    "start_time": "2022-10-13T14:35:15.214Z"
   },
   {
    "duration": 6,
    "start_time": "2022-10-13T14:35:15.221Z"
   },
   {
    "duration": 8,
    "start_time": "2022-10-13T14:35:15.229Z"
   },
   {
    "duration": 4,
    "start_time": "2022-10-13T14:35:15.240Z"
   },
   {
    "duration": 6,
    "start_time": "2022-10-13T14:35:15.245Z"
   },
   {
    "duration": 45,
    "start_time": "2022-10-13T14:35:15.253Z"
   },
   {
    "duration": 6,
    "start_time": "2022-10-13T14:35:15.299Z"
   },
   {
    "duration": 9,
    "start_time": "2022-10-13T14:35:15.307Z"
   },
   {
    "duration": 21,
    "start_time": "2022-10-13T14:35:15.318Z"
   },
   {
    "duration": 13,
    "start_time": "2022-10-13T14:35:15.341Z"
   },
   {
    "duration": 14,
    "start_time": "2022-10-13T14:35:15.355Z"
   },
   {
    "duration": 5,
    "start_time": "2022-10-13T14:35:15.395Z"
   },
   {
    "duration": 14,
    "start_time": "2022-10-13T14:35:15.402Z"
   },
   {
    "duration": 5,
    "start_time": "2022-10-13T14:35:15.417Z"
   },
   {
    "duration": 13,
    "start_time": "2022-10-13T14:35:15.424Z"
   },
   {
    "duration": 6,
    "start_time": "2022-10-13T14:35:15.439Z"
   },
   {
    "duration": 9,
    "start_time": "2022-10-13T14:35:15.447Z"
   },
   {
    "duration": 38,
    "start_time": "2022-10-13T14:35:15.457Z"
   },
   {
    "duration": 282,
    "start_time": "2022-10-13T14:35:15.496Z"
   },
   {
    "duration": 19,
    "start_time": "2022-10-13T14:35:15.780Z"
   },
   {
    "duration": 3,
    "start_time": "2022-10-13T14:35:15.801Z"
   },
   {
    "duration": 344,
    "start_time": "2022-10-13T14:35:15.805Z"
   },
   {
    "duration": 11,
    "start_time": "2022-10-13T14:35:16.150Z"
   },
   {
    "duration": 372,
    "start_time": "2022-10-13T14:35:16.163Z"
   },
   {
    "duration": 16,
    "start_time": "2022-10-13T14:35:16.537Z"
   },
   {
    "duration": 7,
    "start_time": "2022-10-13T14:35:16.555Z"
   },
   {
    "duration": 1415,
    "start_time": "2022-10-13T14:35:16.563Z"
   },
   {
    "duration": 7,
    "start_time": "2022-10-13T14:35:17.980Z"
   },
   {
    "duration": 15,
    "start_time": "2022-10-13T14:35:17.988Z"
   },
   {
    "duration": 9,
    "start_time": "2022-10-13T14:35:18.005Z"
   },
   {
    "duration": 249,
    "start_time": "2022-10-13T14:35:18.018Z"
   },
   {
    "duration": 344,
    "start_time": "2022-10-13T14:35:18.269Z"
   },
   {
    "duration": 1788,
    "start_time": "2022-10-13T14:35:18.614Z"
   },
   {
    "duration": 1655,
    "start_time": "2022-10-13T14:35:20.403Z"
   },
   {
    "duration": 180,
    "start_time": "2022-10-13T14:35:22.060Z"
   },
   {
    "duration": 37,
    "start_time": "2022-10-13T14:35:22.243Z"
   },
   {
    "duration": 17,
    "start_time": "2022-10-13T14:35:22.282Z"
   },
   {
    "duration": 10,
    "start_time": "2022-10-13T14:35:22.301Z"
   },
   {
    "duration": 10,
    "start_time": "2022-10-13T14:35:22.312Z"
   },
   {
    "duration": 6,
    "start_time": "2022-10-13T14:35:22.323Z"
   },
   {
    "duration": 129,
    "start_time": "2022-10-13T14:35:22.331Z"
   },
   {
    "duration": 14,
    "start_time": "2022-10-13T14:37:09.268Z"
   },
   {
    "duration": 211,
    "start_time": "2022-10-13T14:37:21.770Z"
   },
   {
    "duration": 213,
    "start_time": "2022-10-13T14:37:28.268Z"
   },
   {
    "duration": 20,
    "start_time": "2022-10-13T14:38:16.562Z"
   },
   {
    "duration": 12,
    "start_time": "2022-10-13T14:38:21.133Z"
   },
   {
    "duration": 218,
    "start_time": "2022-10-13T14:38:27.577Z"
   },
   {
    "duration": 1148,
    "start_time": "2022-10-13T14:41:19.930Z"
   },
   {
    "duration": 1139,
    "start_time": "2022-10-13T14:41:23.441Z"
   },
   {
    "duration": 257,
    "start_time": "2022-10-13T14:41:32.240Z"
   },
   {
    "duration": 168,
    "start_time": "2022-10-13T14:41:57.435Z"
   },
   {
    "duration": 179,
    "start_time": "2022-10-13T14:42:24.086Z"
   },
   {
    "duration": 161,
    "start_time": "2022-10-13T14:42:32.126Z"
   },
   {
    "duration": 35,
    "start_time": "2022-10-13T14:42:49.726Z"
   },
   {
    "duration": 16,
    "start_time": "2022-10-13T14:42:50.093Z"
   },
   {
    "duration": 20,
    "start_time": "2022-10-13T14:42:50.407Z"
   },
   {
    "duration": 14,
    "start_time": "2022-10-13T14:42:50.679Z"
   },
   {
    "duration": 19,
    "start_time": "2022-10-13T14:42:51.195Z"
   },
   {
    "duration": 21,
    "start_time": "2022-10-13T14:42:51.432Z"
   },
   {
    "duration": 33,
    "start_time": "2022-10-13T14:43:18.757Z"
   },
   {
    "duration": 8,
    "start_time": "2022-10-13T14:43:19.702Z"
   },
   {
    "duration": 9,
    "start_time": "2022-10-13T14:43:23.089Z"
   },
   {
    "duration": 14,
    "start_time": "2022-10-13T14:43:23.726Z"
   },
   {
    "duration": 10,
    "start_time": "2022-10-13T14:43:28.818Z"
   },
   {
    "duration": 15,
    "start_time": "2022-10-13T14:43:29.727Z"
   },
   {
    "duration": 170,
    "start_time": "2022-10-13T14:43:30.357Z"
   },
   {
    "duration": 15,
    "start_time": "2022-10-13T14:43:38.482Z"
   },
   {
    "duration": 34,
    "start_time": "2022-10-13T14:43:45.448Z"
   },
   {
    "duration": 10,
    "start_time": "2022-10-13T14:43:45.733Z"
   },
   {
    "duration": 8,
    "start_time": "2022-10-13T14:43:45.950Z"
   },
   {
    "duration": 11,
    "start_time": "2022-10-13T14:43:46.143Z"
   },
   {
    "duration": 15,
    "start_time": "2022-10-13T14:43:46.553Z"
   },
   {
    "duration": 221,
    "start_time": "2022-10-13T14:43:46.752Z"
   },
   {
    "duration": 14,
    "start_time": "2022-10-13T14:46:40.900Z"
   },
   {
    "duration": 170,
    "start_time": "2022-10-13T14:46:41.999Z"
   },
   {
    "duration": 15,
    "start_time": "2022-10-13T14:46:44.592Z"
   },
   {
    "duration": 10,
    "start_time": "2022-10-13T14:51:00.746Z"
   },
   {
    "duration": 7,
    "start_time": "2022-10-13T14:51:04.211Z"
   },
   {
    "duration": 7,
    "start_time": "2022-10-13T14:51:16.613Z"
   },
   {
    "duration": 7,
    "start_time": "2022-10-13T14:51:17.107Z"
   },
   {
    "duration": 17,
    "start_time": "2022-10-13T14:52:29.690Z"
   },
   {
    "duration": 13,
    "start_time": "2022-10-13T14:52:33.906Z"
   },
   {
    "duration": 219,
    "start_time": "2022-10-13T14:52:43.322Z"
   },
   {
    "duration": 12,
    "start_time": "2022-10-13T14:52:54.716Z"
   },
   {
    "duration": 16,
    "start_time": "2022-10-13T14:53:04.155Z"
   },
   {
    "duration": 70,
    "start_time": "2022-10-13T14:53:18.729Z"
   },
   {
    "duration": 12,
    "start_time": "2022-10-13T14:53:19.041Z"
   },
   {
    "duration": 19,
    "start_time": "2022-10-13T14:53:26.970Z"
   },
   {
    "duration": 13,
    "start_time": "2022-10-13T14:53:32.721Z"
   },
   {
    "duration": 9,
    "start_time": "2022-10-13T14:53:33.467Z"
   },
   {
    "duration": 125,
    "start_time": "2022-10-13T14:53:41.914Z"
   },
   {
    "duration": 163,
    "start_time": "2022-10-13T14:53:53.091Z"
   },
   {
    "duration": 21,
    "start_time": "2022-10-13T15:10:51.816Z"
   },
   {
    "duration": 8,
    "start_time": "2022-10-13T15:10:52.537Z"
   },
   {
    "duration": 24,
    "start_time": "2022-10-13T15:11:14.062Z"
   },
   {
    "duration": 7,
    "start_time": "2022-10-13T15:11:15.269Z"
   },
   {
    "duration": 23,
    "start_time": "2022-10-13T15:11:27.939Z"
   },
   {
    "duration": 7,
    "start_time": "2022-10-13T15:11:28.421Z"
   },
   {
    "duration": 7,
    "start_time": "2022-10-13T15:11:32.547Z"
   },
   {
    "duration": 8,
    "start_time": "2022-10-13T15:11:38.196Z"
   },
   {
    "duration": 259,
    "start_time": "2022-10-13T15:12:06.737Z"
   },
   {
    "duration": 1232,
    "start_time": "2022-10-13T15:12:26.963Z"
   },
   {
    "duration": 21,
    "start_time": "2022-10-13T15:12:28.197Z"
   },
   {
    "duration": 13,
    "start_time": "2022-10-13T15:12:28.220Z"
   },
   {
    "duration": 8,
    "start_time": "2022-10-13T15:12:28.236Z"
   },
   {
    "duration": 5,
    "start_time": "2022-10-13T15:12:28.245Z"
   },
   {
    "duration": 5,
    "start_time": "2022-10-13T15:12:28.251Z"
   },
   {
    "duration": 5,
    "start_time": "2022-10-13T15:12:28.258Z"
   },
   {
    "duration": 42,
    "start_time": "2022-10-13T15:12:28.264Z"
   },
   {
    "duration": 4,
    "start_time": "2022-10-13T15:12:28.308Z"
   },
   {
    "duration": 5,
    "start_time": "2022-10-13T15:12:28.314Z"
   },
   {
    "duration": 6,
    "start_time": "2022-10-13T15:12:28.320Z"
   },
   {
    "duration": 6,
    "start_time": "2022-10-13T15:12:28.328Z"
   },
   {
    "duration": 7,
    "start_time": "2022-10-13T15:12:28.336Z"
   },
   {
    "duration": 3,
    "start_time": "2022-10-13T15:12:28.345Z"
   },
   {
    "duration": 5,
    "start_time": "2022-10-13T15:12:28.350Z"
   },
   {
    "duration": 9,
    "start_time": "2022-10-13T15:12:28.395Z"
   },
   {
    "duration": 6,
    "start_time": "2022-10-13T15:12:28.406Z"
   },
   {
    "duration": 8,
    "start_time": "2022-10-13T15:12:28.414Z"
   },
   {
    "duration": 18,
    "start_time": "2022-10-13T15:12:28.423Z"
   },
   {
    "duration": 13,
    "start_time": "2022-10-13T15:12:28.442Z"
   },
   {
    "duration": 42,
    "start_time": "2022-10-13T15:12:28.456Z"
   },
   {
    "duration": 6,
    "start_time": "2022-10-13T15:12:28.500Z"
   },
   {
    "duration": 15,
    "start_time": "2022-10-13T15:12:28.507Z"
   },
   {
    "duration": 5,
    "start_time": "2022-10-13T15:12:28.524Z"
   },
   {
    "duration": 6,
    "start_time": "2022-10-13T15:12:28.531Z"
   },
   {
    "duration": 8,
    "start_time": "2022-10-13T15:12:28.539Z"
   },
   {
    "duration": 6,
    "start_time": "2022-10-13T15:12:28.549Z"
   },
   {
    "duration": 40,
    "start_time": "2022-10-13T15:12:28.559Z"
   },
   {
    "duration": 283,
    "start_time": "2022-10-13T15:12:28.601Z"
   },
   {
    "duration": 18,
    "start_time": "2022-10-13T15:12:28.886Z"
   },
   {
    "duration": 2,
    "start_time": "2022-10-13T15:12:28.906Z"
   },
   {
    "duration": 325,
    "start_time": "2022-10-13T15:12:28.910Z"
   },
   {
    "duration": 12,
    "start_time": "2022-10-13T15:12:29.237Z"
   },
   {
    "duration": 377,
    "start_time": "2022-10-13T15:12:29.251Z"
   },
   {
    "duration": 13,
    "start_time": "2022-10-13T15:12:29.630Z"
   },
   {
    "duration": 9,
    "start_time": "2022-10-13T15:12:29.645Z"
   },
   {
    "duration": 1267,
    "start_time": "2022-10-13T15:12:29.656Z"
   },
   {
    "duration": 6,
    "start_time": "2022-10-13T15:12:30.925Z"
   },
   {
    "duration": 20,
    "start_time": "2022-10-13T15:12:30.932Z"
   },
   {
    "duration": 16,
    "start_time": "2022-10-13T15:12:30.953Z"
   },
   {
    "duration": 229,
    "start_time": "2022-10-13T15:12:30.971Z"
   },
   {
    "duration": 341,
    "start_time": "2022-10-13T15:12:31.202Z"
   },
   {
    "duration": 1708,
    "start_time": "2022-10-13T15:12:31.544Z"
   },
   {
    "duration": 1642,
    "start_time": "2022-10-13T15:12:33.254Z"
   },
   {
    "duration": 180,
    "start_time": "2022-10-13T15:12:34.898Z"
   },
   {
    "duration": 27,
    "start_time": "2022-10-13T15:12:35.080Z"
   },
   {
    "duration": 6,
    "start_time": "2022-10-13T15:12:35.109Z"
   },
   {
    "duration": 7,
    "start_time": "2022-10-13T15:12:35.117Z"
   },
   {
    "duration": 8,
    "start_time": "2022-10-13T15:12:35.126Z"
   },
   {
    "duration": 10,
    "start_time": "2022-10-13T15:12:35.136Z"
   },
   {
    "duration": 210,
    "start_time": "2022-10-13T15:12:35.147Z"
   },
   {
    "duration": 185,
    "start_time": "2022-10-13T15:23:10.787Z"
   },
   {
    "duration": 27,
    "start_time": "2022-10-13T15:24:37.382Z"
   },
   {
    "duration": 12,
    "start_time": "2022-10-13T15:25:01.976Z"
   },
   {
    "duration": 23,
    "start_time": "2022-10-13T15:26:26.322Z"
   },
   {
    "duration": 13,
    "start_time": "2022-10-13T15:26:26.592Z"
   },
   {
    "duration": 20,
    "start_time": "2022-10-13T15:26:32.896Z"
   },
   {
    "duration": 10,
    "start_time": "2022-10-13T15:26:40.051Z"
   },
   {
    "duration": 204,
    "start_time": "2022-10-13T15:27:14.042Z"
   },
   {
    "duration": 300,
    "start_time": "2022-10-13T15:27:30.980Z"
   },
   {
    "duration": 209,
    "start_time": "2022-10-13T15:27:43.173Z"
   },
   {
    "duration": 204,
    "start_time": "2022-10-13T15:27:54.785Z"
   },
   {
    "duration": 24,
    "start_time": "2022-10-13T15:38:37.027Z"
   },
   {
    "duration": 11,
    "start_time": "2022-10-13T15:39:02.455Z"
   },
   {
    "duration": 171,
    "start_time": "2022-10-13T15:39:16.540Z"
   },
   {
    "duration": 5,
    "start_time": "2022-10-13T15:40:00.532Z"
   },
   {
    "duration": 23,
    "start_time": "2022-10-13T15:40:21.748Z"
   },
   {
    "duration": 10,
    "start_time": "2022-10-13T15:40:23.246Z"
   },
   {
    "duration": 161,
    "start_time": "2022-10-13T15:40:23.258Z"
   },
   {
    "duration": 165,
    "start_time": "2022-10-13T15:40:24.950Z"
   },
   {
    "duration": 22,
    "start_time": "2022-10-13T15:40:28.603Z"
   },
   {
    "duration": 9,
    "start_time": "2022-10-13T15:40:29.128Z"
   },
   {
    "duration": 171,
    "start_time": "2022-10-13T15:40:29.989Z"
   },
   {
    "duration": 6,
    "start_time": "2022-10-13T15:40:33.369Z"
   },
   {
    "duration": 21,
    "start_time": "2022-10-13T15:40:43.824Z"
   },
   {
    "duration": 10,
    "start_time": "2022-10-13T15:40:44.906Z"
   },
   {
    "duration": 156,
    "start_time": "2022-10-13T15:40:46.056Z"
   },
   {
    "duration": 11,
    "start_time": "2022-10-13T15:40:50.532Z"
   },
   {
    "duration": 22,
    "start_time": "2022-10-13T15:41:04.918Z"
   },
   {
    "duration": 10,
    "start_time": "2022-10-13T15:41:05.413Z"
   },
   {
    "duration": 1132,
    "start_time": "2022-10-13T15:41:12.425Z"
   },
   {
    "duration": 23,
    "start_time": "2022-10-13T15:41:13.559Z"
   },
   {
    "duration": 15,
    "start_time": "2022-10-13T15:41:13.584Z"
   },
   {
    "duration": 11,
    "start_time": "2022-10-13T15:41:13.601Z"
   },
   {
    "duration": 5,
    "start_time": "2022-10-13T15:41:13.614Z"
   },
   {
    "duration": 4,
    "start_time": "2022-10-13T15:41:13.621Z"
   },
   {
    "duration": 6,
    "start_time": "2022-10-13T15:41:13.627Z"
   },
   {
    "duration": 12,
    "start_time": "2022-10-13T15:41:13.635Z"
   },
   {
    "duration": 4,
    "start_time": "2022-10-13T15:41:13.648Z"
   },
   {
    "duration": 7,
    "start_time": "2022-10-13T15:41:13.653Z"
   },
   {
    "duration": 4,
    "start_time": "2022-10-13T15:41:13.695Z"
   },
   {
    "duration": 7,
    "start_time": "2022-10-13T15:41:13.701Z"
   },
   {
    "duration": 9,
    "start_time": "2022-10-13T15:41:13.710Z"
   },
   {
    "duration": 3,
    "start_time": "2022-10-13T15:41:13.722Z"
   },
   {
    "duration": 7,
    "start_time": "2022-10-13T15:41:13.726Z"
   },
   {
    "duration": 10,
    "start_time": "2022-10-13T15:41:13.734Z"
   },
   {
    "duration": 6,
    "start_time": "2022-10-13T15:41:13.746Z"
   },
   {
    "duration": 6,
    "start_time": "2022-10-13T15:41:13.753Z"
   },
   {
    "duration": 51,
    "start_time": "2022-10-13T15:41:13.760Z"
   },
   {
    "duration": 13,
    "start_time": "2022-10-13T15:41:13.813Z"
   },
   {
    "duration": 15,
    "start_time": "2022-10-13T15:41:13.827Z"
   },
   {
    "duration": 6,
    "start_time": "2022-10-13T15:41:13.843Z"
   },
   {
    "duration": 44,
    "start_time": "2022-10-13T15:41:13.851Z"
   },
   {
    "duration": 7,
    "start_time": "2022-10-13T15:41:13.897Z"
   },
   {
    "duration": 8,
    "start_time": "2022-10-13T15:41:13.906Z"
   },
   {
    "duration": 7,
    "start_time": "2022-10-13T15:41:13.916Z"
   },
   {
    "duration": 6,
    "start_time": "2022-10-13T15:41:13.925Z"
   },
   {
    "duration": 20,
    "start_time": "2022-10-13T15:41:13.933Z"
   },
   {
    "duration": 300,
    "start_time": "2022-10-13T15:41:13.955Z"
   },
   {
    "duration": 15,
    "start_time": "2022-10-13T15:41:14.257Z"
   },
   {
    "duration": 2,
    "start_time": "2022-10-13T15:41:14.274Z"
   },
   {
    "duration": 295,
    "start_time": "2022-10-13T15:41:14.295Z"
   },
   {
    "duration": 11,
    "start_time": "2022-10-13T15:41:14.594Z"
   },
   {
    "duration": 339,
    "start_time": "2022-10-13T15:41:14.606Z"
   },
   {
    "duration": 11,
    "start_time": "2022-10-13T15:41:14.947Z"
   },
   {
    "duration": 8,
    "start_time": "2022-10-13T15:41:14.960Z"
   },
   {
    "duration": 1201,
    "start_time": "2022-10-13T15:41:14.969Z"
   },
   {
    "duration": 6,
    "start_time": "2022-10-13T15:41:16.172Z"
   },
   {
    "duration": 28,
    "start_time": "2022-10-13T15:41:16.179Z"
   },
   {
    "duration": 18,
    "start_time": "2022-10-13T15:41:16.208Z"
   },
   {
    "duration": 230,
    "start_time": "2022-10-13T15:41:16.229Z"
   },
   {
    "duration": 395,
    "start_time": "2022-10-13T15:41:16.461Z"
   },
   {
    "duration": 1714,
    "start_time": "2022-10-13T15:41:16.857Z"
   },
   {
    "duration": 1642,
    "start_time": "2022-10-13T15:41:18.574Z"
   },
   {
    "duration": 172,
    "start_time": "2022-10-13T15:41:20.217Z"
   },
   {
    "duration": 21,
    "start_time": "2022-10-13T15:41:20.394Z"
   },
   {
    "duration": 13,
    "start_time": "2022-10-13T15:41:20.416Z"
   },
   {
    "duration": 10,
    "start_time": "2022-10-13T15:41:20.430Z"
   },
   {
    "duration": 17,
    "start_time": "2022-10-13T15:41:20.441Z"
   },
   {
    "duration": 12,
    "start_time": "2022-10-13T15:41:20.459Z"
   },
   {
    "duration": 203,
    "start_time": "2022-10-13T15:41:20.472Z"
   },
   {
    "duration": 27,
    "start_time": "2022-10-13T15:41:20.677Z"
   },
   {
    "duration": 10,
    "start_time": "2022-10-13T15:41:20.705Z"
   },
   {
    "duration": 222,
    "start_time": "2022-10-13T15:41:20.716Z"
   },
   {
    "duration": 22,
    "start_time": "2022-10-13T15:41:20.939Z"
   },
   {
    "duration": 12,
    "start_time": "2022-10-13T15:41:20.962Z"
   },
   {
    "duration": 172,
    "start_time": "2022-10-13T15:41:20.976Z"
   },
   {
    "duration": 5,
    "start_time": "2022-10-13T15:41:21.149Z"
   },
   {
    "duration": 23,
    "start_time": "2022-10-13T15:44:31.740Z"
   },
   {
    "duration": 12,
    "start_time": "2022-10-13T15:44:32.179Z"
   },
   {
    "duration": 297,
    "start_time": "2022-10-13T15:44:32.700Z"
   },
   {
    "duration": 200,
    "start_time": "2022-10-13T15:44:38.983Z"
   },
   {
    "duration": 22,
    "start_time": "2022-10-13T15:44:53.195Z"
   },
   {
    "duration": 12,
    "start_time": "2022-10-13T15:44:53.504Z"
   },
   {
    "duration": 157,
    "start_time": "2022-10-13T15:44:53.877Z"
   },
   {
    "duration": 51,
    "start_time": "2022-10-13T15:57:32.610Z"
   },
   {
    "duration": 112,
    "start_time": "2022-10-13T16:04:30.302Z"
   },
   {
    "duration": 28,
    "start_time": "2022-10-13T16:04:56.120Z"
   },
   {
    "duration": 17,
    "start_time": "2022-10-13T16:05:11.444Z"
   },
   {
    "duration": 18,
    "start_time": "2022-10-13T16:05:16.050Z"
   },
   {
    "duration": 8,
    "start_time": "2022-10-13T16:05:23.891Z"
   },
   {
    "duration": 46,
    "start_time": "2022-10-13T16:06:01.469Z"
   },
   {
    "duration": 12,
    "start_time": "2022-10-13T16:06:01.846Z"
   },
   {
    "duration": 9,
    "start_time": "2022-10-13T16:06:03.476Z"
   },
   {
    "duration": 87,
    "start_time": "2022-10-13T16:14:39.567Z"
   },
   {
    "duration": 72,
    "start_time": "2022-10-13T16:14:52.312Z"
   },
   {
    "duration": 123,
    "start_time": "2022-10-13T16:15:04.965Z"
   },
   {
    "duration": 72,
    "start_time": "2022-10-13T16:15:18.503Z"
   },
   {
    "duration": 178,
    "start_time": "2022-10-13T16:16:38.930Z"
   },
   {
    "duration": 19,
    "start_time": "2022-10-13T16:17:09.905Z"
   },
   {
    "duration": 20,
    "start_time": "2022-10-13T16:17:16.503Z"
   },
   {
    "duration": 10,
    "start_time": "2022-10-13T16:18:03.253Z"
   },
   {
    "duration": 10,
    "start_time": "2022-10-13T16:18:34.811Z"
   },
   {
    "duration": 10,
    "start_time": "2022-10-13T16:18:38.600Z"
   },
   {
    "duration": 11,
    "start_time": "2022-10-13T16:19:35.138Z"
   },
   {
    "duration": 21,
    "start_time": "2022-10-13T16:19:42.183Z"
   },
   {
    "duration": 10,
    "start_time": "2022-10-13T16:19:53.422Z"
   },
   {
    "duration": 79,
    "start_time": "2022-10-13T16:25:15.379Z"
   },
   {
    "duration": 66,
    "start_time": "2022-10-13T16:25:33.577Z"
   },
   {
    "duration": 0,
    "start_time": "2022-10-13T16:25:46.908Z"
   },
   {
    "duration": 1132,
    "start_time": "2022-10-13T16:25:54.116Z"
   },
   {
    "duration": 20,
    "start_time": "2022-10-13T16:25:55.250Z"
   },
   {
    "duration": 15,
    "start_time": "2022-10-13T16:25:55.271Z"
   },
   {
    "duration": 8,
    "start_time": "2022-10-13T16:25:55.288Z"
   },
   {
    "duration": 6,
    "start_time": "2022-10-13T16:25:55.297Z"
   },
   {
    "duration": 6,
    "start_time": "2022-10-13T16:25:55.304Z"
   },
   {
    "duration": 9,
    "start_time": "2022-10-13T16:25:55.311Z"
   },
   {
    "duration": 13,
    "start_time": "2022-10-13T16:25:55.322Z"
   },
   {
    "duration": 4,
    "start_time": "2022-10-13T16:25:55.336Z"
   },
   {
    "duration": 4,
    "start_time": "2022-10-13T16:25:55.344Z"
   },
   {
    "duration": 5,
    "start_time": "2022-10-13T16:25:55.350Z"
   },
   {
    "duration": 40,
    "start_time": "2022-10-13T16:25:55.357Z"
   },
   {
    "duration": 6,
    "start_time": "2022-10-13T16:25:55.399Z"
   },
   {
    "duration": 4,
    "start_time": "2022-10-13T16:25:55.406Z"
   },
   {
    "duration": 8,
    "start_time": "2022-10-13T16:25:55.411Z"
   },
   {
    "duration": 9,
    "start_time": "2022-10-13T16:25:55.420Z"
   },
   {
    "duration": 5,
    "start_time": "2022-10-13T16:25:55.430Z"
   },
   {
    "duration": 5,
    "start_time": "2022-10-13T16:25:55.437Z"
   },
   {
    "duration": 20,
    "start_time": "2022-10-13T16:25:55.444Z"
   },
   {
    "duration": 13,
    "start_time": "2022-10-13T16:25:55.496Z"
   },
   {
    "duration": 12,
    "start_time": "2022-10-13T16:25:55.510Z"
   },
   {
    "duration": 5,
    "start_time": "2022-10-13T16:25:55.523Z"
   },
   {
    "duration": 11,
    "start_time": "2022-10-13T16:25:55.529Z"
   },
   {
    "duration": 4,
    "start_time": "2022-10-13T16:25:55.542Z"
   },
   {
    "duration": 10,
    "start_time": "2022-10-13T16:25:55.548Z"
   },
   {
    "duration": 37,
    "start_time": "2022-10-13T16:25:55.559Z"
   },
   {
    "duration": 5,
    "start_time": "2022-10-13T16:25:55.597Z"
   },
   {
    "duration": 16,
    "start_time": "2022-10-13T16:25:55.605Z"
   },
   {
    "duration": 269,
    "start_time": "2022-10-13T16:25:55.623Z"
   },
   {
    "duration": 13,
    "start_time": "2022-10-13T16:25:55.895Z"
   },
   {
    "duration": 2,
    "start_time": "2022-10-13T16:25:55.910Z"
   },
   {
    "duration": 320,
    "start_time": "2022-10-13T16:25:55.914Z"
   },
   {
    "duration": 11,
    "start_time": "2022-10-13T16:25:56.235Z"
   },
   {
    "duration": 362,
    "start_time": "2022-10-13T16:25:56.247Z"
   },
   {
    "duration": 15,
    "start_time": "2022-10-13T16:25:56.611Z"
   },
   {
    "duration": 9,
    "start_time": "2022-10-13T16:25:56.629Z"
   },
   {
    "duration": 1242,
    "start_time": "2022-10-13T16:25:56.640Z"
   },
   {
    "duration": 6,
    "start_time": "2022-10-13T16:25:57.884Z"
   },
   {
    "duration": 16,
    "start_time": "2022-10-13T16:25:57.892Z"
   },
   {
    "duration": 14,
    "start_time": "2022-10-13T16:25:57.910Z"
   },
   {
    "duration": 258,
    "start_time": "2022-10-13T16:25:57.926Z"
   },
   {
    "duration": 325,
    "start_time": "2022-10-13T16:25:58.186Z"
   },
   {
    "duration": 1681,
    "start_time": "2022-10-13T16:25:58.513Z"
   },
   {
    "duration": 1655,
    "start_time": "2022-10-13T16:26:00.196Z"
   },
   {
    "duration": 169,
    "start_time": "2022-10-13T16:26:01.853Z"
   },
   {
    "duration": 21,
    "start_time": "2022-10-13T16:26:02.024Z"
   },
   {
    "duration": 19,
    "start_time": "2022-10-13T16:26:02.047Z"
   },
   {
    "duration": 42,
    "start_time": "2022-10-13T16:26:02.068Z"
   },
   {
    "duration": 26,
    "start_time": "2022-10-13T16:26:02.111Z"
   },
   {
    "duration": 15,
    "start_time": "2022-10-13T16:26:02.139Z"
   },
   {
    "duration": 196,
    "start_time": "2022-10-13T16:26:02.156Z"
   },
   {
    "duration": 21,
    "start_time": "2022-10-13T16:26:02.354Z"
   },
   {
    "duration": 21,
    "start_time": "2022-10-13T16:26:02.376Z"
   },
   {
    "duration": 215,
    "start_time": "2022-10-13T16:26:02.398Z"
   },
   {
    "duration": 22,
    "start_time": "2022-10-13T16:26:02.615Z"
   },
   {
    "duration": 9,
    "start_time": "2022-10-13T16:26:02.639Z"
   },
   {
    "duration": 174,
    "start_time": "2022-10-13T16:26:02.649Z"
   },
   {
    "duration": 27,
    "start_time": "2022-10-13T16:26:02.824Z"
   },
   {
    "duration": 8,
    "start_time": "2022-10-13T16:26:02.853Z"
   },
   {
    "duration": 11,
    "start_time": "2022-10-13T16:26:02.862Z"
   },
   {
    "duration": 72,
    "start_time": "2022-10-13T16:26:02.894Z"
   },
   {
    "duration": 0,
    "start_time": "2022-10-13T16:26:02.968Z"
   },
   {
    "duration": 97,
    "start_time": "2022-10-13T16:26:18.566Z"
   },
   {
    "duration": 74,
    "start_time": "2022-10-13T16:26:23.273Z"
   },
   {
    "duration": 8,
    "start_time": "2022-10-13T16:26:27.443Z"
   },
   {
    "duration": 6,
    "start_time": "2022-10-13T16:26:28.330Z"
   },
   {
    "duration": 86,
    "start_time": "2022-10-13T16:26:38.387Z"
   },
   {
    "duration": 0,
    "start_time": "2022-10-13T16:26:38.474Z"
   },
   {
    "duration": 10,
    "start_time": "2022-10-13T16:27:25.541Z"
   },
   {
    "duration": 5,
    "start_time": "2022-10-13T16:28:40.611Z"
   },
   {
    "duration": 11,
    "start_time": "2022-10-13T16:29:11.459Z"
   },
   {
    "duration": 4,
    "start_time": "2022-10-13T16:29:13.621Z"
   },
   {
    "duration": 10,
    "start_time": "2022-10-13T16:29:23.247Z"
   },
   {
    "duration": 87,
    "start_time": "2022-10-13T16:29:56.029Z"
   },
   {
    "duration": 9,
    "start_time": "2022-10-13T16:30:03.684Z"
   },
   {
    "duration": 10,
    "start_time": "2022-10-13T16:30:11.165Z"
   },
   {
    "duration": 1200,
    "start_time": "2022-10-13T16:34:04.748Z"
   },
   {
    "duration": 23,
    "start_time": "2022-10-13T16:34:05.950Z"
   },
   {
    "duration": 14,
    "start_time": "2022-10-13T16:34:05.975Z"
   },
   {
    "duration": 9,
    "start_time": "2022-10-13T16:34:05.991Z"
   },
   {
    "duration": 7,
    "start_time": "2022-10-13T16:34:06.001Z"
   },
   {
    "duration": 6,
    "start_time": "2022-10-13T16:34:06.010Z"
   },
   {
    "duration": 6,
    "start_time": "2022-10-13T16:34:06.018Z"
   },
   {
    "duration": 13,
    "start_time": "2022-10-13T16:34:06.026Z"
   },
   {
    "duration": 4,
    "start_time": "2022-10-13T16:34:06.041Z"
   },
   {
    "duration": 9,
    "start_time": "2022-10-13T16:34:06.048Z"
   },
   {
    "duration": 38,
    "start_time": "2022-10-13T16:34:06.058Z"
   },
   {
    "duration": 10,
    "start_time": "2022-10-13T16:34:06.098Z"
   },
   {
    "duration": 13,
    "start_time": "2022-10-13T16:34:06.110Z"
   },
   {
    "duration": 6,
    "start_time": "2022-10-13T16:34:06.125Z"
   },
   {
    "duration": 12,
    "start_time": "2022-10-13T16:34:06.133Z"
   },
   {
    "duration": 10,
    "start_time": "2022-10-13T16:34:06.146Z"
   },
   {
    "duration": 5,
    "start_time": "2022-10-13T16:34:06.159Z"
   },
   {
    "duration": 30,
    "start_time": "2022-10-13T16:34:06.166Z"
   },
   {
    "duration": 15,
    "start_time": "2022-10-13T16:34:06.198Z"
   },
   {
    "duration": 12,
    "start_time": "2022-10-13T16:34:06.214Z"
   },
   {
    "duration": 13,
    "start_time": "2022-10-13T16:34:06.227Z"
   },
   {
    "duration": 6,
    "start_time": "2022-10-13T16:34:06.241Z"
   },
   {
    "duration": 58,
    "start_time": "2022-10-13T16:34:06.248Z"
   },
   {
    "duration": 6,
    "start_time": "2022-10-13T16:34:06.308Z"
   },
   {
    "duration": 12,
    "start_time": "2022-10-13T16:34:06.316Z"
   },
   {
    "duration": 13,
    "start_time": "2022-10-13T16:34:06.329Z"
   },
   {
    "duration": 7,
    "start_time": "2022-10-13T16:34:06.344Z"
   },
   {
    "duration": 19,
    "start_time": "2022-10-13T16:34:06.355Z"
   },
   {
    "duration": 359,
    "start_time": "2022-10-13T16:34:06.377Z"
   },
   {
    "duration": 18,
    "start_time": "2022-10-13T16:34:06.738Z"
   },
   {
    "duration": 4,
    "start_time": "2022-10-13T16:34:06.758Z"
   },
   {
    "duration": 343,
    "start_time": "2022-10-13T16:34:06.764Z"
   },
   {
    "duration": 10,
    "start_time": "2022-10-13T16:34:07.109Z"
   },
   {
    "duration": 346,
    "start_time": "2022-10-13T16:34:07.121Z"
   },
   {
    "duration": 12,
    "start_time": "2022-10-13T16:34:07.469Z"
   },
   {
    "duration": 17,
    "start_time": "2022-10-13T16:34:07.483Z"
   },
   {
    "duration": 1228,
    "start_time": "2022-10-13T16:34:07.502Z"
   },
   {
    "duration": 6,
    "start_time": "2022-10-13T16:34:08.732Z"
   },
   {
    "duration": 12,
    "start_time": "2022-10-13T16:34:08.740Z"
   },
   {
    "duration": 9,
    "start_time": "2022-10-13T16:34:08.754Z"
   },
   {
    "duration": 219,
    "start_time": "2022-10-13T16:34:08.764Z"
   },
   {
    "duration": 341,
    "start_time": "2022-10-13T16:34:08.985Z"
   },
   {
    "duration": 1684,
    "start_time": "2022-10-13T16:34:09.328Z"
   },
   {
    "duration": 1741,
    "start_time": "2022-10-13T16:34:11.014Z"
   },
   {
    "duration": 176,
    "start_time": "2022-10-13T16:34:12.756Z"
   },
   {
    "duration": 22,
    "start_time": "2022-10-13T16:34:12.934Z"
   },
   {
    "duration": 7,
    "start_time": "2022-10-13T16:34:12.958Z"
   },
   {
    "duration": 29,
    "start_time": "2022-10-13T16:34:12.967Z"
   },
   {
    "duration": 8,
    "start_time": "2022-10-13T16:34:12.998Z"
   },
   {
    "duration": 21,
    "start_time": "2022-10-13T16:34:13.008Z"
   },
   {
    "duration": 202,
    "start_time": "2022-10-13T16:34:13.030Z"
   },
   {
    "duration": 22,
    "start_time": "2022-10-13T16:34:13.233Z"
   },
   {
    "duration": 10,
    "start_time": "2022-10-13T16:34:13.257Z"
   },
   {
    "duration": 231,
    "start_time": "2022-10-13T16:34:13.268Z"
   },
   {
    "duration": 22,
    "start_time": "2022-10-13T16:34:13.501Z"
   },
   {
    "duration": 13,
    "start_time": "2022-10-13T16:34:13.525Z"
   },
   {
    "duration": 175,
    "start_time": "2022-10-13T16:34:13.539Z"
   },
   {
    "duration": 28,
    "start_time": "2022-10-13T16:34:13.716Z"
   },
   {
    "duration": 9,
    "start_time": "2022-10-13T16:34:13.745Z"
   },
   {
    "duration": 9,
    "start_time": "2022-10-13T16:34:13.756Z"
   },
   {
    "duration": 36,
    "start_time": "2022-10-13T16:34:13.767Z"
   },
   {
    "duration": 7,
    "start_time": "2022-10-13T16:34:13.805Z"
   },
   {
    "duration": 10,
    "start_time": "2022-10-13T16:34:45.616Z"
   },
   {
    "duration": 120,
    "start_time": "2022-10-13T16:40:21.562Z"
   },
   {
    "duration": 9,
    "start_time": "2022-10-13T16:40:38.181Z"
   },
   {
    "duration": 37,
    "start_time": "2022-10-13T16:42:09.627Z"
   },
   {
    "duration": 11,
    "start_time": "2022-10-13T16:42:21.284Z"
   },
   {
    "duration": 7,
    "start_time": "2022-10-13T16:43:05.642Z"
   },
   {
    "duration": 12,
    "start_time": "2022-10-13T16:44:00.803Z"
   },
   {
    "duration": 11,
    "start_time": "2022-10-13T16:44:07.244Z"
   },
   {
    "duration": 5,
    "start_time": "2022-10-13T16:44:13.693Z"
   },
   {
    "duration": 5,
    "start_time": "2022-10-13T16:44:16.668Z"
   },
   {
    "duration": 124,
    "start_time": "2022-10-13T16:46:56.690Z"
   },
   {
    "duration": 11,
    "start_time": "2022-10-13T16:47:18.672Z"
   },
   {
    "duration": 10,
    "start_time": "2022-10-13T16:49:32.174Z"
   },
   {
    "duration": 4,
    "start_time": "2022-10-13T16:49:37.865Z"
   },
   {
    "duration": 5,
    "start_time": "2022-10-13T16:49:42.946Z"
   },
   {
    "duration": 4,
    "start_time": "2022-10-13T16:49:44.833Z"
   },
   {
    "duration": 12,
    "start_time": "2022-10-13T16:49:55.991Z"
   },
   {
    "duration": 6,
    "start_time": "2022-10-13T16:49:57.954Z"
   },
   {
    "duration": 10,
    "start_time": "2022-10-13T16:50:07.115Z"
   },
   {
    "duration": 4,
    "start_time": "2022-10-13T16:51:28.906Z"
   },
   {
    "duration": 11,
    "start_time": "2022-10-13T16:56:58.554Z"
   },
   {
    "duration": 5,
    "start_time": "2022-10-13T16:57:00.976Z"
   },
   {
    "duration": 5,
    "start_time": "2022-10-13T16:57:15.748Z"
   },
   {
    "duration": 5,
    "start_time": "2022-10-13T16:57:27.266Z"
   },
   {
    "duration": 12,
    "start_time": "2022-10-13T16:57:36.781Z"
   },
   {
    "duration": 11,
    "start_time": "2022-10-13T16:57:43.375Z"
   },
   {
    "duration": 5,
    "start_time": "2022-10-13T16:57:45.620Z"
   },
   {
    "duration": 30,
    "start_time": "2022-10-13T17:00:58.755Z"
   },
   {
    "duration": 5,
    "start_time": "2022-10-13T17:02:31.160Z"
   },
   {
    "duration": 10,
    "start_time": "2022-10-13T17:13:58.162Z"
   },
   {
    "duration": 5,
    "start_time": "2022-10-13T17:13:58.561Z"
   },
   {
    "duration": 10,
    "start_time": "2022-10-13T17:14:03.838Z"
   },
   {
    "duration": 4,
    "start_time": "2022-10-13T17:14:04.205Z"
   },
   {
    "duration": 13,
    "start_time": "2022-10-13T17:14:06.835Z"
   },
   {
    "duration": 5,
    "start_time": "2022-10-13T17:14:07.143Z"
   },
   {
    "duration": 5,
    "start_time": "2022-10-13T17:14:21.997Z"
   },
   {
    "duration": 5,
    "start_time": "2022-10-13T17:14:25.654Z"
   },
   {
    "duration": 13,
    "start_time": "2022-10-13T17:14:27.535Z"
   },
   {
    "duration": 5,
    "start_time": "2022-10-13T17:15:03.361Z"
   },
   {
    "duration": 5,
    "start_time": "2022-10-13T17:15:15.230Z"
   },
   {
    "duration": 16,
    "start_time": "2022-10-13T17:20:48.029Z"
   },
   {
    "duration": 177,
    "start_time": "2022-10-13T17:21:06.994Z"
   },
   {
    "duration": 75,
    "start_time": "2022-10-13T17:21:23.060Z"
   },
   {
    "duration": 162,
    "start_time": "2022-10-13T17:21:38.188Z"
   },
   {
    "duration": 174,
    "start_time": "2022-10-13T17:21:42.034Z"
   },
   {
    "duration": 7,
    "start_time": "2022-10-13T17:35:58.930Z"
   },
   {
    "duration": 7,
    "start_time": "2022-10-13T17:36:06.060Z"
   },
   {
    "duration": 6,
    "start_time": "2022-10-13T17:36:10.188Z"
   },
   {
    "duration": 8,
    "start_time": "2022-10-13T17:41:39.442Z"
   },
   {
    "duration": 8,
    "start_time": "2022-10-13T17:41:39.859Z"
   },
   {
    "duration": 7,
    "start_time": "2022-10-13T17:41:40.307Z"
   },
   {
    "duration": 210,
    "start_time": "2022-10-13T17:47:23.330Z"
   },
   {
    "duration": 1119,
    "start_time": "2022-10-13T17:51:01.727Z"
   },
   {
    "duration": 22,
    "start_time": "2022-10-13T17:51:02.847Z"
   },
   {
    "duration": 15,
    "start_time": "2022-10-13T17:51:02.871Z"
   },
   {
    "duration": 8,
    "start_time": "2022-10-13T17:51:02.888Z"
   },
   {
    "duration": 6,
    "start_time": "2022-10-13T17:51:02.899Z"
   },
   {
    "duration": 5,
    "start_time": "2022-10-13T17:51:02.906Z"
   },
   {
    "duration": 9,
    "start_time": "2022-10-13T17:51:02.913Z"
   },
   {
    "duration": 14,
    "start_time": "2022-10-13T17:51:02.924Z"
   },
   {
    "duration": 4,
    "start_time": "2022-10-13T17:51:02.939Z"
   },
   {
    "duration": 8,
    "start_time": "2022-10-13T17:51:02.944Z"
   },
   {
    "duration": 8,
    "start_time": "2022-10-13T17:51:02.954Z"
   },
   {
    "duration": 34,
    "start_time": "2022-10-13T17:51:02.964Z"
   },
   {
    "duration": 8,
    "start_time": "2022-10-13T17:51:02.999Z"
   },
   {
    "duration": 3,
    "start_time": "2022-10-13T17:51:03.010Z"
   },
   {
    "duration": 10,
    "start_time": "2022-10-13T17:51:03.014Z"
   },
   {
    "duration": 14,
    "start_time": "2022-10-13T17:51:03.026Z"
   },
   {
    "duration": 8,
    "start_time": "2022-10-13T17:51:03.042Z"
   },
   {
    "duration": 9,
    "start_time": "2022-10-13T17:51:03.051Z"
   },
   {
    "duration": 50,
    "start_time": "2022-10-13T17:51:03.062Z"
   },
   {
    "duration": 13,
    "start_time": "2022-10-13T17:51:03.113Z"
   },
   {
    "duration": 13,
    "start_time": "2022-10-13T17:51:03.128Z"
   },
   {
    "duration": 5,
    "start_time": "2022-10-13T17:51:03.143Z"
   },
   {
    "duration": 20,
    "start_time": "2022-10-13T17:51:03.150Z"
   },
   {
    "duration": 26,
    "start_time": "2022-10-13T17:51:03.172Z"
   },
   {
    "duration": 11,
    "start_time": "2022-10-13T17:51:03.200Z"
   },
   {
    "duration": 7,
    "start_time": "2022-10-13T17:51:03.212Z"
   },
   {
    "duration": 9,
    "start_time": "2022-10-13T17:51:03.221Z"
   },
   {
    "duration": 20,
    "start_time": "2022-10-13T17:51:03.231Z"
   },
   {
    "duration": 309,
    "start_time": "2022-10-13T17:51:03.252Z"
   },
   {
    "duration": 14,
    "start_time": "2022-10-13T17:51:03.562Z"
   },
   {
    "duration": 2,
    "start_time": "2022-10-13T17:51:03.578Z"
   },
   {
    "duration": 304,
    "start_time": "2022-10-13T17:51:03.595Z"
   },
   {
    "duration": 11,
    "start_time": "2022-10-13T17:51:03.900Z"
   },
   {
    "duration": 377,
    "start_time": "2022-10-13T17:51:03.912Z"
   },
   {
    "duration": 15,
    "start_time": "2022-10-13T17:51:04.291Z"
   },
   {
    "duration": 8,
    "start_time": "2022-10-13T17:51:04.308Z"
   },
   {
    "duration": 1260,
    "start_time": "2022-10-13T17:51:04.318Z"
   },
   {
    "duration": 6,
    "start_time": "2022-10-13T17:51:05.580Z"
   },
   {
    "duration": 12,
    "start_time": "2022-10-13T17:51:05.587Z"
   },
   {
    "duration": 12,
    "start_time": "2022-10-13T17:51:05.600Z"
   },
   {
    "duration": 220,
    "start_time": "2022-10-13T17:51:05.617Z"
   },
   {
    "duration": 325,
    "start_time": "2022-10-13T17:51:05.839Z"
   },
   {
    "duration": 1711,
    "start_time": "2022-10-13T17:51:06.166Z"
   },
   {
    "duration": 1586,
    "start_time": "2022-10-13T17:51:07.879Z"
   },
   {
    "duration": 171,
    "start_time": "2022-10-13T17:51:09.467Z"
   },
   {
    "duration": 21,
    "start_time": "2022-10-13T17:51:09.640Z"
   },
   {
    "duration": 7,
    "start_time": "2022-10-13T17:51:09.662Z"
   },
   {
    "duration": 9,
    "start_time": "2022-10-13T17:51:09.670Z"
   },
   {
    "duration": 6,
    "start_time": "2022-10-13T17:51:09.695Z"
   },
   {
    "duration": 15,
    "start_time": "2022-10-13T17:51:09.703Z"
   },
   {
    "duration": 198,
    "start_time": "2022-10-13T17:51:09.719Z"
   },
   {
    "duration": 22,
    "start_time": "2022-10-13T17:51:09.919Z"
   },
   {
    "duration": 5,
    "start_time": "2022-10-13T17:51:09.943Z"
   },
   {
    "duration": 10,
    "start_time": "2022-10-13T17:51:09.950Z"
   },
   {
    "duration": 21,
    "start_time": "2022-10-13T17:51:09.961Z"
   },
   {
    "duration": 19,
    "start_time": "2022-10-13T17:51:09.983Z"
   },
   {
    "duration": 214,
    "start_time": "2022-10-13T17:51:10.004Z"
   },
   {
    "duration": 20,
    "start_time": "2022-10-13T17:51:10.220Z"
   },
   {
    "duration": 10,
    "start_time": "2022-10-13T17:51:10.242Z"
   },
   {
    "duration": 10,
    "start_time": "2022-10-13T17:51:10.253Z"
   },
   {
    "duration": 8,
    "start_time": "2022-10-13T17:51:10.264Z"
   },
   {
    "duration": 24,
    "start_time": "2022-10-13T17:51:10.274Z"
   },
   {
    "duration": 165,
    "start_time": "2022-10-13T17:51:10.300Z"
   },
   {
    "duration": 10,
    "start_time": "2022-10-13T17:51:10.467Z"
   },
   {
    "duration": 18,
    "start_time": "2022-10-13T17:51:10.478Z"
   },
   {
    "duration": 11,
    "start_time": "2022-10-13T17:51:10.497Z"
   },
   {
    "duration": 6,
    "start_time": "2022-10-13T17:51:10.510Z"
   },
   {
    "duration": 1116,
    "start_time": "2022-10-14T09:36:09.059Z"
   },
   {
    "duration": 19,
    "start_time": "2022-10-14T09:36:10.177Z"
   },
   {
    "duration": 14,
    "start_time": "2022-10-14T09:36:10.198Z"
   },
   {
    "duration": 8,
    "start_time": "2022-10-14T09:36:10.214Z"
   },
   {
    "duration": 6,
    "start_time": "2022-10-14T09:36:10.224Z"
   },
   {
    "duration": 9,
    "start_time": "2022-10-14T09:36:10.231Z"
   },
   {
    "duration": 5,
    "start_time": "2022-10-14T09:36:10.242Z"
   },
   {
    "duration": 16,
    "start_time": "2022-10-14T09:36:10.248Z"
   },
   {
    "duration": 4,
    "start_time": "2022-10-14T09:36:10.265Z"
   },
   {
    "duration": 7,
    "start_time": "2022-10-14T09:36:10.272Z"
   },
   {
    "duration": 30,
    "start_time": "2022-10-14T09:36:10.281Z"
   },
   {
    "duration": 9,
    "start_time": "2022-10-14T09:36:10.313Z"
   },
   {
    "duration": 10,
    "start_time": "2022-10-14T09:36:10.323Z"
   },
   {
    "duration": 3,
    "start_time": "2022-10-14T09:36:10.334Z"
   },
   {
    "duration": 6,
    "start_time": "2022-10-14T09:36:10.339Z"
   },
   {
    "duration": 11,
    "start_time": "2022-10-14T09:36:10.346Z"
   },
   {
    "duration": 4,
    "start_time": "2022-10-14T09:36:10.359Z"
   },
   {
    "duration": 6,
    "start_time": "2022-10-14T09:36:10.365Z"
   },
   {
    "duration": 43,
    "start_time": "2022-10-14T09:36:10.373Z"
   },
   {
    "duration": 13,
    "start_time": "2022-10-14T09:36:10.418Z"
   },
   {
    "duration": 25,
    "start_time": "2022-10-14T09:36:10.433Z"
   },
   {
    "duration": 5,
    "start_time": "2022-10-14T09:36:10.460Z"
   },
   {
    "duration": 11,
    "start_time": "2022-10-14T09:36:10.467Z"
   },
   {
    "duration": 5,
    "start_time": "2022-10-14T09:36:10.479Z"
   },
   {
    "duration": 5,
    "start_time": "2022-10-14T09:36:10.508Z"
   },
   {
    "duration": 7,
    "start_time": "2022-10-14T09:36:10.515Z"
   },
   {
    "duration": 6,
    "start_time": "2022-10-14T09:36:10.524Z"
   },
   {
    "duration": 14,
    "start_time": "2022-10-14T09:36:10.533Z"
   },
   {
    "duration": 250,
    "start_time": "2022-10-14T09:36:10.548Z"
   },
   {
    "duration": 20,
    "start_time": "2022-10-14T09:36:10.800Z"
   },
   {
    "duration": 2,
    "start_time": "2022-10-14T09:36:10.822Z"
   },
   {
    "duration": 299,
    "start_time": "2022-10-14T09:36:10.825Z"
   },
   {
    "duration": 9,
    "start_time": "2022-10-14T09:36:11.126Z"
   },
   {
    "duration": 331,
    "start_time": "2022-10-14T09:36:11.137Z"
   },
   {
    "duration": 11,
    "start_time": "2022-10-14T09:36:11.470Z"
   },
   {
    "duration": 7,
    "start_time": "2022-10-14T09:36:11.483Z"
   },
   {
    "duration": 1213,
    "start_time": "2022-10-14T09:36:11.491Z"
   },
   {
    "duration": 7,
    "start_time": "2022-10-14T09:36:12.707Z"
   },
   {
    "duration": 17,
    "start_time": "2022-10-14T09:36:12.716Z"
   },
   {
    "duration": 13,
    "start_time": "2022-10-14T09:36:12.735Z"
   },
   {
    "duration": 230,
    "start_time": "2022-10-14T09:36:12.750Z"
   },
   {
    "duration": 342,
    "start_time": "2022-10-14T09:36:12.982Z"
   },
   {
    "duration": 1577,
    "start_time": "2022-10-14T09:36:13.326Z"
   },
   {
    "duration": 1533,
    "start_time": "2022-10-14T09:36:14.908Z"
   },
   {
    "duration": 161,
    "start_time": "2022-10-14T09:36:16.442Z"
   },
   {
    "duration": 20,
    "start_time": "2022-10-14T09:36:16.604Z"
   },
   {
    "duration": 38,
    "start_time": "2022-10-14T09:36:16.626Z"
   },
   {
    "duration": 39,
    "start_time": "2022-10-14T09:36:16.665Z"
   },
   {
    "duration": 43,
    "start_time": "2022-10-14T09:36:16.706Z"
   },
   {
    "duration": 39,
    "start_time": "2022-10-14T09:36:16.750Z"
   },
   {
    "duration": 220,
    "start_time": "2022-10-14T09:36:16.790Z"
   },
   {
    "duration": 21,
    "start_time": "2022-10-14T09:36:17.011Z"
   },
   {
    "duration": 32,
    "start_time": "2022-10-14T09:36:17.033Z"
   },
   {
    "duration": 26,
    "start_time": "2022-10-14T09:36:17.067Z"
   },
   {
    "duration": 39,
    "start_time": "2022-10-14T09:36:17.095Z"
   },
   {
    "duration": 38,
    "start_time": "2022-10-14T09:36:17.136Z"
   },
   {
    "duration": 214,
    "start_time": "2022-10-14T09:36:17.175Z"
   },
   {
    "duration": 25,
    "start_time": "2022-10-14T09:36:17.391Z"
   },
   {
    "duration": 49,
    "start_time": "2022-10-14T09:36:17.418Z"
   },
   {
    "duration": 28,
    "start_time": "2022-10-14T09:36:17.469Z"
   },
   {
    "duration": 26,
    "start_time": "2022-10-14T09:36:17.499Z"
   },
   {
    "duration": 50,
    "start_time": "2022-10-14T09:36:17.526Z"
   },
   {
    "duration": 164,
    "start_time": "2022-10-14T09:36:17.578Z"
   },
   {
    "duration": 10,
    "start_time": "2022-10-14T09:36:17.744Z"
   },
   {
    "duration": 25,
    "start_time": "2022-10-14T09:36:17.756Z"
   },
   {
    "duration": 35,
    "start_time": "2022-10-14T09:36:17.782Z"
   },
   {
    "duration": 20,
    "start_time": "2022-10-14T09:36:17.819Z"
   },
   {
    "duration": 20,
    "start_time": "2022-10-14T09:58:21.437Z"
   },
   {
    "duration": 7,
    "start_time": "2022-10-14T09:58:30.397Z"
   },
   {
    "duration": 1259,
    "start_time": "2022-10-14T11:58:54.082Z"
   },
   {
    "duration": 192,
    "start_time": "2022-10-14T11:58:55.344Z"
   },
   {
    "duration": 44,
    "start_time": "2022-10-16T13:01:54.316Z"
   },
   {
    "duration": 1404,
    "start_time": "2022-10-16T13:02:03.412Z"
   },
   {
    "duration": 193,
    "start_time": "2022-10-16T13:02:04.819Z"
   },
   {
    "duration": 31,
    "start_time": "2022-10-16T13:02:05.014Z"
   },
   {
    "duration": 24,
    "start_time": "2022-10-16T13:02:05.048Z"
   },
   {
    "duration": 24,
    "start_time": "2022-10-16T13:02:05.074Z"
   },
   {
    "duration": 6,
    "start_time": "2022-10-16T13:02:05.100Z"
   },
   {
    "duration": 5,
    "start_time": "2022-10-16T13:02:05.108Z"
   },
   {
    "duration": 8,
    "start_time": "2022-10-16T13:02:05.115Z"
   },
   {
    "duration": 15,
    "start_time": "2022-10-16T13:02:05.125Z"
   },
   {
    "duration": 5,
    "start_time": "2022-10-16T13:02:05.143Z"
   },
   {
    "duration": 48,
    "start_time": "2022-10-16T13:02:05.150Z"
   },
   {
    "duration": 10,
    "start_time": "2022-10-16T13:02:05.201Z"
   },
   {
    "duration": 8,
    "start_time": "2022-10-16T13:02:05.213Z"
   },
   {
    "duration": 8,
    "start_time": "2022-10-16T13:02:05.224Z"
   },
   {
    "duration": 4,
    "start_time": "2022-10-16T13:02:05.234Z"
   },
   {
    "duration": 7,
    "start_time": "2022-10-16T13:02:05.240Z"
   },
   {
    "duration": 45,
    "start_time": "2022-10-16T13:02:05.250Z"
   },
   {
    "duration": 12,
    "start_time": "2022-10-16T13:02:05.297Z"
   },
   {
    "duration": 15,
    "start_time": "2022-10-16T13:02:05.311Z"
   },
   {
    "duration": 20,
    "start_time": "2022-10-16T13:02:05.328Z"
   },
   {
    "duration": 13,
    "start_time": "2022-10-16T13:02:05.349Z"
   },
   {
    "duration": 34,
    "start_time": "2022-10-16T13:02:05.365Z"
   },
   {
    "duration": 1008,
    "start_time": "2022-10-16T13:02:05.401Z"
   },
   {
    "duration": 0,
    "start_time": "2022-10-16T13:02:06.428Z"
   },
   {
    "duration": 0,
    "start_time": "2022-10-16T13:02:06.431Z"
   },
   {
    "duration": 0,
    "start_time": "2022-10-16T13:02:06.432Z"
   },
   {
    "duration": 0,
    "start_time": "2022-10-16T13:02:06.433Z"
   },
   {
    "duration": 0,
    "start_time": "2022-10-16T13:02:06.435Z"
   },
   {
    "duration": 0,
    "start_time": "2022-10-16T13:02:06.436Z"
   },
   {
    "duration": 0,
    "start_time": "2022-10-16T13:02:06.438Z"
   },
   {
    "duration": 0,
    "start_time": "2022-10-16T13:02:06.439Z"
   },
   {
    "duration": 0,
    "start_time": "2022-10-16T13:02:06.441Z"
   },
   {
    "duration": 0,
    "start_time": "2022-10-16T13:02:06.442Z"
   },
   {
    "duration": 0,
    "start_time": "2022-10-16T13:02:06.444Z"
   },
   {
    "duration": 0,
    "start_time": "2022-10-16T13:02:06.445Z"
   },
   {
    "duration": 0,
    "start_time": "2022-10-16T13:02:06.447Z"
   },
   {
    "duration": 0,
    "start_time": "2022-10-16T13:02:06.448Z"
   },
   {
    "duration": 0,
    "start_time": "2022-10-16T13:02:06.450Z"
   },
   {
    "duration": 0,
    "start_time": "2022-10-16T13:02:06.452Z"
   },
   {
    "duration": 0,
    "start_time": "2022-10-16T13:02:06.453Z"
   },
   {
    "duration": 0,
    "start_time": "2022-10-16T13:02:06.454Z"
   },
   {
    "duration": 1,
    "start_time": "2022-10-16T13:02:06.455Z"
   },
   {
    "duration": 0,
    "start_time": "2022-10-16T13:02:06.457Z"
   },
   {
    "duration": 0,
    "start_time": "2022-10-16T13:02:06.458Z"
   },
   {
    "duration": 0,
    "start_time": "2022-10-16T13:02:06.460Z"
   },
   {
    "duration": 0,
    "start_time": "2022-10-16T13:02:06.462Z"
   },
   {
    "duration": 0,
    "start_time": "2022-10-16T13:02:06.463Z"
   },
   {
    "duration": 1,
    "start_time": "2022-10-16T13:02:06.464Z"
   },
   {
    "duration": 0,
    "start_time": "2022-10-16T13:02:06.466Z"
   },
   {
    "duration": 0,
    "start_time": "2022-10-16T13:02:06.467Z"
   },
   {
    "duration": 0,
    "start_time": "2022-10-16T13:02:06.496Z"
   },
   {
    "duration": 0,
    "start_time": "2022-10-16T13:02:06.498Z"
   },
   {
    "duration": 0,
    "start_time": "2022-10-16T13:02:06.500Z"
   },
   {
    "duration": 0,
    "start_time": "2022-10-16T13:02:06.501Z"
   },
   {
    "duration": 0,
    "start_time": "2022-10-16T13:02:06.503Z"
   },
   {
    "duration": 0,
    "start_time": "2022-10-16T13:02:06.504Z"
   },
   {
    "duration": 0,
    "start_time": "2022-10-16T13:02:06.505Z"
   },
   {
    "duration": 0,
    "start_time": "2022-10-16T13:02:06.506Z"
   },
   {
    "duration": 0,
    "start_time": "2022-10-16T13:02:06.509Z"
   },
   {
    "duration": 0,
    "start_time": "2022-10-16T13:02:06.510Z"
   },
   {
    "duration": 0,
    "start_time": "2022-10-16T13:02:06.512Z"
   },
   {
    "duration": 0,
    "start_time": "2022-10-16T13:02:06.514Z"
   },
   {
    "duration": 0,
    "start_time": "2022-10-16T13:02:06.516Z"
   },
   {
    "duration": 0,
    "start_time": "2022-10-16T13:02:06.517Z"
   },
   {
    "duration": 0,
    "start_time": "2022-10-16T13:02:06.518Z"
   },
   {
    "duration": 0,
    "start_time": "2022-10-16T13:02:06.520Z"
   },
   {
    "duration": 0,
    "start_time": "2022-10-16T13:02:06.521Z"
   },
   {
    "duration": 0,
    "start_time": "2022-10-16T13:02:06.524Z"
   },
   {
    "duration": 0,
    "start_time": "2022-10-16T13:02:06.526Z"
   },
   {
    "duration": 9,
    "start_time": "2022-10-16T13:02:56.013Z"
   },
   {
    "duration": 1176,
    "start_time": "2022-10-16T13:04:17.606Z"
   },
   {
    "duration": 53,
    "start_time": "2022-10-16T13:04:18.784Z"
   },
   {
    "duration": 20,
    "start_time": "2022-10-16T13:04:18.839Z"
   },
   {
    "duration": 14,
    "start_time": "2022-10-16T13:04:18.860Z"
   },
   {
    "duration": 8,
    "start_time": "2022-10-16T13:04:18.877Z"
   },
   {
    "duration": 8,
    "start_time": "2022-10-16T13:04:18.887Z"
   },
   {
    "duration": 8,
    "start_time": "2022-10-16T13:04:18.896Z"
   },
   {
    "duration": 7,
    "start_time": "2022-10-16T13:04:18.905Z"
   },
   {
    "duration": 13,
    "start_time": "2022-10-16T13:04:18.913Z"
   },
   {
    "duration": 4,
    "start_time": "2022-10-16T13:04:18.927Z"
   },
   {
    "duration": 6,
    "start_time": "2022-10-16T13:04:18.932Z"
   },
   {
    "duration": 10,
    "start_time": "2022-10-16T13:04:18.940Z"
   },
   {
    "duration": 7,
    "start_time": "2022-10-16T13:04:18.951Z"
   },
   {
    "duration": 35,
    "start_time": "2022-10-16T13:04:18.961Z"
   },
   {
    "duration": 4,
    "start_time": "2022-10-16T13:04:18.997Z"
   },
   {
    "duration": 7,
    "start_time": "2022-10-16T13:04:19.002Z"
   },
   {
    "duration": 12,
    "start_time": "2022-10-16T13:04:19.010Z"
   },
   {
    "duration": 9,
    "start_time": "2022-10-16T13:04:19.024Z"
   },
   {
    "duration": 7,
    "start_time": "2022-10-16T13:04:19.035Z"
   },
   {
    "duration": 22,
    "start_time": "2022-10-16T13:04:19.044Z"
   },
   {
    "duration": 32,
    "start_time": "2022-10-16T13:04:19.068Z"
   },
   {
    "duration": 14,
    "start_time": "2022-10-16T13:04:19.102Z"
   },
   {
    "duration": 6,
    "start_time": "2022-10-16T13:04:19.117Z"
   },
   {
    "duration": 20,
    "start_time": "2022-10-16T13:04:19.124Z"
   },
   {
    "duration": 5,
    "start_time": "2022-10-16T13:04:19.146Z"
   },
   {
    "duration": 8,
    "start_time": "2022-10-16T13:04:19.152Z"
   },
   {
    "duration": 6,
    "start_time": "2022-10-16T13:04:19.162Z"
   },
   {
    "duration": 27,
    "start_time": "2022-10-16T13:04:19.170Z"
   },
   {
    "duration": 16,
    "start_time": "2022-10-16T13:04:19.199Z"
   },
   {
    "duration": 266,
    "start_time": "2022-10-16T13:04:19.217Z"
   },
   {
    "duration": 17,
    "start_time": "2022-10-16T13:04:19.485Z"
   },
   {
    "duration": 3,
    "start_time": "2022-10-16T13:04:19.503Z"
   },
   {
    "duration": 308,
    "start_time": "2022-10-16T13:04:19.507Z"
   },
   {
    "duration": 10,
    "start_time": "2022-10-16T13:04:19.816Z"
   },
   {
    "duration": 340,
    "start_time": "2022-10-16T13:04:19.828Z"
   },
   {
    "duration": 12,
    "start_time": "2022-10-16T13:04:20.169Z"
   },
   {
    "duration": 20,
    "start_time": "2022-10-16T13:04:20.183Z"
   },
   {
    "duration": 1235,
    "start_time": "2022-10-16T13:04:20.205Z"
   },
   {
    "duration": 7,
    "start_time": "2022-10-16T13:04:21.442Z"
   },
   {
    "duration": 16,
    "start_time": "2022-10-16T13:04:21.451Z"
   },
   {
    "duration": 15,
    "start_time": "2022-10-16T13:04:21.472Z"
   },
   {
    "duration": 216,
    "start_time": "2022-10-16T13:04:21.489Z"
   },
   {
    "duration": 331,
    "start_time": "2022-10-16T13:04:21.706Z"
   },
   {
    "duration": 1671,
    "start_time": "2022-10-16T13:04:22.039Z"
   },
   {
    "duration": 2496,
    "start_time": "2022-10-16T13:04:23.712Z"
   },
   {
    "duration": 177,
    "start_time": "2022-10-16T13:04:26.210Z"
   },
   {
    "duration": 36,
    "start_time": "2022-10-16T13:04:26.389Z"
   },
   {
    "duration": 9,
    "start_time": "2022-10-16T13:04:26.427Z"
   },
   {
    "duration": 14,
    "start_time": "2022-10-16T13:04:26.437Z"
   },
   {
    "duration": 10,
    "start_time": "2022-10-16T13:04:26.453Z"
   },
   {
    "duration": 37,
    "start_time": "2022-10-16T13:04:26.465Z"
   },
   {
    "duration": 264,
    "start_time": "2022-10-16T13:04:26.503Z"
   },
   {
    "duration": 41,
    "start_time": "2022-10-16T13:04:26.769Z"
   },
   {
    "duration": 12,
    "start_time": "2022-10-16T13:04:26.812Z"
   },
   {
    "duration": 21,
    "start_time": "2022-10-16T13:04:26.826Z"
   },
   {
    "duration": 12,
    "start_time": "2022-10-16T13:04:26.850Z"
   },
   {
    "duration": 13,
    "start_time": "2022-10-16T13:04:26.864Z"
   },
   {
    "duration": 224,
    "start_time": "2022-10-16T13:04:26.879Z"
   },
   {
    "duration": 22,
    "start_time": "2022-10-16T13:04:27.105Z"
   },
   {
    "duration": 7,
    "start_time": "2022-10-16T13:04:27.129Z"
   },
   {
    "duration": 12,
    "start_time": "2022-10-16T13:04:27.137Z"
   },
   {
    "duration": 10,
    "start_time": "2022-10-16T13:04:27.150Z"
   },
   {
    "duration": 34,
    "start_time": "2022-10-16T13:04:27.162Z"
   },
   {
    "duration": 164,
    "start_time": "2022-10-16T13:04:27.198Z"
   },
   {
    "duration": 11,
    "start_time": "2022-10-16T13:04:27.364Z"
   },
   {
    "duration": 21,
    "start_time": "2022-10-16T13:04:27.376Z"
   },
   {
    "duration": 12,
    "start_time": "2022-10-16T13:04:27.399Z"
   },
   {
    "duration": 6,
    "start_time": "2022-10-16T13:04:27.412Z"
   },
   {
    "duration": 413,
    "start_time": "2022-10-16T13:05:08.434Z"
   },
   {
    "duration": 15,
    "start_time": "2022-10-16T13:09:34.356Z"
   },
   {
    "duration": 7,
    "start_time": "2022-10-16T13:09:58.744Z"
   },
   {
    "duration": 7,
    "start_time": "2022-10-16T13:10:07.044Z"
   },
   {
    "duration": 19,
    "start_time": "2022-10-16T13:10:17.444Z"
   },
   {
    "duration": 133,
    "start_time": "2022-10-16T13:11:41.982Z"
   },
   {
    "duration": 16,
    "start_time": "2022-10-16T13:11:51.230Z"
   },
   {
    "duration": 22,
    "start_time": "2022-10-16T13:11:55.416Z"
   },
   {
    "duration": 4,
    "start_time": "2022-10-16T13:12:08.412Z"
   },
   {
    "duration": 8,
    "start_time": "2022-10-16T13:12:12.670Z"
   },
   {
    "duration": 7,
    "start_time": "2022-10-16T13:12:55.403Z"
   },
   {
    "duration": 11,
    "start_time": "2022-10-16T13:12:59.917Z"
   },
   {
    "duration": 7,
    "start_time": "2022-10-16T13:13:05.159Z"
   },
   {
    "duration": 15,
    "start_time": "2022-10-16T13:13:24.525Z"
   },
   {
    "duration": 12,
    "start_time": "2022-10-16T13:13:33.722Z"
   },
   {
    "duration": 19,
    "start_time": "2022-10-16T13:14:18.317Z"
   },
   {
    "duration": 13,
    "start_time": "2022-10-16T13:14:40.234Z"
   },
   {
    "duration": 16,
    "start_time": "2022-10-16T13:14:52.280Z"
   },
   {
    "duration": 15,
    "start_time": "2022-10-16T13:15:02.449Z"
   },
   {
    "duration": 6,
    "start_time": "2022-10-16T13:15:37.025Z"
   },
   {
    "duration": 24,
    "start_time": "2022-10-16T13:16:48.093Z"
   },
   {
    "duration": 24,
    "start_time": "2022-10-16T13:16:53.092Z"
   },
   {
    "duration": 18,
    "start_time": "2022-10-16T13:16:58.045Z"
   },
   {
    "duration": 1146,
    "start_time": "2022-10-16T13:17:55.523Z"
   },
   {
    "duration": 10,
    "start_time": "2022-10-16T13:18:06.160Z"
   },
   {
    "duration": 14,
    "start_time": "2022-10-16T13:18:26.292Z"
   },
   {
    "duration": 9,
    "start_time": "2022-10-16T13:18:48.977Z"
   },
   {
    "duration": 10,
    "start_time": "2022-10-16T13:23:12.993Z"
   },
   {
    "duration": 9,
    "start_time": "2022-10-16T13:23:26.862Z"
   },
   {
    "duration": 11,
    "start_time": "2022-10-16T13:24:26.474Z"
   },
   {
    "duration": 10,
    "start_time": "2022-10-16T13:24:59.333Z"
   },
   {
    "duration": 166,
    "start_time": "2022-10-16T13:25:43.646Z"
   },
   {
    "duration": 21,
    "start_time": "2022-10-16T13:28:25.665Z"
   },
   {
    "duration": 7,
    "start_time": "2022-10-16T13:28:26.252Z"
   },
   {
    "duration": 7,
    "start_time": "2022-10-16T13:28:27.087Z"
   },
   {
    "duration": 7,
    "start_time": "2022-10-16T13:28:27.572Z"
   },
   {
    "duration": 11,
    "start_time": "2022-10-16T13:28:27.895Z"
   },
   {
    "duration": 183,
    "start_time": "2022-10-16T13:28:28.379Z"
   },
   {
    "duration": 23,
    "start_time": "2022-10-16T13:28:42.985Z"
   },
   {
    "duration": 8,
    "start_time": "2022-10-16T13:28:43.729Z"
   },
   {
    "duration": 7,
    "start_time": "2022-10-16T13:28:44.389Z"
   },
   {
    "duration": 8,
    "start_time": "2022-10-16T13:28:45.024Z"
   },
   {
    "duration": 12,
    "start_time": "2022-10-16T13:28:45.589Z"
   },
   {
    "duration": 183,
    "start_time": "2022-10-16T13:28:46.248Z"
   },
   {
    "duration": 6,
    "start_time": "2022-10-16T13:29:28.003Z"
   },
   {
    "duration": 8,
    "start_time": "2022-10-16T13:30:00.913Z"
   },
   {
    "duration": 7,
    "start_time": "2022-10-16T13:30:08.422Z"
   },
   {
    "duration": 24,
    "start_time": "2022-10-16T13:30:11.357Z"
   },
   {
    "duration": 7,
    "start_time": "2022-10-16T13:30:11.698Z"
   },
   {
    "duration": 6,
    "start_time": "2022-10-16T13:30:11.979Z"
   },
   {
    "duration": 8,
    "start_time": "2022-10-16T13:30:12.256Z"
   },
   {
    "duration": 11,
    "start_time": "2022-10-16T13:30:12.862Z"
   },
   {
    "duration": 189,
    "start_time": "2022-10-16T13:30:13.408Z"
   },
   {
    "duration": 194,
    "start_time": "2022-10-16T13:30:20.165Z"
   },
   {
    "duration": 5,
    "start_time": "2022-10-16T13:30:29.977Z"
   },
   {
    "duration": 7,
    "start_time": "2022-10-16T13:30:33.708Z"
   },
   {
    "duration": 4,
    "start_time": "2022-10-16T13:30:58.649Z"
   },
   {
    "duration": 11,
    "start_time": "2022-10-16T13:31:00.226Z"
   },
   {
    "duration": 9,
    "start_time": "2022-10-16T13:31:07.118Z"
   },
   {
    "duration": 9,
    "start_time": "2022-10-16T13:31:15.465Z"
   },
   {
    "duration": 10,
    "start_time": "2022-10-16T13:31:19.696Z"
   },
   {
    "duration": 15,
    "start_time": "2022-10-16T13:31:29.215Z"
   },
   {
    "duration": 1051,
    "start_time": "2022-10-16T13:31:49.714Z"
   },
   {
    "duration": 49,
    "start_time": "2022-10-16T13:31:50.767Z"
   },
   {
    "duration": 20,
    "start_time": "2022-10-16T13:31:50.818Z"
   },
   {
    "duration": 14,
    "start_time": "2022-10-16T13:31:50.841Z"
   },
   {
    "duration": 9,
    "start_time": "2022-10-16T13:31:50.857Z"
   },
   {
    "duration": 28,
    "start_time": "2022-10-16T13:31:50.867Z"
   },
   {
    "duration": 4,
    "start_time": "2022-10-16T13:31:50.897Z"
   },
   {
    "duration": 7,
    "start_time": "2022-10-16T13:31:50.902Z"
   },
   {
    "duration": 13,
    "start_time": "2022-10-16T13:31:50.910Z"
   },
   {
    "duration": 3,
    "start_time": "2022-10-16T13:31:50.925Z"
   },
   {
    "duration": 6,
    "start_time": "2022-10-16T13:31:50.930Z"
   },
   {
    "duration": 7,
    "start_time": "2022-10-16T13:31:50.938Z"
   },
   {
    "duration": 5,
    "start_time": "2022-10-16T13:31:50.947Z"
   },
   {
    "duration": 15,
    "start_time": "2022-10-16T13:31:50.954Z"
   },
   {
    "duration": 25,
    "start_time": "2022-10-16T13:31:50.971Z"
   },
   {
    "duration": 8,
    "start_time": "2022-10-16T13:31:50.998Z"
   },
   {
    "duration": 13,
    "start_time": "2022-10-16T13:31:51.007Z"
   },
   {
    "duration": 8,
    "start_time": "2022-10-16T13:31:51.022Z"
   },
   {
    "duration": 10,
    "start_time": "2022-10-16T13:31:51.032Z"
   },
   {
    "duration": 20,
    "start_time": "2022-10-16T13:31:51.044Z"
   },
   {
    "duration": 29,
    "start_time": "2022-10-16T13:31:51.066Z"
   },
   {
    "duration": 14,
    "start_time": "2022-10-16T13:31:51.096Z"
   },
   {
    "duration": 6,
    "start_time": "2022-10-16T13:31:51.111Z"
   },
   {
    "duration": 11,
    "start_time": "2022-10-16T13:31:51.118Z"
   },
   {
    "duration": 5,
    "start_time": "2022-10-16T13:31:51.131Z"
   },
   {
    "duration": 6,
    "start_time": "2022-10-16T13:31:51.138Z"
   },
   {
    "duration": 6,
    "start_time": "2022-10-16T13:31:51.146Z"
   },
   {
    "duration": 5,
    "start_time": "2022-10-16T13:31:51.156Z"
   },
   {
    "duration": 14,
    "start_time": "2022-10-16T13:31:51.196Z"
   },
   {
    "duration": 251,
    "start_time": "2022-10-16T13:31:51.212Z"
   },
   {
    "duration": 14,
    "start_time": "2022-10-16T13:31:51.466Z"
   },
   {
    "duration": 14,
    "start_time": "2022-10-16T13:31:51.482Z"
   },
   {
    "duration": 278,
    "start_time": "2022-10-16T13:31:51.498Z"
   },
   {
    "duration": 18,
    "start_time": "2022-10-16T13:31:51.778Z"
   },
   {
    "duration": 320,
    "start_time": "2022-10-16T13:31:51.797Z"
   },
   {
    "duration": 13,
    "start_time": "2022-10-16T13:31:52.119Z"
   },
   {
    "duration": 8,
    "start_time": "2022-10-16T13:31:52.133Z"
   },
   {
    "duration": 1221,
    "start_time": "2022-10-16T13:31:52.143Z"
   },
   {
    "duration": 6,
    "start_time": "2022-10-16T13:31:53.366Z"
   },
   {
    "duration": 12,
    "start_time": "2022-10-16T13:31:53.373Z"
   },
   {
    "duration": 9,
    "start_time": "2022-10-16T13:31:53.386Z"
   },
   {
    "duration": 221,
    "start_time": "2022-10-16T13:31:53.396Z"
   },
   {
    "duration": 347,
    "start_time": "2022-10-16T13:31:53.619Z"
   },
   {
    "duration": 2429,
    "start_time": "2022-10-16T13:31:53.968Z"
   },
   {
    "duration": 1751,
    "start_time": "2022-10-16T13:31:56.399Z"
   },
   {
    "duration": 11,
    "start_time": "2022-10-16T13:31:58.151Z"
   },
   {
    "duration": 175,
    "start_time": "2022-10-16T13:31:58.163Z"
   },
   {
    "duration": 21,
    "start_time": "2022-10-16T13:31:58.341Z"
   },
   {
    "duration": 7,
    "start_time": "2022-10-16T13:31:58.364Z"
   },
   {
    "duration": 24,
    "start_time": "2022-10-16T13:31:58.372Z"
   },
   {
    "duration": 7,
    "start_time": "2022-10-16T13:31:58.398Z"
   },
   {
    "duration": 13,
    "start_time": "2022-10-16T13:31:58.406Z"
   },
   {
    "duration": 199,
    "start_time": "2022-10-16T13:31:58.420Z"
   },
   {
    "duration": 22,
    "start_time": "2022-10-16T13:31:58.621Z"
   },
   {
    "duration": 7,
    "start_time": "2022-10-16T13:31:58.644Z"
   },
   {
    "duration": 9,
    "start_time": "2022-10-16T13:31:58.652Z"
   },
   {
    "duration": 9,
    "start_time": "2022-10-16T13:31:58.663Z"
   },
   {
    "duration": 29,
    "start_time": "2022-10-16T13:31:58.674Z"
   },
   {
    "duration": 209,
    "start_time": "2022-10-16T13:31:58.705Z"
   },
   {
    "duration": 23,
    "start_time": "2022-10-16T13:31:58.915Z"
   },
   {
    "duration": 6,
    "start_time": "2022-10-16T13:31:58.940Z"
   },
   {
    "duration": 16,
    "start_time": "2022-10-16T13:31:58.947Z"
   },
   {
    "duration": 12,
    "start_time": "2022-10-16T13:31:58.964Z"
   },
   {
    "duration": 24,
    "start_time": "2022-10-16T13:31:58.978Z"
   },
   {
    "duration": 214,
    "start_time": "2022-10-16T13:31:59.004Z"
   },
   {
    "duration": 5,
    "start_time": "2022-10-16T13:31:59.219Z"
   },
   {
    "duration": 13,
    "start_time": "2022-10-16T13:31:59.225Z"
   },
   {
    "duration": 9,
    "start_time": "2022-10-16T13:31:59.239Z"
   },
   {
    "duration": 10,
    "start_time": "2022-10-16T13:31:59.250Z"
   },
   {
    "duration": 5,
    "start_time": "2022-10-16T13:31:59.261Z"
   },
   {
    "duration": 98,
    "start_time": "2022-10-16T13:32:24.654Z"
   },
   {
    "duration": 7,
    "start_time": "2022-10-16T13:34:12.989Z"
   },
   {
    "duration": 22,
    "start_time": "2022-10-16T13:34:14.925Z"
   },
   {
    "duration": 7,
    "start_time": "2022-10-16T13:34:15.550Z"
   },
   {
    "duration": 7,
    "start_time": "2022-10-16T13:34:17.197Z"
   },
   {
    "duration": 7,
    "start_time": "2022-10-16T13:34:18.497Z"
   },
   {
    "duration": 10,
    "start_time": "2022-10-16T13:34:19.216Z"
   },
   {
    "duration": 258,
    "start_time": "2022-10-16T13:34:27.522Z"
   },
   {
    "duration": 160,
    "start_time": "2022-10-16T13:34:31.237Z"
   },
   {
    "duration": 19,
    "start_time": "2022-10-16T13:42:05.078Z"
   },
   {
    "duration": 16,
    "start_time": "2022-10-16T13:42:37.753Z"
   },
   {
    "duration": 879,
    "start_time": "2022-10-16T13:42:51.170Z"
   },
   {
    "duration": 915,
    "start_time": "2022-10-16T13:42:54.631Z"
   },
   {
    "duration": 1409,
    "start_time": "2022-10-16T13:43:14.140Z"
   },
   {
    "duration": 1302,
    "start_time": "2022-10-16T13:43:21.071Z"
   },
   {
    "duration": 1340,
    "start_time": "2022-10-16T13:43:36.927Z"
   },
   {
    "duration": 63,
    "start_time": "2022-10-16T13:43:38.269Z"
   },
   {
    "duration": 19,
    "start_time": "2022-10-16T13:43:38.334Z"
   },
   {
    "duration": 13,
    "start_time": "2022-10-16T13:43:38.354Z"
   },
   {
    "duration": 8,
    "start_time": "2022-10-16T13:43:38.368Z"
   },
   {
    "duration": 21,
    "start_time": "2022-10-16T13:43:38.398Z"
   },
   {
    "duration": 14,
    "start_time": "2022-10-16T13:43:38.424Z"
   },
   {
    "duration": 6,
    "start_time": "2022-10-16T13:43:38.439Z"
   },
   {
    "duration": 11,
    "start_time": "2022-10-16T13:43:38.447Z"
   },
   {
    "duration": 5,
    "start_time": "2022-10-16T13:43:38.459Z"
   },
   {
    "duration": 7,
    "start_time": "2022-10-16T13:43:38.465Z"
   },
   {
    "duration": 6,
    "start_time": "2022-10-16T13:43:38.473Z"
   },
   {
    "duration": 6,
    "start_time": "2022-10-16T13:43:38.481Z"
   },
   {
    "duration": 8,
    "start_time": "2022-10-16T13:43:38.499Z"
   },
   {
    "duration": 27,
    "start_time": "2022-10-16T13:43:38.508Z"
   },
   {
    "duration": 7,
    "start_time": "2022-10-16T13:43:38.536Z"
   },
   {
    "duration": 10,
    "start_time": "2022-10-16T13:43:38.544Z"
   },
   {
    "duration": 10,
    "start_time": "2022-10-16T13:43:38.555Z"
   },
   {
    "duration": 8,
    "start_time": "2022-10-16T13:43:38.566Z"
   },
   {
    "duration": 17,
    "start_time": "2022-10-16T13:43:38.575Z"
   },
   {
    "duration": 22,
    "start_time": "2022-10-16T13:43:38.594Z"
   },
   {
    "duration": 23,
    "start_time": "2022-10-16T13:43:38.620Z"
   },
   {
    "duration": 6,
    "start_time": "2022-10-16T13:43:38.644Z"
   },
   {
    "duration": 11,
    "start_time": "2022-10-16T13:43:38.651Z"
   },
   {
    "duration": 5,
    "start_time": "2022-10-16T13:43:38.664Z"
   },
   {
    "duration": 9,
    "start_time": "2022-10-16T13:43:38.670Z"
   },
   {
    "duration": 5,
    "start_time": "2022-10-16T13:43:38.680Z"
   },
   {
    "duration": 19,
    "start_time": "2022-10-16T13:43:38.686Z"
   },
   {
    "duration": 31,
    "start_time": "2022-10-16T13:43:38.706Z"
   },
   {
    "duration": 288,
    "start_time": "2022-10-16T13:43:38.738Z"
   },
   {
    "duration": 14,
    "start_time": "2022-10-16T13:43:39.027Z"
   },
   {
    "duration": 2,
    "start_time": "2022-10-16T13:43:39.043Z"
   },
   {
    "duration": 320,
    "start_time": "2022-10-16T13:43:39.047Z"
   },
   {
    "duration": 9,
    "start_time": "2022-10-16T13:43:39.369Z"
   },
   {
    "duration": 350,
    "start_time": "2022-10-16T13:43:39.380Z"
   },
   {
    "duration": 11,
    "start_time": "2022-10-16T13:43:39.731Z"
   },
   {
    "duration": 7,
    "start_time": "2022-10-16T13:43:39.744Z"
   },
   {
    "duration": 2264,
    "start_time": "2022-10-16T13:43:39.752Z"
   },
   {
    "duration": 6,
    "start_time": "2022-10-16T13:43:42.018Z"
   },
   {
    "duration": 13,
    "start_time": "2022-10-16T13:43:42.025Z"
   },
   {
    "duration": 7,
    "start_time": "2022-10-16T13:43:42.041Z"
   },
   {
    "duration": 228,
    "start_time": "2022-10-16T13:43:42.049Z"
   },
   {
    "duration": 348,
    "start_time": "2022-10-16T13:43:42.278Z"
   },
   {
    "duration": 1622,
    "start_time": "2022-10-16T13:43:42.628Z"
   },
   {
    "duration": 1596,
    "start_time": "2022-10-16T13:43:44.252Z"
   },
   {
    "duration": 9,
    "start_time": "2022-10-16T13:43:45.850Z"
   },
   {
    "duration": 183,
    "start_time": "2022-10-16T13:43:45.860Z"
   },
   {
    "duration": 20,
    "start_time": "2022-10-16T13:43:46.045Z"
   },
   {
    "duration": 16,
    "start_time": "2022-10-16T13:43:46.066Z"
   },
   {
    "duration": 25,
    "start_time": "2022-10-16T13:43:46.084Z"
   },
   {
    "duration": 17,
    "start_time": "2022-10-16T13:43:46.110Z"
   },
   {
    "duration": 28,
    "start_time": "2022-10-16T13:43:46.128Z"
   },
   {
    "duration": 189,
    "start_time": "2022-10-16T13:43:46.158Z"
   },
   {
    "duration": 20,
    "start_time": "2022-10-16T13:43:46.349Z"
   },
   {
    "duration": 11,
    "start_time": "2022-10-16T13:43:46.370Z"
   },
   {
    "duration": 17,
    "start_time": "2022-10-16T13:43:46.382Z"
   },
   {
    "duration": 29,
    "start_time": "2022-10-16T13:43:46.400Z"
   },
   {
    "duration": 17,
    "start_time": "2022-10-16T13:43:46.431Z"
   },
   {
    "duration": 245,
    "start_time": "2022-10-16T13:43:46.450Z"
   },
   {
    "duration": 17,
    "start_time": "2022-10-16T13:43:46.703Z"
   },
   {
    "duration": 32,
    "start_time": "2022-10-16T13:43:46.722Z"
   },
   {
    "duration": 8,
    "start_time": "2022-10-16T13:43:46.757Z"
   },
   {
    "duration": 39,
    "start_time": "2022-10-16T13:43:46.767Z"
   },
   {
    "duration": 17,
    "start_time": "2022-10-16T13:43:46.809Z"
   },
   {
    "duration": 14,
    "start_time": "2022-10-16T13:43:46.828Z"
   },
   {
    "duration": 203,
    "start_time": "2022-10-16T13:43:46.844Z"
   },
   {
    "duration": 10,
    "start_time": "2022-10-16T13:43:47.049Z"
   },
   {
    "duration": 10,
    "start_time": "2022-10-16T13:43:47.060Z"
   },
   {
    "duration": 38,
    "start_time": "2022-10-16T13:43:47.071Z"
   },
   {
    "duration": 4,
    "start_time": "2022-10-16T13:43:47.111Z"
   },
   {
    "duration": 17,
    "start_time": "2022-10-16T13:44:30.130Z"
   },
   {
    "duration": 108,
    "start_time": "2022-10-16T13:44:49.442Z"
   },
   {
    "duration": 21,
    "start_time": "2022-10-16T13:44:53.516Z"
   },
   {
    "duration": 21,
    "start_time": "2022-10-16T13:45:51.113Z"
   },
   {
    "duration": 10,
    "start_time": "2022-10-16T13:46:13.688Z"
   },
   {
    "duration": 11,
    "start_time": "2022-10-16T13:46:23.187Z"
   },
   {
    "duration": 7,
    "start_time": "2022-10-16T13:46:36.520Z"
   },
   {
    "duration": 10,
    "start_time": "2022-10-16T13:46:44.856Z"
   },
   {
    "duration": 1229,
    "start_time": "2022-10-16T13:46:49.910Z"
   },
   {
    "duration": 82,
    "start_time": "2022-10-16T13:46:51.142Z"
   },
   {
    "duration": 74,
    "start_time": "2022-10-16T13:46:51.226Z"
   },
   {
    "duration": 13,
    "start_time": "2022-10-16T13:46:51.302Z"
   },
   {
    "duration": 11,
    "start_time": "2022-10-16T13:46:51.317Z"
   },
   {
    "duration": 11,
    "start_time": "2022-10-16T13:46:51.330Z"
   },
   {
    "duration": 53,
    "start_time": "2022-10-16T13:46:51.343Z"
   },
   {
    "duration": 5,
    "start_time": "2022-10-16T13:46:51.398Z"
   },
   {
    "duration": 19,
    "start_time": "2022-10-16T13:46:51.404Z"
   },
   {
    "duration": 4,
    "start_time": "2022-10-16T13:46:51.425Z"
   },
   {
    "duration": 8,
    "start_time": "2022-10-16T13:46:51.430Z"
   },
   {
    "duration": 8,
    "start_time": "2022-10-16T13:46:51.440Z"
   },
   {
    "duration": 4,
    "start_time": "2022-10-16T13:46:51.496Z"
   },
   {
    "duration": 12,
    "start_time": "2022-10-16T13:46:51.501Z"
   },
   {
    "duration": 3,
    "start_time": "2022-10-16T13:46:51.514Z"
   },
   {
    "duration": 15,
    "start_time": "2022-10-16T13:46:51.518Z"
   },
   {
    "duration": 10,
    "start_time": "2022-10-16T13:46:51.534Z"
   },
   {
    "duration": 53,
    "start_time": "2022-10-16T13:46:51.546Z"
   },
   {
    "duration": 7,
    "start_time": "2022-10-16T13:46:51.601Z"
   },
   {
    "duration": 19,
    "start_time": "2022-10-16T13:46:51.609Z"
   },
   {
    "duration": 11,
    "start_time": "2022-10-16T13:46:51.629Z"
   },
   {
    "duration": 62,
    "start_time": "2022-10-16T13:46:51.642Z"
   },
   {
    "duration": 25,
    "start_time": "2022-10-16T13:46:51.706Z"
   },
   {
    "duration": 11,
    "start_time": "2022-10-16T13:46:51.733Z"
   },
   {
    "duration": 5,
    "start_time": "2022-10-16T13:46:51.795Z"
   },
   {
    "duration": 9,
    "start_time": "2022-10-16T13:46:51.802Z"
   },
   {
    "duration": 5,
    "start_time": "2022-10-16T13:46:51.813Z"
   },
   {
    "duration": 3,
    "start_time": "2022-10-16T13:46:51.821Z"
   },
   {
    "duration": 7,
    "start_time": "2022-10-16T13:46:51.826Z"
   },
   {
    "duration": 6,
    "start_time": "2022-10-16T13:46:51.834Z"
   },
   {
    "duration": 64,
    "start_time": "2022-10-16T13:46:51.841Z"
   },
   {
    "duration": 522,
    "start_time": "2022-10-16T13:46:51.907Z"
   },
   {
    "duration": 11,
    "start_time": "2022-10-16T13:46:52.430Z"
   },
   {
    "duration": 3,
    "start_time": "2022-10-16T13:46:52.495Z"
   },
   {
    "duration": 325,
    "start_time": "2022-10-16T13:46:52.499Z"
   },
   {
    "duration": 12,
    "start_time": "2022-10-16T13:46:52.826Z"
   },
   {
    "duration": 186,
    "start_time": "2022-10-16T13:46:52.840Z"
   },
   {
    "duration": 11,
    "start_time": "2022-10-16T13:46:53.028Z"
   },
   {
    "duration": 23,
    "start_time": "2022-10-16T13:46:53.041Z"
   },
   {
    "duration": 253,
    "start_time": "2022-10-16T13:46:53.066Z"
   },
   {
    "duration": 5,
    "start_time": "2022-10-16T13:46:53.321Z"
   },
   {
    "duration": 21,
    "start_time": "2022-10-16T13:46:53.327Z"
   },
   {
    "duration": 18,
    "start_time": "2022-10-16T13:46:53.349Z"
   },
   {
    "duration": 182,
    "start_time": "2022-10-16T13:46:53.369Z"
   },
   {
    "duration": 252,
    "start_time": "2022-10-16T13:46:53.553Z"
   },
   {
    "duration": 698,
    "start_time": "2022-10-16T13:46:53.807Z"
   },
   {
    "duration": 522,
    "start_time": "2022-10-16T13:46:54.506Z"
   },
   {
    "duration": 9,
    "start_time": "2022-10-16T13:46:55.029Z"
   },
   {
    "duration": 283,
    "start_time": "2022-10-16T13:46:55.040Z"
   },
   {
    "duration": 21,
    "start_time": "2022-10-16T13:46:55.325Z"
   },
   {
    "duration": 52,
    "start_time": "2022-10-16T13:46:55.347Z"
   },
   {
    "duration": 9,
    "start_time": "2022-10-16T13:46:55.401Z"
   },
   {
    "duration": 7,
    "start_time": "2022-10-16T13:46:55.412Z"
   },
   {
    "duration": 11,
    "start_time": "2022-10-16T13:46:55.420Z"
   },
   {
    "duration": 154,
    "start_time": "2022-10-16T13:46:55.432Z"
   },
   {
    "duration": 25,
    "start_time": "2022-10-16T13:46:55.588Z"
   },
   {
    "duration": 19,
    "start_time": "2022-10-16T13:46:55.615Z"
   },
   {
    "duration": 8,
    "start_time": "2022-10-16T13:46:55.636Z"
   },
   {
    "duration": 14,
    "start_time": "2022-10-16T13:46:55.645Z"
   },
   {
    "duration": 11,
    "start_time": "2022-10-16T13:46:55.660Z"
   },
   {
    "duration": 155,
    "start_time": "2022-10-16T13:46:55.673Z"
   },
   {
    "duration": 7,
    "start_time": "2022-10-16T13:46:55.829Z"
   },
   {
    "duration": 20,
    "start_time": "2022-10-16T13:46:55.837Z"
   },
   {
    "duration": 17,
    "start_time": "2022-10-16T13:46:55.858Z"
   },
   {
    "duration": 21,
    "start_time": "2022-10-16T13:46:55.877Z"
   },
   {
    "duration": 10,
    "start_time": "2022-10-16T13:46:55.899Z"
   },
   {
    "duration": 11,
    "start_time": "2022-10-16T13:46:55.910Z"
   },
   {
    "duration": 155,
    "start_time": "2022-10-16T13:46:55.923Z"
   },
   {
    "duration": 15,
    "start_time": "2022-10-16T13:46:56.080Z"
   },
   {
    "duration": 9,
    "start_time": "2022-10-16T13:46:56.097Z"
   },
   {
    "duration": 13,
    "start_time": "2022-10-16T13:46:56.107Z"
   },
   {
    "duration": 5,
    "start_time": "2022-10-16T13:46:56.122Z"
   },
   {
    "duration": 10,
    "start_time": "2022-10-16T13:47:42.605Z"
   },
   {
    "duration": 97,
    "start_time": "2022-10-16T13:50:21.876Z"
   },
   {
    "duration": 240,
    "start_time": "2022-10-16T13:50:26.050Z"
   },
   {
    "duration": 238,
    "start_time": "2022-10-16T13:50:33.677Z"
   },
   {
    "duration": 226,
    "start_time": "2022-10-16T13:50:45.256Z"
   },
   {
    "duration": 155,
    "start_time": "2022-10-16T13:51:11.111Z"
   },
   {
    "duration": 112,
    "start_time": "2022-10-16T13:51:14.766Z"
   },
   {
    "duration": 136,
    "start_time": "2022-10-16T13:51:23.299Z"
   },
   {
    "duration": 1082,
    "start_time": "2022-10-16T13:51:40.343Z"
   },
   {
    "duration": 51,
    "start_time": "2022-10-16T13:51:41.426Z"
   },
   {
    "duration": 23,
    "start_time": "2022-10-16T13:51:41.478Z"
   },
   {
    "duration": 16,
    "start_time": "2022-10-16T13:51:41.503Z"
   },
   {
    "duration": 10,
    "start_time": "2022-10-16T13:51:41.521Z"
   },
   {
    "duration": 8,
    "start_time": "2022-10-16T13:51:41.532Z"
   },
   {
    "duration": 4,
    "start_time": "2022-10-16T13:51:41.542Z"
   },
   {
    "duration": 7,
    "start_time": "2022-10-16T13:51:41.548Z"
   },
   {
    "duration": 39,
    "start_time": "2022-10-16T13:51:41.557Z"
   },
   {
    "duration": 4,
    "start_time": "2022-10-16T13:51:41.599Z"
   },
   {
    "duration": 7,
    "start_time": "2022-10-16T13:51:41.605Z"
   },
   {
    "duration": 6,
    "start_time": "2022-10-16T13:51:41.614Z"
   },
   {
    "duration": 7,
    "start_time": "2022-10-16T13:51:41.621Z"
   },
   {
    "duration": 9,
    "start_time": "2022-10-16T13:51:41.630Z"
   },
   {
    "duration": 9,
    "start_time": "2022-10-16T13:51:41.641Z"
   },
   {
    "duration": 13,
    "start_time": "2022-10-16T13:51:41.652Z"
   },
   {
    "duration": 33,
    "start_time": "2022-10-16T13:51:41.667Z"
   },
   {
    "duration": 7,
    "start_time": "2022-10-16T13:51:41.701Z"
   },
   {
    "duration": 7,
    "start_time": "2022-10-16T13:51:41.709Z"
   },
   {
    "duration": 17,
    "start_time": "2022-10-16T13:51:41.717Z"
   },
   {
    "duration": 11,
    "start_time": "2022-10-16T13:51:41.736Z"
   },
   {
    "duration": 12,
    "start_time": "2022-10-16T13:51:41.749Z"
   },
   {
    "duration": 42,
    "start_time": "2022-10-16T13:51:41.762Z"
   },
   {
    "duration": 9,
    "start_time": "2022-10-16T13:51:41.805Z"
   },
   {
    "duration": 7,
    "start_time": "2022-10-16T13:51:41.816Z"
   },
   {
    "duration": 8,
    "start_time": "2022-10-16T13:51:41.824Z"
   },
   {
    "duration": 5,
    "start_time": "2022-10-16T13:51:41.834Z"
   },
   {
    "duration": 3,
    "start_time": "2022-10-16T13:51:41.843Z"
   },
   {
    "duration": 7,
    "start_time": "2022-10-16T13:51:41.848Z"
   },
   {
    "duration": 6,
    "start_time": "2022-10-16T13:51:41.856Z"
   },
   {
    "duration": 37,
    "start_time": "2022-10-16T13:51:41.864Z"
   },
   {
    "duration": 163,
    "start_time": "2022-10-16T13:51:41.902Z"
   },
   {
    "duration": 11,
    "start_time": "2022-10-16T13:51:42.067Z"
   },
   {
    "duration": 15,
    "start_time": "2022-10-16T13:51:42.080Z"
   },
   {
    "duration": 182,
    "start_time": "2022-10-16T13:51:42.097Z"
   },
   {
    "duration": 9,
    "start_time": "2022-10-16T13:51:42.280Z"
   },
   {
    "duration": 174,
    "start_time": "2022-10-16T13:51:42.294Z"
   },
   {
    "duration": 12,
    "start_time": "2022-10-16T13:51:42.470Z"
   },
   {
    "duration": 20,
    "start_time": "2022-10-16T13:51:42.484Z"
   },
   {
    "duration": 251,
    "start_time": "2022-10-16T13:51:42.506Z"
   },
   {
    "duration": 5,
    "start_time": "2022-10-16T13:51:42.759Z"
   },
   {
    "duration": 19,
    "start_time": "2022-10-16T13:51:42.765Z"
   },
   {
    "duration": 12,
    "start_time": "2022-10-16T13:51:42.786Z"
   },
   {
    "duration": 196,
    "start_time": "2022-10-16T13:51:42.799Z"
   },
   {
    "duration": 204,
    "start_time": "2022-10-16T13:51:42.997Z"
   },
   {
    "duration": 266,
    "start_time": "2022-10-16T13:51:43.203Z"
   },
   {
    "duration": 348,
    "start_time": "2022-10-16T13:51:43.471Z"
   },
   {
    "duration": 10,
    "start_time": "2022-10-16T13:51:43.821Z"
   },
   {
    "duration": 142,
    "start_time": "2022-10-16T13:51:43.833Z"
   },
   {
    "duration": 26,
    "start_time": "2022-10-16T13:51:43.976Z"
   },
   {
    "duration": 11,
    "start_time": "2022-10-16T13:51:44.004Z"
   },
   {
    "duration": 8,
    "start_time": "2022-10-16T13:51:44.017Z"
   },
   {
    "duration": 17,
    "start_time": "2022-10-16T13:51:44.027Z"
   },
   {
    "duration": 11,
    "start_time": "2022-10-16T13:51:44.046Z"
   },
   {
    "duration": 160,
    "start_time": "2022-10-16T13:51:44.058Z"
   },
   {
    "duration": 20,
    "start_time": "2022-10-16T13:51:44.220Z"
   },
   {
    "duration": 11,
    "start_time": "2022-10-16T13:51:44.241Z"
   },
   {
    "duration": 7,
    "start_time": "2022-10-16T13:51:44.253Z"
   },
   {
    "duration": 9,
    "start_time": "2022-10-16T13:51:44.262Z"
   },
   {
    "duration": 28,
    "start_time": "2022-10-16T13:51:44.272Z"
   },
   {
    "duration": 145,
    "start_time": "2022-10-16T13:51:44.301Z"
   },
   {
    "duration": 7,
    "start_time": "2022-10-16T13:51:44.447Z"
   },
   {
    "duration": 20,
    "start_time": "2022-10-16T13:51:44.455Z"
   },
   {
    "duration": 6,
    "start_time": "2022-10-16T13:51:44.496Z"
   },
   {
    "duration": 8,
    "start_time": "2022-10-16T13:51:44.504Z"
   },
   {
    "duration": 9,
    "start_time": "2022-10-16T13:51:44.514Z"
   },
   {
    "duration": 10,
    "start_time": "2022-10-16T13:51:44.525Z"
   },
   {
    "duration": 168,
    "start_time": "2022-10-16T13:51:44.536Z"
   },
   {
    "duration": 10,
    "start_time": "2022-10-16T13:51:44.705Z"
   },
   {
    "duration": 8,
    "start_time": "2022-10-16T13:51:44.716Z"
   },
   {
    "duration": 12,
    "start_time": "2022-10-16T13:51:44.726Z"
   },
   {
    "duration": 5,
    "start_time": "2022-10-16T13:51:44.740Z"
   },
   {
    "duration": 252,
    "start_time": "2022-10-16T13:52:17.621Z"
   },
   {
    "duration": 249,
    "start_time": "2022-10-16T13:52:22.958Z"
   },
   {
    "duration": 14,
    "start_time": "2022-10-16T13:52:56.886Z"
   },
   {
    "duration": 14,
    "start_time": "2022-10-16T13:53:06.724Z"
   },
   {
    "duration": 1105,
    "start_time": "2022-10-16T13:53:39.980Z"
   },
   {
    "duration": 51,
    "start_time": "2022-10-16T13:53:41.086Z"
   },
   {
    "duration": 20,
    "start_time": "2022-10-16T13:53:41.138Z"
   },
   {
    "duration": 16,
    "start_time": "2022-10-16T13:53:41.159Z"
   },
   {
    "duration": 8,
    "start_time": "2022-10-16T13:53:41.177Z"
   },
   {
    "duration": 11,
    "start_time": "2022-10-16T13:53:41.186Z"
   },
   {
    "duration": 6,
    "start_time": "2022-10-16T13:53:41.199Z"
   },
   {
    "duration": 5,
    "start_time": "2022-10-16T13:53:41.207Z"
   },
   {
    "duration": 11,
    "start_time": "2022-10-16T13:53:41.214Z"
   },
   {
    "duration": 4,
    "start_time": "2022-10-16T13:53:41.227Z"
   },
   {
    "duration": 6,
    "start_time": "2022-10-16T13:53:41.232Z"
   },
   {
    "duration": 4,
    "start_time": "2022-10-16T13:53:41.240Z"
   },
   {
    "duration": 7,
    "start_time": "2022-10-16T13:53:41.246Z"
   },
   {
    "duration": 9,
    "start_time": "2022-10-16T13:53:41.257Z"
   },
   {
    "duration": 4,
    "start_time": "2022-10-16T13:53:41.296Z"
   },
   {
    "duration": 7,
    "start_time": "2022-10-16T13:53:41.301Z"
   },
   {
    "duration": 9,
    "start_time": "2022-10-16T13:53:41.310Z"
   },
   {
    "duration": 7,
    "start_time": "2022-10-16T13:53:41.320Z"
   },
   {
    "duration": 9,
    "start_time": "2022-10-16T13:53:41.328Z"
   },
   {
    "duration": 22,
    "start_time": "2022-10-16T13:53:41.338Z"
   },
   {
    "duration": 35,
    "start_time": "2022-10-16T13:53:41.362Z"
   },
   {
    "duration": 12,
    "start_time": "2022-10-16T13:53:41.398Z"
   },
   {
    "duration": 19,
    "start_time": "2022-10-16T13:53:41.411Z"
   },
   {
    "duration": 2,
    "start_time": "2022-10-16T13:53:41.432Z"
   },
   {
    "duration": 12,
    "start_time": "2022-10-16T13:53:41.435Z"
   },
   {
    "duration": 15,
    "start_time": "2022-10-16T13:53:41.448Z"
   },
   {
    "duration": 11,
    "start_time": "2022-10-16T13:53:41.465Z"
   },
   {
    "duration": 6,
    "start_time": "2022-10-16T13:53:41.495Z"
   },
   {
    "duration": 13,
    "start_time": "2022-10-16T13:53:41.503Z"
   },
   {
    "duration": 7,
    "start_time": "2022-10-16T13:53:41.517Z"
   },
   {
    "duration": 19,
    "start_time": "2022-10-16T13:53:41.525Z"
   },
   {
    "duration": 311,
    "start_time": "2022-10-16T13:53:41.545Z"
   },
   {
    "duration": 13,
    "start_time": "2022-10-16T13:53:41.858Z"
   },
   {
    "duration": 2,
    "start_time": "2022-10-16T13:53:41.873Z"
   },
   {
    "duration": 291,
    "start_time": "2022-10-16T13:53:41.877Z"
   },
   {
    "duration": 11,
    "start_time": "2022-10-16T13:53:42.170Z"
   },
   {
    "duration": 341,
    "start_time": "2022-10-16T13:53:42.183Z"
   },
   {
    "duration": 12,
    "start_time": "2022-10-16T13:53:42.525Z"
   },
   {
    "duration": 9,
    "start_time": "2022-10-16T13:53:42.538Z"
   },
   {
    "duration": 1192,
    "start_time": "2022-10-16T13:53:42.548Z"
   },
   {
    "duration": 7,
    "start_time": "2022-10-16T13:53:43.744Z"
   },
   {
    "duration": 12,
    "start_time": "2022-10-16T13:53:43.752Z"
   },
   {
    "duration": 18,
    "start_time": "2022-10-16T13:53:43.765Z"
   },
   {
    "duration": 212,
    "start_time": "2022-10-16T13:53:43.785Z"
   },
   {
    "duration": 328,
    "start_time": "2022-10-16T13:53:43.999Z"
   },
   {
    "duration": 2000,
    "start_time": "2022-10-16T13:53:44.328Z"
   },
   {
    "duration": 2111,
    "start_time": "2022-10-16T13:53:46.329Z"
   },
   {
    "duration": 10,
    "start_time": "2022-10-16T13:53:48.442Z"
   },
   {
    "duration": 198,
    "start_time": "2022-10-16T13:53:48.454Z"
   },
   {
    "duration": 23,
    "start_time": "2022-10-16T13:53:48.654Z"
   },
   {
    "duration": 19,
    "start_time": "2022-10-16T13:53:48.679Z"
   },
   {
    "duration": 9,
    "start_time": "2022-10-16T13:53:48.700Z"
   },
   {
    "duration": 8,
    "start_time": "2022-10-16T13:53:48.710Z"
   },
   {
    "duration": 15,
    "start_time": "2022-10-16T13:53:48.720Z"
   },
   {
    "duration": 212,
    "start_time": "2022-10-16T13:53:48.737Z"
   },
   {
    "duration": 23,
    "start_time": "2022-10-16T13:53:48.950Z"
   },
   {
    "duration": 24,
    "start_time": "2022-10-16T13:53:48.974Z"
   },
   {
    "duration": 11,
    "start_time": "2022-10-16T13:53:48.999Z"
   },
   {
    "duration": 11,
    "start_time": "2022-10-16T13:53:49.012Z"
   },
   {
    "duration": 12,
    "start_time": "2022-10-16T13:53:49.024Z"
   },
   {
    "duration": 211,
    "start_time": "2022-10-16T13:53:49.037Z"
   },
   {
    "duration": 8,
    "start_time": "2022-10-16T13:53:49.249Z"
   },
   {
    "duration": 22,
    "start_time": "2022-10-16T13:53:49.259Z"
   },
   {
    "duration": 14,
    "start_time": "2022-10-16T13:53:49.282Z"
   },
   {
    "duration": 8,
    "start_time": "2022-10-16T13:53:49.298Z"
   },
   {
    "duration": 10,
    "start_time": "2022-10-16T13:53:49.307Z"
   },
   {
    "duration": 12,
    "start_time": "2022-10-16T13:53:49.318Z"
   },
   {
    "duration": 269,
    "start_time": "2022-10-16T13:53:49.332Z"
   },
   {
    "duration": 11,
    "start_time": "2022-10-16T13:53:49.603Z"
   },
   {
    "duration": 7,
    "start_time": "2022-10-16T13:53:49.616Z"
   },
   {
    "duration": 14,
    "start_time": "2022-10-16T13:53:49.625Z"
   },
   {
    "duration": 5,
    "start_time": "2022-10-16T13:53:49.641Z"
   },
   {
    "duration": 240,
    "start_time": "2022-10-16T13:53:59.050Z"
   },
   {
    "duration": 20,
    "start_time": "2022-10-16T13:54:22.196Z"
   },
   {
    "duration": 15,
    "start_time": "2022-10-16T13:54:28.869Z"
   },
   {
    "duration": 17,
    "start_time": "2022-10-16T13:54:51.162Z"
   },
   {
    "duration": 18,
    "start_time": "2022-10-16T13:55:59.105Z"
   },
   {
    "duration": 15,
    "start_time": "2022-10-16T13:56:04.564Z"
   },
   {
    "duration": 111,
    "start_time": "2022-10-16T13:57:41.351Z"
   },
   {
    "duration": 1012,
    "start_time": "2022-10-16T13:57:51.888Z"
   },
   {
    "duration": 18,
    "start_time": "2022-10-16T13:58:01.653Z"
   },
   {
    "duration": 35,
    "start_time": "2022-10-16T13:58:45.680Z"
   },
   {
    "duration": 12,
    "start_time": "2022-10-16T13:58:57.570Z"
   },
   {
    "duration": 12,
    "start_time": "2022-10-16T13:58:58.948Z"
   },
   {
    "duration": 26,
    "start_time": "2022-10-16T14:00:32.264Z"
   },
   {
    "duration": 26,
    "start_time": "2022-10-16T14:00:34.527Z"
   },
   {
    "duration": 17,
    "start_time": "2022-10-16T14:00:40.956Z"
   },
   {
    "duration": 9,
    "start_time": "2022-10-16T14:00:44.610Z"
   },
   {
    "duration": 13,
    "start_time": "2022-10-16T14:00:46.339Z"
   },
   {
    "duration": 13,
    "start_time": "2022-10-16T14:00:54.736Z"
   },
   {
    "duration": 19,
    "start_time": "2022-10-16T14:00:56.486Z"
   },
   {
    "duration": 23,
    "start_time": "2022-10-16T14:00:57.289Z"
   },
   {
    "duration": 14,
    "start_time": "2022-10-16T14:00:58.515Z"
   },
   {
    "duration": 12,
    "start_time": "2022-10-16T14:01:00.430Z"
   },
   {
    "duration": 12,
    "start_time": "2022-10-16T14:01:02.622Z"
   },
   {
    "duration": 13,
    "start_time": "2022-10-16T14:01:18.482Z"
   },
   {
    "duration": 10,
    "start_time": "2022-10-16T14:02:07.917Z"
   },
   {
    "duration": 49,
    "start_time": "2022-10-16T14:02:07.929Z"
   },
   {
    "duration": 18,
    "start_time": "2022-10-16T14:02:07.980Z"
   },
   {
    "duration": 32,
    "start_time": "2022-10-16T14:02:07.999Z"
   },
   {
    "duration": 20,
    "start_time": "2022-10-16T14:02:08.034Z"
   },
   {
    "duration": 4,
    "start_time": "2022-10-16T14:02:08.055Z"
   },
   {
    "duration": 7,
    "start_time": "2022-10-16T14:02:08.060Z"
   },
   {
    "duration": 7,
    "start_time": "2022-10-16T14:02:08.068Z"
   },
   {
    "duration": 23,
    "start_time": "2022-10-16T14:02:08.076Z"
   },
   {
    "duration": 8,
    "start_time": "2022-10-16T14:02:08.101Z"
   },
   {
    "duration": 8,
    "start_time": "2022-10-16T14:02:08.114Z"
   },
   {
    "duration": 8,
    "start_time": "2022-10-16T14:02:08.123Z"
   },
   {
    "duration": 5,
    "start_time": "2022-10-16T14:02:08.133Z"
   },
   {
    "duration": 7,
    "start_time": "2022-10-16T14:02:08.140Z"
   },
   {
    "duration": 3,
    "start_time": "2022-10-16T14:02:08.149Z"
   },
   {
    "duration": 6,
    "start_time": "2022-10-16T14:02:08.154Z"
   },
   {
    "duration": 9,
    "start_time": "2022-10-16T14:02:08.162Z"
   },
   {
    "duration": 26,
    "start_time": "2022-10-16T14:02:08.173Z"
   },
   {
    "duration": 8,
    "start_time": "2022-10-16T14:02:08.211Z"
   },
   {
    "duration": 17,
    "start_time": "2022-10-16T14:02:08.221Z"
   },
   {
    "duration": 12,
    "start_time": "2022-10-16T14:02:08.239Z"
   },
   {
    "duration": 13,
    "start_time": "2022-10-16T14:02:08.253Z"
   },
   {
    "duration": 38,
    "start_time": "2022-10-16T14:02:08.267Z"
   },
   {
    "duration": 9,
    "start_time": "2022-10-16T14:02:08.306Z"
   },
   {
    "duration": 8,
    "start_time": "2022-10-16T14:02:08.316Z"
   },
   {
    "duration": 13,
    "start_time": "2022-10-16T14:02:08.326Z"
   },
   {
    "duration": 4,
    "start_time": "2022-10-16T14:02:08.341Z"
   },
   {
    "duration": 10,
    "start_time": "2022-10-16T14:02:08.347Z"
   },
   {
    "duration": 7,
    "start_time": "2022-10-16T14:02:08.358Z"
   },
   {
    "duration": 10,
    "start_time": "2022-10-16T14:02:08.367Z"
   },
   {
    "duration": 23,
    "start_time": "2022-10-16T14:02:08.378Z"
   },
   {
    "duration": 22,
    "start_time": "2022-10-16T14:02:08.402Z"
   },
   {
    "duration": 255,
    "start_time": "2022-10-16T14:02:08.426Z"
   },
   {
    "duration": 25,
    "start_time": "2022-10-16T14:02:08.683Z"
   },
   {
    "duration": 3,
    "start_time": "2022-10-16T14:02:08.709Z"
   },
   {
    "duration": 297,
    "start_time": "2022-10-16T14:02:08.713Z"
   },
   {
    "duration": 11,
    "start_time": "2022-10-16T14:02:09.013Z"
   },
   {
    "duration": 336,
    "start_time": "2022-10-16T14:02:09.025Z"
   },
   {
    "duration": 11,
    "start_time": "2022-10-16T14:02:09.363Z"
   },
   {
    "duration": 40,
    "start_time": "2022-10-16T14:02:09.375Z"
   },
   {
    "duration": 2299,
    "start_time": "2022-10-16T14:02:09.417Z"
   },
   {
    "duration": 6,
    "start_time": "2022-10-16T14:02:11.718Z"
   },
   {
    "duration": 12,
    "start_time": "2022-10-16T14:02:11.727Z"
   },
   {
    "duration": 16,
    "start_time": "2022-10-16T14:02:11.741Z"
   },
   {
    "duration": 229,
    "start_time": "2022-10-16T14:02:11.758Z"
   },
   {
    "duration": 357,
    "start_time": "2022-10-16T14:02:11.989Z"
   },
   {
    "duration": 1674,
    "start_time": "2022-10-16T14:02:12.348Z"
   },
   {
    "duration": 1625,
    "start_time": "2022-10-16T14:02:14.024Z"
   },
   {
    "duration": 9,
    "start_time": "2022-10-16T14:02:15.656Z"
   },
   {
    "duration": 182,
    "start_time": "2022-10-16T14:02:15.667Z"
   },
   {
    "duration": 21,
    "start_time": "2022-10-16T14:02:15.851Z"
   },
   {
    "duration": 32,
    "start_time": "2022-10-16T14:02:15.873Z"
   },
   {
    "duration": 13,
    "start_time": "2022-10-16T14:02:15.907Z"
   },
   {
    "duration": 9,
    "start_time": "2022-10-16T14:02:15.921Z"
   },
   {
    "duration": 12,
    "start_time": "2022-10-16T14:02:15.931Z"
   },
   {
    "duration": 187,
    "start_time": "2022-10-16T14:02:15.944Z"
   },
   {
    "duration": 22,
    "start_time": "2022-10-16T14:02:16.132Z"
   },
   {
    "duration": 6,
    "start_time": "2022-10-16T14:02:16.156Z"
   },
   {
    "duration": 7,
    "start_time": "2022-10-16T14:02:16.164Z"
   },
   {
    "duration": 26,
    "start_time": "2022-10-16T14:02:16.173Z"
   },
   {
    "duration": 12,
    "start_time": "2022-10-16T14:02:16.208Z"
   },
   {
    "duration": 220,
    "start_time": "2022-10-16T14:02:16.221Z"
   },
   {
    "duration": 5,
    "start_time": "2022-10-16T14:02:16.443Z"
   },
   {
    "duration": 21,
    "start_time": "2022-10-16T14:02:16.450Z"
   },
   {
    "duration": 24,
    "start_time": "2022-10-16T14:02:16.473Z"
   },
   {
    "duration": 10,
    "start_time": "2022-10-16T14:02:16.504Z"
   },
   {
    "duration": 15,
    "start_time": "2022-10-16T14:02:16.516Z"
   },
   {
    "duration": 14,
    "start_time": "2022-10-16T14:02:16.533Z"
   },
   {
    "duration": 201,
    "start_time": "2022-10-16T14:02:16.548Z"
   },
   {
    "duration": 13,
    "start_time": "2022-10-16T14:02:16.751Z"
   },
   {
    "duration": 16,
    "start_time": "2022-10-16T14:02:16.766Z"
   },
   {
    "duration": 40,
    "start_time": "2022-10-16T14:02:16.783Z"
   },
   {
    "duration": 13,
    "start_time": "2022-10-16T14:02:16.825Z"
   },
   {
    "duration": 1188,
    "start_time": "2022-10-16T14:05:11.884Z"
   },
   {
    "duration": 64,
    "start_time": "2022-10-16T14:05:13.074Z"
   },
   {
    "duration": 19,
    "start_time": "2022-10-16T14:05:13.140Z"
   },
   {
    "duration": 13,
    "start_time": "2022-10-16T14:05:13.161Z"
   },
   {
    "duration": 9,
    "start_time": "2022-10-16T14:05:13.176Z"
   },
   {
    "duration": 17,
    "start_time": "2022-10-16T14:05:13.186Z"
   },
   {
    "duration": 8,
    "start_time": "2022-10-16T14:05:13.205Z"
   },
   {
    "duration": 6,
    "start_time": "2022-10-16T14:05:13.215Z"
   },
   {
    "duration": 12,
    "start_time": "2022-10-16T14:05:13.222Z"
   },
   {
    "duration": 4,
    "start_time": "2022-10-16T14:05:13.236Z"
   },
   {
    "duration": 6,
    "start_time": "2022-10-16T14:05:13.242Z"
   },
   {
    "duration": 5,
    "start_time": "2022-10-16T14:05:13.250Z"
   },
   {
    "duration": 5,
    "start_time": "2022-10-16T14:05:13.256Z"
   },
   {
    "duration": 37,
    "start_time": "2022-10-16T14:05:13.264Z"
   },
   {
    "duration": 4,
    "start_time": "2022-10-16T14:05:13.302Z"
   },
   {
    "duration": 9,
    "start_time": "2022-10-16T14:05:13.308Z"
   },
   {
    "duration": 9,
    "start_time": "2022-10-16T14:05:13.319Z"
   },
   {
    "duration": 7,
    "start_time": "2022-10-16T14:05:13.329Z"
   },
   {
    "duration": 7,
    "start_time": "2022-10-16T14:05:13.338Z"
   },
   {
    "duration": 18,
    "start_time": "2022-10-16T14:05:13.346Z"
   },
   {
    "duration": 31,
    "start_time": "2022-10-16T14:05:13.365Z"
   },
   {
    "duration": 18,
    "start_time": "2022-10-16T14:05:13.398Z"
   },
   {
    "duration": 17,
    "start_time": "2022-10-16T14:05:13.418Z"
   },
   {
    "duration": 8,
    "start_time": "2022-10-16T14:05:13.437Z"
   },
   {
    "duration": 5,
    "start_time": "2022-10-16T14:05:13.446Z"
   },
   {
    "duration": 11,
    "start_time": "2022-10-16T14:05:13.453Z"
   },
   {
    "duration": 45,
    "start_time": "2022-10-16T14:05:13.465Z"
   },
   {
    "duration": 6,
    "start_time": "2022-10-16T14:05:13.512Z"
   },
   {
    "duration": 6,
    "start_time": "2022-10-16T14:05:13.520Z"
   },
   {
    "duration": 8,
    "start_time": "2022-10-16T14:05:13.528Z"
   },
   {
    "duration": 15,
    "start_time": "2022-10-16T14:05:13.538Z"
   },
   {
    "duration": 14,
    "start_time": "2022-10-16T14:05:13.555Z"
   },
   {
    "duration": 165,
    "start_time": "2022-10-16T14:05:13.571Z"
   },
   {
    "duration": 16,
    "start_time": "2022-10-16T14:05:13.738Z"
   },
   {
    "duration": 2,
    "start_time": "2022-10-16T14:05:13.755Z"
   },
   {
    "duration": 321,
    "start_time": "2022-10-16T14:05:13.758Z"
   },
   {
    "duration": 23,
    "start_time": "2022-10-16T14:05:14.081Z"
   },
   {
    "duration": 332,
    "start_time": "2022-10-16T14:05:14.108Z"
   },
   {
    "duration": 13,
    "start_time": "2022-10-16T14:05:14.441Z"
   },
   {
    "duration": 7,
    "start_time": "2022-10-16T14:05:14.456Z"
   },
   {
    "duration": 2127,
    "start_time": "2022-10-16T14:05:14.468Z"
   },
   {
    "duration": 7,
    "start_time": "2022-10-16T14:05:16.597Z"
   },
   {
    "duration": 26,
    "start_time": "2022-10-16T14:05:16.606Z"
   },
   {
    "duration": 11,
    "start_time": "2022-10-16T14:05:16.634Z"
   },
   {
    "duration": 364,
    "start_time": "2022-10-16T14:05:16.647Z"
   },
   {
    "duration": 366,
    "start_time": "2022-10-16T14:05:17.012Z"
   },
   {
    "duration": 1665,
    "start_time": "2022-10-16T14:05:17.380Z"
   },
   {
    "duration": 1699,
    "start_time": "2022-10-16T14:05:19.047Z"
   },
   {
    "duration": 9,
    "start_time": "2022-10-16T14:05:20.747Z"
   },
   {
    "duration": 200,
    "start_time": "2022-10-16T14:05:20.757Z"
   },
   {
    "duration": 20,
    "start_time": "2022-10-16T14:05:20.959Z"
   },
   {
    "duration": 31,
    "start_time": "2022-10-16T14:05:20.981Z"
   },
   {
    "duration": 21,
    "start_time": "2022-10-16T14:05:21.013Z"
   },
   {
    "duration": 11,
    "start_time": "2022-10-16T14:05:21.035Z"
   },
   {
    "duration": 13,
    "start_time": "2022-10-16T14:05:21.047Z"
   },
   {
    "duration": 197,
    "start_time": "2022-10-16T14:05:21.062Z"
   },
   {
    "duration": 22,
    "start_time": "2022-10-16T14:05:21.260Z"
   },
   {
    "duration": 16,
    "start_time": "2022-10-16T14:05:21.294Z"
   },
   {
    "duration": 8,
    "start_time": "2022-10-16T14:05:21.312Z"
   },
   {
    "duration": 9,
    "start_time": "2022-10-16T14:05:21.322Z"
   },
   {
    "duration": 11,
    "start_time": "2022-10-16T14:05:21.333Z"
   },
   {
    "duration": 218,
    "start_time": "2022-10-16T14:05:21.346Z"
   },
   {
    "duration": 7,
    "start_time": "2022-10-16T14:05:21.566Z"
   },
   {
    "duration": 38,
    "start_time": "2022-10-16T14:05:21.574Z"
   },
   {
    "duration": 6,
    "start_time": "2022-10-16T14:05:21.614Z"
   },
   {
    "duration": 10,
    "start_time": "2022-10-16T14:05:21.622Z"
   },
   {
    "duration": 8,
    "start_time": "2022-10-16T14:05:21.634Z"
   },
   {
    "duration": 12,
    "start_time": "2022-10-16T14:05:21.644Z"
   },
   {
    "duration": 269,
    "start_time": "2022-10-16T14:05:21.658Z"
   },
   {
    "duration": 12,
    "start_time": "2022-10-16T14:05:21.928Z"
   },
   {
    "duration": 7,
    "start_time": "2022-10-16T14:05:21.941Z"
   },
   {
    "duration": 11,
    "start_time": "2022-10-16T14:05:21.950Z"
   },
   {
    "duration": 41,
    "start_time": "2022-10-16T14:05:21.962Z"
   },
   {
    "duration": 140,
    "start_time": "2022-10-16T14:06:02.567Z"
   },
   {
    "duration": 149,
    "start_time": "2022-10-16T14:06:35.192Z"
   },
   {
    "duration": 83,
    "start_time": "2022-10-16T14:07:06.471Z"
   },
   {
    "duration": 793,
    "start_time": "2022-10-16T14:07:08.822Z"
   },
   {
    "duration": 820,
    "start_time": "2022-10-16T14:07:51.943Z"
   },
   {
    "duration": 230,
    "start_time": "2022-10-16T14:09:28.323Z"
   },
   {
    "duration": 1110,
    "start_time": "2022-10-16T14:10:53.209Z"
   },
   {
    "duration": 51,
    "start_time": "2022-10-16T14:10:54.321Z"
   },
   {
    "duration": 19,
    "start_time": "2022-10-16T14:10:54.374Z"
   },
   {
    "duration": 18,
    "start_time": "2022-10-16T14:10:54.394Z"
   },
   {
    "duration": 9,
    "start_time": "2022-10-16T14:10:54.414Z"
   },
   {
    "duration": 4,
    "start_time": "2022-10-16T14:10:54.425Z"
   },
   {
    "duration": 4,
    "start_time": "2022-10-16T14:10:54.430Z"
   },
   {
    "duration": 5,
    "start_time": "2022-10-16T14:10:54.436Z"
   },
   {
    "duration": 13,
    "start_time": "2022-10-16T14:10:54.442Z"
   },
   {
    "duration": 4,
    "start_time": "2022-10-16T14:10:54.456Z"
   },
   {
    "duration": 42,
    "start_time": "2022-10-16T14:10:54.461Z"
   },
   {
    "duration": 12,
    "start_time": "2022-10-16T14:10:54.504Z"
   },
   {
    "duration": 6,
    "start_time": "2022-10-16T14:10:54.518Z"
   },
   {
    "duration": 7,
    "start_time": "2022-10-16T14:10:54.528Z"
   },
   {
    "duration": 4,
    "start_time": "2022-10-16T14:10:54.536Z"
   },
   {
    "duration": 6,
    "start_time": "2022-10-16T14:10:54.542Z"
   },
   {
    "duration": 11,
    "start_time": "2022-10-16T14:10:54.550Z"
   },
   {
    "duration": 6,
    "start_time": "2022-10-16T14:10:54.563Z"
   },
   {
    "duration": 17,
    "start_time": "2022-10-16T14:10:54.596Z"
   },
   {
    "duration": 17,
    "start_time": "2022-10-16T14:10:54.615Z"
   },
   {
    "duration": 13,
    "start_time": "2022-10-16T14:10:54.634Z"
   },
   {
    "duration": 14,
    "start_time": "2022-10-16T14:10:54.649Z"
   },
   {
    "duration": 44,
    "start_time": "2022-10-16T14:10:54.664Z"
   },
   {
    "duration": 8,
    "start_time": "2022-10-16T14:10:54.709Z"
   },
   {
    "duration": 5,
    "start_time": "2022-10-16T14:10:54.719Z"
   },
   {
    "duration": 12,
    "start_time": "2022-10-16T14:10:54.725Z"
   },
   {
    "duration": 5,
    "start_time": "2022-10-16T14:10:54.738Z"
   },
   {
    "duration": 7,
    "start_time": "2022-10-16T14:10:54.744Z"
   },
   {
    "duration": 7,
    "start_time": "2022-10-16T14:10:54.752Z"
   },
   {
    "duration": 5,
    "start_time": "2022-10-16T14:10:54.761Z"
   },
   {
    "duration": 45,
    "start_time": "2022-10-16T14:10:54.767Z"
   },
   {
    "duration": 16,
    "start_time": "2022-10-16T14:10:54.813Z"
   },
   {
    "duration": 160,
    "start_time": "2022-10-16T14:10:54.831Z"
   },
   {
    "duration": 16,
    "start_time": "2022-10-16T14:10:54.992Z"
   },
   {
    "duration": 5,
    "start_time": "2022-10-16T14:10:55.010Z"
   },
   {
    "duration": 302,
    "start_time": "2022-10-16T14:10:55.016Z"
   },
   {
    "duration": 12,
    "start_time": "2022-10-16T14:10:55.319Z"
   },
   {
    "duration": 340,
    "start_time": "2022-10-16T14:10:55.333Z"
   },
   {
    "duration": 24,
    "start_time": "2022-10-16T14:10:55.676Z"
   },
   {
    "duration": 10,
    "start_time": "2022-10-16T14:10:55.705Z"
   },
   {
    "duration": 2225,
    "start_time": "2022-10-16T14:10:55.719Z"
   },
   {
    "duration": 6,
    "start_time": "2022-10-16T14:10:57.946Z"
   },
   {
    "duration": 58,
    "start_time": "2022-10-16T14:10:57.953Z"
   },
   {
    "duration": 9,
    "start_time": "2022-10-16T14:10:58.014Z"
   },
   {
    "duration": 296,
    "start_time": "2022-10-16T14:10:58.024Z"
   },
   {
    "duration": 359,
    "start_time": "2022-10-16T14:10:58.322Z"
   },
   {
    "duration": 1645,
    "start_time": "2022-10-16T14:10:58.683Z"
   },
   {
    "duration": 1677,
    "start_time": "2022-10-16T14:11:00.330Z"
   },
   {
    "duration": 10,
    "start_time": "2022-10-16T14:11:02.009Z"
   },
   {
    "duration": 180,
    "start_time": "2022-10-16T14:11:02.021Z"
   },
   {
    "duration": 22,
    "start_time": "2022-10-16T14:11:02.208Z"
   },
   {
    "duration": 9,
    "start_time": "2022-10-16T14:11:02.232Z"
   },
   {
    "duration": 10,
    "start_time": "2022-10-16T14:11:02.243Z"
   },
   {
    "duration": 10,
    "start_time": "2022-10-16T14:11:02.255Z"
   },
   {
    "duration": 11,
    "start_time": "2022-10-16T14:11:02.267Z"
   },
   {
    "duration": 212,
    "start_time": "2022-10-16T14:11:02.280Z"
   },
   {
    "duration": 27,
    "start_time": "2022-10-16T14:11:02.493Z"
   },
   {
    "duration": 6,
    "start_time": "2022-10-16T14:11:02.522Z"
   },
   {
    "duration": 9,
    "start_time": "2022-10-16T14:11:02.530Z"
   },
   {
    "duration": 8,
    "start_time": "2022-10-16T14:11:02.540Z"
   },
   {
    "duration": 12,
    "start_time": "2022-10-16T14:11:02.550Z"
   },
   {
    "duration": 248,
    "start_time": "2022-10-16T14:11:02.563Z"
   },
   {
    "duration": 12,
    "start_time": "2022-10-16T14:11:02.812Z"
   },
   {
    "duration": 34,
    "start_time": "2022-10-16T14:11:02.827Z"
   },
   {
    "duration": 17,
    "start_time": "2022-10-16T14:11:02.863Z"
   },
   {
    "duration": 21,
    "start_time": "2022-10-16T14:11:02.882Z"
   },
   {
    "duration": 21,
    "start_time": "2022-10-16T14:11:02.906Z"
   },
   {
    "duration": 21,
    "start_time": "2022-10-16T14:11:02.929Z"
   },
   {
    "duration": 249,
    "start_time": "2022-10-16T14:11:02.952Z"
   },
   {
    "duration": 11,
    "start_time": "2022-10-16T14:11:03.204Z"
   },
   {
    "duration": 17,
    "start_time": "2022-10-16T14:11:03.217Z"
   },
   {
    "duration": 15,
    "start_time": "2022-10-16T14:11:03.236Z"
   },
   {
    "duration": 5,
    "start_time": "2022-10-16T14:11:03.252Z"
   },
   {
    "duration": 903,
    "start_time": "2022-10-16T14:12:04.839Z"
   },
   {
    "duration": 96,
    "start_time": "2022-10-16T14:12:13.972Z"
   },
   {
    "duration": 857,
    "start_time": "2022-10-16T14:12:18.478Z"
   },
   {
    "duration": 787,
    "start_time": "2022-10-16T14:12:49.146Z"
   },
   {
    "duration": 703,
    "start_time": "2022-10-16T14:13:04.109Z"
   },
   {
    "duration": 27,
    "start_time": "2022-10-16T14:14:01.292Z"
   },
   {
    "duration": 817,
    "start_time": "2022-10-16T14:14:08.733Z"
   },
   {
    "duration": 905,
    "start_time": "2022-10-16T14:14:20.583Z"
   },
   {
    "duration": 873,
    "start_time": "2022-10-16T14:14:26.086Z"
   },
   {
    "duration": 113,
    "start_time": "2022-10-16T14:15:32.021Z"
   },
   {
    "duration": 228,
    "start_time": "2022-10-16T14:15:41.093Z"
   },
   {
    "duration": 156,
    "start_time": "2022-10-16T14:16:30.817Z"
   },
   {
    "duration": 22,
    "start_time": "2022-10-16T14:17:35.167Z"
   },
   {
    "duration": 17,
    "start_time": "2022-10-16T14:17:48.728Z"
   },
   {
    "duration": 8,
    "start_time": "2022-10-16T14:17:51.539Z"
   },
   {
    "duration": 1924,
    "start_time": "2022-10-16T14:17:54.748Z"
   },
   {
    "duration": 15,
    "start_time": "2022-10-16T14:18:17.150Z"
   },
   {
    "duration": 9,
    "start_time": "2022-10-16T14:18:20.108Z"
   },
   {
    "duration": 1835,
    "start_time": "2022-10-16T14:18:24.747Z"
   },
   {
    "duration": 9,
    "start_time": "2022-10-16T14:18:42.236Z"
   },
   {
    "duration": 8,
    "start_time": "2022-10-16T14:18:48.782Z"
   },
   {
    "duration": 16,
    "start_time": "2022-10-16T14:18:53.707Z"
   },
   {
    "duration": 9,
    "start_time": "2022-10-16T14:18:54.128Z"
   },
   {
    "duration": 1893,
    "start_time": "2022-10-16T14:18:56.732Z"
   },
   {
    "duration": 15,
    "start_time": "2022-10-16T14:19:44.072Z"
   },
   {
    "duration": 13,
    "start_time": "2022-10-16T14:19:44.595Z"
   },
   {
    "duration": 1296,
    "start_time": "2022-10-16T14:19:45.633Z"
   },
   {
    "duration": 23,
    "start_time": "2022-10-16T14:20:26.390Z"
   },
   {
    "duration": 11,
    "start_time": "2022-10-16T14:20:27.621Z"
   },
   {
    "duration": 2197,
    "start_time": "2022-10-16T14:20:29.360Z"
   },
   {
    "duration": 5,
    "start_time": "2022-10-16T14:20:46.781Z"
   },
   {
    "duration": 14,
    "start_time": "2022-10-16T14:21:26.145Z"
   },
   {
    "duration": 316,
    "start_time": "2022-10-16T14:21:27.868Z"
   },
   {
    "duration": 17,
    "start_time": "2022-10-16T14:21:29.957Z"
   },
   {
    "duration": 8,
    "start_time": "2022-10-16T14:21:30.362Z"
   },
   {
    "duration": 4,
    "start_time": "2022-10-16T14:21:32.149Z"
   },
   {
    "duration": 997,
    "start_time": "2022-10-16T14:21:39.329Z"
   },
   {
    "duration": 6,
    "start_time": "2022-10-16T14:25:20.952Z"
   },
   {
    "duration": 10,
    "start_time": "2022-10-16T14:25:25.009Z"
   },
   {
    "duration": 11,
    "start_time": "2022-10-16T14:25:25.495Z"
   },
   {
    "duration": 251,
    "start_time": "2022-10-16T14:25:26.361Z"
   },
   {
    "duration": 221,
    "start_time": "2022-10-16T14:26:25.111Z"
   },
   {
    "duration": 10,
    "start_time": "2022-10-16T14:26:48.865Z"
   },
   {
    "duration": 7,
    "start_time": "2022-10-16T14:26:50.253Z"
   },
   {
    "duration": 216,
    "start_time": "2022-10-16T14:26:51.030Z"
   },
   {
    "duration": 10,
    "start_time": "2022-10-16T14:27:00.335Z"
   },
   {
    "duration": 7,
    "start_time": "2022-10-16T14:27:00.769Z"
   },
   {
    "duration": 237,
    "start_time": "2022-10-16T14:27:01.293Z"
   },
   {
    "duration": 9,
    "start_time": "2022-10-16T14:27:49.262Z"
   },
   {
    "duration": 6,
    "start_time": "2022-10-16T14:27:50.249Z"
   },
   {
    "duration": 210,
    "start_time": "2022-10-16T14:27:51.021Z"
   },
   {
    "duration": 11,
    "start_time": "2022-10-16T14:28:03.310Z"
   },
   {
    "duration": 8,
    "start_time": "2022-10-16T14:28:03.850Z"
   },
   {
    "duration": 289,
    "start_time": "2022-10-16T14:28:06.181Z"
   },
   {
    "duration": 1392,
    "start_time": "2022-10-17T06:56:18.577Z"
   },
   {
    "duration": 78,
    "start_time": "2022-10-17T06:56:19.971Z"
   },
   {
    "duration": 20,
    "start_time": "2022-10-17T06:56:20.051Z"
   },
   {
    "duration": 15,
    "start_time": "2022-10-17T06:56:20.074Z"
   },
   {
    "duration": 11,
    "start_time": "2022-10-17T06:56:20.090Z"
   },
   {
    "duration": 7,
    "start_time": "2022-10-17T06:56:20.102Z"
   },
   {
    "duration": 7,
    "start_time": "2022-10-17T06:56:20.110Z"
   },
   {
    "duration": 7,
    "start_time": "2022-10-17T06:56:20.118Z"
   },
   {
    "duration": 11,
    "start_time": "2022-10-17T06:56:20.126Z"
   },
   {
    "duration": 3,
    "start_time": "2022-10-17T06:56:20.139Z"
   },
   {
    "duration": 9,
    "start_time": "2022-10-17T06:56:20.143Z"
   },
   {
    "duration": 7,
    "start_time": "2022-10-17T06:56:20.153Z"
   },
   {
    "duration": 10,
    "start_time": "2022-10-17T06:56:20.162Z"
   },
   {
    "duration": 7,
    "start_time": "2022-10-17T06:56:20.174Z"
   },
   {
    "duration": 5,
    "start_time": "2022-10-17T06:56:20.209Z"
   },
   {
    "duration": 9,
    "start_time": "2022-10-17T06:56:20.215Z"
   },
   {
    "duration": 9,
    "start_time": "2022-10-17T06:56:20.225Z"
   },
   {
    "duration": 8,
    "start_time": "2022-10-17T06:56:20.235Z"
   },
   {
    "duration": 6,
    "start_time": "2022-10-17T06:56:20.244Z"
   },
   {
    "duration": 15,
    "start_time": "2022-10-17T06:56:20.252Z"
   },
   {
    "duration": 41,
    "start_time": "2022-10-17T06:56:20.269Z"
   },
   {
    "duration": 12,
    "start_time": "2022-10-17T06:56:20.311Z"
   },
   {
    "duration": 22,
    "start_time": "2022-10-17T06:56:20.325Z"
   },
   {
    "duration": 7,
    "start_time": "2022-10-17T06:56:20.349Z"
   },
   {
    "duration": 15,
    "start_time": "2022-10-17T06:56:20.358Z"
   },
   {
    "duration": 15,
    "start_time": "2022-10-17T06:56:20.375Z"
   },
   {
    "duration": 4,
    "start_time": "2022-10-17T06:56:20.391Z"
   },
   {
    "duration": 5,
    "start_time": "2022-10-17T06:56:20.411Z"
   },
   {
    "duration": 16,
    "start_time": "2022-10-17T06:56:20.417Z"
   },
   {
    "duration": 17,
    "start_time": "2022-10-17T06:56:20.434Z"
   },
   {
    "duration": 18,
    "start_time": "2022-10-17T06:56:20.452Z"
   },
   {
    "duration": 19,
    "start_time": "2022-10-17T06:56:20.472Z"
   },
   {
    "duration": 144,
    "start_time": "2022-10-17T06:56:20.493Z"
   },
   {
    "duration": 13,
    "start_time": "2022-10-17T06:56:20.639Z"
   },
   {
    "duration": 2,
    "start_time": "2022-10-17T06:56:20.654Z"
   },
   {
    "duration": 331,
    "start_time": "2022-10-17T06:56:20.657Z"
   },
   {
    "duration": 13,
    "start_time": "2022-10-17T06:56:20.990Z"
   },
   {
    "duration": 285,
    "start_time": "2022-10-17T06:56:21.009Z"
   },
   {
    "duration": 19,
    "start_time": "2022-10-17T06:56:21.296Z"
   },
   {
    "duration": 7,
    "start_time": "2022-10-17T06:56:21.317Z"
   },
   {
    "duration": 960,
    "start_time": "2022-10-17T06:56:21.325Z"
   },
   {
    "duration": 5,
    "start_time": "2022-10-17T06:56:22.287Z"
   },
   {
    "duration": 15,
    "start_time": "2022-10-17T06:56:22.294Z"
   },
   {
    "duration": 6,
    "start_time": "2022-10-17T06:56:22.311Z"
   },
   {
    "duration": 230,
    "start_time": "2022-10-17T06:56:22.319Z"
   },
   {
    "duration": 379,
    "start_time": "2022-10-17T06:56:22.551Z"
   },
   {
    "duration": 1411,
    "start_time": "2022-10-17T06:56:22.932Z"
   },
   {
    "duration": 1317,
    "start_time": "2022-10-17T06:56:24.345Z"
   },
   {
    "duration": 8,
    "start_time": "2022-10-17T06:56:25.664Z"
   },
   {
    "duration": 258,
    "start_time": "2022-10-17T06:56:25.674Z"
   },
   {
    "duration": 20,
    "start_time": "2022-10-17T06:56:25.933Z"
   },
   {
    "duration": 33,
    "start_time": "2022-10-17T06:56:25.954Z"
   },
   {
    "duration": 25,
    "start_time": "2022-10-17T06:56:25.988Z"
   },
   {
    "duration": 20,
    "start_time": "2022-10-17T06:56:26.014Z"
   },
   {
    "duration": 20,
    "start_time": "2022-10-17T06:56:26.035Z"
   },
   {
    "duration": 196,
    "start_time": "2022-10-17T06:56:26.056Z"
   },
   {
    "duration": 19,
    "start_time": "2022-10-17T06:56:26.253Z"
   },
   {
    "duration": 17,
    "start_time": "2022-10-17T06:56:26.274Z"
   },
   {
    "duration": 21,
    "start_time": "2022-10-17T06:56:26.292Z"
   },
   {
    "duration": 27,
    "start_time": "2022-10-17T06:56:26.314Z"
   },
   {
    "duration": 32,
    "start_time": "2022-10-17T06:56:26.342Z"
   },
   {
    "duration": 185,
    "start_time": "2022-10-17T06:56:26.376Z"
   },
   {
    "duration": 6,
    "start_time": "2022-10-17T06:56:26.563Z"
   },
   {
    "duration": 17,
    "start_time": "2022-10-17T06:56:26.571Z"
   },
   {
    "duration": 20,
    "start_time": "2022-10-17T06:56:26.590Z"
   },
   {
    "duration": 7,
    "start_time": "2022-10-17T06:56:26.611Z"
   },
   {
    "duration": 9,
    "start_time": "2022-10-17T06:56:26.619Z"
   },
   {
    "duration": 11,
    "start_time": "2022-10-17T06:56:26.629Z"
   },
   {
    "duration": 180,
    "start_time": "2022-10-17T06:56:26.641Z"
   },
   {
    "duration": 11,
    "start_time": "2022-10-17T06:56:26.822Z"
   },
   {
    "duration": 6,
    "start_time": "2022-10-17T06:56:26.835Z"
   },
   {
    "duration": 13,
    "start_time": "2022-10-17T06:56:26.843Z"
   },
   {
    "duration": 6,
    "start_time": "2022-10-17T06:56:26.857Z"
   },
   {
    "duration": 497,
    "start_time": "2022-10-17T07:04:45.327Z"
   },
   {
    "duration": 303,
    "start_time": "2022-10-17T07:04:57.039Z"
   },
   {
    "duration": 11,
    "start_time": "2022-10-17T07:10:32.014Z"
   },
   {
    "duration": 11,
    "start_time": "2022-10-17T07:10:44.814Z"
   },
   {
    "duration": 53,
    "start_time": "2022-10-17T07:12:52.809Z"
   },
   {
    "duration": 51,
    "start_time": "2022-10-17T08:44:31.327Z"
   },
   {
    "duration": 6,
    "start_time": "2022-10-17T08:44:43.622Z"
   },
   {
    "duration": 7,
    "start_time": "2022-10-17T08:44:45.885Z"
   },
   {
    "duration": 1293,
    "start_time": "2022-10-17T08:44:54.309Z"
   },
   {
    "duration": 73,
    "start_time": "2022-10-17T08:44:55.604Z"
   },
   {
    "duration": 21,
    "start_time": "2022-10-17T08:44:55.679Z"
   },
   {
    "duration": 23,
    "start_time": "2022-10-17T08:44:55.702Z"
   },
   {
    "duration": 15,
    "start_time": "2022-10-17T08:44:55.728Z"
   },
   {
    "duration": 36,
    "start_time": "2022-10-17T08:44:55.745Z"
   },
   {
    "duration": 12,
    "start_time": "2022-10-17T08:44:55.783Z"
   },
   {
    "duration": 7,
    "start_time": "2022-10-17T08:44:55.797Z"
   },
   {
    "duration": 21,
    "start_time": "2022-10-17T08:44:55.805Z"
   },
   {
    "duration": 17,
    "start_time": "2022-10-17T08:44:55.828Z"
   },
   {
    "duration": 12,
    "start_time": "2022-10-17T08:44:55.847Z"
   },
   {
    "duration": 8,
    "start_time": "2022-10-17T08:44:55.861Z"
   },
   {
    "duration": 8,
    "start_time": "2022-10-17T08:44:55.870Z"
   },
   {
    "duration": 7,
    "start_time": "2022-10-17T08:44:55.881Z"
   },
   {
    "duration": 3,
    "start_time": "2022-10-17T08:44:55.890Z"
   },
   {
    "duration": 5,
    "start_time": "2022-10-17T08:44:55.895Z"
   },
   {
    "duration": 11,
    "start_time": "2022-10-17T08:44:55.902Z"
   },
   {
    "duration": 20,
    "start_time": "2022-10-17T08:44:55.915Z"
   },
   {
    "duration": 19,
    "start_time": "2022-10-17T08:44:55.937Z"
   },
   {
    "duration": 56,
    "start_time": "2022-10-17T08:44:55.958Z"
   },
   {
    "duration": 23,
    "start_time": "2022-10-17T08:44:56.015Z"
   },
   {
    "duration": 20,
    "start_time": "2022-10-17T08:44:56.040Z"
   },
   {
    "duration": 18,
    "start_time": "2022-10-17T08:44:56.062Z"
   },
   {
    "duration": 9,
    "start_time": "2022-10-17T08:44:56.081Z"
   },
   {
    "duration": 6,
    "start_time": "2022-10-17T08:44:56.092Z"
   },
   {
    "duration": 17,
    "start_time": "2022-10-17T08:44:56.100Z"
   },
   {
    "duration": 5,
    "start_time": "2022-10-17T08:44:56.118Z"
   },
   {
    "duration": 30,
    "start_time": "2022-10-17T08:44:56.125Z"
   },
   {
    "duration": 4,
    "start_time": "2022-10-17T08:44:56.157Z"
   },
   {
    "duration": 21,
    "start_time": "2022-10-17T08:44:56.162Z"
   },
   {
    "duration": 23,
    "start_time": "2022-10-17T08:44:56.184Z"
   },
   {
    "duration": 16,
    "start_time": "2022-10-17T08:44:56.208Z"
   },
   {
    "duration": 171,
    "start_time": "2022-10-17T08:44:56.225Z"
   },
   {
    "duration": 15,
    "start_time": "2022-10-17T08:44:56.398Z"
   },
   {
    "duration": 3,
    "start_time": "2022-10-17T08:44:56.414Z"
   },
   {
    "duration": 324,
    "start_time": "2022-10-17T08:44:56.419Z"
   },
   {
    "duration": 18,
    "start_time": "2022-10-17T08:44:56.745Z"
   },
   {
    "duration": 307,
    "start_time": "2022-10-17T08:44:56.765Z"
   },
   {
    "duration": 15,
    "start_time": "2022-10-17T08:44:57.074Z"
   },
   {
    "duration": 23,
    "start_time": "2022-10-17T08:44:57.091Z"
   },
   {
    "duration": 1059,
    "start_time": "2022-10-17T08:44:57.118Z"
   },
   {
    "duration": 7,
    "start_time": "2022-10-17T08:44:58.178Z"
   },
   {
    "duration": 12,
    "start_time": "2022-10-17T08:44:58.187Z"
   },
   {
    "duration": 25,
    "start_time": "2022-10-17T08:44:58.201Z"
   },
   {
    "duration": 228,
    "start_time": "2022-10-17T08:44:58.228Z"
   },
   {
    "duration": 377,
    "start_time": "2022-10-17T08:44:58.458Z"
   },
   {
    "duration": 360,
    "start_time": "2022-10-17T08:44:58.838Z"
   },
   {
    "duration": 1611,
    "start_time": "2022-10-17T08:44:59.200Z"
   },
   {
    "duration": 1690,
    "start_time": "2022-10-17T08:45:00.814Z"
   },
   {
    "duration": 10,
    "start_time": "2022-10-17T08:45:02.506Z"
   },
   {
    "duration": 37,
    "start_time": "2022-10-17T08:45:02.518Z"
   },
   {
    "duration": 141,
    "start_time": "2022-10-17T08:45:02.557Z"
   },
   {
    "duration": 0,
    "start_time": "2022-10-17T08:45:02.700Z"
   },
   {
    "duration": 0,
    "start_time": "2022-10-17T08:45:02.702Z"
   },
   {
    "duration": 0,
    "start_time": "2022-10-17T08:45:02.703Z"
   },
   {
    "duration": 0,
    "start_time": "2022-10-17T08:45:02.704Z"
   },
   {
    "duration": 0,
    "start_time": "2022-10-17T08:45:02.706Z"
   },
   {
    "duration": 0,
    "start_time": "2022-10-17T08:45:02.708Z"
   },
   {
    "duration": 0,
    "start_time": "2022-10-17T08:45:02.709Z"
   },
   {
    "duration": 0,
    "start_time": "2022-10-17T08:45:02.711Z"
   },
   {
    "duration": 0,
    "start_time": "2022-10-17T08:45:02.712Z"
   },
   {
    "duration": 0,
    "start_time": "2022-10-17T08:45:02.713Z"
   },
   {
    "duration": 0,
    "start_time": "2022-10-17T08:45:02.714Z"
   },
   {
    "duration": 0,
    "start_time": "2022-10-17T08:45:02.716Z"
   },
   {
    "duration": 0,
    "start_time": "2022-10-17T08:45:02.717Z"
   },
   {
    "duration": 0,
    "start_time": "2022-10-17T08:45:02.718Z"
   },
   {
    "duration": 0,
    "start_time": "2022-10-17T08:45:02.719Z"
   },
   {
    "duration": 0,
    "start_time": "2022-10-17T08:45:02.754Z"
   },
   {
    "duration": 0,
    "start_time": "2022-10-17T08:45:02.756Z"
   },
   {
    "duration": 0,
    "start_time": "2022-10-17T08:45:02.757Z"
   },
   {
    "duration": 0,
    "start_time": "2022-10-17T08:45:02.758Z"
   },
   {
    "duration": 0,
    "start_time": "2022-10-17T08:45:02.759Z"
   },
   {
    "duration": 0,
    "start_time": "2022-10-17T08:45:02.760Z"
   },
   {
    "duration": 0,
    "start_time": "2022-10-17T08:45:02.762Z"
   },
   {
    "duration": 0,
    "start_time": "2022-10-17T08:45:02.763Z"
   },
   {
    "duration": 0,
    "start_time": "2022-10-17T08:45:02.764Z"
   },
   {
    "duration": 1212,
    "start_time": "2022-10-17T08:45:32.772Z"
   },
   {
    "duration": 43,
    "start_time": "2022-10-17T08:45:33.986Z"
   },
   {
    "duration": 23,
    "start_time": "2022-10-17T08:45:34.031Z"
   },
   {
    "duration": 18,
    "start_time": "2022-10-17T08:45:34.055Z"
   },
   {
    "duration": 9,
    "start_time": "2022-10-17T08:45:34.075Z"
   },
   {
    "duration": 15,
    "start_time": "2022-10-17T08:45:34.086Z"
   },
   {
    "duration": 14,
    "start_time": "2022-10-17T08:45:34.104Z"
   },
   {
    "duration": 12,
    "start_time": "2022-10-17T08:45:34.120Z"
   },
   {
    "duration": 26,
    "start_time": "2022-10-17T08:45:34.133Z"
   },
   {
    "duration": 12,
    "start_time": "2022-10-17T08:45:34.161Z"
   },
   {
    "duration": 15,
    "start_time": "2022-10-17T08:45:34.175Z"
   },
   {
    "duration": 11,
    "start_time": "2022-10-17T08:45:34.192Z"
   },
   {
    "duration": 19,
    "start_time": "2022-10-17T08:45:34.205Z"
   },
   {
    "duration": 30,
    "start_time": "2022-10-17T08:45:34.228Z"
   },
   {
    "duration": 14,
    "start_time": "2022-10-17T08:45:34.260Z"
   },
   {
    "duration": 14,
    "start_time": "2022-10-17T08:45:34.276Z"
   },
   {
    "duration": 19,
    "start_time": "2022-10-17T08:45:34.291Z"
   },
   {
    "duration": 9,
    "start_time": "2022-10-17T08:45:34.312Z"
   },
   {
    "duration": 12,
    "start_time": "2022-10-17T08:45:34.322Z"
   },
   {
    "duration": 21,
    "start_time": "2022-10-17T08:45:34.336Z"
   },
   {
    "duration": 15,
    "start_time": "2022-10-17T08:45:34.359Z"
   },
   {
    "duration": 12,
    "start_time": "2022-10-17T08:45:34.376Z"
   },
   {
    "duration": 33,
    "start_time": "2022-10-17T08:45:34.390Z"
   },
   {
    "duration": 9,
    "start_time": "2022-10-17T08:45:34.425Z"
   },
   {
    "duration": 6,
    "start_time": "2022-10-17T08:45:34.454Z"
   },
   {
    "duration": 30,
    "start_time": "2022-10-17T08:45:34.462Z"
   },
   {
    "duration": 13,
    "start_time": "2022-10-17T08:45:34.494Z"
   },
   {
    "duration": 11,
    "start_time": "2022-10-17T08:45:34.509Z"
   },
   {
    "duration": 32,
    "start_time": "2022-10-17T08:45:34.521Z"
   },
   {
    "duration": 14,
    "start_time": "2022-10-17T08:45:34.555Z"
   },
   {
    "duration": 33,
    "start_time": "2022-10-17T08:45:34.570Z"
   },
   {
    "duration": 27,
    "start_time": "2022-10-17T08:45:34.605Z"
   },
   {
    "duration": 172,
    "start_time": "2022-10-17T08:45:34.634Z"
   },
   {
    "duration": 15,
    "start_time": "2022-10-17T08:45:34.807Z"
   },
   {
    "duration": 3,
    "start_time": "2022-10-17T08:45:34.824Z"
   },
   {
    "duration": 345,
    "start_time": "2022-10-17T08:45:34.828Z"
   },
   {
    "duration": 16,
    "start_time": "2022-10-17T08:45:35.174Z"
   },
   {
    "duration": 327,
    "start_time": "2022-10-17T08:45:35.192Z"
   },
   {
    "duration": 18,
    "start_time": "2022-10-17T08:45:35.521Z"
   },
   {
    "duration": 16,
    "start_time": "2022-10-17T08:45:35.541Z"
   },
   {
    "duration": 1115,
    "start_time": "2022-10-17T08:45:35.562Z"
   },
   {
    "duration": 8,
    "start_time": "2022-10-17T08:45:36.679Z"
   },
   {
    "duration": 18,
    "start_time": "2022-10-17T08:45:36.689Z"
   },
   {
    "duration": 15,
    "start_time": "2022-10-17T08:45:36.709Z"
   },
   {
    "duration": 247,
    "start_time": "2022-10-17T08:45:36.726Z"
   },
   {
    "duration": 367,
    "start_time": "2022-10-17T08:45:36.975Z"
   },
   {
    "duration": 387,
    "start_time": "2022-10-17T08:45:37.343Z"
   },
   {
    "duration": 1751,
    "start_time": "2022-10-17T08:45:37.732Z"
   },
   {
    "duration": 1668,
    "start_time": "2022-10-17T08:45:39.486Z"
   },
   {
    "duration": 12,
    "start_time": "2022-10-17T08:45:41.156Z"
   },
   {
    "duration": 22,
    "start_time": "2022-10-17T08:45:41.170Z"
   },
   {
    "duration": 139,
    "start_time": "2022-10-17T08:45:41.194Z"
   },
   {
    "duration": 0,
    "start_time": "2022-10-17T08:45:41.335Z"
   },
   {
    "duration": 0,
    "start_time": "2022-10-17T08:45:41.336Z"
   },
   {
    "duration": 0,
    "start_time": "2022-10-17T08:45:41.337Z"
   },
   {
    "duration": 0,
    "start_time": "2022-10-17T08:45:41.338Z"
   },
   {
    "duration": 0,
    "start_time": "2022-10-17T08:45:41.340Z"
   },
   {
    "duration": 0,
    "start_time": "2022-10-17T08:45:41.356Z"
   },
   {
    "duration": 0,
    "start_time": "2022-10-17T08:45:41.359Z"
   },
   {
    "duration": 0,
    "start_time": "2022-10-17T08:45:41.360Z"
   },
   {
    "duration": 0,
    "start_time": "2022-10-17T08:45:41.363Z"
   },
   {
    "duration": 0,
    "start_time": "2022-10-17T08:45:41.364Z"
   },
   {
    "duration": 0,
    "start_time": "2022-10-17T08:45:41.365Z"
   },
   {
    "duration": 0,
    "start_time": "2022-10-17T08:45:41.366Z"
   },
   {
    "duration": 0,
    "start_time": "2022-10-17T08:45:41.368Z"
   },
   {
    "duration": 0,
    "start_time": "2022-10-17T08:45:41.370Z"
   },
   {
    "duration": 0,
    "start_time": "2022-10-17T08:45:41.372Z"
   },
   {
    "duration": 0,
    "start_time": "2022-10-17T08:45:41.373Z"
   },
   {
    "duration": 0,
    "start_time": "2022-10-17T08:45:41.374Z"
   },
   {
    "duration": 0,
    "start_time": "2022-10-17T08:45:41.375Z"
   },
   {
    "duration": 0,
    "start_time": "2022-10-17T08:45:41.376Z"
   },
   {
    "duration": 0,
    "start_time": "2022-10-17T08:45:41.377Z"
   },
   {
    "duration": 0,
    "start_time": "2022-10-17T08:45:41.379Z"
   },
   {
    "duration": 0,
    "start_time": "2022-10-17T08:45:41.380Z"
   },
   {
    "duration": 0,
    "start_time": "2022-10-17T08:45:41.381Z"
   },
   {
    "duration": 0,
    "start_time": "2022-10-17T08:45:41.382Z"
   },
   {
    "duration": 7,
    "start_time": "2022-10-17T08:45:57.226Z"
   },
   {
    "duration": 25,
    "start_time": "2022-10-17T08:46:04.081Z"
   },
   {
    "duration": 7,
    "start_time": "2022-10-17T08:46:21.740Z"
   },
   {
    "duration": 26,
    "start_time": "2022-10-17T08:46:35.322Z"
   },
   {
    "duration": 20,
    "start_time": "2022-10-17T08:49:46.591Z"
   },
   {
    "duration": 42,
    "start_time": "2022-10-17T08:49:54.890Z"
   },
   {
    "duration": 61,
    "start_time": "2022-10-17T08:50:02.527Z"
   },
   {
    "duration": 41,
    "start_time": "2022-10-17T08:50:26.854Z"
   },
   {
    "duration": 21,
    "start_time": "2022-10-17T08:50:36.643Z"
   },
   {
    "duration": 132,
    "start_time": "2022-10-17T08:50:48.177Z"
   },
   {
    "duration": 20,
    "start_time": "2022-10-17T08:51:04.572Z"
   },
   {
    "duration": 5,
    "start_time": "2022-10-17T08:51:10.682Z"
   },
   {
    "duration": 144,
    "start_time": "2022-10-17T08:51:13.318Z"
   },
   {
    "duration": 135,
    "start_time": "2022-10-17T08:51:42.402Z"
   },
   {
    "duration": 33,
    "start_time": "2022-10-17T08:52:31.761Z"
   },
   {
    "duration": 46,
    "start_time": "2022-10-17T08:53:02.640Z"
   },
   {
    "duration": 148,
    "start_time": "2022-10-17T08:53:09.545Z"
   },
   {
    "duration": 198,
    "start_time": "2022-10-17T08:53:25.485Z"
   },
   {
    "duration": 26,
    "start_time": "2022-10-17T08:53:46.400Z"
   },
   {
    "duration": 202,
    "start_time": "2022-10-17T08:53:57.652Z"
   },
   {
    "duration": 22,
    "start_time": "2022-10-17T08:54:58.821Z"
   },
   {
    "duration": 21,
    "start_time": "2022-10-17T08:55:02.929Z"
   },
   {
    "duration": 23,
    "start_time": "2022-10-17T08:55:17.391Z"
   },
   {
    "duration": 24,
    "start_time": "2022-10-17T08:55:24.577Z"
   },
   {
    "duration": 85,
    "start_time": "2022-10-17T08:55:43.306Z"
   },
   {
    "duration": 20,
    "start_time": "2022-10-17T08:55:50.028Z"
   },
   {
    "duration": 108,
    "start_time": "2022-10-17T08:56:18.884Z"
   },
   {
    "duration": 115,
    "start_time": "2022-10-17T08:56:30.721Z"
   },
   {
    "duration": 120,
    "start_time": "2022-10-17T08:57:31.199Z"
   },
   {
    "duration": 61,
    "start_time": "2022-10-17T08:57:45.323Z"
   },
   {
    "duration": 55,
    "start_time": "2022-10-17T08:59:04.400Z"
   },
   {
    "duration": 12,
    "start_time": "2022-10-17T08:59:23.124Z"
   },
   {
    "duration": 55,
    "start_time": "2022-10-17T09:00:00.456Z"
   },
   {
    "duration": 64,
    "start_time": "2022-10-17T09:00:54.879Z"
   },
   {
    "duration": 12,
    "start_time": "2022-10-17T09:01:02.791Z"
   },
   {
    "duration": 82,
    "start_time": "2022-10-17T09:01:03.321Z"
   },
   {
    "duration": 79,
    "start_time": "2022-10-17T09:01:32.144Z"
   },
   {
    "duration": 113,
    "start_time": "2022-10-17T09:01:41.729Z"
   },
   {
    "duration": 92,
    "start_time": "2022-10-17T09:01:55.122Z"
   },
   {
    "duration": 7,
    "start_time": "2022-10-17T13:11:52.490Z"
   },
   {
    "duration": 44,
    "start_time": "2022-10-17T13:12:04.281Z"
   },
   {
    "duration": 1355,
    "start_time": "2022-10-17T13:12:14.010Z"
   },
   {
    "duration": 75,
    "start_time": "2022-10-17T13:12:15.367Z"
   },
   {
    "duration": 22,
    "start_time": "2022-10-17T13:12:15.444Z"
   },
   {
    "duration": 14,
    "start_time": "2022-10-17T13:12:15.467Z"
   },
   {
    "duration": 10,
    "start_time": "2022-10-17T13:12:15.483Z"
   },
   {
    "duration": 6,
    "start_time": "2022-10-17T13:12:15.495Z"
   },
   {
    "duration": 6,
    "start_time": "2022-10-17T13:12:15.504Z"
   },
   {
    "duration": 7,
    "start_time": "2022-10-17T13:12:15.534Z"
   },
   {
    "duration": 16,
    "start_time": "2022-10-17T13:12:15.542Z"
   },
   {
    "duration": 5,
    "start_time": "2022-10-17T13:12:15.560Z"
   },
   {
    "duration": 9,
    "start_time": "2022-10-17T13:12:15.566Z"
   },
   {
    "duration": 8,
    "start_time": "2022-10-17T13:12:15.577Z"
   },
   {
    "duration": 13,
    "start_time": "2022-10-17T13:12:15.587Z"
   },
   {
    "duration": 33,
    "start_time": "2022-10-17T13:12:15.604Z"
   },
   {
    "duration": 4,
    "start_time": "2022-10-17T13:12:15.639Z"
   },
   {
    "duration": 10,
    "start_time": "2022-10-17T13:12:15.645Z"
   },
   {
    "duration": 12,
    "start_time": "2022-10-17T13:12:15.656Z"
   },
   {
    "duration": 10,
    "start_time": "2022-10-17T13:12:15.670Z"
   },
   {
    "duration": 10,
    "start_time": "2022-10-17T13:12:15.681Z"
   },
   {
    "duration": 42,
    "start_time": "2022-10-17T13:12:15.693Z"
   },
   {
    "duration": 13,
    "start_time": "2022-10-17T13:12:15.737Z"
   },
   {
    "duration": 13,
    "start_time": "2022-10-17T13:12:15.752Z"
   },
   {
    "duration": 18,
    "start_time": "2022-10-17T13:12:15.766Z"
   },
   {
    "duration": 8,
    "start_time": "2022-10-17T13:12:15.785Z"
   },
   {
    "duration": 8,
    "start_time": "2022-10-17T13:12:15.795Z"
   },
   {
    "duration": 11,
    "start_time": "2022-10-17T13:12:15.833Z"
   },
   {
    "duration": 8,
    "start_time": "2022-10-17T13:12:15.846Z"
   },
   {
    "duration": 8,
    "start_time": "2022-10-17T13:12:15.855Z"
   },
   {
    "duration": 7,
    "start_time": "2022-10-17T13:12:15.865Z"
   },
   {
    "duration": 14,
    "start_time": "2022-10-17T13:12:15.873Z"
   },
   {
    "duration": 18,
    "start_time": "2022-10-17T13:12:15.888Z"
   },
   {
    "duration": 29,
    "start_time": "2022-10-17T13:12:15.907Z"
   },
   {
    "duration": 159,
    "start_time": "2022-10-17T13:12:15.938Z"
   },
   {
    "duration": 13,
    "start_time": "2022-10-17T13:12:16.099Z"
   },
   {
    "duration": 20,
    "start_time": "2022-10-17T13:12:16.115Z"
   },
   {
    "duration": 321,
    "start_time": "2022-10-17T13:12:16.136Z"
   },
   {
    "duration": 15,
    "start_time": "2022-10-17T13:12:16.459Z"
   },
   {
    "duration": 329,
    "start_time": "2022-10-17T13:12:16.476Z"
   },
   {
    "duration": 16,
    "start_time": "2022-10-17T13:12:16.807Z"
   },
   {
    "duration": 8,
    "start_time": "2022-10-17T13:12:16.833Z"
   },
   {
    "duration": 1156,
    "start_time": "2022-10-17T13:12:16.845Z"
   },
   {
    "duration": 6,
    "start_time": "2022-10-17T13:12:18.003Z"
   },
   {
    "duration": 12,
    "start_time": "2022-10-17T13:12:18.011Z"
   },
   {
    "duration": 8,
    "start_time": "2022-10-17T13:12:18.024Z"
   },
   {
    "duration": 244,
    "start_time": "2022-10-17T13:12:18.033Z"
   },
   {
    "duration": 424,
    "start_time": "2022-10-17T13:12:18.280Z"
   },
   {
    "duration": 364,
    "start_time": "2022-10-17T13:12:18.707Z"
   },
   {
    "duration": 1574,
    "start_time": "2022-10-17T13:12:19.073Z"
   },
   {
    "duration": 1510,
    "start_time": "2022-10-17T13:12:20.650Z"
   },
   {
    "duration": 10,
    "start_time": "2022-10-17T13:12:22.162Z"
   },
   {
    "duration": 16,
    "start_time": "2022-10-17T13:12:22.174Z"
   },
   {
    "duration": 106,
    "start_time": "2022-10-17T13:12:22.191Z"
   },
   {
    "duration": 196,
    "start_time": "2022-10-17T13:12:22.299Z"
   },
   {
    "duration": 22,
    "start_time": "2022-10-17T13:12:22.497Z"
   },
   {
    "duration": 7,
    "start_time": "2022-10-17T13:12:22.534Z"
   },
   {
    "duration": 9,
    "start_time": "2022-10-17T13:12:22.542Z"
   },
   {
    "duration": 10,
    "start_time": "2022-10-17T13:12:22.552Z"
   },
   {
    "duration": 13,
    "start_time": "2022-10-17T13:12:22.563Z"
   },
   {
    "duration": 207,
    "start_time": "2022-10-17T13:12:22.577Z"
   },
   {
    "duration": 21,
    "start_time": "2022-10-17T13:12:22.786Z"
   },
   {
    "duration": 6,
    "start_time": "2022-10-17T13:12:22.809Z"
   },
   {
    "duration": 10,
    "start_time": "2022-10-17T13:12:22.837Z"
   },
   {
    "duration": 12,
    "start_time": "2022-10-17T13:12:22.850Z"
   },
   {
    "duration": 12,
    "start_time": "2022-10-17T13:12:22.864Z"
   },
   {
    "duration": 208,
    "start_time": "2022-10-17T13:12:22.878Z"
   },
   {
    "duration": 7,
    "start_time": "2022-10-17T13:12:23.088Z"
   },
   {
    "duration": 38,
    "start_time": "2022-10-17T13:12:23.097Z"
   },
   {
    "duration": 6,
    "start_time": "2022-10-17T13:12:23.137Z"
   },
   {
    "duration": 13,
    "start_time": "2022-10-17T13:12:23.145Z"
   },
   {
    "duration": 13,
    "start_time": "2022-10-17T13:12:23.160Z"
   },
   {
    "duration": 11,
    "start_time": "2022-10-17T13:12:23.174Z"
   },
   {
    "duration": 188,
    "start_time": "2022-10-17T13:12:23.187Z"
   },
   {
    "duration": 11,
    "start_time": "2022-10-17T13:12:23.377Z"
   },
   {
    "duration": 8,
    "start_time": "2022-10-17T13:12:23.390Z"
   },
   {
    "duration": 12,
    "start_time": "2022-10-17T13:12:23.400Z"
   },
   {
    "duration": 5,
    "start_time": "2022-10-17T13:12:23.433Z"
   },
   {
    "duration": 545,
    "start_time": "2022-10-17T13:14:00.494Z"
   },
   {
    "duration": 287,
    "start_time": "2022-10-17T13:14:12.109Z"
   },
   {
    "duration": 943,
    "start_time": "2022-10-17T13:14:20.088Z"
   },
   {
    "duration": 8,
    "start_time": "2022-10-17T13:15:03.270Z"
   },
   {
    "duration": 3,
    "start_time": "2022-10-17T13:15:07.899Z"
   },
   {
    "duration": 8,
    "start_time": "2022-10-17T13:15:13.203Z"
   },
   {
    "duration": 1146,
    "start_time": "2022-10-17T13:17:49.022Z"
   },
   {
    "duration": 45,
    "start_time": "2022-10-17T13:17:50.170Z"
   },
   {
    "duration": 21,
    "start_time": "2022-10-17T13:17:50.217Z"
   },
   {
    "duration": 14,
    "start_time": "2022-10-17T13:17:50.240Z"
   },
   {
    "duration": 9,
    "start_time": "2022-10-17T13:17:50.256Z"
   },
   {
    "duration": 12,
    "start_time": "2022-10-17T13:17:50.266Z"
   },
   {
    "duration": 13,
    "start_time": "2022-10-17T13:17:50.279Z"
   },
   {
    "duration": 12,
    "start_time": "2022-10-17T13:17:50.293Z"
   },
   {
    "duration": 11,
    "start_time": "2022-10-17T13:17:50.307Z"
   },
   {
    "duration": 3,
    "start_time": "2022-10-17T13:17:50.334Z"
   },
   {
    "duration": 8,
    "start_time": "2022-10-17T13:17:50.339Z"
   },
   {
    "duration": 9,
    "start_time": "2022-10-17T13:17:50.348Z"
   },
   {
    "duration": 6,
    "start_time": "2022-10-17T13:17:50.358Z"
   },
   {
    "duration": 7,
    "start_time": "2022-10-17T13:17:50.365Z"
   },
   {
    "duration": 3,
    "start_time": "2022-10-17T13:17:50.373Z"
   },
   {
    "duration": 9,
    "start_time": "2022-10-17T13:17:50.378Z"
   },
   {
    "duration": 10,
    "start_time": "2022-10-17T13:17:50.388Z"
   },
   {
    "duration": 5,
    "start_time": "2022-10-17T13:17:50.399Z"
   },
   {
    "duration": 29,
    "start_time": "2022-10-17T13:17:50.406Z"
   },
   {
    "duration": 17,
    "start_time": "2022-10-17T13:17:50.436Z"
   },
   {
    "duration": 13,
    "start_time": "2022-10-17T13:17:50.455Z"
   },
   {
    "duration": 16,
    "start_time": "2022-10-17T13:17:50.470Z"
   },
   {
    "duration": 47,
    "start_time": "2022-10-17T13:17:50.488Z"
   },
   {
    "duration": 8,
    "start_time": "2022-10-17T13:17:50.537Z"
   },
   {
    "duration": 6,
    "start_time": "2022-10-17T13:17:50.547Z"
   },
   {
    "duration": 13,
    "start_time": "2022-10-17T13:17:50.554Z"
   },
   {
    "duration": 5,
    "start_time": "2022-10-17T13:17:50.569Z"
   },
   {
    "duration": 5,
    "start_time": "2022-10-17T13:17:50.578Z"
   },
   {
    "duration": 6,
    "start_time": "2022-10-17T13:17:50.585Z"
   },
   {
    "duration": 8,
    "start_time": "2022-10-17T13:17:50.592Z"
   },
   {
    "duration": 42,
    "start_time": "2022-10-17T13:17:50.601Z"
   },
   {
    "duration": 14,
    "start_time": "2022-10-17T13:17:50.645Z"
   },
   {
    "duration": 164,
    "start_time": "2022-10-17T13:17:50.661Z"
   },
   {
    "duration": 17,
    "start_time": "2022-10-17T13:17:50.828Z"
   },
   {
    "duration": 3,
    "start_time": "2022-10-17T13:17:50.847Z"
   },
   {
    "duration": 304,
    "start_time": "2022-10-17T13:17:50.851Z"
   },
   {
    "duration": 15,
    "start_time": "2022-10-17T13:17:51.157Z"
   },
   {
    "duration": 301,
    "start_time": "2022-10-17T13:17:51.174Z"
   },
   {
    "duration": 15,
    "start_time": "2022-10-17T13:17:51.477Z"
   },
   {
    "duration": 8,
    "start_time": "2022-10-17T13:17:51.493Z"
   },
   {
    "duration": 1182,
    "start_time": "2022-10-17T13:17:51.503Z"
   },
   {
    "duration": 6,
    "start_time": "2022-10-17T13:17:52.687Z"
   },
   {
    "duration": 43,
    "start_time": "2022-10-17T13:17:52.694Z"
   },
   {
    "duration": 14,
    "start_time": "2022-10-17T13:17:52.739Z"
   },
   {
    "duration": 408,
    "start_time": "2022-10-17T13:17:52.754Z"
   },
   {
    "duration": 578,
    "start_time": "2022-10-17T13:17:53.164Z"
   },
   {
    "duration": 499,
    "start_time": "2022-10-17T13:17:53.743Z"
   },
   {
    "duration": 1416,
    "start_time": "2022-10-17T13:17:54.244Z"
   },
   {
    "duration": 1458,
    "start_time": "2022-10-17T13:17:55.662Z"
   },
   {
    "duration": 18,
    "start_time": "2022-10-17T13:17:57.122Z"
   },
   {
    "duration": 24,
    "start_time": "2022-10-17T13:17:57.142Z"
   },
   {
    "duration": 129,
    "start_time": "2022-10-17T13:17:57.168Z"
   },
   {
    "duration": 212,
    "start_time": "2022-10-17T13:17:57.298Z"
   },
   {
    "duration": 30,
    "start_time": "2022-10-17T13:17:57.512Z"
   },
   {
    "duration": 6,
    "start_time": "2022-10-17T13:17:57.543Z"
   },
   {
    "duration": 9,
    "start_time": "2022-10-17T13:17:57.551Z"
   },
   {
    "duration": 9,
    "start_time": "2022-10-17T13:17:57.561Z"
   },
   {
    "duration": 15,
    "start_time": "2022-10-17T13:17:57.571Z"
   },
   {
    "duration": 201,
    "start_time": "2022-10-17T13:17:57.588Z"
   },
   {
    "duration": 19,
    "start_time": "2022-10-17T13:17:57.791Z"
   },
   {
    "duration": 6,
    "start_time": "2022-10-17T13:17:57.811Z"
   },
   {
    "duration": 19,
    "start_time": "2022-10-17T13:17:57.818Z"
   },
   {
    "duration": 17,
    "start_time": "2022-10-17T13:17:57.838Z"
   },
   {
    "duration": 18,
    "start_time": "2022-10-17T13:17:57.857Z"
   },
   {
    "duration": 189,
    "start_time": "2022-10-17T13:17:57.876Z"
   },
   {
    "duration": 8,
    "start_time": "2022-10-17T13:17:58.066Z"
   },
   {
    "duration": 21,
    "start_time": "2022-10-17T13:17:58.076Z"
   },
   {
    "duration": 10,
    "start_time": "2022-10-17T13:17:58.099Z"
   },
   {
    "duration": 24,
    "start_time": "2022-10-17T13:17:58.110Z"
   },
   {
    "duration": 5,
    "start_time": "2022-10-17T13:17:58.136Z"
   },
   {
    "duration": 16,
    "start_time": "2022-10-17T13:17:58.142Z"
   },
   {
    "duration": 181,
    "start_time": "2022-10-17T13:17:58.160Z"
   },
   {
    "duration": 10,
    "start_time": "2022-10-17T13:17:58.343Z"
   },
   {
    "duration": 12,
    "start_time": "2022-10-17T13:17:58.354Z"
   },
   {
    "duration": 10,
    "start_time": "2022-10-17T13:17:58.367Z"
   },
   {
    "duration": 5,
    "start_time": "2022-10-17T13:17:58.379Z"
   },
   {
    "duration": 1235,
    "start_time": "2022-10-17T16:27:22.337Z"
   },
   {
    "duration": 43,
    "start_time": "2022-10-17T16:27:23.574Z"
   },
   {
    "duration": 20,
    "start_time": "2022-10-17T16:27:23.619Z"
   },
   {
    "duration": 22,
    "start_time": "2022-10-17T16:27:23.641Z"
   },
   {
    "duration": 9,
    "start_time": "2022-10-17T16:27:23.665Z"
   },
   {
    "duration": 5,
    "start_time": "2022-10-17T16:27:23.676Z"
   },
   {
    "duration": 6,
    "start_time": "2022-10-17T16:27:23.683Z"
   },
   {
    "duration": 15,
    "start_time": "2022-10-17T16:27:23.691Z"
   },
   {
    "duration": 18,
    "start_time": "2022-10-17T16:27:23.707Z"
   },
   {
    "duration": 4,
    "start_time": "2022-10-17T16:27:23.727Z"
   },
   {
    "duration": 24,
    "start_time": "2022-10-17T16:27:23.733Z"
   },
   {
    "duration": 10,
    "start_time": "2022-10-17T16:27:23.758Z"
   },
   {
    "duration": 8,
    "start_time": "2022-10-17T16:27:23.770Z"
   },
   {
    "duration": 8,
    "start_time": "2022-10-17T16:27:23.779Z"
   },
   {
    "duration": 6,
    "start_time": "2022-10-17T16:27:23.789Z"
   },
   {
    "duration": 9,
    "start_time": "2022-10-17T16:27:23.796Z"
   },
   {
    "duration": 10,
    "start_time": "2022-10-17T16:27:23.807Z"
   },
   {
    "duration": 7,
    "start_time": "2022-10-17T16:27:23.818Z"
   },
   {
    "duration": 28,
    "start_time": "2022-10-17T16:27:23.827Z"
   },
   {
    "duration": 21,
    "start_time": "2022-10-17T16:27:23.857Z"
   },
   {
    "duration": 15,
    "start_time": "2022-10-17T16:27:23.880Z"
   },
   {
    "duration": 22,
    "start_time": "2022-10-17T16:27:23.897Z"
   },
   {
    "duration": 38,
    "start_time": "2022-10-17T16:27:23.921Z"
   },
   {
    "duration": 10,
    "start_time": "2022-10-17T16:27:23.961Z"
   },
   {
    "duration": 22,
    "start_time": "2022-10-17T16:27:23.972Z"
   },
   {
    "duration": 19,
    "start_time": "2022-10-17T16:27:23.995Z"
   },
   {
    "duration": 6,
    "start_time": "2022-10-17T16:27:24.015Z"
   },
   {
    "duration": 6,
    "start_time": "2022-10-17T16:27:24.024Z"
   },
   {
    "duration": 11,
    "start_time": "2022-10-17T16:27:24.031Z"
   },
   {
    "duration": 12,
    "start_time": "2022-10-17T16:27:24.044Z"
   },
   {
    "duration": 15,
    "start_time": "2022-10-17T16:27:24.057Z"
   },
   {
    "duration": 18,
    "start_time": "2022-10-17T16:27:24.074Z"
   },
   {
    "duration": 176,
    "start_time": "2022-10-17T16:27:24.094Z"
   },
   {
    "duration": 14,
    "start_time": "2022-10-17T16:27:24.272Z"
   },
   {
    "duration": 20,
    "start_time": "2022-10-17T16:27:24.288Z"
   },
   {
    "duration": 314,
    "start_time": "2022-10-17T16:27:24.310Z"
   },
   {
    "duration": 18,
    "start_time": "2022-10-17T16:27:24.625Z"
   },
   {
    "duration": 319,
    "start_time": "2022-10-17T16:27:24.653Z"
   },
   {
    "duration": 16,
    "start_time": "2022-10-17T16:27:24.974Z"
   },
   {
    "duration": 9,
    "start_time": "2022-10-17T16:27:24.992Z"
   },
   {
    "duration": 1074,
    "start_time": "2022-10-17T16:27:25.003Z"
   },
   {
    "duration": 6,
    "start_time": "2022-10-17T16:27:26.079Z"
   },
   {
    "duration": 26,
    "start_time": "2022-10-17T16:27:26.087Z"
   },
   {
    "duration": 20,
    "start_time": "2022-10-17T16:27:26.115Z"
   },
   {
    "duration": 221,
    "start_time": "2022-10-17T16:27:26.138Z"
   },
   {
    "duration": 359,
    "start_time": "2022-10-17T16:27:26.362Z"
   },
   {
    "duration": 370,
    "start_time": "2022-10-17T16:27:26.723Z"
   },
   {
    "duration": 1177,
    "start_time": "2022-10-17T16:27:50.095Z"
   },
   {
    "duration": 45,
    "start_time": "2022-10-17T16:27:51.274Z"
   },
   {
    "duration": 30,
    "start_time": "2022-10-17T16:27:51.320Z"
   },
   {
    "duration": 17,
    "start_time": "2022-10-17T16:27:51.354Z"
   },
   {
    "duration": 10,
    "start_time": "2022-10-17T16:27:51.373Z"
   },
   {
    "duration": 10,
    "start_time": "2022-10-17T16:27:51.385Z"
   },
   {
    "duration": 7,
    "start_time": "2022-10-17T16:27:51.397Z"
   },
   {
    "duration": 7,
    "start_time": "2022-10-17T16:27:51.406Z"
   },
   {
    "duration": 46,
    "start_time": "2022-10-17T16:27:51.414Z"
   },
   {
    "duration": 5,
    "start_time": "2022-10-17T16:27:51.462Z"
   },
   {
    "duration": 33,
    "start_time": "2022-10-17T16:27:51.469Z"
   },
   {
    "duration": 11,
    "start_time": "2022-10-17T16:27:51.505Z"
   },
   {
    "duration": 10,
    "start_time": "2022-10-17T16:27:51.518Z"
   },
   {
    "duration": 11,
    "start_time": "2022-10-17T16:27:51.532Z"
   },
   {
    "duration": 8,
    "start_time": "2022-10-17T16:27:51.545Z"
   },
   {
    "duration": 7,
    "start_time": "2022-10-17T16:27:51.556Z"
   },
   {
    "duration": 20,
    "start_time": "2022-10-17T16:27:51.565Z"
   },
   {
    "duration": 18,
    "start_time": "2022-10-17T16:27:51.587Z"
   },
   {
    "duration": 30,
    "start_time": "2022-10-17T16:27:51.608Z"
   },
   {
    "duration": 31,
    "start_time": "2022-10-17T16:27:51.640Z"
   },
   {
    "duration": 17,
    "start_time": "2022-10-17T16:27:51.673Z"
   },
   {
    "duration": 23,
    "start_time": "2022-10-17T16:27:51.692Z"
   },
   {
    "duration": 36,
    "start_time": "2022-10-17T16:27:51.718Z"
   },
   {
    "duration": 12,
    "start_time": "2022-10-17T16:27:51.757Z"
   },
   {
    "duration": 18,
    "start_time": "2022-10-17T16:27:51.771Z"
   },
   {
    "duration": 34,
    "start_time": "2022-10-17T16:27:51.791Z"
   },
   {
    "duration": 6,
    "start_time": "2022-10-17T16:27:51.828Z"
   },
   {
    "duration": 10,
    "start_time": "2022-10-17T16:27:51.835Z"
   },
   {
    "duration": 12,
    "start_time": "2022-10-17T16:27:51.847Z"
   },
   {
    "duration": 12,
    "start_time": "2022-10-17T16:27:51.861Z"
   },
   {
    "duration": 21,
    "start_time": "2022-10-17T16:27:51.875Z"
   },
   {
    "duration": 16,
    "start_time": "2022-10-17T16:27:51.898Z"
   },
   {
    "duration": 174,
    "start_time": "2022-10-17T16:27:51.916Z"
   },
   {
    "duration": 15,
    "start_time": "2022-10-17T16:27:52.092Z"
   },
   {
    "duration": 3,
    "start_time": "2022-10-17T16:27:52.108Z"
   },
   {
    "duration": 330,
    "start_time": "2022-10-17T16:27:52.113Z"
   },
   {
    "duration": 19,
    "start_time": "2022-10-17T16:27:52.445Z"
   },
   {
    "duration": 322,
    "start_time": "2022-10-17T16:27:52.466Z"
   },
   {
    "duration": 16,
    "start_time": "2022-10-17T16:27:52.789Z"
   },
   {
    "duration": 15,
    "start_time": "2022-10-17T16:27:52.806Z"
   },
   {
    "duration": 1060,
    "start_time": "2022-10-17T16:27:52.825Z"
   },
   {
    "duration": 7,
    "start_time": "2022-10-17T16:27:53.886Z"
   },
   {
    "duration": 16,
    "start_time": "2022-10-17T16:27:53.894Z"
   },
   {
    "duration": 21,
    "start_time": "2022-10-17T16:27:53.912Z"
   },
   {
    "duration": 224,
    "start_time": "2022-10-17T16:27:53.935Z"
   },
   {
    "duration": 361,
    "start_time": "2022-10-17T16:27:54.161Z"
   },
   {
    "duration": 378,
    "start_time": "2022-10-17T16:27:54.525Z"
   },
   {
    "duration": 1607,
    "start_time": "2022-10-17T16:27:54.905Z"
   },
   {
    "duration": 1530,
    "start_time": "2022-10-17T16:27:56.513Z"
   },
   {
    "duration": 12,
    "start_time": "2022-10-17T16:27:58.045Z"
   },
   {
    "duration": 16,
    "start_time": "2022-10-17T16:27:58.058Z"
   },
   {
    "duration": 104,
    "start_time": "2022-10-17T16:27:58.076Z"
   },
   {
    "duration": 202,
    "start_time": "2022-10-17T16:27:58.182Z"
   },
   {
    "duration": 23,
    "start_time": "2022-10-17T16:27:58.385Z"
   },
   {
    "duration": 19,
    "start_time": "2022-10-17T16:27:58.410Z"
   },
   {
    "duration": 23,
    "start_time": "2022-10-17T16:27:58.430Z"
   },
   {
    "duration": 15,
    "start_time": "2022-10-17T16:27:58.455Z"
   },
   {
    "duration": 18,
    "start_time": "2022-10-17T16:27:58.472Z"
   },
   {
    "duration": 212,
    "start_time": "2022-10-17T16:27:58.491Z"
   },
   {
    "duration": 21,
    "start_time": "2022-10-17T16:27:58.705Z"
   },
   {
    "duration": 9,
    "start_time": "2022-10-17T16:27:58.728Z"
   },
   {
    "duration": 22,
    "start_time": "2022-10-17T16:27:58.739Z"
   },
   {
    "duration": 25,
    "start_time": "2022-10-17T16:27:58.763Z"
   },
   {
    "duration": 14,
    "start_time": "2022-10-17T16:27:58.789Z"
   },
   {
    "duration": 211,
    "start_time": "2022-10-17T16:27:58.805Z"
   },
   {
    "duration": 7,
    "start_time": "2022-10-17T16:27:59.018Z"
   },
   {
    "duration": 37,
    "start_time": "2022-10-17T16:27:59.027Z"
   },
   {
    "duration": 7,
    "start_time": "2022-10-17T16:27:59.066Z"
   },
   {
    "duration": 18,
    "start_time": "2022-10-17T16:27:59.074Z"
   },
   {
    "duration": 23,
    "start_time": "2022-10-17T16:27:59.094Z"
   },
   {
    "duration": 37,
    "start_time": "2022-10-17T16:27:59.120Z"
   },
   {
    "duration": 186,
    "start_time": "2022-10-17T16:27:59.160Z"
   },
   {
    "duration": 14,
    "start_time": "2022-10-17T16:27:59.348Z"
   },
   {
    "duration": 7,
    "start_time": "2022-10-17T16:27:59.364Z"
   },
   {
    "duration": 17,
    "start_time": "2022-10-17T16:27:59.372Z"
   },
   {
    "duration": 7,
    "start_time": "2022-10-17T16:27:59.391Z"
   },
   {
    "duration": 53,
    "start_time": "2022-10-17T16:31:56.305Z"
   }
  ],
  "kernelspec": {
   "display_name": "Python 3 (ipykernel)",
   "language": "python",
   "name": "python3"
  },
  "language_info": {
   "codemirror_mode": {
    "name": "ipython",
    "version": 3
   },
   "file_extension": ".py",
   "mimetype": "text/x-python",
   "name": "python",
   "nbconvert_exporter": "python",
   "pygments_lexer": "ipython3",
   "version": "3.9.12"
  },
  "toc": {
   "base_numbering": 1,
   "nav_menu": {},
   "number_sections": true,
   "sideBar": true,
   "skip_h1_title": true,
   "title_cell": "Table of Contents",
   "title_sidebar": "Contents",
   "toc_cell": false,
   "toc_position": {
    "height": "calc(100% - 180px)",
    "left": "10px",
    "top": "150px",
    "width": "300.792px"
   },
   "toc_section_display": true,
   "toc_window_display": false
  }
 },
 "nbformat": 4,
 "nbformat_minor": 2
}
