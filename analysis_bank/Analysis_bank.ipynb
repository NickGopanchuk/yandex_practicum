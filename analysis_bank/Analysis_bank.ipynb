{
 "cells": [
  {
   "cell_type": "markdown",
   "metadata": {
    "toc": true
   },
   "source": [
    "<h1>Содержание<span class=\"tocSkip\"></span></h1>\n",
    "<div class=\"toc\"><ul class=\"toc-item\"><li><span><a href=\"#Подготовка-данных\" data-toc-modified-id=\"Подготовка-данных-1\"><span class=\"toc-item-num\">1&nbsp;&nbsp;</span>Подготовка данных</a></span><ul class=\"toc-item\"><li><span><a href=\"#Подгатовка-данных-к-моделям\" data-toc-modified-id=\"Подгатовка-данных-к-моделям-1.1\"><span class=\"toc-item-num\">1.1&nbsp;&nbsp;</span>Подгатовка данных к моделям</a></span></li><li><span><a href=\"#Смаштабируем-количественные-данные-друг-к-другу\" data-toc-modified-id=\"Смаштабируем-количественные-данные-друг-к-другу-1.2\"><span class=\"toc-item-num\">1.2&nbsp;&nbsp;</span>Смаштабируем количественные данные друг к другу</a></span></li></ul></li><li><span><a href=\"#Исследование-задачи\" data-toc-modified-id=\"Исследование-задачи-2\"><span class=\"toc-item-num\">2&nbsp;&nbsp;</span>Исследование задачи</a></span><ul class=\"toc-item\"><li><span><a href=\"#Вывод:\" data-toc-modified-id=\"Вывод:-2.1\"><span class=\"toc-item-num\">2.1&nbsp;&nbsp;</span>Вывод:</a></span></li></ul></li><li><span><a href=\"#Борьба-с-дисбалансом\" data-toc-modified-id=\"Борьба-с-дисбалансом-3\"><span class=\"toc-item-num\">3&nbsp;&nbsp;</span>Борьба с дисбалансом</a></span><ul class=\"toc-item\"><li><span><a href=\"#Увеличение-выборки\" data-toc-modified-id=\"Увеличение-выборки-3.1\"><span class=\"toc-item-num\">3.1&nbsp;&nbsp;</span>Увеличение выборки</a></span></li><li><span><a href=\"#Уменьшение-выборки\" data-toc-modified-id=\"Уменьшение-выборки-3.2\"><span class=\"toc-item-num\">3.2&nbsp;&nbsp;</span>Уменьшение выборки</a></span></li><li><span><a href=\"#Взвешивание-классов\" data-toc-modified-id=\"Взвешивание-классов-3.3\"><span class=\"toc-item-num\">3.3&nbsp;&nbsp;</span>Взвешивание классов</a></span></li></ul></li><li><span><a href=\"#Тестирование-моделей\" data-toc-modified-id=\"Тестирование-моделей-4\"><span class=\"toc-item-num\">4&nbsp;&nbsp;</span>Тестирование моделей</a></span></li><li><span><a href=\"#Вывод\" data-toc-modified-id=\"Вывод-5\"><span class=\"toc-item-num\">5&nbsp;&nbsp;</span>Вывод</a></span></li></ul></div>"
   ]
  },
  {
   "cell_type": "markdown",
   "metadata": {},
   "source": [
    "# Отток клиентов"
   ]
  },
  {
   "cell_type": "markdown",
   "metadata": {},
   "source": [
    "Из «Бета-Банка» стали уходить клиенты. Каждый месяц. Немного, но заметно. Банковские маркетологи посчитали: сохранять текущих клиентов дешевле, чем привлекать новых.\n",
    "\n",
    "Нужно спрогнозировать, уйдёт клиент из банка в ближайшее время или нет. Вам предоставлены исторические данные о поведении клиентов и расторжении договоров с банком. \n",
    "\n",
    "Постройте модель с предельно большим значением *F1*-меры. Чтобы сдать проект успешно, нужно довести метрику до 0.59. Проверьте *F1*-меру на тестовой выборке самостоятельно.\n",
    "\n",
    "Дополнительно измеряйте *AUC-ROC*, сравнивайте её значение с *F1*-мерой.\n",
    "\n",
    "Источник данных: [https://www.kaggle.com/barelydedicated/bank-customer-churn-modeling](https://www.kaggle.com/barelydedicated/bank-customer-churn-modeling)"
   ]
  },
  {
   "cell_type": "markdown",
   "metadata": {},
   "source": [
    "## Подготовка данных"
   ]
  },
  {
   "cell_type": "code",
   "execution_count": 1,
   "metadata": {},
   "outputs": [],
   "source": [
    "import pandas as pd\n",
    "import numpy as np\n",
    "\n",
    "import seaborn as sns\n",
    "import matplotlib.pyplot as plt\n",
    "\n",
    "#from sklearn.metrics import confusion_matrix\n",
    "from sklearn.model_selection import train_test_split\n",
    "from sklearn.metrics import accuracy_score, f1_score, recall_score, precision_score, roc_auc_score, roc_curve, confusion_matrix\n",
    "from sklearn.utils import shuffle\n",
    "\n",
    "from sklearn.preprocessing import StandardScaler\n",
    "\n",
    "from sklearn.linear_model import LogisticRegression\n",
    "from sklearn.ensemble import RandomForestClassifier\n",
    "from sklearn.tree import DecisionTreeClassifier"
   ]
  },
  {
   "cell_type": "code",
   "execution_count": 2,
   "metadata": {},
   "outputs": [],
   "source": [
    "df = pd.read_csv('/datasets/Churn.csv')"
   ]
  },
  {
   "cell_type": "code",
   "execution_count": 3,
   "metadata": {},
   "outputs": [
    {
     "data": {
      "text/html": [
       "<div>\n",
       "<style scoped>\n",
       "    .dataframe tbody tr th:only-of-type {\n",
       "        vertical-align: middle;\n",
       "    }\n",
       "\n",
       "    .dataframe tbody tr th {\n",
       "        vertical-align: top;\n",
       "    }\n",
       "\n",
       "    .dataframe thead th {\n",
       "        text-align: right;\n",
       "    }\n",
       "</style>\n",
       "<table border=\"1\" class=\"dataframe\">\n",
       "  <thead>\n",
       "    <tr style=\"text-align: right;\">\n",
       "      <th></th>\n",
       "      <th>RowNumber</th>\n",
       "      <th>CustomerId</th>\n",
       "      <th>Surname</th>\n",
       "      <th>CreditScore</th>\n",
       "      <th>Geography</th>\n",
       "      <th>Gender</th>\n",
       "      <th>Age</th>\n",
       "      <th>Tenure</th>\n",
       "      <th>Balance</th>\n",
       "      <th>NumOfProducts</th>\n",
       "      <th>HasCrCard</th>\n",
       "      <th>IsActiveMember</th>\n",
       "      <th>EstimatedSalary</th>\n",
       "      <th>Exited</th>\n",
       "    </tr>\n",
       "  </thead>\n",
       "  <tbody>\n",
       "    <tr>\n",
       "      <th>0</th>\n",
       "      <td>1</td>\n",
       "      <td>15634602</td>\n",
       "      <td>Hargrave</td>\n",
       "      <td>619</td>\n",
       "      <td>France</td>\n",
       "      <td>Female</td>\n",
       "      <td>42</td>\n",
       "      <td>2.0</td>\n",
       "      <td>0.00</td>\n",
       "      <td>1</td>\n",
       "      <td>1</td>\n",
       "      <td>1</td>\n",
       "      <td>101348.88</td>\n",
       "      <td>1</td>\n",
       "    </tr>\n",
       "    <tr>\n",
       "      <th>1</th>\n",
       "      <td>2</td>\n",
       "      <td>15647311</td>\n",
       "      <td>Hill</td>\n",
       "      <td>608</td>\n",
       "      <td>Spain</td>\n",
       "      <td>Female</td>\n",
       "      <td>41</td>\n",
       "      <td>1.0</td>\n",
       "      <td>83807.86</td>\n",
       "      <td>1</td>\n",
       "      <td>0</td>\n",
       "      <td>1</td>\n",
       "      <td>112542.58</td>\n",
       "      <td>0</td>\n",
       "    </tr>\n",
       "    <tr>\n",
       "      <th>2</th>\n",
       "      <td>3</td>\n",
       "      <td>15619304</td>\n",
       "      <td>Onio</td>\n",
       "      <td>502</td>\n",
       "      <td>France</td>\n",
       "      <td>Female</td>\n",
       "      <td>42</td>\n",
       "      <td>8.0</td>\n",
       "      <td>159660.80</td>\n",
       "      <td>3</td>\n",
       "      <td>1</td>\n",
       "      <td>0</td>\n",
       "      <td>113931.57</td>\n",
       "      <td>1</td>\n",
       "    </tr>\n",
       "    <tr>\n",
       "      <th>3</th>\n",
       "      <td>4</td>\n",
       "      <td>15701354</td>\n",
       "      <td>Boni</td>\n",
       "      <td>699</td>\n",
       "      <td>France</td>\n",
       "      <td>Female</td>\n",
       "      <td>39</td>\n",
       "      <td>1.0</td>\n",
       "      <td>0.00</td>\n",
       "      <td>2</td>\n",
       "      <td>0</td>\n",
       "      <td>0</td>\n",
       "      <td>93826.63</td>\n",
       "      <td>0</td>\n",
       "    </tr>\n",
       "    <tr>\n",
       "      <th>4</th>\n",
       "      <td>5</td>\n",
       "      <td>15737888</td>\n",
       "      <td>Mitchell</td>\n",
       "      <td>850</td>\n",
       "      <td>Spain</td>\n",
       "      <td>Female</td>\n",
       "      <td>43</td>\n",
       "      <td>2.0</td>\n",
       "      <td>125510.82</td>\n",
       "      <td>1</td>\n",
       "      <td>1</td>\n",
       "      <td>1</td>\n",
       "      <td>79084.10</td>\n",
       "      <td>0</td>\n",
       "    </tr>\n",
       "    <tr>\n",
       "      <th>5</th>\n",
       "      <td>6</td>\n",
       "      <td>15574012</td>\n",
       "      <td>Chu</td>\n",
       "      <td>645</td>\n",
       "      <td>Spain</td>\n",
       "      <td>Male</td>\n",
       "      <td>44</td>\n",
       "      <td>8.0</td>\n",
       "      <td>113755.78</td>\n",
       "      <td>2</td>\n",
       "      <td>1</td>\n",
       "      <td>0</td>\n",
       "      <td>149756.71</td>\n",
       "      <td>1</td>\n",
       "    </tr>\n",
       "    <tr>\n",
       "      <th>6</th>\n",
       "      <td>7</td>\n",
       "      <td>15592531</td>\n",
       "      <td>Bartlett</td>\n",
       "      <td>822</td>\n",
       "      <td>France</td>\n",
       "      <td>Male</td>\n",
       "      <td>50</td>\n",
       "      <td>7.0</td>\n",
       "      <td>0.00</td>\n",
       "      <td>2</td>\n",
       "      <td>1</td>\n",
       "      <td>1</td>\n",
       "      <td>10062.80</td>\n",
       "      <td>0</td>\n",
       "    </tr>\n",
       "    <tr>\n",
       "      <th>7</th>\n",
       "      <td>8</td>\n",
       "      <td>15656148</td>\n",
       "      <td>Obinna</td>\n",
       "      <td>376</td>\n",
       "      <td>Germany</td>\n",
       "      <td>Female</td>\n",
       "      <td>29</td>\n",
       "      <td>4.0</td>\n",
       "      <td>115046.74</td>\n",
       "      <td>4</td>\n",
       "      <td>1</td>\n",
       "      <td>0</td>\n",
       "      <td>119346.88</td>\n",
       "      <td>1</td>\n",
       "    </tr>\n",
       "    <tr>\n",
       "      <th>8</th>\n",
       "      <td>9</td>\n",
       "      <td>15792365</td>\n",
       "      <td>He</td>\n",
       "      <td>501</td>\n",
       "      <td>France</td>\n",
       "      <td>Male</td>\n",
       "      <td>44</td>\n",
       "      <td>4.0</td>\n",
       "      <td>142051.07</td>\n",
       "      <td>2</td>\n",
       "      <td>0</td>\n",
       "      <td>1</td>\n",
       "      <td>74940.50</td>\n",
       "      <td>0</td>\n",
       "    </tr>\n",
       "    <tr>\n",
       "      <th>9</th>\n",
       "      <td>10</td>\n",
       "      <td>15592389</td>\n",
       "      <td>H?</td>\n",
       "      <td>684</td>\n",
       "      <td>France</td>\n",
       "      <td>Male</td>\n",
       "      <td>27</td>\n",
       "      <td>2.0</td>\n",
       "      <td>134603.88</td>\n",
       "      <td>1</td>\n",
       "      <td>1</td>\n",
       "      <td>1</td>\n",
       "      <td>71725.73</td>\n",
       "      <td>0</td>\n",
       "    </tr>\n",
       "  </tbody>\n",
       "</table>\n",
       "</div>"
      ],
      "text/plain": [
       "   RowNumber  CustomerId   Surname  CreditScore Geography  Gender  Age  \\\n",
       "0          1    15634602  Hargrave          619    France  Female   42   \n",
       "1          2    15647311      Hill          608     Spain  Female   41   \n",
       "2          3    15619304      Onio          502    France  Female   42   \n",
       "3          4    15701354      Boni          699    France  Female   39   \n",
       "4          5    15737888  Mitchell          850     Spain  Female   43   \n",
       "5          6    15574012       Chu          645     Spain    Male   44   \n",
       "6          7    15592531  Bartlett          822    France    Male   50   \n",
       "7          8    15656148    Obinna          376   Germany  Female   29   \n",
       "8          9    15792365        He          501    France    Male   44   \n",
       "9         10    15592389        H?          684    France    Male   27   \n",
       "\n",
       "   Tenure    Balance  NumOfProducts  HasCrCard  IsActiveMember  \\\n",
       "0     2.0       0.00              1          1               1   \n",
       "1     1.0   83807.86              1          0               1   \n",
       "2     8.0  159660.80              3          1               0   \n",
       "3     1.0       0.00              2          0               0   \n",
       "4     2.0  125510.82              1          1               1   \n",
       "5     8.0  113755.78              2          1               0   \n",
       "6     7.0       0.00              2          1               1   \n",
       "7     4.0  115046.74              4          1               0   \n",
       "8     4.0  142051.07              2          0               1   \n",
       "9     2.0  134603.88              1          1               1   \n",
       "\n",
       "   EstimatedSalary  Exited  \n",
       "0        101348.88       1  \n",
       "1        112542.58       0  \n",
       "2        113931.57       1  \n",
       "3         93826.63       0  \n",
       "4         79084.10       0  \n",
       "5        149756.71       1  \n",
       "6         10062.80       0  \n",
       "7        119346.88       1  \n",
       "8         74940.50       0  \n",
       "9         71725.73       0  "
      ]
     },
     "execution_count": 3,
     "metadata": {},
     "output_type": "execute_result"
    }
   ],
   "source": [
    "df.head(10)"
   ]
  },
  {
   "cell_type": "code",
   "execution_count": 4,
   "metadata": {},
   "outputs": [
    {
     "name": "stdout",
     "output_type": "stream",
     "text": [
      "<class 'pandas.core.frame.DataFrame'>\n",
      "RangeIndex: 10000 entries, 0 to 9999\n",
      "Data columns (total 14 columns):\n",
      " #   Column           Non-Null Count  Dtype  \n",
      "---  ------           --------------  -----  \n",
      " 0   RowNumber        10000 non-null  int64  \n",
      " 1   CustomerId       10000 non-null  int64  \n",
      " 2   Surname          10000 non-null  object \n",
      " 3   CreditScore      10000 non-null  int64  \n",
      " 4   Geography        10000 non-null  object \n",
      " 5   Gender           10000 non-null  object \n",
      " 6   Age              10000 non-null  int64  \n",
      " 7   Tenure           9091 non-null   float64\n",
      " 8   Balance          10000 non-null  float64\n",
      " 9   NumOfProducts    10000 non-null  int64  \n",
      " 10  HasCrCard        10000 non-null  int64  \n",
      " 11  IsActiveMember   10000 non-null  int64  \n",
      " 12  EstimatedSalary  10000 non-null  float64\n",
      " 13  Exited           10000 non-null  int64  \n",
      "dtypes: float64(3), int64(8), object(3)\n",
      "memory usage: 1.1+ MB\n"
     ]
    }
   ],
   "source": [
    "df.info()"
   ]
  },
  {
   "cell_type": "markdown",
   "metadata": {},
   "source": [
    "**Признаки**\n",
    "    \n",
    "<li>RowNumber — индекс строки в данных</li>\n",
    "<li>CustomerId — уникальный идентификатор клиента</li>\n",
    "<li>Surname — фамилия</li>\n",
    "<li>CreditScore — кредитный рейтинг</li>\n",
    "<li>Geography — страна проживания</li>\n",
    "<li>Gender — пол</li>\n",
    "<li>Age — возраст</li>\n",
    "<li>Tenure — сколько лет человек является клиентом банка</li>\n",
    "<li>Balance — баланс на счёте</li>\n",
    "<li>NumOfProducts — количество продуктов банка, используемых клиентом</li>\n",
    "<li>HasCrCard — наличие кредитной карты</li>\n",
    "<li>IsActiveMember — активность клиента</li>\n",
    "<li>EstimatedSalary — предполагаемая зарплата</li>\n",
    "\n",
    "**Целевой признак**\n",
    "\n",
    "<li>Exited — факт ухода клиента</li>"
   ]
  },
  {
   "cell_type": "code",
   "execution_count": 5,
   "metadata": {},
   "outputs": [
    {
     "data": {
      "text/plain": [
       "0"
      ]
     },
     "execution_count": 5,
     "metadata": {},
     "output_type": "execute_result"
    }
   ],
   "source": [
    "df.duplicated().sum()"
   ]
  },
  {
   "cell_type": "markdown",
   "metadata": {},
   "source": [
    "<li>Дубликаты не выявлены</li>"
   ]
  },
  {
   "cell_type": "code",
   "execution_count": 6,
   "metadata": {},
   "outputs": [
    {
     "data": {
      "text/plain": [
       "array([ 2.,  1.,  8.,  7.,  4.,  6.,  3., 10.,  5.,  9.,  0., nan])"
      ]
     },
     "execution_count": 6,
     "metadata": {},
     "output_type": "execute_result"
    }
   ],
   "source": [
    "df['Tenure'].unique()"
   ]
  },
  {
   "cell_type": "code",
   "execution_count": 7,
   "metadata": {},
   "outputs": [
    {
     "data": {
      "text/plain": [
       "array(['France', 'Spain', 'Germany'], dtype=object)"
      ]
     },
     "execution_count": 7,
     "metadata": {},
     "output_type": "execute_result"
    }
   ],
   "source": [
    "df['Geography'].unique()"
   ]
  },
  {
   "cell_type": "markdown",
   "metadata": {},
   "source": [
    "<li>Вижу что есть пропущеные значения в Tenure, а так же они целочисленые, заменю пустые значения на 0 и приведу к int(правильно делаю или надо удалить?)</li>\n",
    "<li>Вижу столбцы которые точно не нужны это: RowNumber, CustomerId, Surname</li>\n",
    "<li>Столбец EstimatedSalary тоже уберу, потому что я так думаю в базу данных он занесен с помощью модели(если что ревьюер подскажи нужны ли его уберать на самом деле?)</li>\n",
    "<li>Столбцы Geography и Gender надо будет привести к бинарному виду</li>"
   ]
  },
  {
   "cell_type": "code",
   "execution_count": 8,
   "metadata": {},
   "outputs": [
    {
     "data": {
      "text/plain": [
       "dtype('int64')"
      ]
     },
     "execution_count": 8,
     "metadata": {},
     "output_type": "execute_result"
    }
   ],
   "source": [
    "df['Tenure'] = df['Tenure'].fillna(0)\n",
    "df['Tenure'] = df['Tenure'].astype(int)\n",
    "df['Tenure'].dtypes"
   ]
  },
  {
   "cell_type": "code",
   "execution_count": 9,
   "metadata": {},
   "outputs": [],
   "source": [
    "df = df.drop(['Surname', 'RowNumber', 'CustomerId', 'EstimatedSalary'], axis=1)"
   ]
  },
  {
   "cell_type": "code",
   "execution_count": 10,
   "metadata": {},
   "outputs": [
    {
     "data": {
      "text/html": [
       "<div>\n",
       "<style scoped>\n",
       "    .dataframe tbody tr th:only-of-type {\n",
       "        vertical-align: middle;\n",
       "    }\n",
       "\n",
       "    .dataframe tbody tr th {\n",
       "        vertical-align: top;\n",
       "    }\n",
       "\n",
       "    .dataframe thead th {\n",
       "        text-align: right;\n",
       "    }\n",
       "</style>\n",
       "<table border=\"1\" class=\"dataframe\">\n",
       "  <thead>\n",
       "    <tr style=\"text-align: right;\">\n",
       "      <th></th>\n",
       "      <th>CreditScore</th>\n",
       "      <th>Age</th>\n",
       "      <th>Tenure</th>\n",
       "      <th>Balance</th>\n",
       "      <th>NumOfProducts</th>\n",
       "      <th>HasCrCard</th>\n",
       "      <th>IsActiveMember</th>\n",
       "      <th>Exited</th>\n",
       "    </tr>\n",
       "  </thead>\n",
       "  <tbody>\n",
       "    <tr>\n",
       "      <th>count</th>\n",
       "      <td>10000.000000</td>\n",
       "      <td>10000.000000</td>\n",
       "      <td>10000.000000</td>\n",
       "      <td>10000.000000</td>\n",
       "      <td>10000.000000</td>\n",
       "      <td>10000.00000</td>\n",
       "      <td>10000.000000</td>\n",
       "      <td>10000.000000</td>\n",
       "    </tr>\n",
       "    <tr>\n",
       "      <th>mean</th>\n",
       "      <td>650.528800</td>\n",
       "      <td>38.921800</td>\n",
       "      <td>4.543400</td>\n",
       "      <td>76485.889288</td>\n",
       "      <td>1.530200</td>\n",
       "      <td>0.70550</td>\n",
       "      <td>0.515100</td>\n",
       "      <td>0.203700</td>\n",
       "    </tr>\n",
       "    <tr>\n",
       "      <th>std</th>\n",
       "      <td>96.653299</td>\n",
       "      <td>10.487806</td>\n",
       "      <td>3.111573</td>\n",
       "      <td>62397.405202</td>\n",
       "      <td>0.581654</td>\n",
       "      <td>0.45584</td>\n",
       "      <td>0.499797</td>\n",
       "      <td>0.402769</td>\n",
       "    </tr>\n",
       "    <tr>\n",
       "      <th>min</th>\n",
       "      <td>350.000000</td>\n",
       "      <td>18.000000</td>\n",
       "      <td>0.000000</td>\n",
       "      <td>0.000000</td>\n",
       "      <td>1.000000</td>\n",
       "      <td>0.00000</td>\n",
       "      <td>0.000000</td>\n",
       "      <td>0.000000</td>\n",
       "    </tr>\n",
       "    <tr>\n",
       "      <th>25%</th>\n",
       "      <td>584.000000</td>\n",
       "      <td>32.000000</td>\n",
       "      <td>2.000000</td>\n",
       "      <td>0.000000</td>\n",
       "      <td>1.000000</td>\n",
       "      <td>0.00000</td>\n",
       "      <td>0.000000</td>\n",
       "      <td>0.000000</td>\n",
       "    </tr>\n",
       "    <tr>\n",
       "      <th>50%</th>\n",
       "      <td>652.000000</td>\n",
       "      <td>37.000000</td>\n",
       "      <td>4.000000</td>\n",
       "      <td>97198.540000</td>\n",
       "      <td>1.000000</td>\n",
       "      <td>1.00000</td>\n",
       "      <td>1.000000</td>\n",
       "      <td>0.000000</td>\n",
       "    </tr>\n",
       "    <tr>\n",
       "      <th>75%</th>\n",
       "      <td>718.000000</td>\n",
       "      <td>44.000000</td>\n",
       "      <td>7.000000</td>\n",
       "      <td>127644.240000</td>\n",
       "      <td>2.000000</td>\n",
       "      <td>1.00000</td>\n",
       "      <td>1.000000</td>\n",
       "      <td>0.000000</td>\n",
       "    </tr>\n",
       "    <tr>\n",
       "      <th>max</th>\n",
       "      <td>850.000000</td>\n",
       "      <td>92.000000</td>\n",
       "      <td>10.000000</td>\n",
       "      <td>250898.090000</td>\n",
       "      <td>4.000000</td>\n",
       "      <td>1.00000</td>\n",
       "      <td>1.000000</td>\n",
       "      <td>1.000000</td>\n",
       "    </tr>\n",
       "  </tbody>\n",
       "</table>\n",
       "</div>"
      ],
      "text/plain": [
       "        CreditScore           Age        Tenure        Balance  NumOfProducts  \\\n",
       "count  10000.000000  10000.000000  10000.000000   10000.000000   10000.000000   \n",
       "mean     650.528800     38.921800      4.543400   76485.889288       1.530200   \n",
       "std       96.653299     10.487806      3.111573   62397.405202       0.581654   \n",
       "min      350.000000     18.000000      0.000000       0.000000       1.000000   \n",
       "25%      584.000000     32.000000      2.000000       0.000000       1.000000   \n",
       "50%      652.000000     37.000000      4.000000   97198.540000       1.000000   \n",
       "75%      718.000000     44.000000      7.000000  127644.240000       2.000000   \n",
       "max      850.000000     92.000000     10.000000  250898.090000       4.000000   \n",
       "\n",
       "         HasCrCard  IsActiveMember        Exited  \n",
       "count  10000.00000    10000.000000  10000.000000  \n",
       "mean       0.70550        0.515100      0.203700  \n",
       "std        0.45584        0.499797      0.402769  \n",
       "min        0.00000        0.000000      0.000000  \n",
       "25%        0.00000        0.000000      0.000000  \n",
       "50%        1.00000        1.000000      0.000000  \n",
       "75%        1.00000        1.000000      0.000000  \n",
       "max        1.00000        1.000000      1.000000  "
      ]
     },
     "execution_count": 10,
     "metadata": {},
     "output_type": "execute_result"
    }
   ],
   "source": [
    "df.describe()"
   ]
  },
  {
   "cell_type": "markdown",
   "metadata": {},
   "source": [
    "<li>Видно что есть дисбалан данных Exited</li>\n",
    "<li>Средней возраст ~39 лет с балансом 76500</li>\n",
    "<li>Средний кредитный рейтинг 650.5</li>"
   ]
  },
  {
   "cell_type": "code",
   "execution_count": 11,
   "metadata": {},
   "outputs": [
    {
     "data": {
      "text/html": [
       "<div>\n",
       "<style scoped>\n",
       "    .dataframe tbody tr th:only-of-type {\n",
       "        vertical-align: middle;\n",
       "    }\n",
       "\n",
       "    .dataframe tbody tr th {\n",
       "        vertical-align: top;\n",
       "    }\n",
       "\n",
       "    .dataframe thead th {\n",
       "        text-align: right;\n",
       "    }\n",
       "</style>\n",
       "<table border=\"1\" class=\"dataframe\">\n",
       "  <thead>\n",
       "    <tr style=\"text-align: right;\">\n",
       "      <th></th>\n",
       "      <th>CreditScore</th>\n",
       "      <th>Age</th>\n",
       "      <th>Tenure</th>\n",
       "      <th>Balance</th>\n",
       "      <th>NumOfProducts</th>\n",
       "      <th>HasCrCard</th>\n",
       "      <th>IsActiveMember</th>\n",
       "      <th>Exited</th>\n",
       "    </tr>\n",
       "  </thead>\n",
       "  <tbody>\n",
       "    <tr>\n",
       "      <th>CreditScore</th>\n",
       "      <td>1.000000</td>\n",
       "      <td>-0.003965</td>\n",
       "      <td>0.003087</td>\n",
       "      <td>0.006268</td>\n",
       "      <td>0.012238</td>\n",
       "      <td>-0.005458</td>\n",
       "      <td>0.025651</td>\n",
       "      <td>-0.027094</td>\n",
       "    </tr>\n",
       "    <tr>\n",
       "      <th>Age</th>\n",
       "      <td>-0.003965</td>\n",
       "      <td>1.000000</td>\n",
       "      <td>-0.007368</td>\n",
       "      <td>0.028308</td>\n",
       "      <td>-0.030680</td>\n",
       "      <td>-0.011721</td>\n",
       "      <td>0.085472</td>\n",
       "      <td>0.285323</td>\n",
       "    </tr>\n",
       "    <tr>\n",
       "      <th>Tenure</th>\n",
       "      <td>0.003087</td>\n",
       "      <td>-0.007368</td>\n",
       "      <td>1.000000</td>\n",
       "      <td>-0.005821</td>\n",
       "      <td>0.010106</td>\n",
       "      <td>0.021387</td>\n",
       "      <td>-0.025856</td>\n",
       "      <td>-0.013319</td>\n",
       "    </tr>\n",
       "    <tr>\n",
       "      <th>Balance</th>\n",
       "      <td>0.006268</td>\n",
       "      <td>0.028308</td>\n",
       "      <td>-0.005821</td>\n",
       "      <td>1.000000</td>\n",
       "      <td>-0.304180</td>\n",
       "      <td>-0.014858</td>\n",
       "      <td>-0.010084</td>\n",
       "      <td>0.118533</td>\n",
       "    </tr>\n",
       "    <tr>\n",
       "      <th>NumOfProducts</th>\n",
       "      <td>0.012238</td>\n",
       "      <td>-0.030680</td>\n",
       "      <td>0.010106</td>\n",
       "      <td>-0.304180</td>\n",
       "      <td>1.000000</td>\n",
       "      <td>0.003183</td>\n",
       "      <td>0.009612</td>\n",
       "      <td>-0.047820</td>\n",
       "    </tr>\n",
       "    <tr>\n",
       "      <th>HasCrCard</th>\n",
       "      <td>-0.005458</td>\n",
       "      <td>-0.011721</td>\n",
       "      <td>0.021387</td>\n",
       "      <td>-0.014858</td>\n",
       "      <td>0.003183</td>\n",
       "      <td>1.000000</td>\n",
       "      <td>-0.011866</td>\n",
       "      <td>-0.007138</td>\n",
       "    </tr>\n",
       "    <tr>\n",
       "      <th>IsActiveMember</th>\n",
       "      <td>0.025651</td>\n",
       "      <td>0.085472</td>\n",
       "      <td>-0.025856</td>\n",
       "      <td>-0.010084</td>\n",
       "      <td>0.009612</td>\n",
       "      <td>-0.011866</td>\n",
       "      <td>1.000000</td>\n",
       "      <td>-0.156128</td>\n",
       "    </tr>\n",
       "    <tr>\n",
       "      <th>Exited</th>\n",
       "      <td>-0.027094</td>\n",
       "      <td>0.285323</td>\n",
       "      <td>-0.013319</td>\n",
       "      <td>0.118533</td>\n",
       "      <td>-0.047820</td>\n",
       "      <td>-0.007138</td>\n",
       "      <td>-0.156128</td>\n",
       "      <td>1.000000</td>\n",
       "    </tr>\n",
       "  </tbody>\n",
       "</table>\n",
       "</div>"
      ],
      "text/plain": [
       "                CreditScore       Age    Tenure   Balance  NumOfProducts  \\\n",
       "CreditScore        1.000000 -0.003965  0.003087  0.006268       0.012238   \n",
       "Age               -0.003965  1.000000 -0.007368  0.028308      -0.030680   \n",
       "Tenure             0.003087 -0.007368  1.000000 -0.005821       0.010106   \n",
       "Balance            0.006268  0.028308 -0.005821  1.000000      -0.304180   \n",
       "NumOfProducts      0.012238 -0.030680  0.010106 -0.304180       1.000000   \n",
       "HasCrCard         -0.005458 -0.011721  0.021387 -0.014858       0.003183   \n",
       "IsActiveMember     0.025651  0.085472 -0.025856 -0.010084       0.009612   \n",
       "Exited            -0.027094  0.285323 -0.013319  0.118533      -0.047820   \n",
       "\n",
       "                HasCrCard  IsActiveMember    Exited  \n",
       "CreditScore     -0.005458        0.025651 -0.027094  \n",
       "Age             -0.011721        0.085472  0.285323  \n",
       "Tenure           0.021387       -0.025856 -0.013319  \n",
       "Balance         -0.014858       -0.010084  0.118533  \n",
       "NumOfProducts    0.003183        0.009612 -0.047820  \n",
       "HasCrCard        1.000000       -0.011866 -0.007138  \n",
       "IsActiveMember  -0.011866        1.000000 -0.156128  \n",
       "Exited          -0.007138       -0.156128  1.000000  "
      ]
     },
     "execution_count": 11,
     "metadata": {},
     "output_type": "execute_result"
    }
   ],
   "source": [
    "df.corr()"
   ]
  },
  {
   "cell_type": "markdown",
   "metadata": {},
   "source": [
    "<li>Явных зависимостей не увидел, кроме Age к Exited</li>"
   ]
  },
  {
   "cell_type": "markdown",
   "metadata": {},
   "source": [
    "### Подгатовка данных к моделям"
   ]
  },
  {
   "cell_type": "code",
   "execution_count": 12,
   "metadata": {},
   "outputs": [],
   "source": [
    "df_ohe = pd.get_dummies(df, drop_first=True)#Привел Geography и Gender к бинарному виду"
   ]
  },
  {
   "cell_type": "code",
   "execution_count": 13,
   "metadata": {},
   "outputs": [
    {
     "data": {
      "text/plain": [
       "(10000, 11)"
      ]
     },
     "execution_count": 13,
     "metadata": {},
     "output_type": "execute_result"
    }
   ],
   "source": [
    "df_ohe.shape"
   ]
  },
  {
   "cell_type": "code",
   "execution_count": 14,
   "metadata": {},
   "outputs": [
    {
     "data": {
      "text/html": [
       "<div>\n",
       "<style scoped>\n",
       "    .dataframe tbody tr th:only-of-type {\n",
       "        vertical-align: middle;\n",
       "    }\n",
       "\n",
       "    .dataframe tbody tr th {\n",
       "        vertical-align: top;\n",
       "    }\n",
       "\n",
       "    .dataframe thead th {\n",
       "        text-align: right;\n",
       "    }\n",
       "</style>\n",
       "<table border=\"1\" class=\"dataframe\">\n",
       "  <thead>\n",
       "    <tr style=\"text-align: right;\">\n",
       "      <th></th>\n",
       "      <th>CreditScore</th>\n",
       "      <th>Age</th>\n",
       "      <th>Tenure</th>\n",
       "      <th>Balance</th>\n",
       "      <th>NumOfProducts</th>\n",
       "      <th>HasCrCard</th>\n",
       "      <th>IsActiveMember</th>\n",
       "      <th>Exited</th>\n",
       "      <th>Geography_Germany</th>\n",
       "      <th>Geography_Spain</th>\n",
       "      <th>Gender_Male</th>\n",
       "    </tr>\n",
       "  </thead>\n",
       "  <tbody>\n",
       "    <tr>\n",
       "      <th>0</th>\n",
       "      <td>619</td>\n",
       "      <td>42</td>\n",
       "      <td>2</td>\n",
       "      <td>0.00</td>\n",
       "      <td>1</td>\n",
       "      <td>1</td>\n",
       "      <td>1</td>\n",
       "      <td>1</td>\n",
       "      <td>0</td>\n",
       "      <td>0</td>\n",
       "      <td>0</td>\n",
       "    </tr>\n",
       "    <tr>\n",
       "      <th>1</th>\n",
       "      <td>608</td>\n",
       "      <td>41</td>\n",
       "      <td>1</td>\n",
       "      <td>83807.86</td>\n",
       "      <td>1</td>\n",
       "      <td>0</td>\n",
       "      <td>1</td>\n",
       "      <td>0</td>\n",
       "      <td>0</td>\n",
       "      <td>1</td>\n",
       "      <td>0</td>\n",
       "    </tr>\n",
       "    <tr>\n",
       "      <th>2</th>\n",
       "      <td>502</td>\n",
       "      <td>42</td>\n",
       "      <td>8</td>\n",
       "      <td>159660.80</td>\n",
       "      <td>3</td>\n",
       "      <td>1</td>\n",
       "      <td>0</td>\n",
       "      <td>1</td>\n",
       "      <td>0</td>\n",
       "      <td>0</td>\n",
       "      <td>0</td>\n",
       "    </tr>\n",
       "    <tr>\n",
       "      <th>3</th>\n",
       "      <td>699</td>\n",
       "      <td>39</td>\n",
       "      <td>1</td>\n",
       "      <td>0.00</td>\n",
       "      <td>2</td>\n",
       "      <td>0</td>\n",
       "      <td>0</td>\n",
       "      <td>0</td>\n",
       "      <td>0</td>\n",
       "      <td>0</td>\n",
       "      <td>0</td>\n",
       "    </tr>\n",
       "    <tr>\n",
       "      <th>4</th>\n",
       "      <td>850</td>\n",
       "      <td>43</td>\n",
       "      <td>2</td>\n",
       "      <td>125510.82</td>\n",
       "      <td>1</td>\n",
       "      <td>1</td>\n",
       "      <td>1</td>\n",
       "      <td>0</td>\n",
       "      <td>0</td>\n",
       "      <td>1</td>\n",
       "      <td>0</td>\n",
       "    </tr>\n",
       "  </tbody>\n",
       "</table>\n",
       "</div>"
      ],
      "text/plain": [
       "   CreditScore  Age  Tenure    Balance  NumOfProducts  HasCrCard  \\\n",
       "0          619   42       2       0.00              1          1   \n",
       "1          608   41       1   83807.86              1          0   \n",
       "2          502   42       8  159660.80              3          1   \n",
       "3          699   39       1       0.00              2          0   \n",
       "4          850   43       2  125510.82              1          1   \n",
       "\n",
       "   IsActiveMember  Exited  Geography_Germany  Geography_Spain  Gender_Male  \n",
       "0               1       1                  0                0            0  \n",
       "1               1       0                  0                1            0  \n",
       "2               0       1                  0                0            0  \n",
       "3               0       0                  0                0            0  \n",
       "4               1       0                  0                1            0  "
      ]
     },
     "execution_count": 14,
     "metadata": {},
     "output_type": "execute_result"
    }
   ],
   "source": [
    "df_ohe.head()"
   ]
  },
  {
   "cell_type": "code",
   "execution_count": 15,
   "metadata": {},
   "outputs": [],
   "source": [
    "target = df_ohe['Exited'] \n",
    "features = df_ohe.drop('Exited', axis=1) "
   ]
  },
  {
   "cell_type": "code",
   "execution_count": 16,
   "metadata": {},
   "outputs": [],
   "source": [
    "features_train, features_buffer, target_train, target_buffer = train_test_split(\n",
    "    features, target, test_size=0.4, random_state=12345)"
   ]
  },
  {
   "cell_type": "code",
   "execution_count": 17,
   "metadata": {},
   "outputs": [],
   "source": [
    "features_valid, features_test, target_valid, target_test = train_test_split(\n",
    "    features_buffer, target_buffer, test_size=0.2, random_state=12345)"
   ]
  },
  {
   "cell_type": "code",
   "execution_count": 18,
   "metadata": {},
   "outputs": [
    {
     "data": {
      "text/plain": [
       "(6000, 10)"
      ]
     },
     "execution_count": 18,
     "metadata": {},
     "output_type": "execute_result"
    }
   ],
   "source": [
    "features_train.shape"
   ]
  },
  {
   "cell_type": "code",
   "execution_count": 19,
   "metadata": {},
   "outputs": [
    {
     "data": {
      "text/plain": [
       "(3200, 10)"
      ]
     },
     "execution_count": 19,
     "metadata": {},
     "output_type": "execute_result"
    }
   ],
   "source": [
    "features_valid.shape"
   ]
  },
  {
   "cell_type": "code",
   "execution_count": 20,
   "metadata": {},
   "outputs": [
    {
     "data": {
      "text/plain": [
       "(800, 10)"
      ]
     },
     "execution_count": 20,
     "metadata": {},
     "output_type": "execute_result"
    }
   ],
   "source": [
    "features_test.shape"
   ]
  },
  {
   "cell_type": "code",
   "execution_count": 21,
   "metadata": {},
   "outputs": [
    {
     "data": {
      "text/plain": [
       "(6000,)"
      ]
     },
     "execution_count": 21,
     "metadata": {},
     "output_type": "execute_result"
    }
   ],
   "source": [
    "target_train.shape"
   ]
  },
  {
   "cell_type": "code",
   "execution_count": 22,
   "metadata": {},
   "outputs": [
    {
     "data": {
      "text/plain": [
       "(3200,)"
      ]
     },
     "execution_count": 22,
     "metadata": {},
     "output_type": "execute_result"
    }
   ],
   "source": [
    "target_valid.shape"
   ]
  },
  {
   "cell_type": "code",
   "execution_count": 23,
   "metadata": {},
   "outputs": [
    {
     "data": {
      "text/plain": [
       "(800,)"
      ]
     },
     "execution_count": 23,
     "metadata": {},
     "output_type": "execute_result"
    }
   ],
   "source": [
    "target_test.shape"
   ]
  },
  {
   "cell_type": "markdown",
   "metadata": {},
   "source": [
    "<li>Разбил данные на три группы в пропорциях 3:1:1</li>"
   ]
  },
  {
   "cell_type": "markdown",
   "metadata": {},
   "source": [
    "### Смаштабируем количественные данные друг к другу"
   ]
  },
  {
   "cell_type": "code",
   "execution_count": 24,
   "metadata": {},
   "outputs": [],
   "source": [
    "numeric = ['CreditScore', 'Age', 'Tenure', 'Balance', 'NumOfProducts']\n",
    "list_choice = ['features_train', 'features_valid', 'features_test', 'features_test', 'target_valid', 'target_test']"
   ]
  },
  {
   "cell_type": "code",
   "execution_count": 25,
   "metadata": {},
   "outputs": [
    {
     "data": {
      "text/plain": [
       "StandardScaler()"
      ]
     },
     "execution_count": 25,
     "metadata": {},
     "output_type": "execute_result"
    }
   ],
   "source": [
    "scaler = StandardScaler()\n",
    "scaler.fit(features_train[numeric])"
   ]
  },
  {
   "cell_type": "code",
   "execution_count": 26,
   "metadata": {},
   "outputs": [
    {
     "name": "stderr",
     "output_type": "stream",
     "text": [
      "/tmp/ipykernel_49/3292835044.py:1: SettingWithCopyWarning: \n",
      "A value is trying to be set on a copy of a slice from a DataFrame.\n",
      "Try using .loc[row_indexer,col_indexer] = value instead\n",
      "\n",
      "See the caveats in the documentation: https://pandas.pydata.org/pandas-docs/stable/user_guide/indexing.html#returning-a-view-versus-a-copy\n",
      "  features_train[numeric] = scaler.transform(features_train[numeric])\n",
      "/opt/conda/lib/python3.9/site-packages/pandas/core/indexing.py:1738: SettingWithCopyWarning: \n",
      "A value is trying to be set on a copy of a slice from a DataFrame.\n",
      "Try using .loc[row_indexer,col_indexer] = value instead\n",
      "\n",
      "See the caveats in the documentation: https://pandas.pydata.org/pandas-docs/stable/user_guide/indexing.html#returning-a-view-versus-a-copy\n",
      "  self._setitem_single_column(loc, value[:, i].tolist(), pi)\n"
     ]
    }
   ],
   "source": [
    "features_train[numeric] = scaler.transform(features_train[numeric])"
   ]
  },
  {
   "cell_type": "code",
   "execution_count": 27,
   "metadata": {},
   "outputs": [
    {
     "name": "stderr",
     "output_type": "stream",
     "text": [
      "/tmp/ipykernel_49/724773226.py:1: SettingWithCopyWarning: \n",
      "A value is trying to be set on a copy of a slice from a DataFrame.\n",
      "Try using .loc[row_indexer,col_indexer] = value instead\n",
      "\n",
      "See the caveats in the documentation: https://pandas.pydata.org/pandas-docs/stable/user_guide/indexing.html#returning-a-view-versus-a-copy\n",
      "  features_valid[numeric] = scaler.transform(features_valid[numeric])\n",
      "/opt/conda/lib/python3.9/site-packages/pandas/core/indexing.py:1738: SettingWithCopyWarning: \n",
      "A value is trying to be set on a copy of a slice from a DataFrame.\n",
      "Try using .loc[row_indexer,col_indexer] = value instead\n",
      "\n",
      "See the caveats in the documentation: https://pandas.pydata.org/pandas-docs/stable/user_guide/indexing.html#returning-a-view-versus-a-copy\n",
      "  self._setitem_single_column(loc, value[:, i].tolist(), pi)\n"
     ]
    }
   ],
   "source": [
    "features_valid[numeric] = scaler.transform(features_valid[numeric])"
   ]
  },
  {
   "cell_type": "code",
   "execution_count": 28,
   "metadata": {},
   "outputs": [
    {
     "name": "stderr",
     "output_type": "stream",
     "text": [
      "/tmp/ipykernel_49/1266921938.py:1: SettingWithCopyWarning: \n",
      "A value is trying to be set on a copy of a slice from a DataFrame.\n",
      "Try using .loc[row_indexer,col_indexer] = value instead\n",
      "\n",
      "See the caveats in the documentation: https://pandas.pydata.org/pandas-docs/stable/user_guide/indexing.html#returning-a-view-versus-a-copy\n",
      "  features_test[numeric] = scaler.transform(features_test[numeric])\n",
      "/opt/conda/lib/python3.9/site-packages/pandas/core/indexing.py:1738: SettingWithCopyWarning: \n",
      "A value is trying to be set on a copy of a slice from a DataFrame.\n",
      "Try using .loc[row_indexer,col_indexer] = value instead\n",
      "\n",
      "See the caveats in the documentation: https://pandas.pydata.org/pandas-docs/stable/user_guide/indexing.html#returning-a-view-versus-a-copy\n",
      "  self._setitem_single_column(loc, value[:, i].tolist(), pi)\n"
     ]
    }
   ],
   "source": [
    "features_test[numeric] = scaler.transform(features_test[numeric])"
   ]
  },
  {
   "cell_type": "markdown",
   "metadata": {},
   "source": [
    "***Данные готовые к работе и иследованию***"
   ]
  },
  {
   "cell_type": "markdown",
   "metadata": {},
   "source": [
    "## Исследование задачи"
   ]
  },
  {
   "cell_type": "markdown",
   "metadata": {},
   "source": [
    "***Обучение модели DecisionTreeClassifier***"
   ]
  },
  {
   "cell_type": "code",
   "execution_count": 29,
   "metadata": {},
   "outputs": [
    {
     "name": "stdout",
     "output_type": "stream",
     "text": [
      "Модель DecisionTreeRegressor: \n",
      "Глубина дерева: 6 \n",
      "f1 мера 0.55273\n"
     ]
    }
   ],
   "source": [
    "best_depth = 0\n",
    "best_score_f1 = 0\n",
    "for depth in range(1, 11):\n",
    "    model = DecisionTreeClassifier(random_state=12345, max_depth=depth)\n",
    "    model.fit(features_train, target_train)\n",
    "    predictions_valid = model.predict(features_valid)\n",
    "    score_f1 = f1_score(target_valid, predictions_valid)\n",
    "    if score_f1 > best_score_f1:\n",
    "        best_score_f1 = score_f1\n",
    "        best_depth = depth\n",
    "        \n",
    "print('Модель DecisionTreeRegressor:',\n",
    "          '\\nГлубина дерева:', best_depth,\n",
    "          '\\nf1 мера', round(best_score_f1, 5))\n",
    "\n",
    "          "
   ]
  },
  {
   "cell_type": "code",
   "execution_count": 30,
   "metadata": {},
   "outputs": [
    {
     "name": "stdout",
     "output_type": "stream",
     "text": [
      "Модель RandomForestRegressor \n",
      "Количество деревьев: 50 \n",
      "Максимальная глубина: 10 \n",
      "f1 мера 0.55268\n",
      "\n"
     ]
    }
   ],
   "source": [
    "best_depth = 0\n",
    "best_score_f1 = 0\n",
    "best_est = 0\n",
    "for est in range(10, 51, 10):\n",
    "    for depth in range (1, 11):\n",
    "        model = RandomForestClassifier(random_state=12345, n_estimators=est, max_depth=depth)\n",
    "        model.fit(features_train, target_train)\n",
    "        predictions_valid = model.predict(features_valid)\n",
    "        score_f1 = f1_score(target_valid, predictions_valid)\n",
    "        if score_f1 > best_score_f1:\n",
    "                best_score_f1 = score_f1\n",
    "                best_depth = depth\n",
    "                best_est = est\n",
    "print(\"Модель RandomForestRegressor\", \"\\nКоличество деревьев:\", best_est,\\\n",
    "       '\\nМаксимальная глубина:', best_depth,\n",
    "        '\\nf1 мера', round(best_score_f1, 5))\n",
    "print()"
   ]
  },
  {
   "cell_type": "code",
   "execution_count": 31,
   "metadata": {},
   "outputs": [
    {
     "name": "stdout",
     "output_type": "stream",
     "text": [
      "Для модели линейной регрессии на валидационной выборке \n",
      "f1 мера 0.309\n"
     ]
    }
   ],
   "source": [
    "model = LogisticRegression(random_state=12345, solver='lbfgs')\n",
    "model.fit(features_train, target_train)\n",
    "predictions_valid = model.predict(features_valid)\n",
    "score_f1 = f1_score(target_valid, predictions_valid)\n",
    "print('Для модели линейной регрессии на валидационной выборке',\n",
    "     '\\nf1 мера', round(score_f1, 3))"
   ]
  },
  {
   "cell_type": "markdown",
   "metadata": {},
   "source": [
    "### Вывод:\n",
    "\n",
    "Наилучшой моделью для валидационой выборки при дисбалансе классе оказалась\n",
    "\n",
    "Модель DecisionTreeRegressor: \n",
    "Глубина дерева: 6 \n",
    "f1 мера 0.55273\n",
    "\n",
    "\n",
    "Проверим на тестовой выборке"
   ]
  },
  {
   "cell_type": "code",
   "execution_count": 32,
   "metadata": {},
   "outputs": [
    {
     "name": "stdout",
     "output_type": "stream",
     "text": [
      "Модель DecisionTreeRegressor на тестовой выборке: \n",
      "f1 мера 0.572\n",
      "\n"
     ]
    }
   ],
   "source": [
    "model = DecisionTreeClassifier(random_state=12345, max_depth=6)\n",
    "model.fit(features_train, target_train)\n",
    "predictions_test = model.predict(features_test)\n",
    "score_f1 = f1_score(target_test, predictions_test)\n",
    "print('Модель DecisionTreeRegressor на тестовой выборке:',\n",
    "          '\\nf1 мера', round(score_f1, 3))\n",
    "print()"
   ]
  },
  {
   "cell_type": "markdown",
   "metadata": {},
   "source": [
    "**На тестовой выборке с дисбалансом получили f1 меру равной 0.572**"
   ]
  },
  {
   "cell_type": "markdown",
   "metadata": {},
   "source": [
    "<div class=\"alert alert-block alert-success\">\n",
    "<b>✔️ Успех:</b>\n",
    "\n",
    "Модели обучены корректно 👍\n",
    "</div>"
   ]
  },
  {
   "cell_type": "markdown",
   "metadata": {},
   "source": [
    "## Борьба с дисбалансом"
   ]
  },
  {
   "cell_type": "markdown",
   "metadata": {},
   "source": [
    "### Увеличение выборки"
   ]
  },
  {
   "cell_type": "code",
   "execution_count": 33,
   "metadata": {},
   "outputs": [],
   "source": [
    "features_zeros = features_train[target_train == 0] \n",
    "features_ones = features_train[target_train == 1] \n",
    "target_zeros = target_train[target_train == 0] \n",
    "target_ones = target_train[target_train == 1] "
   ]
  },
  {
   "cell_type": "code",
   "execution_count": 34,
   "metadata": {},
   "outputs": [],
   "source": [
    "repeat = 4\n",
    "features_upsampled = pd.concat([features_zeros] + [features_ones] * repeat)\n",
    "target_upsampled = pd.concat([target_zeros] + [target_ones] * repeat)"
   ]
  },
  {
   "cell_type": "code",
   "execution_count": 35,
   "metadata": {},
   "outputs": [
    {
     "name": "stdout",
     "output_type": "stream",
     "text": [
      "(9588, 10)\n",
      "(9588,)\n"
     ]
    }
   ],
   "source": [
    "print(features_upsampled.shape)\n",
    "print(target_upsampled.shape)"
   ]
  },
  {
   "cell_type": "code",
   "execution_count": 36,
   "metadata": {},
   "outputs": [
    {
     "name": "stdout",
     "output_type": "stream",
     "text": [
      "(9588, 10)\n",
      "(9588,)\n"
     ]
    }
   ],
   "source": [
    "features_upsampled, target_upsampled = shuffle(\n",
    "        features_upsampled, target_upsampled, random_state=12345)\n",
    "print(features_upsampled.shape)\n",
    "print(target_upsampled.shape)"
   ]
  },
  {
   "cell_type": "code",
   "execution_count": 37,
   "metadata": {},
   "outputs": [
    {
     "name": "stdout",
     "output_type": "stream",
     "text": [
      "Модель DecisionTreeRegressor: \n",
      "Глубина дерева: 5 \n",
      "f1 мера 0.58378\n"
     ]
    }
   ],
   "source": [
    "best_depth = 0\n",
    "best_score_f1 = 0\n",
    "for depth in range(1, 11):\n",
    "    model = DecisionTreeClassifier(random_state=12345, max_depth=depth)\n",
    "    model.fit(features_upsampled, target_upsampled)\n",
    "    predictions_valid = model.predict(features_valid)\n",
    "    score_f1 = f1_score(target_valid, predictions_valid)\n",
    "    if score_f1 > best_score_f1:\n",
    "        best_score_f1 = score_f1\n",
    "        best_depth = depth\n",
    "        \n",
    "print('Модель DecisionTreeRegressor:',\n",
    "          '\\nГлубина дерева:', best_depth,\n",
    "          '\\nf1 мера', round(best_score_f1, 5))"
   ]
  },
  {
   "cell_type": "code",
   "execution_count": 38,
   "metadata": {},
   "outputs": [
    {
     "name": "stdout",
     "output_type": "stream",
     "text": [
      "Модель RandomForestRegressor \n",
      "Количество деревьев: 30 \n",
      "Максимальная глубина: 8 \n",
      "f1 мера 0.62164\n",
      "\n"
     ]
    }
   ],
   "source": [
    "best_depth = 0\n",
    "best_score_f1 = 0\n",
    "best_est = 0\n",
    "for est in range(10, 51, 10):\n",
    "    for depth in range (1, 11):\n",
    "        model = RandomForestClassifier(random_state=12345, n_estimators=est, max_depth=depth)\n",
    "        model.fit(features_upsampled, target_upsampled)\n",
    "        predictions_valid = model.predict(features_valid)\n",
    "        score_f1 = f1_score(target_valid, predictions_valid)\n",
    "        if score_f1 > best_score_f1:\n",
    "                best_score_f1 = score_f1\n",
    "                best_depth = depth\n",
    "                best_est = est\n",
    "print(\"Модель RandomForestRegressor\", \"\\nКоличество деревьев:\", best_est,\\\n",
    "       '\\nМаксимальная глубина:', best_depth,\n",
    "        '\\nf1 мера', round(best_score_f1, 5))\n",
    "print()"
   ]
  },
  {
   "cell_type": "code",
   "execution_count": 39,
   "metadata": {},
   "outputs": [
    {
     "name": "stdout",
     "output_type": "stream",
     "text": [
      "Для модели линейной регрессии на валидационной выборке \n",
      "f1 мера 0.482\n"
     ]
    }
   ],
   "source": [
    "model = LogisticRegression(random_state=12345, solver='lbfgs')\n",
    "model.fit(features_upsampled, target_upsampled)\n",
    "predictions_valid = model.predict(features_valid)\n",
    "score_f1 = f1_score(target_valid, predictions_valid)\n",
    "print('Для модели линейной регрессии на валидационной выборке',\n",
    "     '\\nf1 мера', round(score_f1, 3))"
   ]
  },
  {
   "cell_type": "markdown",
   "metadata": {},
   "source": [
    "Наилучшей оказалось на сбалансированой выборке методом увелечения: \n",
    "\n",
    "    \n",
    "Модель RandomForestRegressor\n",
    "    \n",
    "Количество деревьев: 30 \n",
    "    \n",
    "Максимальная глубина: 8 \n",
    "\n",
    "f1 мера 0.62164"
   ]
  },
  {
   "cell_type": "markdown",
   "metadata": {},
   "source": [
    "### Уменьшение выборки"
   ]
  },
  {
   "cell_type": "code",
   "execution_count": 49,
   "metadata": {},
   "outputs": [],
   "source": [
    "features_downsampled = pd.concat(\n",
    "        [features_zeros.sample(frac=0.1, random_state=12345)] + [features_ones])\n",
    "target_downsampled = pd.concat(\n",
    "        [target_zeros.sample(frac=0.1, random_state=12345)] + [target_ones])\n",
    "features_downsampled, target_downsampled = shuffle(features_downsampled, target_downsampled, random_state=12345)"
   ]
  },
  {
   "cell_type": "code",
   "execution_count": 52,
   "metadata": {},
   "outputs": [
    {
     "data": {
      "text/plain": [
       "(1676, 10)"
      ]
     },
     "execution_count": 52,
     "metadata": {},
     "output_type": "execute_result"
    }
   ],
   "source": [
    "features_downsampled.shape"
   ]
  },
  {
   "cell_type": "code",
   "execution_count": 53,
   "metadata": {},
   "outputs": [
    {
     "data": {
      "text/plain": [
       "(1676,)"
      ]
     },
     "execution_count": 53,
     "metadata": {},
     "output_type": "execute_result"
    }
   ],
   "source": [
    "target_downsampled.shape"
   ]
  },
  {
   "cell_type": "code",
   "execution_count": 54,
   "metadata": {},
   "outputs": [
    {
     "name": "stdout",
     "output_type": "stream",
     "text": [
      "Модель DecisionTreeRegressor: \n",
      "Глубина дерева: 6 \n",
      "f1 мера 0.48702\n"
     ]
    }
   ],
   "source": [
    "best_depth = 0\n",
    "best_score_f1 = 0\n",
    "for depth in range(1, 11):\n",
    "    model = DecisionTreeClassifier(random_state=12345, max_depth=depth)\n",
    "    model.fit(features_downsampled, target_downsampled)\n",
    "    predictions_valid = model.predict(features_valid)\n",
    "    score_f1 = f1_score(target_valid, predictions_valid)\n",
    "    if score_f1 > best_score_f1:\n",
    "        best_score_f1 = score_f1\n",
    "        best_depth = depth\n",
    "        \n",
    "print('Модель DecisionTreeRegressor:',\n",
    "          '\\nГлубина дерева:', best_depth,\n",
    "          '\\nf1 мера', round(best_score_f1, 5))"
   ]
  },
  {
   "cell_type": "code",
   "execution_count": 55,
   "metadata": {},
   "outputs": [
    {
     "name": "stdout",
     "output_type": "stream",
     "text": [
      "Модель RandomForestRegressor \n",
      "Количество деревьев: 40 \n",
      "Максимальная глубина: 10 \n",
      "f1 мера 0.47665\n",
      "\n"
     ]
    }
   ],
   "source": [
    "best_depth = 0\n",
    "best_score_f1 = 0\n",
    "best_est = 0\n",
    "for est in range(10, 51, 10):\n",
    "    for depth in range (1, 11):\n",
    "        model = RandomForestClassifier(random_state=12345, n_estimators=est, max_depth=depth)\n",
    "        model.fit(features_downsampled, target_downsampled)\n",
    "        predictions_valid = model.predict(features_valid)\n",
    "        score_f1 = f1_score(target_valid, predictions_valid)\n",
    "        if score_f1 > best_score_f1:\n",
    "                best_score_f1 = score_f1\n",
    "                best_depth = depth\n",
    "                best_est = est\n",
    "print(\"Модель RandomForestRegressor\", \"\\nКоличество деревьев:\", best_est,\\\n",
    "       '\\nМаксимальная глубина:', best_depth,\n",
    "        '\\nf1 мера', round(best_score_f1, 5))\n",
    "print()"
   ]
  },
  {
   "cell_type": "code",
   "execution_count": 56,
   "metadata": {},
   "outputs": [
    {
     "name": "stdout",
     "output_type": "stream",
     "text": [
      "Для модели линейной регрессии на валидационной выборке \n",
      "f1 мера 0.422\n"
     ]
    }
   ],
   "source": [
    "model = LogisticRegression(random_state=12345, solver='lbfgs')\n",
    "model.fit(features_downsampled, target_downsampled)\n",
    "predictions_valid = model.predict(features_valid)\n",
    "score_f1 = f1_score(target_valid, predictions_valid)\n",
    "print('Для модели линейной регрессии на валидационной выборке',\n",
    "     '\\nf1 мера', round(score_f1, 3))"
   ]
  },
  {
   "cell_type": "markdown",
   "metadata": {},
   "source": [
    "Наилучшей оказалось на сбалансированой выборке методом уменьшения: \n",
    "    \n",
    "Модель DecisionTreeRegressor\n",
    "    \n",
    "Глубина дерева: 6 \n",
    "    \n",
    "f1 мера 0.48702"
   ]
  },
  {
   "cell_type": "markdown",
   "metadata": {},
   "source": [
    "### Взвешивание классов"
   ]
  },
  {
   "cell_type": "code",
   "execution_count": null,
   "metadata": {},
   "outputs": [],
   "source": [
    "class_weight='balanced'"
   ]
  },
  {
   "cell_type": "code",
   "execution_count": 57,
   "metadata": {},
   "outputs": [
    {
     "name": "stdout",
     "output_type": "stream",
     "text": [
      "Модель DecisionTreeRegressor: \n",
      "Глубина дерева: 5 \n",
      "f1 мера 0.58378\n"
     ]
    }
   ],
   "source": [
    "best_depth = 0\n",
    "best_score_f1 = 0\n",
    "for depth in range(1, 11):\n",
    "    model = DecisionTreeClassifier(random_state=12345, max_depth=depth, class_weight='balanced')\n",
    "    model.fit(features_train, target_train)\n",
    "    predictions_valid = model.predict(features_valid)\n",
    "    score_f1 = f1_score(target_valid, predictions_valid)\n",
    "    if score_f1 > best_score_f1:\n",
    "        best_score_f1 = score_f1\n",
    "        best_depth = depth\n",
    "        \n",
    "print('Модель DecisionTreeRegressor:',\n",
    "          '\\nГлубина дерева:', best_depth,\n",
    "          '\\nf1 мера', round(best_score_f1, 5))"
   ]
  },
  {
   "cell_type": "code",
   "execution_count": 58,
   "metadata": {},
   "outputs": [
    {
     "name": "stdout",
     "output_type": "stream",
     "text": [
      "Модель RandomForestRegressor \n",
      "Количество деревьев: 50 \n",
      "Максимальная глубина: 8 \n",
      "f1 мера 0.62168\n",
      "\n"
     ]
    }
   ],
   "source": [
    "best_depth = 0\n",
    "best_score_f1 = 0\n",
    "best_est = 0\n",
    "for est in range(10, 51, 10):\n",
    "    for depth in range (1, 11):\n",
    "        model = RandomForestClassifier(random_state=12345, n_estimators=est, max_depth=depth, class_weight='balanced')\n",
    "        model.fit(features_train, target_train)\n",
    "        predictions_valid = model.predict(features_valid)\n",
    "        score_f1 = f1_score(target_valid, predictions_valid)\n",
    "        if score_f1 > best_score_f1:\n",
    "                best_score_f1 = score_f1\n",
    "                best_depth = depth\n",
    "                best_est = est\n",
    "print(\"Модель RandomForestRegressor\", \"\\nКоличество деревьев:\", best_est,\\\n",
    "       '\\nМаксимальная глубина:', best_depth,\n",
    "        '\\nf1 мера', round(best_score_f1, 5))\n",
    "print()"
   ]
  },
  {
   "cell_type": "code",
   "execution_count": 61,
   "metadata": {},
   "outputs": [
    {
     "name": "stdout",
     "output_type": "stream",
     "text": [
      "Для модели линейной регрессии на валидационной выборке \n",
      "f1 мера 0.482\n"
     ]
    }
   ],
   "source": [
    "model = LogisticRegression(random_state=12345, solver='lbfgs', class_weight='balanced')\n",
    "model.fit(features_train, target_train)\n",
    "predictions_valid = model.predict(features_valid)\n",
    "score_f1 = f1_score(target_valid, predictions_valid)\n",
    "print('Для модели линейной регрессии на валидационной выборке',\n",
    "     '\\nf1 мера', round(score_f1, 3))"
   ]
  },
  {
   "cell_type": "markdown",
   "metadata": {},
   "source": [
    "<b>Наилучший результат показали для разных методов балансировки модели:</b> \n",
    "\n",
    "Наилучшей оказалось на сбалансированой выборке методом увелечения:\n",
    "\n",
    "Модель RandomForestRegressor\n",
    "f1 мера 0.62164\n",
    "\n",
    "Наилучшей оказалось на сбалансированой выборке методом взвешивание классов:\n",
    "Модель RandomForestRegressor\n",
    "\n",
    "f1 мера 0.62168\n",
    "\n",
    "Наилучшей оказалось на сбалансированой выборке методом уменьшения:\n",
    "Модель DecisionTreeRegressor\n",
    "\n",
    "f1 мера 0.48702"
   ]
  },
  {
   "cell_type": "markdown",
   "metadata": {},
   "source": [
    "## Тестирование моделей"
   ]
  },
  {
   "cell_type": "code",
   "execution_count": 43,
   "metadata": {},
   "outputs": [
    {
     "name": "stdout",
     "output_type": "stream",
     "text": [
      "Модель DecisionTreeRegressor на тестовой выборке: \n",
      "f1 мера 0.626\n",
      "\n"
     ]
    }
   ],
   "source": [
    "model = RandomForestClassifier(random_state=12345, n_estimators=30, max_depth=8)\n",
    "model.fit(features_upsampled, target_upsampled)\n",
    "predictions_test = model.predict(features_test)\n",
    "score_f1 = f1_score(target_test, predictions_test)\n",
    "print('Модель DecisionTreeRegressor на тестовой выборке:',\n",
    "          '\\nf1 мера', round(score_f1, 3))"
   ]
  },
  {
   "cell_type": "code",
   "execution_count": 64,
   "metadata": {},
   "outputs": [
    {
     "name": "stdout",
     "output_type": "stream",
     "text": [
      "Модель DecisionTreeRegressor: \n",
      "f1 мера 0.532\n"
     ]
    }
   ],
   "source": [
    "model = DecisionTreeClassifier(random_state=12345, max_depth=6)\n",
    "model.fit(features_downsampled, target_downsampled)\n",
    "predictions_test = model.predict(features_test)\n",
    "score_f1 = f1_score(target_test, predictions_test)  \n",
    "print('Модель DecisionTreeRegressor:',\n",
    "          '\\nf1 мера', round(score_f1, 3))"
   ]
  },
  {
   "cell_type": "code",
   "execution_count": 65,
   "metadata": {},
   "outputs": [
    {
     "name": "stdout",
     "output_type": "stream",
     "text": [
      "Модель RandomForestRegressor \n",
      "f1 мера 0.639\n"
     ]
    }
   ],
   "source": [
    "model = RandomForestClassifier(random_state=12345, n_estimators=50, max_depth=8, class_weight='balanced')\n",
    "model.fit(features_train, target_train)\n",
    "predictions_test = model.predict(features_test)\n",
    "score_f1 = f1_score(target_test, predictions_test)\n",
    "print(\"Модель RandomForestRegressor\",\n",
    "        '\\nf1 мера', round(score_f1, 3))"
   ]
  },
  {
   "cell_type": "markdown",
   "metadata": {},
   "source": [
    "**На тестовой выборке с балансом методом увелечения получили f1 меру равной 0.626**\n",
    "\n",
    "**На тестовой выборке с балансом методом уменьшения получили f1 меру равной 0.532**\n",
    "\n",
    "**На тестовой выборке с балансом методом взвешивания классов получили f1 меру равной 0.639**"
   ]
  },
  {
   "cell_type": "code",
   "execution_count": 70,
   "metadata": {},
   "outputs": [],
   "source": [
    "model = RandomForestClassifier(random_state=12345, n_estimators=30, max_depth=8)\n",
    "model.fit(features_upsampled, target_upsampled)\n",
    "\n",
    "probabilities_test_up = model.predict_proba(features_test)\n",
    "probabilities_one_test_up = probabilities_test_up[:, 1]\n",
    "\n",
    "fpr_up, tpr_up, thresholds_up = roc_curve(target_test, probabilities_one_test_up)"
   ]
  },
  {
   "cell_type": "code",
   "execution_count": 71,
   "metadata": {},
   "outputs": [],
   "source": [
    "model = DecisionTreeClassifier(random_state=12345, max_depth=6)\n",
    "model.fit(features_downsampled, target_downsampled)\n",
    "\n",
    "probabilities_test_dw = model.predict_proba(features_test)\n",
    "probabilities_one_test_dw = probabilities_test_dw[:, 1]\n",
    "\n",
    "fpr_dw, tpr_dw, thresholds_dw = roc_curve(target_test, probabilities_one_test_dw)"
   ]
  },
  {
   "cell_type": "code",
   "execution_count": 73,
   "metadata": {},
   "outputs": [],
   "source": [
    "model = RandomForestClassifier(random_state=12345, n_estimators=50, max_depth=8, class_weight='balanced')\n",
    "model.fit(features_train, target_train)\n",
    "\n",
    "probabilities_test_bal = model.predict_proba(features_test)\n",
    "probabilities_one_test_bal = probabilities_test_bal[:, 1]\n",
    "\n",
    "fpr_bal, tpr_bal, thresholds_bal = roc_curve(target_test, probabilities_one_test_bal)"
   ]
  },
  {
   "cell_type": "code",
   "execution_count": 74,
   "metadata": {},
   "outputs": [
    {
     "data": {
      "image/png": "[encoded data removed]",
      "text/plain": [
       "<Figure size 432x288 with 1 Axes>"
      ]
     },
     "metadata": {
      "needs_background": "light"
     },
     "output_type": "display_data"
    }
   ],
   "source": [
    "plt.figure()\n",
    "plt.plot(fpr_up, tpr_up)\n",
    "plt.plot(fpr_dw, tpr_dw)\n",
    "plt.plot(fpr_bal, tpr_bal)\n",
    "plt.xlim([0.0, 1.0])\n",
    "plt.ylim([0.0, 1.0])\n",
    "plt.xlabel('False Positive Rate')\n",
    "plt.ylabel('True Positive Rate')\n",
    "plt.title('ROC-кривая')\n",
    "\n",
    "plt.plot([0, 1], [0, 1], linestyle='--')\n",
    "plt.show()"
   ]
  },
  {
   "cell_type": "code",
   "execution_count": 63,
   "metadata": {},
   "outputs": [
    {
     "name": "stdout",
     "output_type": "stream",
     "text": [
      "0.843915343915344\n"
     ]
    }
   ],
   "source": [
    "auc_roc = roc_auc_score(target_test, probabilities_one_test_up)\n",
    "\n",
    "print(auc_roc)"
   ]
  },
  {
   "cell_type": "code",
   "execution_count": 76,
   "metadata": {},
   "outputs": [
    {
     "name": "stdout",
     "output_type": "stream",
     "text": [
      "0.8114548965612796\n"
     ]
    }
   ],
   "source": [
    "auc_roc = roc_auc_score(target_test, probabilities_one_test_dw)\n",
    "\n",
    "print(auc_roc)"
   ]
  },
  {
   "cell_type": "code",
   "execution_count": 75,
   "metadata": {},
   "outputs": [
    {
     "name": "stdout",
     "output_type": "stream",
     "text": [
      "0.8501675629335204\n"
     ]
    }
   ],
   "source": [
    "auc_roc = roc_auc_score(target_test, probabilities_one_test_bal)\n",
    "\n",
    "print(auc_roc)"
   ]
  },
  {
   "cell_type": "markdown",
   "metadata": {},
   "source": [
    "## Вывод"
   ]
  },
  {
   "cell_type": "markdown",
   "metadata": {},
   "source": [
    "Наилучшей моделью оказалась для несбалансированной выборки дерево решений с гипермараметрами глубиной дерева 6\n",
    "\n",
    "На тестовой выборке значение f1 равняется 0.572\n",
    "\n",
    "Наилучшей моделью оказалась для сбалансированой выборки слуйчайный лес с гипермараметрами глубиной дерева 10 и глубиной 50\n",
    "\n",
    "На тестовой выборке значение f1 равняется 0.594\n",
    "\n"
   ]
  }
 ],
 "metadata": {
  "ExecuteTimeLog": [
   {
    "duration": 432,
    "start_time": "2022-11-06T18:56:17.500Z"
   },
   {
    "duration": 171,
    "start_time": "2022-11-06T18:56:31.309Z"
   },
   {
    "duration": 18,
    "start_time": "2022-11-06T18:56:38.659Z"
   },
   {
    "duration": 12,
    "start_time": "2022-11-06T18:56:51.592Z"
   },
   {
    "duration": 6,
    "start_time": "2022-11-06T18:56:58.515Z"
   },
   {
    "duration": 4,
    "start_time": "2022-11-06T18:57:11.540Z"
   },
   {
    "duration": 14,
    "start_time": "2022-11-06T19:00:53.073Z"
   },
   {
    "duration": 5,
    "start_time": "2022-11-06T19:01:21.182Z"
   },
   {
    "duration": 77,
    "start_time": "2022-11-06T19:02:44.241Z"
   },
   {
    "duration": 5,
    "start_time": "2022-11-06T19:02:48.560Z"
   },
   {
    "duration": 5,
    "start_time": "2022-11-06T19:03:51.861Z"
   },
   {
    "duration": 76,
    "start_time": "2022-11-06T19:05:58.368Z"
   },
   {
    "duration": 39,
    "start_time": "2022-11-06T19:06:19.945Z"
   },
   {
    "duration": 29,
    "start_time": "2022-11-06T19:06:31.661Z"
   },
   {
    "duration": 716,
    "start_time": "2022-11-06T19:16:26.182Z"
   },
   {
    "duration": 40,
    "start_time": "2022-11-06T19:17:17.157Z"
   },
   {
    "duration": 5,
    "start_time": "2022-11-06T19:17:54.829Z"
   },
   {
    "duration": 7,
    "start_time": "2022-11-06T19:17:56.654Z"
   },
   {
    "duration": 5,
    "start_time": "2022-11-06T19:18:20.310Z"
   },
   {
    "duration": 4,
    "start_time": "2022-11-06T19:18:36.402Z"
   },
   {
    "duration": 3,
    "start_time": "2022-11-06T19:18:41.210Z"
   },
   {
    "duration": 5,
    "start_time": "2022-11-06T19:18:46.229Z"
   },
   {
    "duration": 4,
    "start_time": "2022-11-06T19:18:50.068Z"
   },
   {
    "duration": 6,
    "start_time": "2022-11-06T19:19:48.002Z"
   },
   {
    "duration": 19,
    "start_time": "2022-11-06T19:24:40.570Z"
   },
   {
    "duration": 37,
    "start_time": "2022-11-06T19:25:10.195Z"
   },
   {
    "duration": 5,
    "start_time": "2022-11-06T19:26:25.080Z"
   },
   {
    "duration": 17,
    "start_time": "2022-11-06T19:26:25.823Z"
   },
   {
    "duration": 4,
    "start_time": "2022-11-06T19:26:26.292Z"
   },
   {
    "duration": 4,
    "start_time": "2022-11-06T19:26:26.761Z"
   },
   {
    "duration": 4,
    "start_time": "2022-11-06T19:26:27.235Z"
   },
   {
    "duration": 5,
    "start_time": "2022-11-06T19:26:27.984Z"
   },
   {
    "duration": 19,
    "start_time": "2022-11-06T19:26:29.434Z"
   },
   {
    "duration": 5,
    "start_time": "2022-11-06T19:27:14.661Z"
   },
   {
    "duration": 6,
    "start_time": "2022-11-06T19:28:31.164Z"
   },
   {
    "duration": 8,
    "start_time": "2022-11-06T19:29:25.554Z"
   },
   {
    "duration": 14,
    "start_time": "2022-11-06T19:29:35.403Z"
   },
   {
    "duration": 269,
    "start_time": "2022-11-06T19:29:42.532Z"
   },
   {
    "duration": 9,
    "start_time": "2022-11-06T19:29:43.731Z"
   },
   {
    "duration": 1362,
    "start_time": "2022-11-06T19:29:50.243Z"
   },
   {
    "duration": 0,
    "start_time": "2022-11-06T19:30:03.432Z"
   },
   {
    "duration": 1258,
    "start_time": "2022-11-06T19:30:09.728Z"
   },
   {
    "duration": 18,
    "start_time": "2022-11-06T19:30:58.283Z"
   },
   {
    "duration": 13,
    "start_time": "2022-11-06T19:31:44.558Z"
   },
   {
    "duration": 12,
    "start_time": "2022-11-06T19:31:44.931Z"
   },
   {
    "duration": 5,
    "start_time": "2022-11-06T19:32:13.540Z"
   },
   {
    "duration": 12,
    "start_time": "2022-11-06T19:33:14.135Z"
   },
   {
    "duration": 5,
    "start_time": "2022-11-06T19:33:14.149Z"
   },
   {
    "duration": 17,
    "start_time": "2022-11-06T19:33:14.156Z"
   },
   {
    "duration": 5,
    "start_time": "2022-11-06T19:33:37.745Z"
   },
   {
    "duration": 12,
    "start_time": "2022-11-06T19:34:24.650Z"
   },
   {
    "duration": 4,
    "start_time": "2022-11-06T19:34:25.023Z"
   },
   {
    "duration": 11,
    "start_time": "2022-11-06T19:34:25.790Z"
   },
   {
    "duration": 12,
    "start_time": "2022-11-06T19:35:10.966Z"
   },
   {
    "duration": 6,
    "start_time": "2022-11-06T19:35:11.968Z"
   },
   {
    "duration": 1038,
    "start_time": "2022-11-06T19:35:42.159Z"
   },
   {
    "duration": 45,
    "start_time": "2022-11-06T19:35:43.199Z"
   },
   {
    "duration": 21,
    "start_time": "2022-11-06T19:35:43.246Z"
   },
   {
    "duration": 12,
    "start_time": "2022-11-06T19:35:43.268Z"
   },
   {
    "duration": 5,
    "start_time": "2022-11-06T19:35:43.282Z"
   },
   {
    "duration": 38,
    "start_time": "2022-11-06T19:35:43.288Z"
   },
   {
    "duration": 19,
    "start_time": "2022-11-06T19:35:43.327Z"
   },
   {
    "duration": 11,
    "start_time": "2022-11-06T19:35:43.347Z"
   },
   {
    "duration": 13,
    "start_time": "2022-11-06T19:35:43.359Z"
   },
   {
    "duration": 7,
    "start_time": "2022-11-06T19:35:43.374Z"
   },
   {
    "duration": 6,
    "start_time": "2022-11-06T19:35:43.382Z"
   },
   {
    "duration": 18,
    "start_time": "2022-11-06T19:35:43.389Z"
   },
   {
    "duration": 4,
    "start_time": "2022-11-06T19:35:43.409Z"
   },
   {
    "duration": 5,
    "start_time": "2022-11-06T19:35:43.416Z"
   },
   {
    "duration": 5,
    "start_time": "2022-11-06T19:35:43.422Z"
   },
   {
    "duration": 119,
    "start_time": "2022-11-06T19:35:43.428Z"
   },
   {
    "duration": 4,
    "start_time": "2022-11-06T19:36:42.731Z"
   },
   {
    "duration": 17,
    "start_time": "2022-11-06T19:37:33.410Z"
   },
   {
    "duration": 5,
    "start_time": "2022-11-06T19:41:57.118Z"
   },
   {
    "duration": 5,
    "start_time": "2022-11-06T19:42:37.725Z"
   },
   {
    "duration": 11,
    "start_time": "2022-11-06T19:44:36.568Z"
   },
   {
    "duration": 12,
    "start_time": "2022-11-06T19:44:37.319Z"
   },
   {
    "duration": 1036,
    "start_time": "2022-11-06T19:56:15.538Z"
   },
   {
    "duration": 43,
    "start_time": "2022-11-06T19:56:16.576Z"
   },
   {
    "duration": 22,
    "start_time": "2022-11-06T19:56:16.621Z"
   },
   {
    "duration": 12,
    "start_time": "2022-11-06T19:56:16.645Z"
   },
   {
    "duration": 4,
    "start_time": "2022-11-06T19:56:16.659Z"
   },
   {
    "duration": 56,
    "start_time": "2022-11-06T19:56:16.665Z"
   },
   {
    "duration": 19,
    "start_time": "2022-11-06T19:56:16.723Z"
   },
   {
    "duration": 10,
    "start_time": "2022-11-06T19:56:16.744Z"
   },
   {
    "duration": 18,
    "start_time": "2022-11-06T19:56:16.756Z"
   },
   {
    "duration": 45,
    "start_time": "2022-11-06T19:58:23.190Z"
   },
   {
    "duration": 0,
    "start_time": "2022-11-06T19:58:23.236Z"
   },
   {
    "duration": 1021,
    "start_time": "2022-11-06T19:58:23.346Z"
   },
   {
    "duration": 40,
    "start_time": "2022-11-06T19:58:24.369Z"
   },
   {
    "duration": 22,
    "start_time": "2022-11-06T19:58:24.411Z"
   },
   {
    "duration": 15,
    "start_time": "2022-11-06T19:58:24.435Z"
   },
   {
    "duration": 4,
    "start_time": "2022-11-06T19:58:24.452Z"
   },
   {
    "duration": 76,
    "start_time": "2022-11-06T19:58:24.457Z"
   },
   {
    "duration": 0,
    "start_time": "2022-11-06T19:58:24.535Z"
   },
   {
    "duration": 0,
    "start_time": "2022-11-06T19:58:24.536Z"
   },
   {
    "duration": 5,
    "start_time": "2022-11-06T19:59:07.553Z"
   },
   {
    "duration": 31,
    "start_time": "2022-11-06T19:59:09.045Z"
   },
   {
    "duration": 13,
    "start_time": "2022-11-06T19:59:09.685Z"
   },
   {
    "duration": 5,
    "start_time": "2022-11-06T19:59:40.905Z"
   },
   {
    "duration": 79,
    "start_time": "2022-11-06T20:08:46.682Z"
   },
   {
    "duration": 1104,
    "start_time": "2022-11-06T20:09:47.721Z"
   },
   {
    "duration": 49,
    "start_time": "2022-11-06T20:09:48.827Z"
   },
   {
    "duration": 27,
    "start_time": "2022-11-06T20:09:48.878Z"
   },
   {
    "duration": 11,
    "start_time": "2022-11-06T20:09:48.907Z"
   },
   {
    "duration": 4,
    "start_time": "2022-11-06T20:09:48.921Z"
   },
   {
    "duration": 7,
    "start_time": "2022-11-06T20:09:48.927Z"
   },
   {
    "duration": 15,
    "start_time": "2022-11-06T20:09:48.935Z"
   },
   {
    "duration": 34,
    "start_time": "2022-11-06T20:09:48.952Z"
   },
   {
    "duration": 30,
    "start_time": "2022-11-06T20:09:48.988Z"
   },
   {
    "duration": 67,
    "start_time": "2022-11-06T20:09:49.019Z"
   },
   {
    "duration": 0,
    "start_time": "2022-11-06T20:09:49.087Z"
   },
   {
    "duration": 0,
    "start_time": "2022-11-06T20:09:49.089Z"
   },
   {
    "duration": 0,
    "start_time": "2022-11-06T20:09:49.090Z"
   },
   {
    "duration": 0,
    "start_time": "2022-11-06T20:09:49.092Z"
   },
   {
    "duration": 0,
    "start_time": "2022-11-06T20:09:49.093Z"
   },
   {
    "duration": 0,
    "start_time": "2022-11-06T20:09:49.095Z"
   },
   {
    "duration": 0,
    "start_time": "2022-11-06T20:09:49.096Z"
   },
   {
    "duration": 66,
    "start_time": "2022-11-06T20:11:52.657Z"
   },
   {
    "duration": 68,
    "start_time": "2022-11-06T20:12:00.330Z"
   },
   {
    "duration": 10,
    "start_time": "2022-11-06T20:12:11.252Z"
   },
   {
    "duration": 5,
    "start_time": "2022-11-06T20:12:11.263Z"
   },
   {
    "duration": 5,
    "start_time": "2022-11-06T20:12:11.310Z"
   },
   {
    "duration": 5,
    "start_time": "2022-11-06T20:12:11.317Z"
   },
   {
    "duration": 9,
    "start_time": "2022-11-06T20:12:11.323Z"
   },
   {
    "duration": 7,
    "start_time": "2022-11-06T20:12:11.333Z"
   },
   {
    "duration": 8,
    "start_time": "2022-11-06T20:12:11.341Z"
   },
   {
    "duration": 10,
    "start_time": "2022-11-06T20:12:41.595Z"
   },
   {
    "duration": 4,
    "start_time": "2022-11-06T20:12:41.957Z"
   },
   {
    "duration": 6,
    "start_time": "2022-11-06T20:12:42.935Z"
   },
   {
    "duration": 4,
    "start_time": "2022-11-06T20:12:43.212Z"
   },
   {
    "duration": 4,
    "start_time": "2022-11-06T20:12:43.467Z"
   },
   {
    "duration": 3,
    "start_time": "2022-11-06T20:12:43.735Z"
   },
   {
    "duration": 4,
    "start_time": "2022-11-06T20:12:44.138Z"
   },
   {
    "duration": 9,
    "start_time": "2022-11-06T20:19:45.405Z"
   },
   {
    "duration": 9,
    "start_time": "2022-11-06T20:19:48.832Z"
   },
   {
    "duration": 7,
    "start_time": "2022-11-06T20:24:35.542Z"
   },
   {
    "duration": 9,
    "start_time": "2022-11-06T20:24:37.870Z"
   },
   {
    "duration": 8,
    "start_time": "2022-11-06T20:24:39.888Z"
   },
   {
    "duration": 9,
    "start_time": "2022-11-06T20:24:44.666Z"
   },
   {
    "duration": 7,
    "start_time": "2022-11-06T20:24:50.656Z"
   },
   {
    "duration": 3,
    "start_time": "2022-11-06T20:24:57.892Z"
   },
   {
    "duration": 11,
    "start_time": "2022-11-06T20:25:01.145Z"
   },
   {
    "duration": 29,
    "start_time": "2022-11-06T20:25:06.841Z"
   },
   {
    "duration": 1041,
    "start_time": "2022-11-06T20:25:21.304Z"
   },
   {
    "duration": 40,
    "start_time": "2022-11-06T20:25:22.347Z"
   },
   {
    "duration": 21,
    "start_time": "2022-11-06T20:25:22.389Z"
   },
   {
    "duration": 12,
    "start_time": "2022-11-06T20:25:22.412Z"
   },
   {
    "duration": 11,
    "start_time": "2022-11-06T20:25:22.426Z"
   },
   {
    "duration": 10,
    "start_time": "2022-11-06T20:25:22.438Z"
   },
   {
    "duration": 13,
    "start_time": "2022-11-06T20:25:22.449Z"
   },
   {
    "duration": 5,
    "start_time": "2022-11-06T20:25:22.463Z"
   },
   {
    "duration": 40,
    "start_time": "2022-11-06T20:25:22.469Z"
   },
   {
    "duration": 5,
    "start_time": "2022-11-06T20:25:22.511Z"
   },
   {
    "duration": 35,
    "start_time": "2022-11-06T20:25:22.518Z"
   },
   {
    "duration": 14,
    "start_time": "2022-11-06T20:25:22.554Z"
   },
   {
    "duration": 35,
    "start_time": "2022-11-06T20:25:22.570Z"
   },
   {
    "duration": 4,
    "start_time": "2022-11-06T20:25:22.608Z"
   },
   {
    "duration": 7,
    "start_time": "2022-11-06T20:25:22.613Z"
   },
   {
    "duration": 6,
    "start_time": "2022-11-06T20:25:22.621Z"
   },
   {
    "duration": 6,
    "start_time": "2022-11-06T20:25:22.628Z"
   },
   {
    "duration": 6,
    "start_time": "2022-11-06T20:25:22.635Z"
   },
   {
    "duration": 4,
    "start_time": "2022-11-06T20:25:22.642Z"
   },
   {
    "duration": 124,
    "start_time": "2022-11-06T20:25:22.648Z"
   },
   {
    "duration": 6,
    "start_time": "2022-11-06T20:26:17.639Z"
   },
   {
    "duration": 6,
    "start_time": "2022-11-06T20:27:03.180Z"
   },
   {
    "duration": 5,
    "start_time": "2022-11-06T20:27:03.537Z"
   },
   {
    "duration": 3,
    "start_time": "2022-11-06T20:27:04.412Z"
   },
   {
    "duration": 4,
    "start_time": "2022-11-06T20:27:04.693Z"
   },
   {
    "duration": 4,
    "start_time": "2022-11-06T20:27:04.949Z"
   },
   {
    "duration": 4,
    "start_time": "2022-11-06T20:27:05.226Z"
   },
   {
    "duration": 3,
    "start_time": "2022-11-06T20:27:38.147Z"
   },
   {
    "duration": 4,
    "start_time": "2022-11-06T20:27:38.527Z"
   },
   {
    "duration": 4,
    "start_time": "2022-11-06T20:27:38.805Z"
   },
   {
    "duration": 4,
    "start_time": "2022-11-06T20:27:39.259Z"
   },
   {
    "duration": 4,
    "start_time": "2022-11-06T20:30:33.502Z"
   },
   {
    "duration": 4,
    "start_time": "2022-11-06T20:30:44.443Z"
   },
   {
    "duration": 10,
    "start_time": "2022-11-06T20:30:51.898Z"
   },
   {
    "duration": 1085,
    "start_time": "2022-11-06T20:31:00.306Z"
   },
   {
    "duration": 43,
    "start_time": "2022-11-06T20:31:01.392Z"
   },
   {
    "duration": 22,
    "start_time": "2022-11-06T20:31:01.436Z"
   },
   {
    "duration": 20,
    "start_time": "2022-11-06T20:31:01.460Z"
   },
   {
    "duration": 11,
    "start_time": "2022-11-06T20:31:01.482Z"
   },
   {
    "duration": 16,
    "start_time": "2022-11-06T20:31:01.495Z"
   },
   {
    "duration": 11,
    "start_time": "2022-11-06T20:31:01.513Z"
   },
   {
    "duration": 5,
    "start_time": "2022-11-06T20:31:01.526Z"
   },
   {
    "duration": 14,
    "start_time": "2022-11-06T20:31:01.533Z"
   },
   {
    "duration": 7,
    "start_time": "2022-11-06T20:31:01.550Z"
   },
   {
    "duration": 12,
    "start_time": "2022-11-06T20:31:01.558Z"
   },
   {
    "duration": 43,
    "start_time": "2022-11-06T20:31:01.571Z"
   },
   {
    "duration": 15,
    "start_time": "2022-11-06T20:31:01.615Z"
   },
   {
    "duration": 8,
    "start_time": "2022-11-06T20:31:01.631Z"
   },
   {
    "duration": 18,
    "start_time": "2022-11-06T20:31:01.641Z"
   },
   {
    "duration": 16,
    "start_time": "2022-11-06T20:31:01.660Z"
   },
   {
    "duration": 16,
    "start_time": "2022-11-06T20:31:01.677Z"
   },
   {
    "duration": 12,
    "start_time": "2022-11-06T20:31:01.695Z"
   },
   {
    "duration": 10,
    "start_time": "2022-11-06T20:31:01.709Z"
   },
   {
    "duration": 9,
    "start_time": "2022-11-06T20:31:01.720Z"
   },
   {
    "duration": 8,
    "start_time": "2022-11-06T20:31:01.730Z"
   },
   {
    "duration": 6,
    "start_time": "2022-11-06T20:31:01.739Z"
   },
   {
    "duration": 5,
    "start_time": "2022-11-06T20:31:01.747Z"
   },
   {
    "duration": 26,
    "start_time": "2022-11-06T20:31:01.753Z"
   },
   {
    "duration": 89,
    "start_time": "2022-11-06T20:32:08.407Z"
   },
   {
    "duration": 5,
    "start_time": "2022-11-06T20:32:13.125Z"
   },
   {
    "duration": 16,
    "start_time": "2022-11-06T20:32:18.604Z"
   },
   {
    "duration": 12,
    "start_time": "2022-11-06T20:32:25.203Z"
   },
   {
    "duration": 1057,
    "start_time": "2022-11-06T20:32:31.084Z"
   },
   {
    "duration": 39,
    "start_time": "2022-11-06T20:32:32.144Z"
   },
   {
    "duration": 20,
    "start_time": "2022-11-06T20:32:32.185Z"
   },
   {
    "duration": 12,
    "start_time": "2022-11-06T20:32:32.207Z"
   },
   {
    "duration": 10,
    "start_time": "2022-11-06T20:32:32.221Z"
   },
   {
    "duration": 10,
    "start_time": "2022-11-06T20:32:32.233Z"
   },
   {
    "duration": 12,
    "start_time": "2022-11-06T20:32:32.244Z"
   },
   {
    "duration": 4,
    "start_time": "2022-11-06T20:32:32.257Z"
   },
   {
    "duration": 9,
    "start_time": "2022-11-06T20:32:32.263Z"
   },
   {
    "duration": 33,
    "start_time": "2022-11-06T20:32:32.273Z"
   },
   {
    "duration": 4,
    "start_time": "2022-11-06T20:32:32.307Z"
   },
   {
    "duration": 34,
    "start_time": "2022-11-06T20:32:32.313Z"
   },
   {
    "duration": 12,
    "start_time": "2022-11-06T20:32:32.348Z"
   },
   {
    "duration": 8,
    "start_time": "2022-11-06T20:32:32.363Z"
   },
   {
    "duration": 11,
    "start_time": "2022-11-06T20:32:32.372Z"
   },
   {
    "duration": 23,
    "start_time": "2022-11-06T20:32:32.384Z"
   },
   {
    "duration": 8,
    "start_time": "2022-11-06T20:32:32.409Z"
   },
   {
    "duration": 42,
    "start_time": "2022-11-06T20:32:32.418Z"
   },
   {
    "duration": 13,
    "start_time": "2022-11-06T20:32:32.462Z"
   },
   {
    "duration": 19,
    "start_time": "2022-11-06T20:32:32.476Z"
   },
   {
    "duration": 24,
    "start_time": "2022-11-06T20:32:32.496Z"
   },
   {
    "duration": 15,
    "start_time": "2022-11-06T20:32:32.522Z"
   },
   {
    "duration": 11,
    "start_time": "2022-11-06T20:32:32.538Z"
   },
   {
    "duration": 26,
    "start_time": "2022-11-06T20:32:32.551Z"
   },
   {
    "duration": 9,
    "start_time": "2022-11-06T20:35:35.655Z"
   },
   {
    "duration": 10,
    "start_time": "2022-11-06T20:36:07.608Z"
   },
   {
    "duration": 4,
    "start_time": "2022-11-06T20:37:11.568Z"
   },
   {
    "duration": 10,
    "start_time": "2022-11-06T20:37:12.311Z"
   },
   {
    "duration": 8,
    "start_time": "2022-11-06T20:37:21.839Z"
   },
   {
    "duration": 8,
    "start_time": "2022-11-06T20:37:22.390Z"
   },
   {
    "duration": 4,
    "start_time": "2022-11-06T20:37:23.698Z"
   },
   {
    "duration": 1027,
    "start_time": "2022-11-06T20:37:35.038Z"
   },
   {
    "duration": 40,
    "start_time": "2022-11-06T20:37:36.067Z"
   },
   {
    "duration": 21,
    "start_time": "2022-11-06T20:37:36.108Z"
   },
   {
    "duration": 12,
    "start_time": "2022-11-06T20:37:36.130Z"
   },
   {
    "duration": 11,
    "start_time": "2022-11-06T20:37:36.143Z"
   },
   {
    "duration": 9,
    "start_time": "2022-11-06T20:37:36.155Z"
   },
   {
    "duration": 11,
    "start_time": "2022-11-06T20:37:36.165Z"
   },
   {
    "duration": 29,
    "start_time": "2022-11-06T20:37:36.177Z"
   },
   {
    "duration": 8,
    "start_time": "2022-11-06T20:37:36.208Z"
   },
   {
    "duration": 7,
    "start_time": "2022-11-06T20:37:36.218Z"
   },
   {
    "duration": 5,
    "start_time": "2022-11-06T20:37:36.226Z"
   },
   {
    "duration": 41,
    "start_time": "2022-11-06T20:37:36.232Z"
   },
   {
    "duration": 31,
    "start_time": "2022-11-06T20:37:36.274Z"
   },
   {
    "duration": 9,
    "start_time": "2022-11-06T20:37:36.307Z"
   },
   {
    "duration": 4,
    "start_time": "2022-11-06T20:37:36.317Z"
   },
   {
    "duration": 11,
    "start_time": "2022-11-06T20:37:36.322Z"
   },
   {
    "duration": 6,
    "start_time": "2022-11-06T20:37:36.334Z"
   },
   {
    "duration": 7,
    "start_time": "2022-11-06T20:37:36.341Z"
   },
   {
    "duration": 6,
    "start_time": "2022-11-06T20:37:36.349Z"
   },
   {
    "duration": 5,
    "start_time": "2022-11-06T20:37:36.356Z"
   },
   {
    "duration": 5,
    "start_time": "2022-11-06T20:37:36.362Z"
   },
   {
    "duration": 37,
    "start_time": "2022-11-06T20:37:36.368Z"
   },
   {
    "duration": 4,
    "start_time": "2022-11-06T20:37:36.407Z"
   },
   {
    "duration": 9,
    "start_time": "2022-11-06T20:37:36.413Z"
   },
   {
    "duration": 5,
    "start_time": "2022-11-06T20:37:36.423Z"
   },
   {
    "duration": 27,
    "start_time": "2022-11-06T20:37:36.430Z"
   },
   {
    "duration": 95,
    "start_time": "2022-11-06T20:43:48.168Z"
   },
   {
    "duration": 3,
    "start_time": "2022-11-06T20:44:15.012Z"
   },
   {
    "duration": 8,
    "start_time": "2022-11-06T20:44:26.098Z"
   },
   {
    "duration": 3,
    "start_time": "2022-11-06T20:44:28.639Z"
   },
   {
    "duration": 7,
    "start_time": "2022-11-06T20:44:28.933Z"
   },
   {
    "duration": 3,
    "start_time": "2022-11-06T20:46:11.857Z"
   },
   {
    "duration": 3,
    "start_time": "2022-11-06T20:47:34.102Z"
   },
   {
    "duration": 8,
    "start_time": "2022-11-06T20:48:13.689Z"
   },
   {
    "duration": 2,
    "start_time": "2022-11-06T20:48:19.362Z"
   },
   {
    "duration": 14,
    "start_time": "2022-11-06T20:48:19.703Z"
   },
   {
    "duration": 9,
    "start_time": "2022-11-06T20:48:20.137Z"
   },
   {
    "duration": 4,
    "start_time": "2022-11-06T20:49:47.619Z"
   },
   {
    "duration": 8,
    "start_time": "2022-11-06T20:50:01.771Z"
   },
   {
    "duration": 3,
    "start_time": "2022-11-06T20:50:34.017Z"
   },
   {
    "duration": 8,
    "start_time": "2022-11-06T20:50:34.925Z"
   },
   {
    "duration": 8,
    "start_time": "2022-11-06T20:50:46.328Z"
   },
   {
    "duration": 13,
    "start_time": "2022-11-06T20:50:53.411Z"
   },
   {
    "duration": 6,
    "start_time": "2022-11-06T20:51:08.392Z"
   },
   {
    "duration": 14,
    "start_time": "2022-11-06T20:51:09.128Z"
   },
   {
    "duration": 14,
    "start_time": "2022-11-06T20:51:21.658Z"
   },
   {
    "duration": 3,
    "start_time": "2022-11-06T20:52:06.761Z"
   },
   {
    "duration": 8,
    "start_time": "2022-11-06T20:52:07.112Z"
   },
   {
    "duration": 14,
    "start_time": "2022-11-06T20:52:07.941Z"
   },
   {
    "duration": 8,
    "start_time": "2022-11-06T20:52:25.778Z"
   },
   {
    "duration": 20,
    "start_time": "2022-11-06T20:52:26.271Z"
   },
   {
    "duration": 23,
    "start_time": "2022-11-06T20:52:32.367Z"
   },
   {
    "duration": 16,
    "start_time": "2022-11-06T20:52:41.392Z"
   },
   {
    "duration": 11,
    "start_time": "2022-11-06T20:52:50.507Z"
   },
   {
    "duration": 9,
    "start_time": "2022-11-06T20:53:44.180Z"
   },
   {
    "duration": 9,
    "start_time": "2022-11-06T20:54:00.004Z"
   },
   {
    "duration": 22,
    "start_time": "2022-11-06T20:55:30.601Z"
   },
   {
    "duration": 10,
    "start_time": "2022-11-06T20:55:36.018Z"
   },
   {
    "duration": 8,
    "start_time": "2022-11-06T20:55:51.576Z"
   },
   {
    "duration": 9,
    "start_time": "2022-11-06T20:55:58.605Z"
   },
   {
    "duration": 11,
    "start_time": "2022-11-06T20:58:11.909Z"
   },
   {
    "duration": 293,
    "start_time": "2022-11-06T21:02:56.790Z"
   },
   {
    "duration": 26,
    "start_time": "2022-11-06T21:03:04.301Z"
   },
   {
    "duration": 22,
    "start_time": "2022-11-06T21:03:21.914Z"
   },
   {
    "duration": 20,
    "start_time": "2022-11-06T21:03:56.856Z"
   },
   {
    "duration": 20,
    "start_time": "2022-11-06T21:04:58.145Z"
   },
   {
    "duration": 20,
    "start_time": "2022-11-06T21:05:27.359Z"
   },
   {
    "duration": 4,
    "start_time": "2022-11-06T21:06:04.300Z"
   },
   {
    "duration": 93,
    "start_time": "2022-11-06T21:06:07.196Z"
   },
   {
    "duration": 4,
    "start_time": "2022-11-06T21:06:59.233Z"
   },
   {
    "duration": 21,
    "start_time": "2022-11-06T21:08:36.045Z"
   },
   {
    "duration": 115,
    "start_time": "2022-11-06T21:12:27.818Z"
   },
   {
    "duration": 119,
    "start_time": "2022-11-06T21:13:02.803Z"
   },
   {
    "duration": 114,
    "start_time": "2022-11-06T21:13:24.591Z"
   },
   {
    "duration": 120,
    "start_time": "2022-11-06T21:13:52.700Z"
   },
   {
    "duration": 107,
    "start_time": "2022-11-06T21:13:55.506Z"
   },
   {
    "duration": 105,
    "start_time": "2022-11-06T21:14:11.940Z"
   },
   {
    "duration": 75,
    "start_time": "2022-11-06T21:14:34.109Z"
   },
   {
    "duration": 96,
    "start_time": "2022-11-06T21:14:50.381Z"
   },
   {
    "duration": 119,
    "start_time": "2022-11-06T21:15:17.335Z"
   },
   {
    "duration": 92,
    "start_time": "2022-11-06T21:16:25.832Z"
   },
   {
    "duration": 91,
    "start_time": "2022-11-06T21:16:31.260Z"
   },
   {
    "duration": 96,
    "start_time": "2022-11-06T21:16:34.604Z"
   },
   {
    "duration": 95,
    "start_time": "2022-11-06T21:16:50.318Z"
   },
   {
    "duration": 18,
    "start_time": "2022-11-06T21:18:59.832Z"
   },
   {
    "duration": 93,
    "start_time": "2022-11-06T21:19:08.553Z"
   },
   {
    "duration": 122,
    "start_time": "2022-11-06T21:19:26.376Z"
   },
   {
    "duration": 123,
    "start_time": "2022-11-06T21:19:37.578Z"
   },
   {
    "duration": 156,
    "start_time": "2022-11-06T21:20:27.889Z"
   },
   {
    "duration": 80,
    "start_time": "2022-11-06T21:25:17.132Z"
   },
   {
    "duration": 73,
    "start_time": "2022-11-06T21:25:22.649Z"
   },
   {
    "duration": 69,
    "start_time": "2022-11-06T21:25:29.859Z"
   },
   {
    "duration": 115,
    "start_time": "2022-11-06T21:25:33.879Z"
   },
   {
    "duration": 108,
    "start_time": "2022-11-06T21:25:41.356Z"
   },
   {
    "duration": 75,
    "start_time": "2022-11-06T21:37:07.301Z"
   },
   {
    "duration": 168,
    "start_time": "2022-11-06T21:37:31.583Z"
   },
   {
    "duration": 4,
    "start_time": "2022-11-06T21:38:36.780Z"
   },
   {
    "duration": 32,
    "start_time": "2022-11-06T21:38:36.786Z"
   },
   {
    "duration": 12,
    "start_time": "2022-11-06T21:38:36.820Z"
   },
   {
    "duration": 14,
    "start_time": "2022-11-06T21:38:36.833Z"
   },
   {
    "duration": 10,
    "start_time": "2022-11-06T21:38:36.848Z"
   },
   {
    "duration": 4,
    "start_time": "2022-11-06T21:38:36.859Z"
   },
   {
    "duration": 6,
    "start_time": "2022-11-06T21:38:36.865Z"
   },
   {
    "duration": 6,
    "start_time": "2022-11-06T21:38:36.872Z"
   },
   {
    "duration": 26,
    "start_time": "2022-11-06T21:38:36.879Z"
   },
   {
    "duration": 30,
    "start_time": "2022-11-06T21:38:36.907Z"
   },
   {
    "duration": 13,
    "start_time": "2022-11-06T21:38:36.938Z"
   },
   {
    "duration": 9,
    "start_time": "2022-11-06T21:38:36.952Z"
   },
   {
    "duration": 4,
    "start_time": "2022-11-06T21:38:36.962Z"
   },
   {
    "duration": 41,
    "start_time": "2022-11-06T21:38:36.967Z"
   },
   {
    "duration": 8,
    "start_time": "2022-11-06T21:38:37.010Z"
   },
   {
    "duration": 6,
    "start_time": "2022-11-06T21:38:37.019Z"
   },
   {
    "duration": 4,
    "start_time": "2022-11-06T21:38:37.027Z"
   },
   {
    "duration": 6,
    "start_time": "2022-11-06T21:38:37.033Z"
   },
   {
    "duration": 6,
    "start_time": "2022-11-06T21:38:37.041Z"
   },
   {
    "duration": 4,
    "start_time": "2022-11-06T21:38:37.049Z"
   },
   {
    "duration": 4,
    "start_time": "2022-11-06T21:38:37.055Z"
   },
   {
    "duration": 4,
    "start_time": "2022-11-06T21:38:37.061Z"
   },
   {
    "duration": 6,
    "start_time": "2022-11-06T21:38:37.067Z"
   },
   {
    "duration": 31,
    "start_time": "2022-11-06T21:38:37.075Z"
   },
   {
    "duration": 11,
    "start_time": "2022-11-06T21:38:37.107Z"
   },
   {
    "duration": 12,
    "start_time": "2022-11-06T21:38:37.120Z"
   },
   {
    "duration": 8,
    "start_time": "2022-11-06T21:38:37.133Z"
   },
   {
    "duration": 7,
    "start_time": "2022-11-06T21:38:37.143Z"
   },
   {
    "duration": 233,
    "start_time": "2022-11-06T21:38:37.152Z"
   },
   {
    "duration": 186,
    "start_time": "2022-11-06T21:39:00.754Z"
   },
   {
    "duration": 184,
    "start_time": "2022-11-06T21:46:41.410Z"
   },
   {
    "duration": 71,
    "start_time": "2022-11-06T21:49:16.219Z"
   },
   {
    "duration": 5093,
    "start_time": "2022-11-06T21:49:21.904Z"
   },
   {
    "duration": 5190,
    "start_time": "2022-11-06T21:49:29.194Z"
   },
   {
    "duration": 5254,
    "start_time": "2022-11-06T21:50:37.171Z"
   },
   {
    "duration": 28,
    "start_time": "2022-11-06T21:52:10.786Z"
   },
   {
    "duration": 54,
    "start_time": "2022-11-10T09:08:50.455Z"
   },
   {
    "duration": 1504,
    "start_time": "2022-11-10T09:08:56.726Z"
   },
   {
    "duration": 180,
    "start_time": "2022-11-10T09:08:58.232Z"
   },
   {
    "duration": 17,
    "start_time": "2022-11-10T09:08:58.414Z"
   },
   {
    "duration": 12,
    "start_time": "2022-11-10T09:08:58.433Z"
   },
   {
    "duration": 10,
    "start_time": "2022-11-10T09:08:58.447Z"
   },
   {
    "duration": 4,
    "start_time": "2022-11-10T09:08:58.458Z"
   },
   {
    "duration": 8,
    "start_time": "2022-11-10T09:08:58.464Z"
   },
   {
    "duration": 8,
    "start_time": "2022-11-10T09:08:58.474Z"
   },
   {
    "duration": 4,
    "start_time": "2022-11-10T09:08:58.483Z"
   },
   {
    "duration": 32,
    "start_time": "2022-11-10T09:08:58.489Z"
   },
   {
    "duration": 37,
    "start_time": "2022-11-10T09:08:58.523Z"
   },
   {
    "duration": 9,
    "start_time": "2022-11-10T09:08:58.561Z"
   },
   {
    "duration": 6,
    "start_time": "2022-11-10T09:08:58.572Z"
   },
   {
    "duration": 13,
    "start_time": "2022-11-10T09:08:58.581Z"
   },
   {
    "duration": 8,
    "start_time": "2022-11-10T09:08:58.596Z"
   },
   {
    "duration": 16,
    "start_time": "2022-11-10T09:08:58.605Z"
   },
   {
    "duration": 11,
    "start_time": "2022-11-10T09:08:58.623Z"
   },
   {
    "duration": 6,
    "start_time": "2022-11-10T09:08:58.636Z"
   },
   {
    "duration": 24,
    "start_time": "2022-11-10T09:08:58.643Z"
   },
   {
    "duration": 17,
    "start_time": "2022-11-10T09:08:58.669Z"
   },
   {
    "duration": 10,
    "start_time": "2022-11-10T09:08:58.689Z"
   },
   {
    "duration": 11,
    "start_time": "2022-11-10T09:08:58.701Z"
   },
   {
    "duration": 11,
    "start_time": "2022-11-10T09:08:58.714Z"
   },
   {
    "duration": 15,
    "start_time": "2022-11-10T09:08:58.727Z"
   },
   {
    "duration": 19,
    "start_time": "2022-11-10T09:08:58.744Z"
   },
   {
    "duration": 17,
    "start_time": "2022-11-10T09:08:58.765Z"
   },
   {
    "duration": 11,
    "start_time": "2022-11-10T09:08:58.784Z"
   },
   {
    "duration": 8,
    "start_time": "2022-11-10T09:08:58.797Z"
   },
   {
    "duration": 176,
    "start_time": "2022-11-10T09:08:58.807Z"
   },
   {
    "duration": 142,
    "start_time": "2022-11-10T09:08:58.984Z"
   },
   {
    "duration": 0,
    "start_time": "2022-11-10T09:08:59.128Z"
   },
   {
    "duration": 5303,
    "start_time": "2022-11-10T09:09:37.752Z"
   },
   {
    "duration": 221,
    "start_time": "2022-11-10T09:11:01.047Z"
   },
   {
    "duration": 18,
    "start_time": "2022-11-10T09:15:13.824Z"
   },
   {
    "duration": 125,
    "start_time": "2022-11-10T09:15:26.709Z"
   },
   {
    "duration": 18,
    "start_time": "2022-11-10T09:17:05.107Z"
   },
   {
    "duration": 16,
    "start_time": "2022-11-10T09:17:15.557Z"
   },
   {
    "duration": 133,
    "start_time": "2022-11-10T09:17:27.350Z"
   },
   {
    "duration": 129,
    "start_time": "2022-11-10T09:17:40.490Z"
   },
   {
    "duration": 131,
    "start_time": "2022-11-10T09:18:02.960Z"
   },
   {
    "duration": 50,
    "start_time": "2022-11-10T09:19:01.143Z"
   },
   {
    "duration": 5265,
    "start_time": "2022-11-10T09:19:10.528Z"
   },
   {
    "duration": 5429,
    "start_time": "2022-11-10T09:19:53.525Z"
   },
   {
    "duration": 126,
    "start_time": "2022-11-10T09:20:16.672Z"
   },
   {
    "duration": 5233,
    "start_time": "2022-11-10T09:20:18.170Z"
   },
   {
    "duration": 5150,
    "start_time": "2022-11-10T09:21:11.231Z"
   },
   {
    "duration": 121,
    "start_time": "2022-11-10T09:21:37.693Z"
   },
   {
    "duration": 4988,
    "start_time": "2022-11-10T09:21:38.578Z"
   },
   {
    "duration": 202,
    "start_time": "2022-11-10T09:22:00.961Z"
   },
   {
    "duration": 186,
    "start_time": "2022-11-10T09:22:03.676Z"
   },
   {
    "duration": 18,
    "start_time": "2022-11-10T09:29:54.962Z"
   },
   {
    "duration": 23,
    "start_time": "2022-11-10T09:29:59.098Z"
   },
   {
    "duration": 8,
    "start_time": "2022-11-10T09:31:47.432Z"
   },
   {
    "duration": 4,
    "start_time": "2022-11-10T09:31:58.612Z"
   },
   {
    "duration": 5,
    "start_time": "2022-11-10T09:33:16.556Z"
   },
   {
    "duration": 4,
    "start_time": "2022-11-10T09:33:17.257Z"
   },
   {
    "duration": 4,
    "start_time": "2022-11-10T09:33:59.744Z"
   },
   {
    "duration": 9,
    "start_time": "2022-11-10T09:35:05.765Z"
   },
   {
    "duration": 3,
    "start_time": "2022-11-10T09:35:13.607Z"
   },
   {
    "duration": 8,
    "start_time": "2022-11-10T09:35:14.059Z"
   },
   {
    "duration": 8,
    "start_time": "2022-11-10T09:35:31.292Z"
   },
   {
    "duration": 5,
    "start_time": "2022-11-10T09:35:46.968Z"
   },
   {
    "duration": 6,
    "start_time": "2022-11-10T09:35:54.922Z"
   },
   {
    "duration": 70,
    "start_time": "2022-11-10T09:36:12.391Z"
   },
   {
    "duration": 211,
    "start_time": "2022-11-10T09:40:55.232Z"
   },
   {
    "duration": 9754,
    "start_time": "2022-11-10T09:41:25.855Z"
   },
   {
    "duration": 269,
    "start_time": "2022-11-10T09:42:02.095Z"
   },
   {
    "duration": 419,
    "start_time": "2022-11-10T09:43:52.528Z"
   },
   {
    "duration": 4,
    "start_time": "2022-11-10T09:53:28.563Z"
   },
   {
    "duration": 4,
    "start_time": "2022-11-10T09:54:09.128Z"
   },
   {
    "duration": 5,
    "start_time": "2022-11-10T09:54:18.725Z"
   },
   {
    "duration": 430,
    "start_time": "2022-11-10T09:56:10.845Z"
   },
   {
    "duration": 426,
    "start_time": "2022-11-10T09:56:20.328Z"
   },
   {
    "duration": 424,
    "start_time": "2022-11-10T09:56:34.121Z"
   },
   {
    "duration": 639,
    "start_time": "2022-11-10T09:57:35.865Z"
   },
   {
    "duration": 5,
    "start_time": "2022-11-10T09:58:48.178Z"
   },
   {
    "duration": 638,
    "start_time": "2022-11-10T10:00:35.306Z"
   },
   {
    "duration": 1478,
    "start_time": "2022-11-11T09:26:54.453Z"
   },
   {
    "duration": 173,
    "start_time": "2022-11-11T09:26:55.932Z"
   },
   {
    "duration": 17,
    "start_time": "2022-11-11T09:26:56.107Z"
   },
   {
    "duration": 16,
    "start_time": "2022-11-11T09:26:56.126Z"
   },
   {
    "duration": 9,
    "start_time": "2022-11-11T09:26:56.144Z"
   },
   {
    "duration": 3,
    "start_time": "2022-11-11T09:26:56.155Z"
   },
   {
    "duration": 7,
    "start_time": "2022-11-11T09:26:56.160Z"
   },
   {
    "duration": 6,
    "start_time": "2022-11-11T09:26:56.168Z"
   },
   {
    "duration": 5,
    "start_time": "2022-11-11T09:26:56.175Z"
   },
   {
    "duration": 31,
    "start_time": "2022-11-11T09:26:56.181Z"
   },
   {
    "duration": 12,
    "start_time": "2022-11-11T09:26:56.213Z"
   },
   {
    "duration": 7,
    "start_time": "2022-11-11T09:26:56.227Z"
   },
   {
    "duration": 25,
    "start_time": "2022-11-11T09:26:56.235Z"
   },
   {
    "duration": 10,
    "start_time": "2022-11-11T09:26:56.263Z"
   },
   {
    "duration": 8,
    "start_time": "2022-11-11T09:26:56.274Z"
   },
   {
    "duration": 7,
    "start_time": "2022-11-11T09:26:56.283Z"
   },
   {
    "duration": 4,
    "start_time": "2022-11-11T09:26:56.291Z"
   },
   {
    "duration": 4,
    "start_time": "2022-11-11T09:26:56.297Z"
   },
   {
    "duration": 5,
    "start_time": "2022-11-11T09:26:56.303Z"
   },
   {
    "duration": 6,
    "start_time": "2022-11-11T09:26:56.310Z"
   },
   {
    "duration": 6,
    "start_time": "2022-11-11T09:26:56.318Z"
   },
   {
    "duration": 8,
    "start_time": "2022-11-11T09:26:56.325Z"
   },
   {
    "duration": 24,
    "start_time": "2022-11-11T09:26:56.335Z"
   },
   {
    "duration": 3,
    "start_time": "2022-11-11T09:26:56.361Z"
   },
   {
    "duration": 11,
    "start_time": "2022-11-11T09:26:56.366Z"
   },
   {
    "duration": 10,
    "start_time": "2022-11-11T09:26:56.379Z"
   },
   {
    "duration": 8,
    "start_time": "2022-11-11T09:26:56.391Z"
   },
   {
    "duration": 7,
    "start_time": "2022-11-11T09:26:56.401Z"
   },
   {
    "duration": 156,
    "start_time": "2022-11-11T09:26:56.410Z"
   },
   {
    "duration": 5988,
    "start_time": "2022-11-11T09:26:56.568Z"
   },
   {
    "duration": 212,
    "start_time": "2022-11-11T09:27:02.557Z"
   },
   {
    "duration": 111,
    "start_time": "2022-11-11T09:27:02.860Z"
   },
   {
    "duration": 6,
    "start_time": "2022-11-11T09:27:02.972Z"
   },
   {
    "duration": 6,
    "start_time": "2022-11-11T09:27:02.980Z"
   },
   {
    "duration": 9,
    "start_time": "2022-11-11T09:27:02.987Z"
   },
   {
    "duration": 9,
    "start_time": "2022-11-11T09:27:02.997Z"
   },
   {
    "duration": 180,
    "start_time": "2022-11-11T09:27:03.007Z"
   },
   {
    "duration": 6787,
    "start_time": "2022-11-11T09:27:03.188Z"
   },
   {
    "duration": 283,
    "start_time": "2022-11-11T09:27:09.976Z"
   },
   {
    "duration": 422,
    "start_time": "2022-11-11T09:27:10.262Z"
   },
   {
    "duration": 470,
    "start_time": "2022-11-11T09:27:10.687Z"
   },
   {
    "duration": 6,
    "start_time": "2022-11-11T09:27:11.159Z"
   },
   {
    "duration": 170,
    "start_time": "2022-11-11T09:28:32.347Z"
   },
   {
    "duration": 13,
    "start_time": "2022-11-11T09:33:43.683Z"
   },
   {
    "duration": 13,
    "start_time": "2022-11-11T09:34:12.124Z"
   },
   {
    "duration": 53,
    "start_time": "2022-11-11T09:35:05.784Z"
   },
   {
    "duration": 44,
    "start_time": "2022-11-11T09:35:35.684Z"
   },
   {
    "duration": 59,
    "start_time": "2022-11-11T09:35:45.445Z"
   },
   {
    "duration": 7,
    "start_time": "2022-11-11T09:35:55.568Z"
   },
   {
    "duration": 5,
    "start_time": "2022-11-11T09:36:17.637Z"
   },
   {
    "duration": 5,
    "start_time": "2022-11-11T09:36:24.812Z"
   },
   {
    "duration": 4,
    "start_time": "2022-11-11T09:37:04.289Z"
   },
   {
    "duration": 3,
    "start_time": "2022-11-11T09:37:04.648Z"
   },
   {
    "duration": 69,
    "start_time": "2022-11-11T09:37:05.247Z"
   },
   {
    "duration": 3307,
    "start_time": "2022-11-11T09:37:32.374Z"
   },
   {
    "duration": 36,
    "start_time": "2022-11-11T09:39:04.232Z"
   },
   {
    "duration": 158,
    "start_time": "2022-11-11T09:41:34.799Z"
   },
   {
    "duration": 5222,
    "start_time": "2022-11-11T09:43:31.886Z"
   },
   {
    "duration": 81,
    "start_time": "2022-11-11T09:44:06.887Z"
   },
   {
    "duration": 33,
    "start_time": "2022-11-11T09:44:18.631Z"
   },
   {
    "duration": 51,
    "start_time": "2022-11-11T09:44:24.811Z"
   },
   {
    "duration": 279,
    "start_time": "2022-11-11T09:47:44.904Z"
   },
   {
    "duration": 6,
    "start_time": "2022-11-11T09:47:47.772Z"
   },
   {
    "duration": 13,
    "start_time": "2022-11-11T09:53:11.596Z"
   },
   {
    "duration": 202,
    "start_time": "2022-11-11T09:54:37.985Z"
   },
   {
    "duration": 104,
    "start_time": "2022-11-11T09:57:36.311Z"
   },
   {
    "duration": 183,
    "start_time": "2022-11-11T09:57:43.156Z"
   },
   {
    "duration": 160,
    "start_time": "2022-11-11T09:58:41.122Z"
   },
   {
    "duration": 10,
    "start_time": "2022-11-11T09:59:23.023Z"
   },
   {
    "duration": 166,
    "start_time": "2022-11-11T10:00:17.496Z"
   },
   {
    "duration": 10,
    "start_time": "2022-11-11T10:00:17.920Z"
   },
   {
    "duration": 293,
    "start_time": "2022-11-11T10:00:18.247Z"
   },
   {
    "duration": 199,
    "start_time": "2022-11-11T10:00:29.418Z"
   },
   {
    "duration": 184,
    "start_time": "2022-11-11T10:01:08.505Z"
   },
   {
    "duration": 6,
    "start_time": "2022-11-11T10:01:38.785Z"
   },
   {
    "duration": 6,
    "start_time": "2022-11-11T10:01:39.446Z"
   }
  ],
  "kernelspec": {
   "display_name": "Python 3 (ipykernel)",
   "language": "python",
   "name": "python3"
  },
  "language_info": {
   "codemirror_mode": {
    "name": "ipython",
    "version": 3
   },
   "file_extension": ".py",
   "mimetype": "text/x-python",
   "name": "python",
   "nbconvert_exporter": "python",
   "pygments_lexer": "ipython3",
   "version": "3.9.12"
  },
  "toc": {
   "base_numbering": 1,
   "nav_menu": {},
   "number_sections": true,
   "sideBar": true,
   "skip_h1_title": true,
   "title_cell": "Содержание",
   "title_sidebar": "Contents",
   "toc_cell": true,
   "toc_position": {
    "height": "calc(100% - 180px)",
    "left": "10px",
    "top": "150px",
    "width": "310.792px"
   },
   "toc_section_display": true,
   "toc_window_display": true
  }
 },
 "nbformat": 4,
 "nbformat_minor": 2
}
