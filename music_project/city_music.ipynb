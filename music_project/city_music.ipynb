{
 "cells": [
  {
   "cell_type": "markdown",
   "metadata": {
    "id": "E0vqbgi9ay0H"
   },
   "source": [
    "# Яндекс.Музыка"
   ]
  },
  {
   "cell_type": "markdown",
   "metadata": {
    "id": "VUC88oWjTJw2"
   },
   "source": [
    "Сравнение Москвы и Петербурга окружено мифами. Например:\n",
    " * Москва — мегаполис, подчинённый жёсткому ритму рабочей недели;\n",
    " * Петербург — культурная столица, со своими вкусами.\n",
    "\n",
    "На данных Яндекс.Музыки вы сравните поведение пользователей двух столиц.\n",
    "\n",
    "**Цель исследования** — проверьте три гипотезы:\n",
    "1. Активность пользователей зависит от дня недели. Причём в Москве и Петербурге это проявляется по-разному.\n",
    "2. В понедельник утром в Москве преобладают одни жанры, а в Петербурге — другие. Так же и вечером пятницы преобладают разные жанры — в зависимости от города. \n",
    "3. Москва и Петербург предпочитают разные жанры музыки. В Москве чаще слушают поп-музыку, в Петербурге — русский рэп.\n",
    "\n",
    "**Ход исследования**\n",
    "\n",
    "Данные о поведении пользователей вы получите из файла `yandex_music_project.csv`. О качестве данных ничего не известно. Поэтому перед проверкой гипотез понадобится обзор данных. \n",
    "\n",
    "Вы проверите данные на ошибки и оцените их влияние на исследование. Затем, на этапе предобработки вы поищете возможность исправить самые критичные ошибки данных.\n",
    " \n",
    "Таким образом, исследование пройдёт в три этапа:\n",
    " 1. Обзор данных.\n",
    " 2. Предобработка данных.\n",
    " 3. Проверка гипотез.\n",
    "\n"
   ]
  },
  {
   "cell_type": "markdown",
   "metadata": {
    "id": "Ml1hmfXC_Zcs"
   },
   "source": [
    "## Обзор данных\n",
    "\n",
    "Составьте первое представление о данных Яндекс.Музыки.\n",
    "\n",
    "\n"
   ]
  },
  {
   "cell_type": "code",
   "execution_count": 1,
   "metadata": {
    "id": "AXN7PHPN_Zcs"
   },
   "outputs": [],
   "source": [
    "import pandas as pd # импорт библиотеки pandas"
   ]
  },
  {
   "cell_type": "code",
   "execution_count": 2,
   "metadata": {
    "id": "fFVu7vqh_Zct"
   },
   "outputs": [],
   "source": [
    "df = pd.read_csv('/datasets/yandex_music_project.csv') # чтение файла с данными и сохранение в df"
   ]
  },
  {
   "cell_type": "markdown",
   "metadata": {
    "id": "rDoOMd3uTqnZ"
   },
   "source": [
    "Выведите на экран первые десять строк таблицы:"
   ]
  },
  {
   "cell_type": "code",
   "execution_count": 3,
   "metadata": {
    "id": "oWTVX3gW_Zct"
   },
   "outputs": [
    {
     "data": {
      "text/html": [
       "<div>\n",
       "<style scoped>\n",
       "    .dataframe tbody tr th:only-of-type {\n",
       "        vertical-align: middle;\n",
       "    }\n",
       "\n",
       "    .dataframe tbody tr th {\n",
       "        vertical-align: top;\n",
       "    }\n",
       "\n",
       "    .dataframe thead th {\n",
       "        text-align: right;\n",
       "    }\n",
       "</style>\n",
       "<table border=\"1\" class=\"dataframe\">\n",
       "  <thead>\n",
       "    <tr style=\"text-align: right;\">\n",
       "      <th></th>\n",
       "      <th>userID</th>\n",
       "      <th>Track</th>\n",
       "      <th>artist</th>\n",
       "      <th>genre</th>\n",
       "      <th>City</th>\n",
       "      <th>time</th>\n",
       "      <th>Day</th>\n",
       "    </tr>\n",
       "  </thead>\n",
       "  <tbody>\n",
       "    <tr>\n",
       "      <th>0</th>\n",
       "      <td>FFB692EC</td>\n",
       "      <td>Kamigata To Boots</td>\n",
       "      <td>The Mass Missile</td>\n",
       "      <td>rock</td>\n",
       "      <td>Saint-Petersburg</td>\n",
       "      <td>20:28:33</td>\n",
       "      <td>Wednesday</td>\n",
       "    </tr>\n",
       "    <tr>\n",
       "      <th>1</th>\n",
       "      <td>55204538</td>\n",
       "      <td>Delayed Because of Accident</td>\n",
       "      <td>Andreas Rönnberg</td>\n",
       "      <td>rock</td>\n",
       "      <td>Moscow</td>\n",
       "      <td>14:07:09</td>\n",
       "      <td>Friday</td>\n",
       "    </tr>\n",
       "    <tr>\n",
       "      <th>2</th>\n",
       "      <td>20EC38</td>\n",
       "      <td>Funiculì funiculà</td>\n",
       "      <td>Mario Lanza</td>\n",
       "      <td>pop</td>\n",
       "      <td>Saint-Petersburg</td>\n",
       "      <td>20:58:07</td>\n",
       "      <td>Wednesday</td>\n",
       "    </tr>\n",
       "    <tr>\n",
       "      <th>3</th>\n",
       "      <td>A3DD03C9</td>\n",
       "      <td>Dragons in the Sunset</td>\n",
       "      <td>Fire + Ice</td>\n",
       "      <td>folk</td>\n",
       "      <td>Saint-Petersburg</td>\n",
       "      <td>08:37:09</td>\n",
       "      <td>Monday</td>\n",
       "    </tr>\n",
       "    <tr>\n",
       "      <th>4</th>\n",
       "      <td>E2DC1FAE</td>\n",
       "      <td>Soul People</td>\n",
       "      <td>Space Echo</td>\n",
       "      <td>dance</td>\n",
       "      <td>Moscow</td>\n",
       "      <td>08:34:34</td>\n",
       "      <td>Monday</td>\n",
       "    </tr>\n",
       "    <tr>\n",
       "      <th>5</th>\n",
       "      <td>842029A1</td>\n",
       "      <td>Преданная</td>\n",
       "      <td>IMPERVTOR</td>\n",
       "      <td>rusrap</td>\n",
       "      <td>Saint-Petersburg</td>\n",
       "      <td>13:09:41</td>\n",
       "      <td>Friday</td>\n",
       "    </tr>\n",
       "    <tr>\n",
       "      <th>6</th>\n",
       "      <td>4CB90AA5</td>\n",
       "      <td>True</td>\n",
       "      <td>Roman Messer</td>\n",
       "      <td>dance</td>\n",
       "      <td>Moscow</td>\n",
       "      <td>13:00:07</td>\n",
       "      <td>Wednesday</td>\n",
       "    </tr>\n",
       "    <tr>\n",
       "      <th>7</th>\n",
       "      <td>F03E1C1F</td>\n",
       "      <td>Feeling This Way</td>\n",
       "      <td>Polina Griffith</td>\n",
       "      <td>dance</td>\n",
       "      <td>Moscow</td>\n",
       "      <td>20:47:49</td>\n",
       "      <td>Wednesday</td>\n",
       "    </tr>\n",
       "    <tr>\n",
       "      <th>8</th>\n",
       "      <td>8FA1D3BE</td>\n",
       "      <td>И вновь продолжается бой</td>\n",
       "      <td>NaN</td>\n",
       "      <td>ruspop</td>\n",
       "      <td>Moscow</td>\n",
       "      <td>09:17:40</td>\n",
       "      <td>Friday</td>\n",
       "    </tr>\n",
       "    <tr>\n",
       "      <th>9</th>\n",
       "      <td>E772D5C0</td>\n",
       "      <td>Pessimist</td>\n",
       "      <td>NaN</td>\n",
       "      <td>dance</td>\n",
       "      <td>Saint-Petersburg</td>\n",
       "      <td>21:20:49</td>\n",
       "      <td>Wednesday</td>\n",
       "    </tr>\n",
       "  </tbody>\n",
       "</table>\n",
       "</div>"
      ],
      "text/plain": [
       "     userID                        Track            artist   genre  \\\n",
       "0  FFB692EC            Kamigata To Boots  The Mass Missile    rock   \n",
       "1  55204538  Delayed Because of Accident  Andreas Rönnberg    rock   \n",
       "2    20EC38            Funiculì funiculà       Mario Lanza     pop   \n",
       "3  A3DD03C9        Dragons in the Sunset        Fire + Ice    folk   \n",
       "4  E2DC1FAE                  Soul People        Space Echo   dance   \n",
       "5  842029A1                    Преданная         IMPERVTOR  rusrap   \n",
       "6  4CB90AA5                         True      Roman Messer   dance   \n",
       "7  F03E1C1F             Feeling This Way   Polina Griffith   dance   \n",
       "8  8FA1D3BE     И вновь продолжается бой               NaN  ruspop   \n",
       "9  E772D5C0                    Pessimist               NaN   dance   \n",
       "\n",
       "             City        time        Day  \n",
       "0  Saint-Petersburg  20:28:33  Wednesday  \n",
       "1            Moscow  14:07:09     Friday  \n",
       "2  Saint-Petersburg  20:58:07  Wednesday  \n",
       "3  Saint-Petersburg  08:37:09     Monday  \n",
       "4            Moscow  08:34:34     Monday  \n",
       "5  Saint-Petersburg  13:09:41     Friday  \n",
       "6            Moscow  13:00:07  Wednesday  \n",
       "7            Moscow  20:47:49  Wednesday  \n",
       "8            Moscow  09:17:40     Friday  \n",
       "9  Saint-Petersburg  21:20:49  Wednesday  "
      ]
     },
     "execution_count": 3,
     "metadata": {},
     "output_type": "execute_result"
    }
   ],
   "source": [
    "df.head(10) # получение первых 10 строк таблицы df"
   ]
  },
  {
   "cell_type": "code",
   "execution_count": 4,
   "metadata": {
    "id": "DSf2kIb-_Zct"
   },
   "outputs": [
    {
     "name": "stdout",
     "output_type": "stream",
     "text": [
      "<class 'pandas.core.frame.DataFrame'>\n",
      "RangeIndex: 65079 entries, 0 to 65078\n",
      "Data columns (total 7 columns):\n",
      " #   Column    Non-Null Count  Dtype \n",
      "---  ------    --------------  ----- \n",
      " 0     userID  65079 non-null  object\n",
      " 1   Track     63848 non-null  object\n",
      " 2   artist    57876 non-null  object\n",
      " 3   genre     63881 non-null  object\n",
      " 4     City    65079 non-null  object\n",
      " 5   time      65079 non-null  object\n",
      " 6   Day       65079 non-null  object\n",
      "dtypes: object(7)\n",
      "memory usage: 3.5+ MB\n"
     ]
    },
    {
     "data": {
      "text/plain": [
       "None"
      ]
     },
     "metadata": {},
     "output_type": "display_data"
    }
   ],
   "source": [
    "df.info() # получение общей информации о данных в таблице df"
   ]
  },
  {
   "cell_type": "markdown",
   "metadata": {
    "id": "TaQ2Iwbr_Zct"
   },
   "source": [
    "Итак, в таблице семь столбцов. Тип данных во всех столбцах — `object`.\n",
    "\n",
    "Согласно документации к данным:\n",
    "* `userID` — идентификатор пользователя;\n",
    "* `Track` — название трека;  \n",
    "* `artist` — имя исполнителя;\n",
    "* `genre` — название жанра;\n",
    "* `City` — город пользователя;\n",
    "* `time` — время начала прослушивания;\n",
    "* `Day` — день недели.\n",
    "\n",
    "В названиях колонок видны три нарушения стиля:\n",
    "1. Строчные буквы сочетаются с прописными.\n",
    "2. Встречаются пробелы.\n",
    "3. Найдите ещё одну проблему в названии колонок и опишите её в этом пункте. Названия столбцов начинаются с прописной буквы.\n",
    "\n",
    "\n",
    "\n",
    "Количество значений в столбцах различается. Значит, в данных есть пропущенные значения.\n"
   ]
  },
  {
   "cell_type": "markdown",
   "metadata": {
    "id": "MCB6-dXG_Zct"
   },
   "source": [
    "**Выводы**\n",
    "\n",
    "В каждой строке таблицы — данные о прослушанном треке. Часть колонок описывает саму композицию: название, исполнителя и жанр. Остальные данные рассказывают о пользователе: из какого он города, когда он слушал музыку. \n",
    "\n",
    "Предварительно можно утверждать, что, данных достаточно для проверки гипотез. Но встречаются пропуски в данных, а в названиях колонок — расхождения с хорошим стилем.\n",
    "\n",
    "Чтобы двигаться дальше, нужно устранить проблемы в данных."
   ]
  },
  {
   "cell_type": "markdown",
   "metadata": {
    "id": "SjYF6Ub9_Zct"
   },
   "source": [
    "## Предобработка данных\n",
    "Исправьте стиль в заголовках столбцов, исключите пропуски. Затем проверьте данные на дубликаты."
   ]
  },
  {
   "cell_type": "code",
   "execution_count": 5,
   "metadata": {
    "id": "oKOTdF_Q_Zct"
   },
   "outputs": [
    {
     "data": {
      "text/plain": [
       "Index(['  userID', 'Track', 'artist', 'genre', '  City  ', 'time', 'Day'], dtype='object')"
      ]
     },
     "execution_count": 5,
     "metadata": {},
     "output_type": "execute_result"
    }
   ],
   "source": [
    "df.columns # перечень названий столбцов таблицы df"
   ]
  },
  {
   "cell_type": "markdown",
   "metadata": {
    "id": "zj5534cv_Zct"
   },
   "source": [
    "Приведите названия в соответствие с хорошим стилем:\n",
    "* несколько слов в названии запишите в «змеином_регистре»,\n",
    "* все символы сделайте строчными,\n",
    "* устраните пробелы.\n",
    "\n",
    "Для этого переименуйте колонки так:\n",
    "* `'  userID'` → `'user_id'`;\n",
    "* `'Track'` → `'track'`;\n",
    "* `'  City  '` → `'city'`;\n",
    "* `'Day'` → `'day'`."
   ]
  },
  {
   "cell_type": "code",
   "execution_count": 6,
   "metadata": {
    "id": "ISlFqs5y_Zct",
    "scrolled": true
   },
   "outputs": [],
   "source": [
    "df = df.rename(\n",
    "    columns={\n",
    "        '  userID': 'user_id',\n",
    "        'Track': 'track',\n",
    "        '  City  ': 'city',\n",
    "        'Day': 'day'\n",
    "    }\n",
    ") # переименование столбцов"
   ]
  },
  {
   "cell_type": "markdown",
   "metadata": {
    "id": "1dqbh00J_Zct"
   },
   "source": [
    "Проверьте результат. Для этого ещё раз выведите на экран названия столбцов:"
   ]
  },
  {
   "cell_type": "code",
   "execution_count": 7,
   "metadata": {
    "id": "d4NOAmTW_Zct"
   },
   "outputs": [
    {
     "data": {
      "text/plain": [
       "Index(['user_id', 'track', 'artist', 'genre', 'city', 'time', 'day'], dtype='object')"
      ]
     },
     "metadata": {},
     "output_type": "display_data"
    }
   ],
   "source": [
    "display(df.columns)# проверка результатов - перечень названий столбцов"
   ]
  },
  {
   "cell_type": "markdown",
   "metadata": {
    "id": "5ISfbcfY_Zct"
   },
   "source": [
    "### Пропуски значений\n",
    "Сначала посчитайте, сколько в таблице пропущенных значений. Для этого достаточно двух методов `pandas`:"
   ]
  },
  {
   "cell_type": "code",
   "execution_count": 8,
   "metadata": {
    "id": "RskX29qr_Zct"
   },
   "outputs": [
    {
     "data": {
      "text/plain": [
       "user_id       0\n",
       "track      1231\n",
       "artist     7203\n",
       "genre      1198\n",
       "city          0\n",
       "time          0\n",
       "day           0\n",
       "dtype: int64"
      ]
     },
     "metadata": {},
     "output_type": "display_data"
    }
   ],
   "source": [
    "display(df.isna().sum()) # подсчёт пропусков"
   ]
  },
  {
   "cell_type": "markdown",
   "metadata": {
    "id": "qubhgnlO_Zct"
   },
   "source": [
    "Не все пропущенные значения влияют на исследование. Так в `track` и `artist` пропуски не важны для вашей работы. Достаточно заменить их явными обозначениями.\n",
    "\n",
    "Но пропуски в `genre` могут помешать сравнению музыкальных вкусов в Москве и Санкт-Петербурге. На практике было бы правильно установить причину пропусков и восстановить данные. Такой возможности нет в учебном проекте. Придётся:\n",
    "* заполнить и эти пропуски явными обозначениями,\n",
    "* оценить, насколько они повредят расчётам. "
   ]
  },
  {
   "cell_type": "markdown",
   "metadata": {
    "id": "fSv2laPA_Zct"
   },
   "source": [
    "Замените пропущенные значения в столбцах `track`, `artist` и `genre` на строку `'unknown'`. Для этого создайте список `columns_to_replace`, переберите его элементы циклом `for` и для каждого столбца выполните замену пропущенных значений:"
   ]
  },
  {
   "cell_type": "code",
   "execution_count": 9,
   "metadata": {
    "id": "KplB5qWs_Zct"
   },
   "outputs": [],
   "source": [
    "columns_to_replace = ['track', 'artist', 'genre']\n",
    "for column in columns_to_replace:\n",
    "    df[column] = df[column].fillna('unknown')\n",
    "# перебор названий столбцов в цикле и замена пропущенных значений на 'unknown'"
   ]
  },
  {
   "cell_type": "markdown",
   "metadata": {
    "id": "Ilsm-MZo_Zct"
   },
   "source": [
    "Убедитесь, что в таблице не осталось пропусков. Для этого ещё раз посчитайте пропущенные значения."
   ]
  },
  {
   "cell_type": "code",
   "execution_count": 10,
   "metadata": {
    "id": "Tq4nYRX4_Zct"
   },
   "outputs": [
    {
     "data": {
      "text/plain": [
       "user_id    0\n",
       "track      0\n",
       "artist     0\n",
       "genre      0\n",
       "city       0\n",
       "time       0\n",
       "day        0\n",
       "dtype: int64"
      ]
     },
     "metadata": {},
     "output_type": "display_data"
    }
   ],
   "source": [
    "df.isna().sum() # подсчёт пропусков"
   ]
  },
  {
   "cell_type": "markdown",
   "metadata": {
    "id": "BWKRtBJ3_Zct"
   },
   "source": [
    "### Дубликаты\n",
    "Посчитайте явные дубликаты в таблице одной командой:"
   ]
  },
  {
   "cell_type": "code",
   "execution_count": 11,
   "metadata": {
    "id": "36eES_S0_Zct"
   },
   "outputs": [
    {
     "data": {
      "text/plain": [
       "3826"
      ]
     },
     "execution_count": 11,
     "metadata": {},
     "output_type": "execute_result"
    }
   ],
   "source": [
    "df.duplicated().sum() # подсчёт явных дубликатов"
   ]
  },
  {
   "cell_type": "markdown",
   "metadata": {
    "id": "Ot25h6XR_Zct"
   },
   "source": [
    "Вызовите специальный метод `pandas`, чтобы удалить явные дубликаты:"
   ]
  },
  {
   "cell_type": "code",
   "execution_count": 12,
   "metadata": {
    "id": "exFHq6tt_Zct"
   },
   "outputs": [],
   "source": [
    "df = df.drop_duplicates().reset_index(drop=True) # удаление явных дубликатов (с удалением старых индексов и формированием новых)"
   ]
  },
  {
   "cell_type": "markdown",
   "metadata": {
    "id": "Im2YwBEG_Zct"
   },
   "source": [
    "Ещё раз посчитайте явные дубликаты в таблице — убедитесь, что полностью от них избавились:"
   ]
  },
  {
   "cell_type": "code",
   "execution_count": 13,
   "metadata": {
    "id": "-8PuNWQ0_Zct",
    "scrolled": true
   },
   "outputs": [
    {
     "data": {
      "text/plain": [
       "0"
      ]
     },
     "execution_count": 13,
     "metadata": {},
     "output_type": "execute_result"
    }
   ],
   "source": [
    "df.duplicated().sum() # проверка на отсутствие дубликатов"
   ]
  },
  {
   "cell_type": "markdown",
   "metadata": {
    "id": "QlFBsxAr_Zct"
   },
   "source": [
    "Теперь избавьтесь от неявных дубликатов в колонке `genre`. Например, название одного и того же жанра может быть записано немного по-разному. Такие ошибки тоже повлияют на результат исследования."
   ]
  },
  {
   "cell_type": "markdown",
   "metadata": {
    "id": "eSjWwsOh_Zct"
   },
   "source": [
    "Выведите на экран список уникальных названий жанров, отсортированный в алфавитном порядке. Для этого:\n",
    "* извлеките нужный столбец датафрейма, \n",
    "* примените к нему метод сортировки,\n",
    "* для отсортированного столбца вызовите метод, который вернёт уникальные значения из столбца."
   ]
  },
  {
   "cell_type": "code",
   "execution_count": 14,
   "metadata": {
    "id": "JIUcqzZN_Zct"
   },
   "outputs": [
    {
     "data": {
      "text/plain": [
       "array(['acid', 'acoustic', 'action', 'adult', 'africa', 'afrikaans',\n",
       "       'alternative', 'alternativepunk', 'ambient', 'americana',\n",
       "       'animated', 'anime', 'arabesk', 'arabic', 'arena',\n",
       "       'argentinetango', 'art', 'audiobook', 'author', 'avantgarde',\n",
       "       'axé', 'baile', 'balkan', 'beats', 'bigroom', 'black', 'bluegrass',\n",
       "       'blues', 'bollywood', 'bossa', 'brazilian', 'breakbeat', 'breaks',\n",
       "       'broadway', 'cantautori', 'cantopop', 'canzone', 'caribbean',\n",
       "       'caucasian', 'celtic', 'chamber', 'chanson', 'children', 'chill',\n",
       "       'chinese', 'choral', 'christian', 'christmas', 'classical',\n",
       "       'classicmetal', 'club', 'colombian', 'comedy', 'conjazz',\n",
       "       'contemporary', 'country', 'cuban', 'dance', 'dancehall',\n",
       "       'dancepop', 'dark', 'death', 'deep', 'deutschrock', 'deutschspr',\n",
       "       'dirty', 'disco', 'dnb', 'documentary', 'downbeat', 'downtempo',\n",
       "       'drum', 'dub', 'dubstep', 'eastern', 'easy', 'electronic',\n",
       "       'electropop', 'emo', 'entehno', 'epicmetal', 'estrada', 'ethnic',\n",
       "       'eurofolk', 'european', 'experimental', 'extrememetal', 'fado',\n",
       "       'fairytail', 'film', 'fitness', 'flamenco', 'folk', 'folklore',\n",
       "       'folkmetal', 'folkrock', 'folktronica', 'forró', 'frankreich',\n",
       "       'französisch', 'french', 'funk', 'future', 'gangsta', 'garage',\n",
       "       'german', 'ghazal', 'gitarre', 'glitch', 'gospel', 'gothic',\n",
       "       'grime', 'grunge', 'gypsy', 'handsup', \"hard'n'heavy\", 'hardcore',\n",
       "       'hardstyle', 'hardtechno', 'hip', 'hip-hop', 'hiphop',\n",
       "       'historisch', 'holiday', 'hop', 'horror', 'house', 'hymn', 'idm',\n",
       "       'independent', 'indian', 'indie', 'indipop', 'industrial',\n",
       "       'inspirational', 'instrumental', 'international', 'irish', 'jam',\n",
       "       'japanese', 'jazz', 'jewish', 'jpop', 'jungle', 'k-pop',\n",
       "       'karadeniz', 'karaoke', 'kayokyoku', 'korean', 'laiko', 'latin',\n",
       "       'latino', 'leftfield', 'local', 'lounge', 'loungeelectronic',\n",
       "       'lovers', 'malaysian', 'mandopop', 'marschmusik', 'meditative',\n",
       "       'mediterranean', 'melodic', 'metal', 'metalcore', 'mexican',\n",
       "       'middle', 'minimal', 'miscellaneous', 'modern', 'mood', 'mpb',\n",
       "       'muslim', 'native', 'neoklassik', 'neue', 'new', 'newage',\n",
       "       'newwave', 'nu', 'nujazz', 'numetal', 'oceania', 'old', 'opera',\n",
       "       'orchestral', 'other', 'piano', 'podcasts', 'pop', 'popdance',\n",
       "       'popelectronic', 'popeurodance', 'poprussian', 'post',\n",
       "       'posthardcore', 'postrock', 'power', 'progmetal', 'progressive',\n",
       "       'psychedelic', 'punjabi', 'punk', 'quebecois', 'ragga', 'ram',\n",
       "       'rancheras', 'rap', 'rave', 'reggae', 'reggaeton', 'regional',\n",
       "       'relax', 'religious', 'retro', 'rhythm', 'rnb', 'rnr', 'rock',\n",
       "       'rockabilly', 'rockalternative', 'rockindie', 'rockother',\n",
       "       'romance', 'roots', 'ruspop', 'rusrap', 'rusrock', 'russian',\n",
       "       'salsa', 'samba', 'scenic', 'schlager', 'self', 'sertanejo',\n",
       "       'shanson', 'shoegazing', 'showtunes', 'singer', 'ska', 'skarock',\n",
       "       'slow', 'smooth', 'soft', 'soul', 'soulful', 'sound', 'soundtrack',\n",
       "       'southern', 'specialty', 'speech', 'spiritual', 'sport',\n",
       "       'stonerrock', 'surf', 'swing', 'synthpop', 'synthrock',\n",
       "       'sängerportrait', 'tango', 'tanzorchester', 'taraftar', 'tatar',\n",
       "       'tech', 'techno', 'teen', 'thrash', 'top', 'traditional',\n",
       "       'tradjazz', 'trance', 'tribal', 'trip', 'triphop', 'tropical',\n",
       "       'türk', 'türkçe', 'ukrrock', 'unknown', 'urban', 'uzbek',\n",
       "       'variété', 'vi', 'videogame', 'vocal', 'western', 'world',\n",
       "       'worldbeat', 'ïîï', 'электроника'], dtype=object)"
      ]
     },
     "metadata": {},
     "output_type": "display_data"
    }
   ],
   "source": [
    "display(df['genre'].sort_values(ascending=True).unique()) # Просмотр уникальных названий жанров"
   ]
  },
  {
   "cell_type": "markdown",
   "metadata": {
    "id": "qej-Qmuo_Zct"
   },
   "source": [
    "Просмотрите список и найдите неявные дубликаты названия `hiphop`. Это могут быть названия с ошибками или альтернативные названия того же жанра.\n",
    "\n",
    "Вы увидите следующие неявные дубликаты:\n",
    "* *hip*,\n",
    "* *hop*,\n",
    "* *hip-hop*.\n",
    "\n",
    "Чтобы очистить от них таблицу, напишите функцию `replace_wrong_genres()` с двумя параметрами: \n",
    "* `wrong_genres` — список дубликатов,\n",
    "* `correct_genre` — строка с правильным значением.\n",
    "\n",
    "Функция должна исправить колонку `genre` в таблице `df`: заменить каждое значение из списка `wrong_genres` на значение из `correct_genre`."
   ]
  },
  {
   "cell_type": "code",
   "execution_count": 15,
   "metadata": {
    "id": "ErNDkmns_Zct"
   },
   "outputs": [],
   "source": [
    "def replace_wrong_genres(wrong_genres, correct_genre):\n",
    "    for wrong in wrong_genres: # Перечислям неявные дубликаты из списка\n",
    "        df['genre'] = df['genre'].replace(wrong, correct_genre) # Производиться замена, для каждого из списка\n",
    "    return\n",
    "# Функция для замены неявных дубликатов"
   ]
  },
  {
   "cell_type": "markdown",
   "metadata": {
    "id": "aDoBJxbA_Zct"
   },
   "source": [
    "Вызовите `replace_wrong_genres()` и передайте ей такие аргументы, чтобы она устранила неявные дубликаты: вместо `hip`, `hop` и `hip-hop` в таблице должно быть значение `hiphop`:"
   ]
  },
  {
   "cell_type": "code",
   "execution_count": 16,
   "metadata": {
    "id": "YN5i2hpmSo09"
   },
   "outputs": [],
   "source": [
    "genre_hiphop_dublicated = ['hip', 'hop', 'hip-hop'] # Создал список\n",
    "genre_replacement = 'hiphop' # Создал переменную, чтобы можно было использовать и для других жанров\n",
    "replace_wrong_genres(genre_hiphop_dublicated, genre_replacement) # Устранение неявных дубликатов"
   ]
  },
  {
   "cell_type": "markdown",
   "metadata": {
    "id": "zQKF16_RG15m"
   },
   "source": [
    "Проверьте, что заменили неправильные названия:\n",
    "\n",
    "*   hip\n",
    "*   hop\n",
    "*   hip-hop\n",
    "\n",
    "Выведите отсортированный список уникальных значений столбца `genre`:"
   ]
  },
  {
   "cell_type": "code",
   "execution_count": 17,
   "metadata": {
    "id": "wvixALnFG15m"
   },
   "outputs": [
    {
     "data": {
      "text/plain": [
       "array(['acid', 'acoustic', 'action', 'adult', 'africa', 'afrikaans',\n",
       "       'alternative', 'alternativepunk', 'ambient', 'americana',\n",
       "       'animated', 'anime', 'arabesk', 'arabic', 'arena',\n",
       "       'argentinetango', 'art', 'audiobook', 'author', 'avantgarde',\n",
       "       'axé', 'baile', 'balkan', 'beats', 'bigroom', 'black', 'bluegrass',\n",
       "       'blues', 'bollywood', 'bossa', 'brazilian', 'breakbeat', 'breaks',\n",
       "       'broadway', 'cantautori', 'cantopop', 'canzone', 'caribbean',\n",
       "       'caucasian', 'celtic', 'chamber', 'chanson', 'children', 'chill',\n",
       "       'chinese', 'choral', 'christian', 'christmas', 'classical',\n",
       "       'classicmetal', 'club', 'colombian', 'comedy', 'conjazz',\n",
       "       'contemporary', 'country', 'cuban', 'dance', 'dancehall',\n",
       "       'dancepop', 'dark', 'death', 'deep', 'deutschrock', 'deutschspr',\n",
       "       'dirty', 'disco', 'dnb', 'documentary', 'downbeat', 'downtempo',\n",
       "       'drum', 'dub', 'dubstep', 'eastern', 'easy', 'electronic',\n",
       "       'electropop', 'emo', 'entehno', 'epicmetal', 'estrada', 'ethnic',\n",
       "       'eurofolk', 'european', 'experimental', 'extrememetal', 'fado',\n",
       "       'fairytail', 'film', 'fitness', 'flamenco', 'folk', 'folklore',\n",
       "       'folkmetal', 'folkrock', 'folktronica', 'forró', 'frankreich',\n",
       "       'französisch', 'french', 'funk', 'future', 'gangsta', 'garage',\n",
       "       'german', 'ghazal', 'gitarre', 'glitch', 'gospel', 'gothic',\n",
       "       'grime', 'grunge', 'gypsy', 'handsup', \"hard'n'heavy\", 'hardcore',\n",
       "       'hardstyle', 'hardtechno', 'hiphop', 'historisch', 'holiday',\n",
       "       'horror', 'house', 'hymn', 'idm', 'independent', 'indian', 'indie',\n",
       "       'indipop', 'industrial', 'inspirational', 'instrumental',\n",
       "       'international', 'irish', 'jam', 'japanese', 'jazz', 'jewish',\n",
       "       'jpop', 'jungle', 'k-pop', 'karadeniz', 'karaoke', 'kayokyoku',\n",
       "       'korean', 'laiko', 'latin', 'latino', 'leftfield', 'local',\n",
       "       'lounge', 'loungeelectronic', 'lovers', 'malaysian', 'mandopop',\n",
       "       'marschmusik', 'meditative', 'mediterranean', 'melodic', 'metal',\n",
       "       'metalcore', 'mexican', 'middle', 'minimal', 'miscellaneous',\n",
       "       'modern', 'mood', 'mpb', 'muslim', 'native', 'neoklassik', 'neue',\n",
       "       'new', 'newage', 'newwave', 'nu', 'nujazz', 'numetal', 'oceania',\n",
       "       'old', 'opera', 'orchestral', 'other', 'piano', 'podcasts', 'pop',\n",
       "       'popdance', 'popelectronic', 'popeurodance', 'poprussian', 'post',\n",
       "       'posthardcore', 'postrock', 'power', 'progmetal', 'progressive',\n",
       "       'psychedelic', 'punjabi', 'punk', 'quebecois', 'ragga', 'ram',\n",
       "       'rancheras', 'rap', 'rave', 'reggae', 'reggaeton', 'regional',\n",
       "       'relax', 'religious', 'retro', 'rhythm', 'rnb', 'rnr', 'rock',\n",
       "       'rockabilly', 'rockalternative', 'rockindie', 'rockother',\n",
       "       'romance', 'roots', 'ruspop', 'rusrap', 'rusrock', 'russian',\n",
       "       'salsa', 'samba', 'scenic', 'schlager', 'self', 'sertanejo',\n",
       "       'shanson', 'shoegazing', 'showtunes', 'singer', 'ska', 'skarock',\n",
       "       'slow', 'smooth', 'soft', 'soul', 'soulful', 'sound', 'soundtrack',\n",
       "       'southern', 'specialty', 'speech', 'spiritual', 'sport',\n",
       "       'stonerrock', 'surf', 'swing', 'synthpop', 'synthrock',\n",
       "       'sängerportrait', 'tango', 'tanzorchester', 'taraftar', 'tatar',\n",
       "       'tech', 'techno', 'teen', 'thrash', 'top', 'traditional',\n",
       "       'tradjazz', 'trance', 'tribal', 'trip', 'triphop', 'tropical',\n",
       "       'türk', 'türkçe', 'ukrrock', 'unknown', 'urban', 'uzbek',\n",
       "       'variété', 'vi', 'videogame', 'vocal', 'western', 'world',\n",
       "       'worldbeat', 'ïîï', 'электроника'], dtype=object)"
      ]
     },
     "metadata": {},
     "output_type": "display_data"
    }
   ],
   "source": [
    "display(df['genre'].sort_values(ascending=True).unique()) # Проверка на неявные дубликаты"
   ]
  },
  {
   "cell_type": "markdown",
   "metadata": {
    "id": "jz6a9-7HQUDd"
   },
   "source": [
    "**Выводы**\n",
    "\n",
    "Предобработка обнаружила три проблемы в данных:\n",
    "\n",
    "- нарушения в стиле заголовков,\n",
    "- пропущенные значения,\n",
    "- дубликаты — явные и неявные.\n",
    "\n",
    "Вы исправили заголовки, чтобы упростить работу с таблицей. Без дубликатов исследование станет более точным.\n",
    "\n",
    "Пропущенные значения вы заменили на `'unknown'`. Ещё предстоит увидеть, не повредят ли исследованию пропуски в колонке `genre`.\n",
    "\n",
    "Теперь можно перейти к проверке гипотез. "
   ]
  },
  {
   "cell_type": "markdown",
   "metadata": {
    "id": "WttZHXH0SqKk"
   },
   "source": [
    "## Проверка гипотез"
   ]
  },
  {
   "cell_type": "markdown",
   "metadata": {
    "id": "Im936VVi_Zcu"
   },
   "source": [
    "### Сравнение поведения пользователей двух столиц"
   ]
  },
  {
   "cell_type": "markdown",
   "metadata": {
    "id": "nwt_MuaL_Zcu"
   },
   "source": [
    "Первая гипотеза утверждает, что пользователи по-разному слушают музыку в Москве и Санкт-Петербурге. Проверьте это предположение по данным о трёх днях недели — понедельнике, среде и пятнице. Для этого:\n",
    "\n",
    "* Разделите пользователей Москвы и Санкт-Петербурга\n",
    "* Сравните, сколько треков послушала каждая группа пользователей в понедельник, среду и пятницу.\n"
   ]
  },
  {
   "cell_type": "markdown",
   "metadata": {
    "id": "8Dw_YMmT_Zcu"
   },
   "source": [
    "Для тренировки сначала выполните каждый из расчётов по отдельности. \n",
    "\n",
    "Оцените активность пользователей в каждом городе. Сгруппируйте данные по городу и посчитайте прослушивания в каждой группе.\n",
    "\n"
   ]
  },
  {
   "cell_type": "code",
   "execution_count": 18,
   "metadata": {
    "id": "0_Qs96oh_Zcu"
   },
   "outputs": [
    {
     "data": {
      "text/plain": [
       "city\n",
       "Moscow              42741\n",
       "Saint-Petersburg    18512\n",
       "Name: time, dtype: int64"
      ]
     },
     "metadata": {},
     "output_type": "display_data"
    }
   ],
   "source": [
    "all_time_in_city = df.groupby('city')['time'].count() # Подсчёт прослушиваний в каждом городе\n",
    "display(all_time_in_city)"
   ]
  },
  {
   "cell_type": "markdown",
   "metadata": {
    "id": "dzli3w8o_Zcu"
   },
   "source": [
    "В Москве прослушиваний больше, чем в Петербурге. Из этого не следует, что московские пользователи чаще слушают музыку. Просто самих пользователей в Москве больше.\n",
    "\n",
    "Теперь сгруппируйте данные по дню недели и подсчитайте прослушивания в понедельник, среду и пятницу. Учтите, что в данных есть информация о прослушиваниях только за эти дни.\n"
   ]
  },
  {
   "cell_type": "code",
   "execution_count": 19,
   "metadata": {
    "id": "uZMKjiJz_Zcu"
   },
   "outputs": [
    {
     "data": {
      "text/plain": [
       "day\n",
       "Friday       21840\n",
       "Monday       21354\n",
       "Wednesday    18059\n",
       "Name: time, dtype: int64"
      ]
     },
     "metadata": {},
     "output_type": "display_data"
    }
   ],
   "source": [
    "group_day = df.groupby('day')['time'].count()\n",
    "display(group_day)# Подсчёт прослушиваний в каждый из трёх дней"
   ]
  },
  {
   "cell_type": "markdown",
   "metadata": {
    "id": "cC2tNrlL_Zcu"
   },
   "source": [
    "В среднем пользователи из двух городов менее активны по средам. Но картина может измениться, если рассмотреть каждый город в отдельности."
   ]
  },
  {
   "cell_type": "markdown",
   "metadata": {
    "id": "POzs8bGa_Zcu"
   },
   "source": [
    "Вы видели, как работает группировка по городу и по дням недели. Теперь напишите функцию, которая объединит два эти расчёта.\n",
    "\n",
    "Создайте функцию `number_tracks()`, которая посчитает прослушивания для заданного дня и города. Ей понадобятся два параметра:\n",
    "* день недели,\n",
    "* название города.\n",
    "\n",
    "В функции сохраните в переменную строки исходной таблицы, у которых значение:\n",
    "  * в колонке `day` равно параметру `day`,\n",
    "  * в колонке `city` равно параметру `city`.\n",
    "\n",
    "Для этого примените последовательную фильтрацию с логической индексацией.\n",
    "\n",
    "Затем посчитайте значения в столбце `user_id` получившейся таблицы. Результат сохраните в новую переменную. Верните эту переменную из функции."
   ]
  },
  {
   "cell_type": "code",
   "execution_count": 20,
   "metadata": {
    "id": "Nz3GdQB1_Zcu"
   },
   "outputs": [],
   "source": [
    "def number_tracks(city, day):\n",
    "    track_list = df[df['city'] == city]\n",
    "    track_list = track_list[track_list['day'] == day]\n",
    "    track_list_count = track_list['user_id'].count()\n",
    "    return track_list_count\n"
   ]
  },
  {
   "cell_type": "markdown",
   "metadata": {
    "id": "ytf7xFrFJQ2r"
   },
   "source": [
    "Вызовите `number_tracks()` шесть раз, меняя значение параметров — так, чтобы получить данные для каждого города в каждый из трёх дней."
   ]
  },
  {
   "cell_type": "code",
   "execution_count": 21,
   "metadata": {
    "id": "rJcRATNQ_Zcu"
   },
   "outputs": [
    {
     "data": {
      "text/plain": [
       "15740"
      ]
     },
     "metadata": {},
     "output_type": "display_data"
    }
   ],
   "source": [
    "display(number_tracks('Moscow', 'Monday')) # количество прослушиваний в Москве по понедельникам"
   ]
  },
  {
   "cell_type": "code",
   "execution_count": 22,
   "metadata": {
    "id": "hq_ncZ5T_Zcu"
   },
   "outputs": [
    {
     "data": {
      "text/plain": [
       "5614"
      ]
     },
     "metadata": {},
     "output_type": "display_data"
    }
   ],
   "source": [
    "display(number_tracks('Saint-Petersburg', 'Monday'))# количество прослушиваний в Санкт-Петербурге по понедельникам"
   ]
  },
  {
   "cell_type": "code",
   "execution_count": 23,
   "metadata": {
    "id": "_NTy2VPU_Zcu"
   },
   "outputs": [
    {
     "data": {
      "text/plain": [
       "11056"
      ]
     },
     "metadata": {},
     "output_type": "display_data"
    }
   ],
   "source": [
    "display(number_tracks('Moscow', 'Wednesday'))# количество прослушиваний в Москве по средам"
   ]
  },
  {
   "cell_type": "code",
   "execution_count": 24,
   "metadata": {
    "id": "j2y3TAwo_Zcu"
   },
   "outputs": [
    {
     "data": {
      "text/plain": [
       "7003"
      ]
     },
     "metadata": {},
     "output_type": "display_data"
    }
   ],
   "source": [
    "display(number_tracks('Saint-Petersburg', 'Wednesday')) # количество прослушиваний в Санкт-Петербурге по средам"
   ]
  },
  {
   "cell_type": "code",
   "execution_count": 25,
   "metadata": {
    "id": "vYDw5u_K_Zcu"
   },
   "outputs": [
    {
     "data": {
      "text/plain": [
       "15945"
      ]
     },
     "metadata": {},
     "output_type": "display_data"
    }
   ],
   "source": [
    "display(number_tracks('Moscow', 'Friday'))# количество прослушиваний в Москве по пятницам"
   ]
  },
  {
   "cell_type": "code",
   "execution_count": 26,
   "metadata": {
    "id": "8_yzFtW3_Zcu"
   },
   "outputs": [
    {
     "data": {
      "text/plain": [
       "5895"
      ]
     },
     "metadata": {},
     "output_type": "display_data"
    }
   ],
   "source": [
    "display(number_tracks('Saint-Petersburg', 'Friday'))# количество прослушиваний в Санкт-Петербурге по пятницам"
   ]
  },
  {
   "cell_type": "markdown",
   "metadata": {
    "id": "7QXffbO-_Zcu"
   },
   "source": [
    "Создайте c помощью конструктора `pd.DataFrame` таблицу, где\n",
    "* названия колонок — `['city', 'monday', 'wednesday', 'friday']`;\n",
    "* данные — результаты, которые вы получили с помощью `number_tracks`."
   ]
  },
  {
   "cell_type": "code",
   "execution_count": 27,
   "metadata": {
    "id": "APAcLpOr_Zcu"
   },
   "outputs": [
    {
     "data": {
      "text/html": [
       "<div>\n",
       "<style scoped>\n",
       "    .dataframe tbody tr th:only-of-type {\n",
       "        vertical-align: middle;\n",
       "    }\n",
       "\n",
       "    .dataframe tbody tr th {\n",
       "        vertical-align: top;\n",
       "    }\n",
       "\n",
       "    .dataframe thead th {\n",
       "        text-align: right;\n",
       "    }\n",
       "</style>\n",
       "<table border=\"1\" class=\"dataframe\">\n",
       "  <thead>\n",
       "    <tr style=\"text-align: right;\">\n",
       "      <th></th>\n",
       "      <th>city</th>\n",
       "      <th>monday</th>\n",
       "      <th>wednesday</th>\n",
       "      <th>friday</th>\n",
       "    </tr>\n",
       "  </thead>\n",
       "  <tbody>\n",
       "    <tr>\n",
       "      <th>0</th>\n",
       "      <td>Moscow</td>\n",
       "      <td>15740</td>\n",
       "      <td>11056</td>\n",
       "      <td>15945</td>\n",
       "    </tr>\n",
       "    <tr>\n",
       "      <th>1</th>\n",
       "      <td>Saint-Petersburg</td>\n",
       "      <td>5614</td>\n",
       "      <td>7003</td>\n",
       "      <td>5895</td>\n",
       "    </tr>\n",
       "  </tbody>\n",
       "</table>\n",
       "</div>"
      ],
      "text/plain": [
       "               city  monday  wednesday  friday\n",
       "0            Moscow   15740      11056   15945\n",
       "1  Saint-Petersburg    5614       7003    5895"
      ]
     },
     "execution_count": 27,
     "metadata": {},
     "output_type": "execute_result"
    }
   ],
   "source": [
    "data = [['Moscow',15740, 11056, 15945],['Saint-Petersburg', 5614, 7003, 5895]]\n",
    "columns = ['city', 'monday', 'wednesday', 'friday']\n",
    "pd.DataFrame(data=data, columns=columns)# Таблица с результатами"
   ]
  },
  {
   "cell_type": "markdown",
   "metadata": {
    "id": "-EgPIHYu_Zcu"
   },
   "source": [
    "**Выводы**\n",
    "\n",
    "Данные показывают разницу поведения пользователей:\n",
    "\n",
    "- В Москве пик прослушиваний приходится на понедельник и пятницу, а в среду заметен спад.\n",
    "- В Петербурге, наоборот, больше слушают музыку по средам. Активность в понедельник и пятницу здесь почти в равной мере уступает среде.\n",
    "\n",
    "Значит, данные говорят в пользу первой гипотезы."
   ]
  },
  {
   "cell_type": "markdown",
   "metadata": {
    "id": "atZAxtq4_Zcu"
   },
   "source": [
    "### Музыка в начале и в конце недели"
   ]
  },
  {
   "cell_type": "markdown",
   "metadata": {
    "id": "eXrQqXFH_Zcu"
   },
   "source": [
    "Согласно второй гипотезе, утром в понедельник в Москве преобладают одни жанры, а в Петербурге — другие. Так же и вечером пятницы преобладают разные жанры — в зависимости от города."
   ]
  },
  {
   "cell_type": "markdown",
   "metadata": {
    "id": "S8UcW6Hw_Zcu"
   },
   "source": [
    "Сохраните таблицы с данными в две переменные:\n",
    "* по Москве — в `moscow_general`;\n",
    "* по Санкт-Петербургу — в `spb_general`."
   ]
  },
  {
   "cell_type": "code",
   "execution_count": 28,
   "metadata": {
    "id": "qeaFfM_P_Zcu"
   },
   "outputs": [],
   "source": [
    "moscow_general = df[df['city'] == 'Moscow'] # получение таблицы moscow_general из тех строк таблицы df, \n",
    "# для которых значение в столбце 'city' равно 'Moscow'\n"
   ]
  },
  {
   "cell_type": "code",
   "execution_count": 29,
   "metadata": {
    "id": "ORaVRKto_Zcu"
   },
   "outputs": [],
   "source": [
    "spb_general = df[df['city'] == 'Saint-Petersburg']# получение таблицы spb_general из тех строк таблицы df,\n",
    "# для которых значение в столбце 'city' равно 'Saint-Petersburg'\n"
   ]
  },
  {
   "cell_type": "markdown",
   "metadata": {
    "id": "MEJV-CX2_Zcu"
   },
   "source": [
    "Создайте функцию `genre_weekday()` с четырьмя параметрами:\n",
    "* таблица (датафрейм) с данными,\n",
    "* день недели,\n",
    "* начальная временная метка в формате 'hh:mm', \n",
    "* последняя временная метка в формате 'hh:mm'.\n",
    "\n",
    "Функция должна вернуть информацию о топ-10 жанров тех треков, которые прослушивали в указанный день, в промежутке между двумя отметками времени."
   ]
  },
  {
   "cell_type": "code",
   "execution_count": 30,
   "metadata": {
    "id": "laJT9BYl_Zcu"
   },
   "outputs": [],
   "source": [
    "def genre_weekday(table, day, time1, time2):\n",
    "    genre_df = table[table['day'] == day]\n",
    "    genre_df = genre_df[genre_df['time'] > time1]\n",
    "    genre_df = genre_df[genre_df['time'] < time2]\n",
    "    genre_df_count = genre_df.groupby('genre')['genre'].count()\n",
    "    genre_df_sorted = genre_df_count.sort_values(ascending=False)\n",
    "    return genre_df_sorted.head(10)\n",
    "\n",
    "# Объявление функции genre_weekday() с параметрами table, day, time1, time2,\n",
    "# которая возвращает информацию о самых популярных жанрах в указанный день в\n",
    "# заданное время:\n",
    "# 1) в переменную genre_df сохраняются те строки переданного датафрейма table, для\n",
    "#    которых одновременно:\n",
    "#    - значение в столбце day равно значению аргумента day\n",
    "#    - значение в столбце time больше значения аргумента time1\n",
    "#    - значение в столбце time меньше значения аргумента time2\n",
    "#    Используйте последовательную фильтрацию с помощью логической индексации.\n",
    "# 2) сгруппировать датафрейм genre_df по столбцу genre, взять один из его\n",
    "#    столбцов и посчитать методом count() количество записей для каждого из\n",
    "#    присутствующих жанров, получившийся Series записать в переменную\n",
    "#    genre_df_count\n",
    "# 3) отсортировать genre_df_count по убыванию встречаемости и сохранить\n",
    "#    в переменную genre_df_sorted\n",
    "# 4) вернуть Series из 10 первых значений genre_df_sorted, это будут топ-10\n",
    "#    популярных жанров (в указанный день, в заданное время)"
   ]
  },
  {
   "cell_type": "markdown",
   "metadata": {
    "id": "la2s2_PF_Zcu"
   },
   "source": [
    "Cравните результаты функции `genre_weekday()` для Москвы и Санкт-Петербурга в понедельник утром (с 7:00 до 11:00) и в пятницу вечером (с 17:00 до 23:00):"
   ]
  },
  {
   "cell_type": "code",
   "execution_count": 31,
   "metadata": {
    "id": "yz7itPUQ_Zcu"
   },
   "outputs": [
    {
     "data": {
      "text/plain": [
       "genre\n",
       "pop            781\n",
       "dance          549\n",
       "electronic     480\n",
       "rock           474\n",
       "hiphop         286\n",
       "ruspop         186\n",
       "world          181\n",
       "rusrap         175\n",
       "alternative    164\n",
       "unknown        161\n",
       "Name: genre, dtype: int64"
      ]
     },
     "metadata": {},
     "output_type": "display_data"
    }
   ],
   "source": [
    "display(genre_weekday(moscow_general, 'Monday', '07:00', '11:00'))\n",
    "# вызов функции для утра понедельника в Москве (вместо df — таблица moscow_general)\n",
    "# объекты, хранящие время, являются строками и сравниваются как строки\n",
    "# пример вызова: genre_weekday(moscow_general, 'Monday', '07:00', '11:00')"
   ]
  },
  {
   "cell_type": "code",
   "execution_count": 32,
   "metadata": {
    "id": "kwUcHPdy_Zcu"
   },
   "outputs": [
    {
     "data": {
      "text/plain": [
       "genre\n",
       "pop            218\n",
       "dance          182\n",
       "rock           162\n",
       "electronic     147\n",
       "hiphop          80\n",
       "ruspop          64\n",
       "alternative     58\n",
       "rusrap          55\n",
       "jazz            44\n",
       "classical       40\n",
       "Name: genre, dtype: int64"
      ]
     },
     "metadata": {},
     "output_type": "display_data"
    }
   ],
   "source": [
    "display(genre_weekday(spb_general, 'Monday', '07:00', '11:00'))# вызов функции для утра понедельника в Петербурге (вместо df — таблица spb_general)"
   ]
  },
  {
   "cell_type": "code",
   "execution_count": 33,
   "metadata": {
    "id": "EzXVRE1o_Zcu"
   },
   "outputs": [
    {
     "data": {
      "text/plain": [
       "genre\n",
       "pop            717\n",
       "dance          524\n",
       "rock           518\n",
       "electronic     485\n",
       "hiphop         238\n",
       "alternative    182\n",
       "classical      172\n",
       "world          172\n",
       "ruspop         149\n",
       "rusrap         133\n",
       "Name: genre, dtype: int64"
      ]
     },
     "metadata": {},
     "output_type": "display_data"
    }
   ],
   "source": [
    "display(genre_weekday(moscow_general, 'Monday', '17:00', '23:00'))# вызов функции для вечера пятницы в Москве"
   ]
  },
  {
   "cell_type": "code",
   "execution_count": 34,
   "metadata": {
    "id": "JZaEKu5v_Zcu"
   },
   "outputs": [
    {
     "data": {
      "text/plain": [
       "genre\n",
       "pop            263\n",
       "rock           208\n",
       "electronic     192\n",
       "dance          191\n",
       "hiphop         104\n",
       "alternative     72\n",
       "classical       71\n",
       "jazz            57\n",
       "rusrap          54\n",
       "ruspop          53\n",
       "Name: genre, dtype: int64"
      ]
     },
     "metadata": {},
     "output_type": "display_data"
    }
   ],
   "source": [
    "display(genre_weekday(spb_general, 'Monday', '17:00', '23:00'))# вызов функции для вечера пятницы в Петербурге"
   ]
  },
  {
   "cell_type": "markdown",
   "metadata": {
    "id": "wrCe4MNX_Zcu"
   },
   "source": [
    "**Выводы**\n",
    "\n",
    "Если сравнить топ-10 жанров в понедельник утром, можно сделать такие выводы:\n",
    "\n",
    "1. В Москве и Петербурге слушают похожую музыку. Единственное отличие — в московский рейтинг вошёл жанр “world”, а в петербургский — джаз и классика.\n",
    "\n",
    "2. В Москве пропущенных значений оказалось так много, что значение `'unknown'` заняло десятое место среди самых популярных жанров. Значит, пропущенные значения занимают существенную долю в данных и угрожают достоверности исследования.\n",
    "\n",
    "Вечер пятницы не меняет эту картину. Некоторые жанры поднимаются немного выше, другие спускаются, но в целом топ-10 остаётся тем же самым.\n",
    "\n",
    "Таким образом, вторая гипотеза подтвердилась лишь частично:\n",
    "* Пользователи слушают похожую музыку в начале недели и в конце.\n",
    "* Разница между Москвой и Петербургом не слишком выражена. В Москве чаще слушают русскую популярную музыку, в Петербурге — джаз.\n",
    "\n",
    "Однако пропуски в данных ставят под сомнение этот результат. В Москве их так много, что рейтинг топ-10 мог бы выглядеть иначе, если бы не утерянные  данные о жанрах."
   ]
  },
  {
   "cell_type": "markdown",
   "metadata": {
    "id": "JolODAqr_Zcu"
   },
   "source": [
    "### Жанровые предпочтения в Москве и Петербурге\n",
    "\n",
    "Гипотеза: Петербург — столица рэпа, музыку этого жанра там слушают чаще, чем в Москве.  А Москва — город контрастов, в котором, тем не менее, преобладает поп-музыка."
   ]
  },
  {
   "cell_type": "markdown",
   "metadata": {
    "id": "DlegSvaT_Zcu"
   },
   "source": [
    "Сгруппируйте таблицу `moscow_general` по жанру и посчитайте прослушивания треков каждого жанра методом `count()`. Затем отсортируйте результат в порядке убывания и сохраните его в таблице `moscow_genres`."
   ]
  },
  {
   "cell_type": "code",
   "execution_count": 35,
   "metadata": {
    "id": "r19lIPke_Zcu"
   },
   "outputs": [],
   "source": [
    "moscow_genres = moscow_general.groupby('genre')['genre'].count() # одной строкой: группировка таблицы moscow_general по столбцу 'genre', \n",
    "moscow_genres = moscow_genres.sort_values(ascending=False)\n",
    "# подсчёт числа значений 'genre' в этой группировке методом count(), \n",
    "# сортировка получившегося Series в порядке убывания и сохранение в moscow_genres"
   ]
  },
  {
   "cell_type": "markdown",
   "metadata": {
    "id": "6kMuomxTiIr8"
   },
   "source": [
    "Выведите на экран первые десять строк `moscow_genres`:"
   ]
  },
  {
   "cell_type": "code",
   "execution_count": 36,
   "metadata": {
    "id": "WhCSooF8_Zcv"
   },
   "outputs": [
    {
     "data": {
      "text/plain": [
       "genre\n",
       "pop            5892\n",
       "dance          4435\n",
       "rock           3965\n",
       "electronic     3786\n",
       "hiphop         2096\n",
       "classical      1616\n",
       "world          1432\n",
       "alternative    1379\n",
       "ruspop         1372\n",
       "rusrap         1161\n",
       "Name: genre, dtype: int64"
      ]
     },
     "metadata": {},
     "output_type": "display_data"
    }
   ],
   "source": [
    "display(moscow_genres.head(10))# просмотр первых 10 строк moscow_genres"
   ]
  },
  {
   "cell_type": "markdown",
   "metadata": {
    "id": "cnPG2vnN_Zcv"
   },
   "source": [
    "Теперь повторите то же и для Петербурга.\n",
    "\n",
    "Сгруппируйте таблицу `spb_general` по жанру. Посчитайте прослушивания треков каждого жанра. Результат отсортируйте в порядке убывания и сохраните в таблице `spb_genres`:\n"
   ]
  },
  {
   "cell_type": "code",
   "execution_count": 37,
   "metadata": {
    "id": "gluLIpE7_Zcv"
   },
   "outputs": [],
   "source": [
    "spb_genres = spb_general.groupby('genre')['genre'].count() # одной строкой: группировка таблицы moscow_general по столбцу 'genre', \n",
    "spb_genres = spb_genres.sort_values(ascending=False)"
   ]
  },
  {
   "cell_type": "markdown",
   "metadata": {
    "id": "5Doha_ODgyQ8"
   },
   "source": [
    "Выведите на экран первые десять строк `spb_genres`:"
   ]
  },
  {
   "cell_type": "code",
   "execution_count": 38,
   "metadata": {
    "id": "uaGJHjVU_Zcv"
   },
   "outputs": [
    {
     "data": {
      "text/plain": [
       "genre\n",
       "pop            2431\n",
       "dance          1932\n",
       "rock           1879\n",
       "electronic     1736\n",
       "hiphop          960\n",
       "alternative     649\n",
       "classical       646\n",
       "rusrap          564\n",
       "ruspop          538\n",
       "world           515\n",
       "Name: genre, dtype: int64"
      ]
     },
     "metadata": {},
     "output_type": "display_data"
    }
   ],
   "source": [
    "display(spb_genres.head(10))# просмотр первых 10 строк spb_genres"
   ]
  },
  {
   "cell_type": "markdown",
   "metadata": {
    "id": "RY51YJYu_Zcv"
   },
   "source": [
    "**Выводы**"
   ]
  },
  {
   "cell_type": "markdown",
   "metadata": {
    "id": "nVhnJEm__Zcv"
   },
   "source": [
    "Гипотеза частично подтвердилась:\n",
    "* Поп-музыка — самый популярный жанр в Москве, как и предполагала гипотеза. Более того, в топ-10 жанров встречается близкий жанр — русская популярная музыка.\n",
    "* Вопреки ожиданиям, рэп одинаково популярен в Москве и Петербурге. \n"
   ]
  },
  {
   "cell_type": "markdown",
   "metadata": {},
   "source": [
    "<div class=\"alert alert-success\">\n",
    "<b>✔️ Комментарий ревьюера v1:</b> \n",
    "<br>Отлично, с жанровыми предпочтениями тоже разобрались.\n",
    "</div>"
   ]
  },
  {
   "cell_type": "markdown",
   "metadata": {
    "id": "ykKQ0N65_Zcv"
   },
   "source": [
    "## Итоги исследования"
   ]
  },
  {
   "cell_type": "markdown",
   "metadata": {
    "id": "tjUwbHb3_Zcv"
   },
   "source": [
    "Вы проверили три гипотезы и установили:\n",
    "\n",
    "1. День недели по-разному влияет на активность пользователей в Москве и Петербурге. \n",
    "\n",
    "Первая гипотеза полностью подтвердилась.\n",
    "\n",
    "2. Музыкальные предпочтения не сильно меняются в течение недели — будь то Москва или Петербург. Небольшие различия заметны в начале недели, по понедельникам:\n",
    "* в Москве слушают музыку жанра “world”,\n",
    "* в Петербурге — джаз и классику.\n",
    "\n",
    "Таким образом, вторая гипотеза подтвердилась лишь отчасти. Этот результат мог оказаться иным, если бы не пропуски в данных.\n",
    "\n",
    "3. Во вкусах пользователей Москвы и Петербурга больше общего чем различий. Вопреки ожиданиям, предпочтения жанров в Петербурге напоминают московские.\n",
    "\n",
    "Третья гипотеза не подтвердилась. Если различия в предпочтениях и существуют, на основной массе пользователей они незаметны.\n",
    "\n",
    "**На практике исследования содержат проверки статистических гипотез.**\n",
    "Из данных одного сервиса не всегда можно сделать вывод о всех жителях города.\n",
    "Проверки статистических гипотез покажут, насколько они достоверны, исходя из имеющихся данных. \n",
    "С методами проверок гипотез вы ещё познакомитесь в следующих темах."
   ]
  }
 ],
 "metadata": {
  "ExecuteTimeLog": [
   {
    "duration": 40,
    "start_time": "2022-09-14T08:38:56.821Z"
   },
   {
    "duration": 6,
    "start_time": "2022-09-14T08:39:11.051Z"
   },
   {
    "duration": 6,
    "start_time": "2022-09-14T08:39:11.787Z"
   },
   {
    "duration": 7,
    "start_time": "2022-09-14T08:39:12.299Z"
   },
   {
    "duration": 6,
    "start_time": "2022-09-14T08:39:12.739Z"
   },
   {
    "duration": 6,
    "start_time": "2022-09-14T08:39:14.103Z"
   },
   {
    "duration": 132,
    "start_time": "2022-09-14T08:40:01.452Z"
   },
   {
    "duration": 6,
    "start_time": "2022-09-14T08:40:18.486Z"
   },
   {
    "duration": 130,
    "start_time": "2022-09-14T08:40:23.646Z"
   },
   {
    "duration": 85,
    "start_time": "2022-09-14T08:40:32.821Z"
   },
   {
    "duration": 89,
    "start_time": "2022-09-14T08:40:44.092Z"
   },
   {
    "duration": 152,
    "start_time": "2022-09-14T08:41:03.828Z"
   },
   {
    "duration": 73,
    "start_time": "2022-09-14T08:42:30.941Z"
   },
   {
    "duration": 5,
    "start_time": "2022-09-14T08:42:35.538Z"
   },
   {
    "duration": 6,
    "start_time": "2022-09-14T08:43:11.428Z"
   },
   {
    "duration": 5,
    "start_time": "2022-09-14T08:45:08.062Z"
   },
   {
    "duration": 5,
    "start_time": "2022-09-14T08:45:12.905Z"
   },
   {
    "duration": 6,
    "start_time": "2022-09-14T08:45:13.581Z"
   },
   {
    "duration": 6,
    "start_time": "2022-09-14T08:45:14.222Z"
   },
   {
    "duration": 5,
    "start_time": "2022-09-14T08:45:14.599Z"
   },
   {
    "duration": 6,
    "start_time": "2022-09-14T08:45:14.989Z"
   },
   {
    "duration": 5,
    "start_time": "2022-09-14T08:45:15.451Z"
   },
   {
    "duration": 6,
    "start_time": "2022-09-14T08:45:16.531Z"
   },
   {
    "duration": 6,
    "start_time": "2022-09-14T08:45:17.153Z"
   },
   {
    "duration": 5,
    "start_time": "2022-09-14T08:45:17.572Z"
   },
   {
    "duration": 5,
    "start_time": "2022-09-14T08:45:27.374Z"
   },
   {
    "duration": 329,
    "start_time": "2022-09-14T08:45:30.888Z"
   },
   {
    "duration": 23,
    "start_time": "2022-09-14T08:45:34.789Z"
   },
   {
    "duration": 72,
    "start_time": "2022-09-14T08:45:42.928Z"
   },
   {
    "duration": 6,
    "start_time": "2022-09-14T08:45:47.969Z"
   },
   {
    "duration": 3,
    "start_time": "2022-09-14T08:45:56.915Z"
   },
   {
    "duration": 75,
    "start_time": "2022-09-14T08:46:00.949Z"
   },
   {
    "duration": 6,
    "start_time": "2022-09-14T08:46:05.797Z"
   },
   {
    "duration": 74,
    "start_time": "2022-09-14T08:46:10.774Z"
   },
   {
    "duration": 451,
    "start_time": "2022-09-14T08:48:23.533Z"
   },
   {
    "duration": 145,
    "start_time": "2022-09-14T08:48:27.597Z"
   },
   {
    "duration": 15,
    "start_time": "2022-09-14T08:48:29.973Z"
   },
   {
    "duration": 25,
    "start_time": "2022-09-14T08:48:33.774Z"
   },
   {
    "duration": 37,
    "start_time": "2022-09-14T08:49:14.832Z"
   },
   {
    "duration": 24,
    "start_time": "2022-09-14T08:49:18.513Z"
   },
   {
    "duration": 25,
    "start_time": "2022-09-14T08:49:22.991Z"
   },
   {
    "duration": 4,
    "start_time": "2022-09-14T09:01:37.565Z"
   },
   {
    "duration": 18,
    "start_time": "2022-09-14T09:04:49.692Z"
   },
   {
    "duration": 4,
    "start_time": "2022-09-14T09:05:20.200Z"
   },
   {
    "duration": 12,
    "start_time": "2022-09-14T09:06:17.797Z"
   },
   {
    "duration": 4,
    "start_time": "2022-09-14T09:06:22.042Z"
   },
   {
    "duration": 38,
    "start_time": "2022-09-14T09:07:01.026Z"
   },
   {
    "duration": 36,
    "start_time": "2022-09-14T09:07:07.991Z"
   },
   {
    "duration": 21,
    "start_time": "2022-09-14T09:07:18.973Z"
   },
   {
    "duration": 12,
    "start_time": "2022-09-14T09:11:58.560Z"
   },
   {
    "duration": 10,
    "start_time": "2022-09-14T09:11:59.770Z"
   },
   {
    "duration": 13,
    "start_time": "2022-09-14T09:12:25.610Z"
   },
   {
    "duration": 4,
    "start_time": "2022-09-14T09:12:28.256Z"
   },
   {
    "duration": 1795,
    "start_time": "2022-09-14T09:15:30.495Z"
   },
   {
    "duration": 17,
    "start_time": "2022-09-14T09:16:02.789Z"
   },
   {
    "duration": 17,
    "start_time": "2022-09-14T09:16:05.309Z"
   },
   {
    "duration": 24,
    "start_time": "2022-09-14T09:16:18.730Z"
   },
   {
    "duration": 64,
    "start_time": "2022-09-14T09:16:52.380Z"
   },
   {
    "duration": 73,
    "start_time": "2022-09-14T09:17:28.415Z"
   },
   {
    "duration": 54,
    "start_time": "2022-09-14T09:17:35.275Z"
   },
   {
    "duration": 53,
    "start_time": "2022-09-14T09:18:33.523Z"
   },
   {
    "duration": 66,
    "start_time": "2022-09-14T09:18:49.657Z"
   },
   {
    "duration": 15,
    "start_time": "2022-09-14T09:19:41.336Z"
   },
   {
    "duration": 10,
    "start_time": "2022-09-14T09:19:48.555Z"
   },
   {
    "duration": 10,
    "start_time": "2022-09-14T09:19:56.000Z"
   },
   {
    "duration": 8,
    "start_time": "2022-09-14T09:23:29.887Z"
   },
   {
    "duration": 8,
    "start_time": "2022-09-14T09:24:21.952Z"
   },
   {
    "duration": 7,
    "start_time": "2022-09-14T09:24:29.737Z"
   },
   {
    "duration": 12,
    "start_time": "2022-09-14T09:24:55.839Z"
   },
   {
    "duration": 6,
    "start_time": "2022-09-14T09:24:59.978Z"
   },
   {
    "duration": 7,
    "start_time": "2022-09-14T09:25:18.972Z"
   },
   {
    "duration": 9,
    "start_time": "2022-09-14T09:25:23.189Z"
   },
   {
    "duration": 7,
    "start_time": "2022-09-14T09:25:34.356Z"
   },
   {
    "duration": 7,
    "start_time": "2022-09-14T09:25:56.287Z"
   },
   {
    "duration": 5,
    "start_time": "2022-09-14T09:26:00.925Z"
   },
   {
    "duration": 1386,
    "start_time": "2022-09-14T09:26:04.889Z"
   },
   {
    "duration": 1649,
    "start_time": "2022-09-14T09:26:08.763Z"
   },
   {
    "duration": 11,
    "start_time": "2022-09-14T09:27:07.154Z"
   },
   {
    "duration": 6,
    "start_time": "2022-09-14T09:30:06.091Z"
   },
   {
    "duration": 16,
    "start_time": "2022-09-14T09:30:10.421Z"
   },
   {
    "duration": 14,
    "start_time": "2022-09-14T09:34:10.683Z"
   },
   {
    "duration": 3,
    "start_time": "2022-09-14T09:34:15.950Z"
   },
   {
    "duration": 20,
    "start_time": "2022-09-14T09:34:18.445Z"
   },
   {
    "duration": 23,
    "start_time": "2022-09-14T09:34:21.197Z"
   },
   {
    "duration": 22,
    "start_time": "2022-09-14T09:34:28.049Z"
   },
   {
    "duration": 24,
    "start_time": "2022-09-14T09:34:37.463Z"
   },
   {
    "duration": 7,
    "start_time": "2022-09-14T09:34:59.282Z"
   },
   {
    "duration": 12,
    "start_time": "2022-09-14T09:40:39.463Z"
   },
   {
    "duration": 14,
    "start_time": "2022-09-14T09:40:41.164Z"
   },
   {
    "duration": 14,
    "start_time": "2022-09-14T09:41:29.743Z"
   },
   {
    "duration": 7,
    "start_time": "2022-09-14T09:41:32.897Z"
   },
   {
    "duration": 77,
    "start_time": "2022-09-14T09:47:27.271Z"
   },
   {
    "duration": 11,
    "start_time": "2022-09-14T09:47:41.693Z"
   },
   {
    "duration": 9,
    "start_time": "2022-09-14T09:47:53.803Z"
   },
   {
    "duration": 8,
    "start_time": "2022-09-14T09:48:43.856Z"
   },
   {
    "duration": 4,
    "start_time": "2022-09-14T09:48:56.691Z"
   },
   {
    "duration": 22,
    "start_time": "2022-09-14T09:49:38.543Z"
   },
   {
    "duration": 4279,
    "start_time": "2022-09-14T09:50:44.058Z"
   },
   {
    "duration": 126,
    "start_time": "2022-09-14T09:51:18.956Z"
   },
   {
    "duration": 33,
    "start_time": "2022-09-14T09:51:24.786Z"
   },
   {
    "duration": 12,
    "start_time": "2022-09-14T09:51:35.384Z"
   },
   {
    "duration": 11,
    "start_time": "2022-09-14T09:51:51.763Z"
   },
   {
    "duration": 12,
    "start_time": "2022-09-14T09:52:12.492Z"
   },
   {
    "duration": 3,
    "start_time": "2022-09-14T09:53:07.407Z"
   },
   {
    "duration": 4,
    "start_time": "2022-09-14T09:53:21.677Z"
   },
   {
    "duration": 31,
    "start_time": "2022-09-14T09:53:31.997Z"
   },
   {
    "duration": 11,
    "start_time": "2022-09-14T09:53:53.463Z"
   },
   {
    "duration": 86,
    "start_time": "2022-09-14T10:11:43.594Z"
   },
   {
    "duration": 122,
    "start_time": "2022-09-14T10:11:59.413Z"
   },
   {
    "duration": 136,
    "start_time": "2022-09-14T10:12:06.946Z"
   },
   {
    "duration": 5,
    "start_time": "2022-09-14T10:12:16.110Z"
   },
   {
    "duration": 8,
    "start_time": "2022-09-14T10:12:26.799Z"
   },
   {
    "duration": 4,
    "start_time": "2022-09-14T10:24:17.263Z"
   },
   {
    "duration": 4,
    "start_time": "2022-09-14T10:24:19.619Z"
   },
   {
    "duration": 9,
    "start_time": "2022-09-14T10:24:49.017Z"
   },
   {
    "duration": 1750,
    "start_time": "2022-09-14T10:24:56.290Z"
   },
   {
    "duration": 1883,
    "start_time": "2022-09-14T10:25:15.396Z"
   },
   {
    "duration": 4,
    "start_time": "2022-09-14T10:25:21.710Z"
   },
   {
    "duration": 1966,
    "start_time": "2022-09-14T10:25:23.967Z"
   },
   {
    "duration": 1704,
    "start_time": "2022-09-14T10:25:51.066Z"
   },
   {
    "duration": 8,
    "start_time": "2022-09-14T10:27:13.549Z"
   },
   {
    "duration": 2177,
    "start_time": "2022-09-14T10:28:23.171Z"
   },
   {
    "duration": 1887,
    "start_time": "2022-09-14T10:29:21.311Z"
   },
   {
    "duration": 2014,
    "start_time": "2022-09-14T10:30:21.820Z"
   },
   {
    "duration": 3,
    "start_time": "2022-09-14T10:31:14.374Z"
   },
   {
    "duration": 1578,
    "start_time": "2022-09-14T10:31:50.779Z"
   },
   {
    "duration": 1525,
    "start_time": "2022-09-14T10:31:57.247Z"
   },
   {
    "duration": 1706,
    "start_time": "2022-09-14T10:33:11.230Z"
   },
   {
    "duration": 4,
    "start_time": "2022-09-14T10:33:15.534Z"
   },
   {
    "duration": 1524,
    "start_time": "2022-09-14T10:33:17.089Z"
   },
   {
    "duration": 1522,
    "start_time": "2022-09-14T10:33:21.376Z"
   },
   {
    "duration": 345,
    "start_time": "2022-09-14T10:33:44.815Z"
   },
   {
    "duration": 349,
    "start_time": "2022-09-14T10:33:52.132Z"
   },
   {
    "duration": 382,
    "start_time": "2022-09-14T10:35:13.181Z"
   },
   {
    "duration": 341,
    "start_time": "2022-09-14T10:35:26.674Z"
   },
   {
    "duration": 4,
    "start_time": "2022-09-14T10:35:37.801Z"
   },
   {
    "duration": 1483,
    "start_time": "2022-09-14T10:35:39.500Z"
   },
   {
    "duration": 1444,
    "start_time": "2022-09-14T10:35:42.695Z"
   },
   {
    "duration": 1577,
    "start_time": "2022-09-14T10:35:55.995Z"
   },
   {
    "duration": 1680,
    "start_time": "2022-09-14T10:36:40.766Z"
   },
   {
    "duration": 3,
    "start_time": "2022-09-14T10:37:08.638Z"
   },
   {
    "duration": 15,
    "start_time": "2022-09-14T10:37:20.758Z"
   },
   {
    "duration": 17,
    "start_time": "2022-09-14T10:37:57.763Z"
   },
   {
    "duration": 17,
    "start_time": "2022-09-14T10:38:00.583Z"
   },
   {
    "duration": 18,
    "start_time": "2022-09-14T10:38:21.795Z"
   },
   {
    "duration": 14,
    "start_time": "2022-09-14T10:38:23.475Z"
   },
   {
    "duration": 15,
    "start_time": "2022-09-14T10:38:39.275Z"
   },
   {
    "duration": 16,
    "start_time": "2022-09-14T10:39:21.814Z"
   },
   {
    "duration": 15,
    "start_time": "2022-09-14T10:39:27.216Z"
   },
   {
    "duration": 15,
    "start_time": "2022-09-14T10:39:28.319Z"
   },
   {
    "duration": 4,
    "start_time": "2022-09-14T10:39:29.155Z"
   },
   {
    "duration": 12,
    "start_time": "2022-09-14T10:39:30.130Z"
   },
   {
    "duration": 10,
    "start_time": "2022-09-14T10:39:31.022Z"
   },
   {
    "duration": 4,
    "start_time": "2022-09-14T10:39:32.227Z"
   },
   {
    "duration": 9,
    "start_time": "2022-09-14T10:39:33.275Z"
   },
   {
    "duration": 11,
    "start_time": "2022-09-14T10:39:36.184Z"
   },
   {
    "duration": 2,
    "start_time": "2022-09-14T10:39:36.756Z"
   },
   {
    "duration": 13,
    "start_time": "2022-09-14T10:39:59.506Z"
   },
   {
    "duration": 3,
    "start_time": "2022-09-14T10:40:13.835Z"
   },
   {
    "duration": 2270,
    "start_time": "2022-09-14T10:40:16.228Z"
   },
   {
    "duration": 2454,
    "start_time": "2022-09-14T10:40:44.772Z"
   },
   {
    "duration": 2300,
    "start_time": "2022-09-14T10:40:59.097Z"
   },
   {
    "duration": 2213,
    "start_time": "2022-09-14T10:41:36.044Z"
   },
   {
    "duration": 2314,
    "start_time": "2022-09-14T10:42:01.958Z"
   },
   {
    "duration": 5,
    "start_time": "2022-09-14T10:42:17.368Z"
   },
   {
    "duration": 1698,
    "start_time": "2022-09-14T10:42:19.236Z"
   },
   {
    "duration": 1439,
    "start_time": "2022-09-14T10:42:29.328Z"
   },
   {
    "duration": 1754,
    "start_time": "2022-09-14T10:42:48.753Z"
   },
   {
    "duration": 1615,
    "start_time": "2022-09-14T10:43:21.059Z"
   },
   {
    "duration": 1667,
    "start_time": "2022-09-14T10:43:35.430Z"
   },
   {
    "duration": 1649,
    "start_time": "2022-09-14T10:45:48.538Z"
   },
   {
    "duration": 1281,
    "start_time": "2022-09-14T10:45:53.423Z"
   },
   {
    "duration": 1742,
    "start_time": "2022-09-14T10:45:56.118Z"
   },
   {
    "duration": 416,
    "start_time": "2022-09-14T10:46:25.548Z"
   },
   {
    "duration": 954,
    "start_time": "2022-09-14T10:46:30.485Z"
   },
   {
    "duration": 832,
    "start_time": "2022-09-14T10:47:22.089Z"
   },
   {
    "duration": 943,
    "start_time": "2022-09-14T10:47:24.098Z"
   },
   {
    "duration": 83,
    "start_time": "2022-09-14T10:47:25.795Z"
   },
   {
    "duration": 852,
    "start_time": "2022-09-14T10:47:32.940Z"
   },
   {
    "duration": 3,
    "start_time": "2022-09-14T10:48:55.805Z"
   },
   {
    "duration": 15,
    "start_time": "2022-09-14T10:48:58.553Z"
   },
   {
    "duration": 14,
    "start_time": "2022-09-14T10:49:08.616Z"
   },
   {
    "duration": 22,
    "start_time": "2022-09-14T10:49:09.536Z"
   },
   {
    "duration": 21,
    "start_time": "2022-09-14T10:49:10.936Z"
   },
   {
    "duration": 21,
    "start_time": "2022-09-14T10:49:12.290Z"
   },
   {
    "duration": 15,
    "start_time": "2022-09-14T10:49:38.938Z"
   },
   {
    "duration": 17,
    "start_time": "2022-09-14T10:49:56.395Z"
   },
   {
    "duration": 17,
    "start_time": "2022-09-14T10:49:57.771Z"
   },
   {
    "duration": 19,
    "start_time": "2022-09-14T10:49:58.705Z"
   },
   {
    "duration": 16,
    "start_time": "2022-09-14T10:49:59.503Z"
   },
   {
    "duration": 8,
    "start_time": "2022-09-14T10:51:09.225Z"
   },
   {
    "duration": 8,
    "start_time": "2022-09-14T10:51:16.484Z"
   },
   {
    "duration": 18,
    "start_time": "2022-09-14T10:51:40.969Z"
   },
   {
    "duration": 9,
    "start_time": "2022-09-14T10:52:09.912Z"
   },
   {
    "duration": 27,
    "start_time": "2022-09-14T10:52:26.808Z"
   },
   {
    "duration": 15,
    "start_time": "2022-09-14T10:52:30.040Z"
   },
   {
    "duration": 19,
    "start_time": "2022-09-14T10:52:33.644Z"
   },
   {
    "duration": 14,
    "start_time": "2022-09-14T10:53:23.453Z"
   },
   {
    "duration": 20,
    "start_time": "2022-09-14T10:54:28.870Z"
   },
   {
    "duration": 14,
    "start_time": "2022-09-14T10:54:31.270Z"
   },
   {
    "duration": 9,
    "start_time": "2022-09-14T10:55:28.680Z"
   },
   {
    "duration": 297,
    "start_time": "2022-09-14T11:05:51.892Z"
   },
   {
    "duration": 106,
    "start_time": "2022-09-14T11:05:59.868Z"
   },
   {
    "duration": 16,
    "start_time": "2022-09-14T11:06:05.540Z"
   },
   {
    "duration": 14,
    "start_time": "2022-09-14T11:06:15.136Z"
   },
   {
    "duration": 9,
    "start_time": "2022-09-14T11:06:38.009Z"
   },
   {
    "duration": 5,
    "start_time": "2022-09-14T11:11:33.612Z"
   },
   {
    "duration": 21,
    "start_time": "2022-09-14T11:12:55.697Z"
   },
   {
    "duration": 20,
    "start_time": "2022-09-14T11:13:08.672Z"
   },
   {
    "duration": 5,
    "start_time": "2022-09-14T11:13:29.149Z"
   },
   {
    "duration": 25,
    "start_time": "2022-09-14T11:13:30.473Z"
   },
   {
    "duration": 4,
    "start_time": "2022-09-14T11:14:34.525Z"
   },
   {
    "duration": 1567,
    "start_time": "2022-09-14T11:14:36.203Z"
   },
   {
    "duration": 4,
    "start_time": "2022-09-14T11:15:31.794Z"
   },
   {
    "duration": 19,
    "start_time": "2022-09-14T11:15:33.077Z"
   },
   {
    "duration": 11,
    "start_time": "2022-09-14T11:16:50.657Z"
   },
   {
    "duration": 17,
    "start_time": "2022-09-14T11:17:01.827Z"
   },
   {
    "duration": 16,
    "start_time": "2022-09-14T11:17:10.731Z"
   },
   {
    "duration": 17,
    "start_time": "2022-09-14T11:17:18.791Z"
   },
   {
    "duration": 11,
    "start_time": "2022-09-14T11:17:26.864Z"
   },
   {
    "duration": 8,
    "start_time": "2022-09-14T11:20:14.057Z"
   },
   {
    "duration": 10,
    "start_time": "2022-09-14T11:20:39.676Z"
   },
   {
    "duration": 5,
    "start_time": "2022-09-14T11:20:57.025Z"
   },
   {
    "duration": 7,
    "start_time": "2022-09-14T11:21:36.329Z"
   },
   {
    "duration": 6,
    "start_time": "2022-09-14T11:21:47.008Z"
   },
   {
    "duration": 5,
    "start_time": "2022-09-14T11:21:48.049Z"
   },
   {
    "duration": 344,
    "start_time": "2022-09-14T11:54:31.529Z"
   },
   {
    "duration": 220,
    "start_time": "2022-09-14T11:54:31.874Z"
   },
   {
    "duration": 17,
    "start_time": "2022-09-14T11:54:32.096Z"
   },
   {
    "duration": 36,
    "start_time": "2022-09-14T11:54:32.114Z"
   },
   {
    "duration": 4,
    "start_time": "2022-09-14T11:54:32.153Z"
   },
   {
    "duration": 21,
    "start_time": "2022-09-14T11:54:32.158Z"
   },
   {
    "duration": 12,
    "start_time": "2022-09-14T11:54:32.181Z"
   },
   {
    "duration": 26,
    "start_time": "2022-09-14T11:54:32.194Z"
   },
   {
    "duration": 23,
    "start_time": "2022-09-14T11:54:32.221Z"
   },
   {
    "duration": 40,
    "start_time": "2022-09-14T11:54:32.246Z"
   },
   {
    "duration": 68,
    "start_time": "2022-09-14T11:54:32.288Z"
   },
   {
    "duration": 81,
    "start_time": "2022-09-14T11:54:32.358Z"
   },
   {
    "duration": 71,
    "start_time": "2022-09-14T11:54:32.441Z"
   },
   {
    "duration": 8,
    "start_time": "2022-09-14T11:54:32.517Z"
   },
   {
    "duration": 3,
    "start_time": "2022-09-14T11:54:32.528Z"
   },
   {
    "duration": 11,
    "start_time": "2022-09-14T11:54:32.533Z"
   },
   {
    "duration": 35,
    "start_time": "2022-09-14T11:54:32.546Z"
   },
   {
    "duration": 13,
    "start_time": "2022-09-14T11:54:32.583Z"
   },
   {
    "duration": 13,
    "start_time": "2022-09-14T11:54:32.598Z"
   },
   {
    "duration": 3,
    "start_time": "2022-09-14T11:54:32.613Z"
   },
   {
    "duration": 61,
    "start_time": "2022-09-14T11:54:32.618Z"
   },
   {
    "duration": 15,
    "start_time": "2022-09-14T11:54:32.681Z"
   },
   {
    "duration": 19,
    "start_time": "2022-09-14T11:54:32.698Z"
   },
   {
    "duration": 13,
    "start_time": "2022-09-14T11:54:32.719Z"
   },
   {
    "duration": 59,
    "start_time": "2022-09-14T11:54:32.734Z"
   },
   {
    "duration": 14,
    "start_time": "2022-09-14T11:54:32.795Z"
   },
   {
    "duration": 9,
    "start_time": "2022-09-14T11:54:32.810Z"
   },
   {
    "duration": 14,
    "start_time": "2022-09-14T11:54:32.821Z"
   },
   {
    "duration": 42,
    "start_time": "2022-09-14T11:54:32.837Z"
   },
   {
    "duration": 4,
    "start_time": "2022-09-14T11:54:32.881Z"
   },
   {
    "duration": 21,
    "start_time": "2022-09-14T11:54:32.887Z"
   },
   {
    "duration": 12,
    "start_time": "2022-09-14T11:54:32.910Z"
   },
   {
    "duration": 15,
    "start_time": "2022-09-14T11:54:32.923Z"
   },
   {
    "duration": 40,
    "start_time": "2022-09-14T11:54:32.939Z"
   },
   {
    "duration": 8,
    "start_time": "2022-09-14T11:54:32.980Z"
   },
   {
    "duration": 5,
    "start_time": "2022-09-14T11:54:32.989Z"
   },
   {
    "duration": 8,
    "start_time": "2022-09-14T11:54:32.996Z"
   },
   {
    "duration": 7,
    "start_time": "2022-09-14T11:54:33.005Z"
   },
   {
    "duration": 10,
    "start_time": "2022-09-14T12:01:18.988Z"
   },
   {
    "duration": 79,
    "start_time": "2022-09-14T12:03:11.302Z"
   },
   {
    "duration": 200,
    "start_time": "2022-09-14T12:03:17.179Z"
   },
   {
    "duration": 9,
    "start_time": "2022-09-14T12:03:29.303Z"
   },
   {
    "duration": 10,
    "start_time": "2022-09-14T12:03:37.128Z"
   },
   {
    "duration": 135,
    "start_time": "2022-09-14T12:03:40.766Z"
   },
   {
    "duration": 75,
    "start_time": "2022-09-14T12:03:52.781Z"
   },
   {
    "duration": 11,
    "start_time": "2022-09-14T12:04:16.274Z"
   },
   {
    "duration": 9,
    "start_time": "2022-09-14T12:04:20.080Z"
   },
   {
    "duration": 11,
    "start_time": "2022-09-14T12:04:40.884Z"
   },
   {
    "duration": 9,
    "start_time": "2022-09-14T12:05:22.899Z"
   },
   {
    "duration": 55,
    "start_time": "2022-09-14T12:05:35.657Z"
   },
   {
    "duration": 10,
    "start_time": "2022-09-14T12:05:40.073Z"
   },
   {
    "duration": 39,
    "start_time": "2022-09-14T12:05:46.219Z"
   },
   {
    "duration": 34,
    "start_time": "2022-09-14T12:05:53.299Z"
   },
   {
    "duration": 36,
    "start_time": "2022-09-14T12:06:09.565Z"
   },
   {
    "duration": 30,
    "start_time": "2022-09-14T12:06:29.125Z"
   },
   {
    "duration": 37,
    "start_time": "2022-09-14T12:06:33.277Z"
   },
   {
    "duration": 32,
    "start_time": "2022-09-14T12:06:53.535Z"
   },
   {
    "duration": 31,
    "start_time": "2022-09-14T12:06:58.124Z"
   },
   {
    "duration": 41,
    "start_time": "2022-09-14T12:08:56.193Z"
   },
   {
    "duration": 402,
    "start_time": "2022-09-14T12:11:09.442Z"
   },
   {
    "duration": 176,
    "start_time": "2022-09-14T12:11:09.845Z"
   },
   {
    "duration": 22,
    "start_time": "2022-09-14T12:11:10.024Z"
   },
   {
    "duration": 29,
    "start_time": "2022-09-14T12:11:10.047Z"
   },
   {
    "duration": 4,
    "start_time": "2022-09-14T12:11:10.078Z"
   },
   {
    "duration": 14,
    "start_time": "2022-09-14T12:11:10.084Z"
   },
   {
    "duration": 23,
    "start_time": "2022-09-14T12:11:10.100Z"
   },
   {
    "duration": 27,
    "start_time": "2022-09-14T12:11:10.125Z"
   },
   {
    "duration": 18,
    "start_time": "2022-09-14T12:11:10.154Z"
   },
   {
    "duration": 23,
    "start_time": "2022-09-14T12:11:10.174Z"
   },
   {
    "duration": 76,
    "start_time": "2022-09-14T12:11:10.222Z"
   },
   {
    "duration": 92,
    "start_time": "2022-09-14T12:11:10.300Z"
   },
   {
    "duration": 68,
    "start_time": "2022-09-14T12:11:10.394Z"
   },
   {
    "duration": 33,
    "start_time": "2022-09-14T12:11:10.466Z"
   },
   {
    "duration": 3,
    "start_time": "2022-09-14T12:11:10.500Z"
   },
   {
    "duration": 27,
    "start_time": "2022-09-14T12:11:10.505Z"
   },
   {
    "duration": 37,
    "start_time": "2022-09-14T12:11:10.534Z"
   },
   {
    "duration": 10,
    "start_time": "2022-09-14T12:11:10.572Z"
   },
   {
    "duration": 11,
    "start_time": "2022-09-14T12:11:10.584Z"
   },
   {
    "duration": 3,
    "start_time": "2022-09-14T12:11:10.597Z"
   },
   {
    "duration": 42,
    "start_time": "2022-09-14T12:11:10.602Z"
   },
   {
    "duration": 13,
    "start_time": "2022-09-14T12:11:10.646Z"
   },
   {
    "duration": 17,
    "start_time": "2022-09-14T12:11:10.661Z"
   },
   {
    "duration": 14,
    "start_time": "2022-09-14T12:11:10.680Z"
   },
   {
    "duration": 22,
    "start_time": "2022-09-14T12:11:10.723Z"
   },
   {
    "duration": 13,
    "start_time": "2022-09-14T12:11:10.747Z"
   },
   {
    "duration": 8,
    "start_time": "2022-09-14T12:11:10.762Z"
   },
   {
    "duration": 15,
    "start_time": "2022-09-14T12:11:10.772Z"
   },
   {
    "duration": 36,
    "start_time": "2022-09-14T12:11:10.789Z"
   },
   {
    "duration": 5,
    "start_time": "2022-09-14T12:11:10.828Z"
   },
   {
    "duration": 27,
    "start_time": "2022-09-14T12:11:10.835Z"
   },
   {
    "duration": 12,
    "start_time": "2022-09-14T12:11:10.863Z"
   },
   {
    "duration": 15,
    "start_time": "2022-09-14T12:11:10.877Z"
   },
   {
    "duration": 38,
    "start_time": "2022-09-14T12:11:10.894Z"
   },
   {
    "duration": 11,
    "start_time": "2022-09-14T12:11:10.936Z"
   },
   {
    "duration": 5,
    "start_time": "2022-09-14T12:11:10.948Z"
   },
   {
    "duration": 10,
    "start_time": "2022-09-14T12:11:10.955Z"
   },
   {
    "duration": 8,
    "start_time": "2022-09-14T12:11:10.967Z"
   },
   {
    "duration": 342,
    "start_time": "2022-09-14T12:23:44.259Z"
   },
   {
    "duration": 140,
    "start_time": "2022-09-14T12:23:44.603Z"
   },
   {
    "duration": 15,
    "start_time": "2022-09-14T12:23:44.744Z"
   },
   {
    "duration": 33,
    "start_time": "2022-09-14T12:23:44.760Z"
   },
   {
    "duration": 20,
    "start_time": "2022-09-14T12:23:44.794Z"
   },
   {
    "duration": 36,
    "start_time": "2022-09-14T12:23:44.816Z"
   },
   {
    "duration": 16,
    "start_time": "2022-09-14T12:23:44.854Z"
   },
   {
    "duration": 46,
    "start_time": "2022-09-14T12:23:44.871Z"
   },
   {
    "duration": 37,
    "start_time": "2022-09-14T12:23:44.919Z"
   },
   {
    "duration": 25,
    "start_time": "2022-09-14T12:23:44.958Z"
   },
   {
    "duration": 85,
    "start_time": "2022-09-14T12:23:44.985Z"
   },
   {
    "duration": 68,
    "start_time": "2022-09-14T12:23:45.072Z"
   },
   {
    "duration": 52,
    "start_time": "2022-09-14T12:23:45.141Z"
   },
   {
    "duration": 43,
    "start_time": "2022-09-14T12:23:45.194Z"
   },
   {
    "duration": 3,
    "start_time": "2022-09-14T12:23:45.238Z"
   },
   {
    "duration": 30,
    "start_time": "2022-09-14T12:23:45.242Z"
   },
   {
    "duration": 37,
    "start_time": "2022-09-14T12:23:45.274Z"
   },
   {
    "duration": 35,
    "start_time": "2022-09-14T12:23:45.312Z"
   },
   {
    "duration": 28,
    "start_time": "2022-09-14T12:23:45.348Z"
   },
   {
    "duration": 19,
    "start_time": "2022-09-14T12:23:45.377Z"
   },
   {
    "duration": 44,
    "start_time": "2022-09-14T12:23:45.397Z"
   },
   {
    "duration": 21,
    "start_time": "2022-09-14T12:23:45.443Z"
   },
   {
    "duration": 31,
    "start_time": "2022-09-14T12:23:45.465Z"
   },
   {
    "duration": 21,
    "start_time": "2022-09-14T12:23:45.498Z"
   },
   {
    "duration": 29,
    "start_time": "2022-09-14T12:23:45.521Z"
   },
   {
    "duration": 24,
    "start_time": "2022-09-14T12:23:45.552Z"
   },
   {
    "duration": 17,
    "start_time": "2022-09-14T12:23:45.578Z"
   },
   {
    "duration": 27,
    "start_time": "2022-09-14T12:23:45.598Z"
   },
   {
    "duration": 13,
    "start_time": "2022-09-14T12:23:45.627Z"
   },
   {
    "duration": 22,
    "start_time": "2022-09-14T12:23:45.641Z"
   },
   {
    "duration": 38,
    "start_time": "2022-09-14T12:23:45.664Z"
   },
   {
    "duration": 24,
    "start_time": "2022-09-14T12:23:45.704Z"
   },
   {
    "duration": 18,
    "start_time": "2022-09-14T12:23:45.730Z"
   },
   {
    "duration": 13,
    "start_time": "2022-09-14T12:23:45.749Z"
   },
   {
    "duration": 19,
    "start_time": "2022-09-14T12:23:45.763Z"
   },
   {
    "duration": 20,
    "start_time": "2022-09-14T12:23:45.783Z"
   },
   {
    "duration": 11,
    "start_time": "2022-09-14T12:23:45.804Z"
   },
   {
    "duration": 22,
    "start_time": "2022-09-14T12:23:45.816Z"
   },
   {
    "duration": 397,
    "start_time": "2022-09-15T12:09:06.723Z"
   },
   {
    "duration": 212,
    "start_time": "2022-09-15T12:09:07.123Z"
   },
   {
    "duration": 15,
    "start_time": "2022-09-15T12:09:07.337Z"
   },
   {
    "duration": 23,
    "start_time": "2022-09-15T12:09:07.355Z"
   },
   {
    "duration": 7,
    "start_time": "2022-09-15T12:09:07.379Z"
   },
   {
    "duration": 28,
    "start_time": "2022-09-15T12:09:07.387Z"
   },
   {
    "duration": 10,
    "start_time": "2022-09-15T12:09:07.425Z"
   },
   {
    "duration": 23,
    "start_time": "2022-09-15T12:09:07.437Z"
   },
   {
    "duration": 15,
    "start_time": "2022-09-15T12:09:07.462Z"
   },
   {
    "duration": 18,
    "start_time": "2022-09-15T12:09:07.480Z"
   },
   {
    "duration": 59,
    "start_time": "2022-09-15T12:09:07.500Z"
   },
   {
    "duration": 73,
    "start_time": "2022-09-15T12:09:07.560Z"
   },
   {
    "duration": 53,
    "start_time": "2022-09-15T12:09:07.634Z"
   },
   {
    "duration": 52,
    "start_time": "2022-09-15T12:09:07.688Z"
   },
   {
    "duration": 3,
    "start_time": "2022-09-15T12:09:07.741Z"
   },
   {
    "duration": 13,
    "start_time": "2022-09-15T12:09:07.745Z"
   },
   {
    "duration": 55,
    "start_time": "2022-09-15T12:09:07.760Z"
   },
   {
    "duration": 15,
    "start_time": "2022-09-15T12:09:07.817Z"
   },
   {
    "duration": 10,
    "start_time": "2022-09-15T12:09:07.833Z"
   },
   {
    "duration": 3,
    "start_time": "2022-09-15T12:09:07.844Z"
   },
   {
    "duration": 17,
    "start_time": "2022-09-15T12:09:07.848Z"
   },
   {
    "duration": 11,
    "start_time": "2022-09-15T12:09:07.867Z"
   },
   {
    "duration": 47,
    "start_time": "2022-09-15T12:09:07.879Z"
   },
   {
    "duration": 11,
    "start_time": "2022-09-15T12:09:07.927Z"
   },
   {
    "duration": 15,
    "start_time": "2022-09-15T12:09:07.939Z"
   },
   {
    "duration": 10,
    "start_time": "2022-09-15T12:09:07.956Z"
   },
   {
    "duration": 7,
    "start_time": "2022-09-15T12:09:07.968Z"
   },
   {
    "duration": 10,
    "start_time": "2022-09-15T12:09:07.978Z"
   },
   {
    "duration": 15,
    "start_time": "2022-09-15T12:09:08.009Z"
   },
   {
    "duration": 10,
    "start_time": "2022-09-15T12:09:08.025Z"
   },
   {
    "duration": 22,
    "start_time": "2022-09-15T12:09:08.036Z"
   },
   {
    "duration": 9,
    "start_time": "2022-09-15T12:09:08.060Z"
   },
   {
    "duration": 13,
    "start_time": "2022-09-15T12:09:08.071Z"
   },
   {
    "duration": 26,
    "start_time": "2022-09-15T12:09:08.085Z"
   },
   {
    "duration": 17,
    "start_time": "2022-09-15T12:09:08.112Z"
   },
   {
    "duration": 4,
    "start_time": "2022-09-15T12:09:08.131Z"
   },
   {
    "duration": 12,
    "start_time": "2022-09-15T12:09:08.136Z"
   },
   {
    "duration": 4,
    "start_time": "2022-09-15T12:09:08.149Z"
   }
  ],
  "colab": {
   "collapsed_sections": [
    "E0vqbgi9ay0H",
    "VUC88oWjTJw2"
   ],
   "name": "yandex_music_project.ipynb",
   "provenance": []
  },
  "kernelspec": {
   "display_name": "Python 3 (ipykernel)",
   "language": "python",
   "name": "python3"
  },
  "language_info": {
   "codemirror_mode": {
    "name": "ipython",
    "version": 3
   },
   "file_extension": ".py",
   "mimetype": "text/x-python",
   "name": "python",
   "nbconvert_exporter": "python",
   "pygments_lexer": "ipython3",
   "version": "3.9.12"
  },
  "toc": {
   "base_numbering": 1,
   "nav_menu": {},
   "number_sections": true,
   "sideBar": true,
   "skip_h1_title": true,
   "title_cell": "Table of Contents",
   "title_sidebar": "Contents",
   "toc_cell": false,
   "toc_position": {},
   "toc_section_display": true,
   "toc_window_display": true
  }
 },
 "nbformat": 4,
 "nbformat_minor": 1
}
